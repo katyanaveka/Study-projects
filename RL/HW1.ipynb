{
  "cells": [
    {
      "cell_type": "code",
      "source": [
        "!pip install gym==0.21.0"
      ],
      "metadata": {
        "colab": {
          "base_uri": "https://localhost:8080/"
        },
        "id": "T3DoleEfCRqz",
        "outputId": "b7c08796-e4cf-47d1-9d3f-3b6d99d43a1d"
      },
      "execution_count": null,
      "outputs": [
        {
          "output_type": "stream",
          "name": "stdout",
          "text": [
            "Looking in indexes: https://pypi.org/simple, https://us-python.pkg.dev/colab-wheels/public/simple/\n",
            "Requirement already satisfied: gym==0.21.0 in /usr/local/lib/python3.8/dist-packages (0.21.0)\n",
            "Requirement already satisfied: numpy>=1.18.0 in /usr/local/lib/python3.8/dist-packages (from gym==0.21.0) (1.21.6)\n",
            "Requirement already satisfied: cloudpickle>=1.2.0 in /usr/local/lib/python3.8/dist-packages (from gym==0.21.0) (2.2.1)\n"
          ]
        }
      ]
    },
    {
      "cell_type": "code",
      "source": [
        "pip install pygame"
      ],
      "metadata": {
        "colab": {
          "base_uri": "https://localhost:8080/"
        },
        "id": "gdFXEarsC_Vd",
        "outputId": "22c77905-d7b9-493c-90c4-46c5421682ba"
      },
      "execution_count": null,
      "outputs": [
        {
          "output_type": "stream",
          "name": "stdout",
          "text": [
            "Looking in indexes: https://pypi.org/simple, https://us-python.pkg.dev/colab-wheels/public/simple/\n",
            "Requirement already satisfied: pygame in /usr/local/lib/python3.8/dist-packages (2.1.3)\n"
          ]
        }
      ]
    },
    {
      "cell_type": "code",
      "source": [
        "pip install pyglet==1.5.27"
      ],
      "metadata": {
        "colab": {
          "base_uri": "https://localhost:8080/"
        },
        "id": "oYCKW8aYIYyW",
        "outputId": "4f5a45e4-2551-4763-e30c-a4ee801e4f1c"
      },
      "execution_count": null,
      "outputs": [
        {
          "output_type": "stream",
          "name": "stdout",
          "text": [
            "Looking in indexes: https://pypi.org/simple, https://us-python.pkg.dev/colab-wheels/public/simple/\n",
            "Requirement already satisfied: pyglet==1.5.27 in /usr/local/lib/python3.8/dist-packages (1.5.27)\n"
          ]
        }
      ]
    },
    {
      "cell_type": "markdown",
      "metadata": {
        "id": "TmjDCiy3B1iY"
      },
      "source": [
        "# Deep Crossentropy method\n",
        "\n",
        "In this section we'll extend your CEM implementation with neural networks! You will train a multi-layer neural network to solve simple continuous state space games. __Please make sure you're done with tabular crossentropy method from the previous notebook.__\n",
        "\n",
        "![img](https://watanimg.elwatannews.com/old_news_images/large/249765_Large_20140709045740_11.jpg)\n",
        "\n"
      ]
    },
    {
      "cell_type": "code",
      "execution_count": null,
      "metadata": {
        "colab": {
          "base_uri": "https://localhost:8080/"
        },
        "id": "B0Y47ENvB1iZ",
        "outputId": "fc8822b8-a2c1-489e-f02a-31886e9fd768"
      },
      "outputs": [
        {
          "output_type": "stream",
          "name": "stdout",
          "text": [
            "Starting virtual X frame buffer: Xvfb.\n"
          ]
        }
      ],
      "source": [
        "import sys, os\n",
        "if 'google.colab' in sys.modules and not os.path.exists('.setup_complete'):\n",
        "    !wget -q https://raw.githubusercontent.com/yandexdataschool/Practical_RL/master/setup_colab.sh -O- | bash\n",
        "    !touch .setup_complete\n",
        "\n",
        "# This code creates a virtual display to draw game images on.\n",
        "# It will have no effect if your machine has a monitor.\n",
        "if type(os.environ.get(\"DISPLAY\")) is not str or len(os.environ.get(\"DISPLAY\")) == 0:\n",
        "    !bash ../xvfb start\n",
        "    os.environ['DISPLAY'] = ':1'"
      ]
    },
    {
      "cell_type": "code",
      "execution_count": null,
      "metadata": {
        "colab": {
          "base_uri": "https://localhost:8080/",
          "height": 305
        },
        "id": "cM0C5MCKB1ib",
        "outputId": "51b238e8-4ea2-4bf7-cff3-64890765d7bf"
      },
      "outputs": [
        {
          "output_type": "stream",
          "name": "stdout",
          "text": [
            "state vector dim = 4\n",
            "n_actions = 2\n"
          ]
        },
        {
          "output_type": "display_data",
          "data": {
            "text/plain": [
              "<Figure size 432x288 with 1 Axes>"
            ],
            "image/png": "[encoded data removed]"
          },
          "metadata": {
            "needs_background": "light"
          }
        }
      ],
      "source": [
        "import gym\n",
        "import numpy as np\n",
        "import matplotlib.pyplot as plt\n",
        "%matplotlib inline\n",
        "\n",
        "# if you see \"<classname> has no attribute .env\", remove .env or update gym\n",
        "env = gym.make(\"CartPole-v0\").env\n",
        "\n",
        "env.reset()\n",
        "n_actions = env.action_space.n\n",
        "state_dim = env.observation_space.shape[0]\n",
        "\n",
        "plt.imshow(env.render(\"rgb_array\"))\n",
        "print(\"state vector dim =\", state_dim)\n",
        "print(\"n_actions =\", n_actions)"
      ]
    },
    {
      "cell_type": "markdown",
      "metadata": {
        "id": "bUVaxGqFB1id"
      },
      "source": [
        "# Neural Network Policy\n",
        "\n",
        "For this assignment we'll utilize the simplified neural network implementation from __[Scikit-learn](https://scikit-learn.org/stable/modules/generated/sklearn.neural_network.MLPClassifier.html)__. Here's what you'll need:\n",
        "\n",
        "* `agent.partial_fit(states, actions)` - make a single training pass over the data. Maximize the probability of :actions: from :states:\n",
        "* `agent.predict_proba(states)` - predict probabilities of all actions, a matrix of shape __[len(states), n_actions]__\n"
      ]
    },
    {
      "cell_type": "code",
      "execution_count": null,
      "metadata": {
        "colab": {
          "base_uri": "https://localhost:8080/"
        },
        "id": "OoUDe8MtB1id",
        "outputId": "b10fd5e1-a6fc-4769-902f-ae25d1b4ab17"
      },
      "outputs": [
        {
          "output_type": "execute_result",
          "data": {
            "text/plain": [
              "MLPClassifier(activation='tanh', hidden_layer_sizes=(20, 20))"
            ]
          },
          "metadata": {},
          "execution_count": 6
        }
      ],
      "source": [
        "from sklearn.neural_network import MLPClassifier\n",
        "\n",
        "agent = MLPClassifier(\n",
        "    hidden_layer_sizes=(20, 20),\n",
        "    activation='tanh',\n",
        ")\n",
        "\n",
        "# initialize agent to the dimension of state space and number of actions\n",
        "agent.partial_fit([env.reset()] * n_actions, range(n_actions), range(n_actions))"
      ]
    },
    {
      "cell_type": "code",
      "source": [],
      "metadata": {
        "id": "ivUlb4tWH7fl"
      },
      "execution_count": null,
      "outputs": []
    },
    {
      "cell_type": "code",
      "execution_count": null,
      "metadata": {
        "id": "-RPnOzXmB1ie"
      },
      "outputs": [],
      "source": [
        "def generate_session(env, agent, t_max=1000):\n",
        "    \"\"\"\n",
        "    Play a single game using agent neural network.\n",
        "    Terminate when game finishes or after :t_max: steps\n",
        "    \"\"\"\n",
        "    states, actions = [], []\n",
        "    total_reward = 0\n",
        "\n",
        "    s = env.reset()\n",
        "\n",
        "    n_actions = env.action_space.n\n",
        "\n",
        "    for t in range(t_max):\n",
        "\n",
        "        # use agent to predict a vector of action probabilities for state :s:\n",
        "        probs = agent.predict_proba([s])[0]\n",
        "        # assert probs.shape == (env.action_space.n,), \"make sure probabilities are a vector (hint: np.reshape)\"\n",
        "\n",
        "        # use the probabilities you predicted to pick an action\n",
        "        # sample proportionally to the probabilities, don't just take the most likely action\n",
        "        a = np.random.choice(n_actions, p=probs)\n",
        "        # ^-- hint: try np.random.choice\n",
        "\n",
        "        new_s, r, done, info = env.step(a)\n",
        "\n",
        "        # record sessions like you did before\n",
        "        states.append(s)\n",
        "        actions.append(a)\n",
        "        total_reward += r\n",
        "\n",
        "        s = new_s\n",
        "        if done:\n",
        "            break\n",
        "    return np.array(states), np.array(actions), total_reward"
      ]
    },
    {
      "cell_type": "code",
      "execution_count": null,
      "metadata": {
        "colab": {
          "base_uri": "https://localhost:8080/"
        },
        "id": "0U3CJ_dsB1ie",
        "outputId": "48cf2b58-b81a-4ac6-9608-92a1f9ca6559"
      },
      "outputs": [
        {
          "output_type": "stream",
          "name": "stdout",
          "text": [
            "states: [[-2.7143493e-02  3.5226263e-02 -4.1927807e-02 -1.6216941e-02]\n",
            " [-2.6438968e-02  2.3092365e-01 -4.2252146e-02 -3.2182822e-01]\n",
            " [-2.1820495e-02  4.2662102e-01 -4.8688710e-02 -6.2753069e-01]\n",
            " [-1.3288075e-02  6.2238753e-01 -6.1239325e-02 -9.3514127e-01]\n",
            " [-8.4032462e-04  8.1827962e-01 -7.9942152e-02 -1.2464217e+00]]\n",
            "actions: [1 1 1 1 0]\n",
            "reward: 5.0\n"
          ]
        }
      ],
      "source": [
        "dummy_states, dummy_actions, dummy_reward = generate_session(env, agent, t_max=5)\n",
        "print(\"states:\", np.stack(dummy_states))\n",
        "print(\"actions:\", dummy_actions)\n",
        "print(\"reward:\", dummy_reward)"
      ]
    },
    {
      "cell_type": "markdown",
      "metadata": {
        "id": "niN6jj5MB1ie"
      },
      "source": [
        "### CEM steps\n",
        "Deep CEM uses exactly the same strategy as the regular CEM, so you can copy your function code from previous notebook.\n",
        "\n",
        "The only difference is that now each observation is not a number but a `float32` vector."
      ]
    },
    {
      "cell_type": "code",
      "execution_count": null,
      "metadata": {
        "id": "H8jEIJgNB1if"
      },
      "outputs": [],
      "source": [
        "def select_elites(states_batch, actions_batch, rewards_batch, percentile=50):\n",
        "    \"\"\"\n",
        "    Select states and actions from games that have rewards >= percentile\n",
        "    :param states_batch: list of lists of states, states_batch[session_i][t]\n",
        "    :param actions_batch: list of lists of actions, actions_batch[session_i][t]\n",
        "    :param rewards_batch: list of rewards, rewards_batch[session_i]\n",
        "\n",
        "    :returns: elite_states,elite_actions, both 1D lists of states and respective actions from elite sessions\n",
        "\n",
        "    Please return elite states and actions in their original order\n",
        "    [i.e. sorted by session number and timestep within session]\n",
        "\n",
        "    If you are confused, see examples below. Please don't assume that states are integers\n",
        "    (they will become different later).\n",
        "    \"\"\"\n",
        "    reward_threshold = np.percentile(rewards_batch, q=percentile)\n",
        "    elite_states = states_batch[rewards_batch > reward_threshold]\n",
        "    elite_actions = actions_batch[rewards_batch > reward_threshold]\n",
        "    '''\n",
        "    elite_states1 = []\n",
        "    elite_actions1 = []\n",
        "\n",
        "    for i, r in enumerate(rewards_batch):\n",
        "        if r >= reward_threshold:\n",
        "            elite_states1.extend(states_batch[i])\n",
        "            elite_actions1.extend(actions_batch[i])\n",
        "    '''\n",
        "\n",
        "    return np.vstack(elite_states), np.concatenate(elite_actions)"
      ]
    },
    {
      "cell_type": "code",
      "source": [
        "from IPython.display import clear_output\n",
        "\n",
        "def show_progress(rewards_batch, log, percentile, loss, reward_range=[-990, +10]):\n",
        "    \"\"\"\n",
        "    A convenience function that displays training progress.\n",
        "    No cool math here, just charts.\n",
        "    \"\"\"\n",
        "\n",
        "    mean_reward = np.mean(rewards_batch)\n",
        "    threshold = np.percentile(rewards_batch, percentile)\n",
        "    log.append([mean_reward, threshold])\n",
        "\n",
        "    clear_output(True)\n",
        "    print(\"mean reward = %.3f, threshold=%.3f\" % (mean_reward, threshold))\n",
        "    plt.figure(figsize=[8, 8])\n",
        "    plt.subplot(2, 2, 1)\n",
        "    plt.plot(list(zip(*log))[0], label='Mean rewards')\n",
        "    plt.plot(list(zip(*log))[1], label='Reward thresholds')\n",
        "    plt.legend()\n",
        "    plt.grid()\n",
        "\n",
        "    plt.subplot(2, 2, 2)\n",
        "    plt.hist(rewards_batch, range=reward_range)\n",
        "    plt.vlines([np.percentile(rewards_batch, percentile)],\n",
        "               [0], [100], label=\"percentile\", color='red')\n",
        "    plt.legend()\n",
        "    plt.grid()\n",
        "\n",
        "    plt.subplot(2, 2, 3)\n",
        "    plt.hist(rewards_batch)\n",
        "    plt.grid()\n",
        "\n",
        "    plt.subplot(2, 2, 4)\n",
        "    if len(loss) > 1:\n",
        "      plt.plot(loss[1:], label='loss')\n",
        "    else:\n",
        "      plt.plot(loss, label='loss')\n",
        "    plt.legend()\n",
        "    plt.grid()\n",
        "\n",
        "    plt.show()"
      ],
      "metadata": {
        "id": "y2Imt148D0E1"
      },
      "execution_count": null,
      "outputs": []
    },
    {
      "cell_type": "markdown",
      "metadata": {
        "id": "AibM67jNB1if"
      },
      "source": [
        "# Training loop\n",
        "Generate sessions, select N best and fit to those."
      ]
    },
    {
      "cell_type": "code",
      "execution_count": null,
      "metadata": {
        "id": "e8qF-TQkB1if"
      },
      "outputs": [],
      "source": []
    },
    {
      "cell_type": "code",
      "execution_count": null,
      "metadata": {
        "colab": {
          "base_uri": "https://localhost:8080/",
          "height": 680
        },
        "id": "RQrqnCmfB1if",
        "outputId": "9c602828-e848-4034-8384-1ea8aa1db0b8"
      },
      "outputs": [
        {
          "output_type": "stream",
          "name": "stdout",
          "text": [
            "mean reward = 344.980, threshold=371.300\n"
          ]
        },
        {
          "output_type": "display_data",
          "data": {
            "text/plain": [
              "<Figure size 576x288 with 2 Axes>"
            ],
            "image/png": "[encoded data removed]"
          },
          "metadata": {
            "needs_background": "light"
          }
        },
        {
          "output_type": "stream",
          "name": "stdout",
          "text": [
            "You Win! You may stop training now via KeyboardInterrupt. iter=32\n"
          ]
        },
        {
          "output_type": "error",
          "ename": "KeyboardInterrupt",
          "evalue": "ignored",
          "traceback": [
            "\u001b[0;31m---------------------------------------------------------------------------\u001b[0m",
            "\u001b[0;31mKeyboardInterrupt\u001b[0m                         Traceback (most recent call last)",
            "\u001b[0;32m<ipython-input-17-1d79a2fdcc64>\u001b[0m in \u001b[0;36m<module>\u001b[0;34m\u001b[0m\n\u001b[1;32m      5\u001b[0m \u001b[0;32mfor\u001b[0m \u001b[0mi\u001b[0m \u001b[0;32min\u001b[0m \u001b[0mrange\u001b[0m\u001b[0;34m(\u001b[0m\u001b[0;36m100\u001b[0m\u001b[0;34m)\u001b[0m\u001b[0;34m:\u001b[0m\u001b[0;34m\u001b[0m\u001b[0;34m\u001b[0m\u001b[0m\n\u001b[1;32m      6\u001b[0m     \u001b[0;31m# generate new sessions\u001b[0m\u001b[0;34m\u001b[0m\u001b[0;34m\u001b[0m\u001b[0;34m\u001b[0m\u001b[0m\n\u001b[0;32m----> 7\u001b[0;31m     \u001b[0msessions\u001b[0m \u001b[0;34m=\u001b[0m \u001b[0;34m[\u001b[0m\u001b[0mgenerate_session\u001b[0m\u001b[0;34m(\u001b[0m\u001b[0menv\u001b[0m\u001b[0;34m,\u001b[0m \u001b[0magent\u001b[0m\u001b[0;34m,\u001b[0m \u001b[0mt_max\u001b[0m\u001b[0;34m=\u001b[0m\u001b[0;36m1000\u001b[0m\u001b[0;34m)\u001b[0m \u001b[0;32mfor\u001b[0m \u001b[0m_\u001b[0m \u001b[0;32min\u001b[0m \u001b[0mrange\u001b[0m\u001b[0;34m(\u001b[0m\u001b[0mn_sessions\u001b[0m\u001b[0;34m)\u001b[0m\u001b[0;34m]\u001b[0m \u001b[0;31m# generate a list of n_sessions new sessions>\u001b[0m\u001b[0;34m\u001b[0m\u001b[0;34m\u001b[0m\u001b[0m\n\u001b[0m\u001b[1;32m      8\u001b[0m \u001b[0;34m\u001b[0m\u001b[0m\n\u001b[1;32m      9\u001b[0m     \u001b[0mstates_batch\u001b[0m\u001b[0;34m,\u001b[0m \u001b[0mactions_batch\u001b[0m\u001b[0;34m,\u001b[0m \u001b[0mrewards_batch\u001b[0m \u001b[0;34m=\u001b[0m \u001b[0mmap\u001b[0m\u001b[0;34m(\u001b[0m\u001b[0mnp\u001b[0m\u001b[0;34m.\u001b[0m\u001b[0marray\u001b[0m\u001b[0;34m,\u001b[0m \u001b[0mzip\u001b[0m\u001b[0;34m(\u001b[0m\u001b[0;34m*\u001b[0m\u001b[0msessions\u001b[0m\u001b[0;34m)\u001b[0m\u001b[0;34m)\u001b[0m\u001b[0;34m\u001b[0m\u001b[0;34m\u001b[0m\u001b[0m\n",
            "\u001b[0;32m<ipython-input-17-1d79a2fdcc64>\u001b[0m in \u001b[0;36m<listcomp>\u001b[0;34m(.0)\u001b[0m\n\u001b[1;32m      5\u001b[0m \u001b[0;32mfor\u001b[0m \u001b[0mi\u001b[0m \u001b[0;32min\u001b[0m \u001b[0mrange\u001b[0m\u001b[0;34m(\u001b[0m\u001b[0;36m100\u001b[0m\u001b[0;34m)\u001b[0m\u001b[0;34m:\u001b[0m\u001b[0;34m\u001b[0m\u001b[0;34m\u001b[0m\u001b[0m\n\u001b[1;32m      6\u001b[0m     \u001b[0;31m# generate new sessions\u001b[0m\u001b[0;34m\u001b[0m\u001b[0;34m\u001b[0m\u001b[0;34m\u001b[0m\u001b[0m\n\u001b[0;32m----> 7\u001b[0;31m     \u001b[0msessions\u001b[0m \u001b[0;34m=\u001b[0m \u001b[0;34m[\u001b[0m\u001b[0mgenerate_session\u001b[0m\u001b[0;34m(\u001b[0m\u001b[0menv\u001b[0m\u001b[0;34m,\u001b[0m \u001b[0magent\u001b[0m\u001b[0;34m,\u001b[0m \u001b[0mt_max\u001b[0m\u001b[0;34m=\u001b[0m\u001b[0;36m1000\u001b[0m\u001b[0;34m)\u001b[0m \u001b[0;32mfor\u001b[0m \u001b[0m_\u001b[0m \u001b[0;32min\u001b[0m \u001b[0mrange\u001b[0m\u001b[0;34m(\u001b[0m\u001b[0mn_sessions\u001b[0m\u001b[0;34m)\u001b[0m\u001b[0;34m]\u001b[0m \u001b[0;31m# generate a list of n_sessions new sessions>\u001b[0m\u001b[0;34m\u001b[0m\u001b[0;34m\u001b[0m\u001b[0m\n\u001b[0m\u001b[1;32m      8\u001b[0m \u001b[0;34m\u001b[0m\u001b[0m\n\u001b[1;32m      9\u001b[0m     \u001b[0mstates_batch\u001b[0m\u001b[0;34m,\u001b[0m \u001b[0mactions_batch\u001b[0m\u001b[0;34m,\u001b[0m \u001b[0mrewards_batch\u001b[0m \u001b[0;34m=\u001b[0m \u001b[0mmap\u001b[0m\u001b[0;34m(\u001b[0m\u001b[0mnp\u001b[0m\u001b[0;34m.\u001b[0m\u001b[0marray\u001b[0m\u001b[0;34m,\u001b[0m \u001b[0mzip\u001b[0m\u001b[0;34m(\u001b[0m\u001b[0;34m*\u001b[0m\u001b[0msessions\u001b[0m\u001b[0;34m)\u001b[0m\u001b[0;34m)\u001b[0m\u001b[0;34m\u001b[0m\u001b[0;34m\u001b[0m\u001b[0m\n",
            "\u001b[0;32m<ipython-input-13-b98e02fa2ec3>\u001b[0m in \u001b[0;36mgenerate_session\u001b[0;34m(env, agent, t_max)\u001b[0m\n\u001b[1;32m     14\u001b[0m \u001b[0;34m\u001b[0m\u001b[0m\n\u001b[1;32m     15\u001b[0m         \u001b[0;31m# use agent to predict a vector of action probabilities for state :s:\u001b[0m\u001b[0;34m\u001b[0m\u001b[0;34m\u001b[0m\u001b[0;34m\u001b[0m\u001b[0m\n\u001b[0;32m---> 16\u001b[0;31m         \u001b[0mprobs\u001b[0m \u001b[0;34m=\u001b[0m \u001b[0magent\u001b[0m\u001b[0;34m.\u001b[0m\u001b[0mpredict_proba\u001b[0m\u001b[0;34m(\u001b[0m\u001b[0;34m[\u001b[0m\u001b[0ms\u001b[0m\u001b[0;34m]\u001b[0m\u001b[0;34m)\u001b[0m\u001b[0;34m[\u001b[0m\u001b[0;36m0\u001b[0m\u001b[0;34m]\u001b[0m\u001b[0;34m\u001b[0m\u001b[0;34m\u001b[0m\u001b[0m\n\u001b[0m\u001b[1;32m     17\u001b[0m         \u001b[0;31m# assert probs.shape == (env.action_space.n,), \"make sure probabilities are a vector (hint: np.reshape)\"\u001b[0m\u001b[0;34m\u001b[0m\u001b[0;34m\u001b[0m\u001b[0;34m\u001b[0m\u001b[0m\n\u001b[1;32m     18\u001b[0m \u001b[0;34m\u001b[0m\u001b[0m\n",
            "\u001b[0;32m/usr/local/lib/python3.8/dist-packages/sklearn/neural_network/_multilayer_perceptron.py\u001b[0m in \u001b[0;36mpredict_proba\u001b[0;34m(self, X)\u001b[0m\n\u001b[1;32m   1241\u001b[0m         \"\"\"\n\u001b[1;32m   1242\u001b[0m         \u001b[0mcheck_is_fitted\u001b[0m\u001b[0;34m(\u001b[0m\u001b[0mself\u001b[0m\u001b[0;34m)\u001b[0m\u001b[0;34m\u001b[0m\u001b[0;34m\u001b[0m\u001b[0m\n\u001b[0;32m-> 1243\u001b[0;31m         \u001b[0my_pred\u001b[0m \u001b[0;34m=\u001b[0m \u001b[0mself\u001b[0m\u001b[0;34m.\u001b[0m\u001b[0m_forward_pass_fast\u001b[0m\u001b[0;34m(\u001b[0m\u001b[0mX\u001b[0m\u001b[0;34m)\u001b[0m\u001b[0;34m\u001b[0m\u001b[0;34m\u001b[0m\u001b[0m\n\u001b[0m\u001b[1;32m   1244\u001b[0m \u001b[0;34m\u001b[0m\u001b[0m\n\u001b[1;32m   1245\u001b[0m         \u001b[0;32mif\u001b[0m \u001b[0mself\u001b[0m\u001b[0;34m.\u001b[0m\u001b[0mn_outputs_\u001b[0m \u001b[0;34m==\u001b[0m \u001b[0;36m1\u001b[0m\u001b[0;34m:\u001b[0m\u001b[0;34m\u001b[0m\u001b[0;34m\u001b[0m\u001b[0m\n",
            "\u001b[0;32m/usr/local/lib/python3.8/dist-packages/sklearn/neural_network/_multilayer_perceptron.py\u001b[0m in \u001b[0;36m_forward_pass_fast\u001b[0;34m(self, X)\u001b[0m\n\u001b[1;32m    170\u001b[0m                 \u001b[0mhidden_activation\u001b[0m\u001b[0;34m(\u001b[0m\u001b[0mactivation\u001b[0m\u001b[0;34m)\u001b[0m\u001b[0;34m\u001b[0m\u001b[0;34m\u001b[0m\u001b[0m\n\u001b[1;32m    171\u001b[0m         \u001b[0moutput_activation\u001b[0m \u001b[0;34m=\u001b[0m \u001b[0mACTIVATIONS\u001b[0m\u001b[0;34m[\u001b[0m\u001b[0mself\u001b[0m\u001b[0;34m.\u001b[0m\u001b[0mout_activation_\u001b[0m\u001b[0;34m]\u001b[0m\u001b[0;34m\u001b[0m\u001b[0;34m\u001b[0m\u001b[0m\n\u001b[0;32m--> 172\u001b[0;31m         \u001b[0moutput_activation\u001b[0m\u001b[0;34m(\u001b[0m\u001b[0mactivation\u001b[0m\u001b[0;34m)\u001b[0m\u001b[0;34m\u001b[0m\u001b[0;34m\u001b[0m\u001b[0m\n\u001b[0m\u001b[1;32m    173\u001b[0m \u001b[0;34m\u001b[0m\u001b[0m\n\u001b[1;32m    174\u001b[0m         \u001b[0;32mreturn\u001b[0m \u001b[0mactivation\u001b[0m\u001b[0;34m\u001b[0m\u001b[0;34m\u001b[0m\u001b[0m\n",
            "\u001b[0;32m/usr/local/lib/python3.8/dist-packages/sklearn/neural_network/_base.py\u001b[0m in \u001b[0;36minplace_logistic\u001b[0;34m(X)\u001b[0m\n\u001b[1;32m     23\u001b[0m \u001b[0;34m\u001b[0m\u001b[0m\n\u001b[1;32m     24\u001b[0m \u001b[0;34m\u001b[0m\u001b[0m\n\u001b[0;32m---> 25\u001b[0;31m \u001b[0;32mdef\u001b[0m \u001b[0minplace_logistic\u001b[0m\u001b[0;34m(\u001b[0m\u001b[0mX\u001b[0m\u001b[0;34m)\u001b[0m\u001b[0;34m:\u001b[0m\u001b[0;34m\u001b[0m\u001b[0;34m\u001b[0m\u001b[0m\n\u001b[0m\u001b[1;32m     26\u001b[0m     \"\"\"Compute the logistic function inplace.\n\u001b[1;32m     27\u001b[0m \u001b[0;34m\u001b[0m\u001b[0m\n",
            "\u001b[0;31mKeyboardInterrupt\u001b[0m: "
          ]
        }
      ],
      "source": [
        "n_sessions = 100\n",
        "percentile = 70\n",
        "log = []\n",
        "\n",
        "for i in range(100):\n",
        "    # generate new sessions\n",
        "    sessions = [generate_session(env, agent, t_max=1000) for _ in range(n_sessions)] # generate a list of n_sessions new sessions>\n",
        "\n",
        "    states_batch, actions_batch, rewards_batch = map(np.array, zip(*sessions))\n",
        "\n",
        "    elite_states, elite_actions = select_elites(states_batch, actions_batch, rewards_batch, percentile)\n",
        "\n",
        "    agent.partial_fit(elite_states, elite_actions) #<YOUR CODE: partial_fit agent to predict elite_actions(y) from elite_states(X)>\n",
        "\n",
        "    show_progress(rewards_batch, log, percentile, reward_range=[0, np.max(rewards_batch)])\n",
        "\n",
        "    if np.mean(rewards_batch) > 190:\n",
        "        print(f\"You Win! You may stop training now via KeyboardInterrupt. iter={i}\")"
      ]
    },
    {
      "cell_type": "markdown",
      "metadata": {
        "id": "oXgkuJBBB1ig"
      },
      "source": [
        "# Results"
      ]
    },
    {
      "cell_type": "code",
      "execution_count": null,
      "metadata": {
        "id": "-Staa6TkB1ig"
      },
      "outputs": [],
      "source": [
        "# Record sessions\n",
        "\n",
        "import gym.wrappers\n",
        "\n",
        "with gym.wrappers.Monitor(gym.make(\"CartPole-v0\"), directory=\"videos\", force=True) as env_monitor:\n",
        "    sessions = [generate_session(env_monitor, agent) for _ in range(100)]"
      ]
    },
    {
      "cell_type": "code",
      "execution_count": null,
      "metadata": {
        "colab": {
          "base_uri": "https://localhost:8080/",
          "height": 502
        },
        "id": "DM8yza_vB1ig",
        "outputId": "395c6608-65c5-4124-b49c-9c060e9290e0"
      },
      "outputs": [
        {
          "output_type": "execute_result",
          "data": {
            "text/plain": [
              "<IPython.core.display.HTML object>"
            ],
            "text/html": [
              "\n",
              "<video width=\"640\" height=\"480\" controls>\n",
              "  <source src=\"data:video/mp4;base64,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\" type=\"video/mp4\">\n",
              "</video>\n"
            ]
          },
          "metadata": {},
          "execution_count": 58
        }
      ],
      "source": [
        "# Show video. This may not work in some setups. If it doesn't\n",
        "# work for you, you can download the videos and view them locally.\n",
        "\n",
        "from pathlib import Path\n",
        "from base64 import b64encode\n",
        "from IPython.display import HTML\n",
        "\n",
        "video_paths = sorted([s for s in Path('videos').iterdir() if s.suffix == '.mp4'])\n",
        "video_path = video_paths[-1]  # You can also try other indices\n",
        "\n",
        "if 'google.colab' in sys.modules:\n",
        "    # https://stackoverflow.com/a/57378660/1214547\n",
        "    with video_path.open('rb') as fp:\n",
        "        mp4 = fp.read()\n",
        "    data_url = 'data:video/mp4;base64,' + b64encode(mp4).decode()\n",
        "else:\n",
        "    data_url = str(video_path)\n",
        "\n",
        "HTML(\"\"\"\n",
        "<video width=\"640\" height=\"480\" controls>\n",
        "  <source src=\"{}\" type=\"video/mp4\">\n",
        "</video>\n",
        "\"\"\".format(data_url))"
      ]
    },
    {
      "cell_type": "markdown",
      "metadata": {
        "id": "CrXmudVbB1ig"
      },
      "source": [
        "# Homework (1 pt max)\n",
        "\n",
        "### Deep crossentropy method\n",
        "\n",
        "By this moment, you should have got enough score on [CartPole-v0](https://gym.openai.com/envs/CartPole-v0) to consider it solved (see the link). It's time to try something harder.\n",
        "\n",
        "* if you have any trouble with CartPole-v0 and feel stuck, feel free to ask us or your peers for help.\n",
        "\n",
        "### Tasks\n",
        "\n",
        "* __1__ (0.4 pts) Pick one of environments: `MountainCar-v0` or `LunarLander-v2`.\n",
        "  * For MountainCar, get average reward of __at least -150__\n",
        "  * For LunarLander, get average reward of __at least +50__\n",
        "\n",
        "See the tips section below, it's kinda important.\n",
        "__Note:__ If your agent is below the target score, you'll still get some of the points depending on the result, so don't be afraid to submit it.\n",
        "\n",
        "\n",
        "* __2__ (up to 0.6 pts) Devise a way to speed up training against the default version\n",
        "  * (0.2 pts) Obvious improvement: use [`joblib`](https://joblib.readthedocs.io/en/latest/). However, note that you will probably need to spawn a new environment in each of the workers instead of passing it via pickling.\n",
        "  * (0.2 pts)Try re-using samples from 3-5 last iterations when computing threshold and training.\n",
        "  * (0.2 pts) Obtain __-100__ at `MountainCar-v0` or __+200__ at `LunarLander-v2`. Feel free to experiment with hyperparameters, architectures, schedules etc.\n",
        "\n",
        "__Please list what you did in Anytask submission form__. This reduces probability that somebody misses something.\n",
        "\n",
        "\n",
        "### Tips\n",
        "* Gym page: [MountainCar](https://gym.openai.com/envs/MountainCar-v0), [LunarLander](https://gym.openai.com/envs/LunarLander-v2)\n",
        "* Sessions for MountainCar may last for 10k+ ticks. Make sure ```t_max``` param is at least 10k.\n",
        " * Also it may be a good idea to cut rewards via \">\" and not \">=\". If 90% of your sessions get reward of -10k and 10% are better, than if you use percentile 20% as threshold, R >= threshold __fails to cut off bad sessions__ while R > threshold works alright.\n",
        "* _issue with gym_: Some versions of gym limit game time by 200 ticks. This will prevent cem training in most cases. Make sure your agent is able to play for the specified __t_max__, and if it isn't, try `env = gym.make(\"MountainCar-v0\").env` or otherwise get rid of TimeLimit wrapper.\n",
        "* If you use old _swig_ lib for LunarLander-v2, you may get an error. See this [issue](https://github.com/openai/gym/issues/100) for solution.\n",
        "* If it doesn't train, it's a good idea to plot reward distribution and record sessions: they may give you some clue. If they don't, call course staff :)\n",
        "* 20-neuron network is probably not enough, feel free to experiment.\n",
        "\n",
        "You may find the following snippet useful:"
      ]
    },
    {
      "cell_type": "markdown",
      "source": [
        "## Mountain Car"
      ],
      "metadata": {
        "id": "WtYUDF2W5pvF"
      }
    },
    {
      "cell_type": "code",
      "source": [
        "env = gym.make(\"MountainCar-v0\").env\n",
        "\n",
        "env.reset()\n",
        "n_actions = env.action_space.n\n",
        "state_dim = env.observation_space.shape[0]\n",
        "\n",
        "plt.imshow(env.render(\"rgb_array\"))\n",
        "print(\"state vector dim =\", state_dim)\n",
        "print(\"n_actions =\", n_actions)"
      ],
      "metadata": {
        "colab": {
          "base_uri": "https://localhost:8080/",
          "height": 305
        },
        "id": "Q9eAU_6FgiBY",
        "outputId": "f8d52d96-d4da-4dff-ea4f-10ac8c0a5a7b"
      },
      "execution_count": null,
      "outputs": [
        {
          "output_type": "stream",
          "name": "stdout",
          "text": [
            "state vector dim = 2\n",
            "n_actions = 3\n"
          ]
        },
        {
          "output_type": "display_data",
          "data": {
            "text/plain": [
              "<Figure size 432x288 with 1 Axes>"
            ],
            "image/png": "[encoded data removed]"
          },
          "metadata": {
            "needs_background": "light"
          }
        }
      ]
    },
    {
      "cell_type": "code",
      "source": [
        "agent = MLPClassifier(\n",
        "    hidden_layer_sizes=(15, 15, 15, 2),\n",
        "    solver='sgd',\n",
        "    learning_rate='adaptive',\n",
        "    activation='relu',\n",
        "    learning_rate_init=3e-4\n",
        ")\n",
        "\n",
        "# initialize agent to the dimension of state space and number of actions\n",
        "agent.partial_fit([env.reset()] * n_actions, range(n_actions), range(n_actions))"
      ],
      "metadata": {
        "colab": {
          "base_uri": "https://localhost:8080/"
        },
        "id": "HbeoqbY2hFYk",
        "outputId": "2db947f8-02e4-4e6d-faea-d01fdfc6ba24"
      },
      "execution_count": null,
      "outputs": [
        {
          "output_type": "execute_result",
          "data": {
            "text/plain": [
              "MLPClassifier(hidden_layer_sizes=(15, 15, 15, 2), learning_rate='adaptive',\n",
              "              learning_rate_init=0.0003, solver='sgd')"
            ]
          },
          "metadata": {},
          "execution_count": 23
        }
      ]
    },
    {
      "cell_type": "code",
      "source": [
        "agent = joblib.load('agent_small_lr.pkl')\n",
        "agent.set_params(max_iter=600)"
      ],
      "metadata": {
        "colab": {
          "base_uri": "https://localhost:8080/"
        },
        "id": "w8awal7K--dw",
        "outputId": "c6ad204a-62e2-406c-a8cf-ecf3a480111f"
      },
      "execution_count": null,
      "outputs": [
        {
          "output_type": "execute_result",
          "data": {
            "text/plain": [
              "MLPClassifier(hidden_layer_sizes=(15, 15, 15, 2), learning_rate_init=0.0003,\n",
              "              max_iter=600)"
            ]
          },
          "metadata": {},
          "execution_count": 44
        }
      ]
    },
    {
      "cell_type": "code",
      "source": [
        "from joblib import Parallel, delayed\n",
        "import time\n",
        "import queue\n",
        "\n",
        "n_sessions = 100\n",
        "percentile = 50\n",
        "log = []\n",
        "t_max = 15000\n",
        "mem_len = 3 # сколько последних итераций помним\n",
        "states_buf = []\n",
        "actions_buf = []\n",
        "rewards_buf = []\n",
        "\n",
        "for i in range(500):\n",
        "    plt.clf()\n",
        "    # generate new sessions\n",
        "    #seconds = time.time()\n",
        "    sessions = [generate_session(env, agent, t_max) for _ in range(n_sessions)] # generate a list of n_sessions new sessions>\n",
        "    #print('usual time:', time.time()-seconds)\n",
        "    #seconds = time.time()\n",
        "    #sessions = Parallel(n_jobs=-1, backend='threading')(delayed(generate_session)(env, agent, t_max) for j in range(n_sessions))\n",
        "    #print('parallel time:',time.time()-seconds)\n",
        "    states_batch, actions_batch, rewards_batch = map(np.array, zip(*sessions))\n",
        "    plt.hist(rewards_batch)\n",
        "\n",
        "    if i < mem_len:\n",
        "      states_buf.append(states_batch)\n",
        "      actions_buf.append(actions_batch)\n",
        "      rewards_buf.append(rewards_batch)\n",
        "      elite_states, elite_actions = select_elites(states_batch, actions_batch, rewards_batch, percentile)\n",
        "    else:\n",
        "      states_buf[i % mem_len] = states_batch\n",
        "      actions_buf[i % mem_len] = actions_batch\n",
        "      rewards_buf[i % mem_len] = rewards_batch\n",
        "      states_super = np.concatenate((np.concatenate(states_buf), states_batch), axis=0)\n",
        "      actions_super = np.concatenate((np.concatenate(actions_buf), actions_batch), axis=0)\n",
        "      rewards_super = np.concatenate((np.concatenate(rewards_buf), rewards_batch), axis=0)\n",
        "      elite_states, elite_actions = select_elites(states_super, actions_super, rewards_super, percentile)\n",
        "\n",
        "    # elite_states, elite_actions = select_elites(states_batch, actions_batch, rewards_batch, percentile)\n",
        "    # elite_states, elite_actions = select_elites(states_super, actions_super, rewards_super, percentile)\n",
        "\n",
        "    agent.partial_fit(elite_states, elite_actions) #<YOUR CODE: partial_fit agent to predict elite_actions(y) from elite_states(X)>\n",
        "\n",
        "    show_progress(rewards_batch, log, percentile, reward_range=[-t_max-1, np.max(rewards_batch)])\n",
        "\n",
        "    if np.mean(rewards_batch) > -100:\n",
        "        print(f\"You Win! You may stop training now via KeyboardInterrupt. iter={i}\")\n",
        "        break"
      ],
      "metadata": {
        "id": "2OGm4exNhHg9",
        "colab": {
          "base_uri": "https://localhost:8080/",
          "height": 549
        },
        "outputId": "a0b9c2df-70dd-4fa7-b02b-10d33c92cd35"
      },
      "execution_count": null,
      "outputs": [
        {
          "output_type": "stream",
          "name": "stdout",
          "text": [
            "mean reward = -99.800, threshold=-104.000\n"
          ]
        },
        {
          "output_type": "display_data",
          "data": {
            "text/plain": [
              "<Figure size 432x288 with 1 Axes>"
            ],
            "image/png": "[encoded data removed]"
          },
          "metadata": {
            "needs_background": "light"
          }
        },
        {
          "output_type": "display_data",
          "data": {
            "text/plain": [
              "<Figure size 576x288 with 2 Axes>"
            ],
            "image/png": "[encoded data removed]"
          },
          "metadata": {
            "needs_background": "light"
          }
        },
        {
          "output_type": "stream",
          "name": "stdout",
          "text": [
            "You Win! You may stop training now via KeyboardInterrupt. iter=198\n"
          ]
        }
      ]
    },
    {
      "cell_type": "code",
      "source": [
        "import joblib\n",
        "\n",
        "joblib.dump(agent, 'agent_win.pkl')\n",
        "# agent = joblib.load('agent_115.pkl')"
      ],
      "metadata": {
        "colab": {
          "base_uri": "https://localhost:8080/"
        },
        "id": "s6cCqZM73egU",
        "outputId": "af1133e5-278a-4f92-92fa-93b88cb57667"
      },
      "execution_count": null,
      "outputs": [
        {
          "output_type": "execute_result",
          "data": {
            "text/plain": [
              "['agent_win.pkl']"
            ]
          },
          "metadata": {},
          "execution_count": 47
        }
      ]
    },
    {
      "cell_type": "code",
      "execution_count": null,
      "metadata": {
        "colab": {
          "base_uri": "https://localhost:8080/",
          "height": 458
        },
        "id": "7OplBqp6B1ih",
        "outputId": "0dcfcfc6-94e2-431a-f3df-8d398cd3f00e"
      },
      "outputs": [
        {
          "output_type": "display_data",
          "data": {
            "text/plain": [
              "<Figure size 504x504 with 1 Axes>"
            ],
            "image/png": "[encoded data removed]"
          },
          "metadata": {
            "needs_background": "light"
          }
        }
      ],
      "source": [
        "def visualize_mountain_car(env, agent):\n",
        "    # Compute policy for all possible x and v (with discretization)\n",
        "    xs = np.linspace(env.min_position, env.max_position, 100)\n",
        "    vs = np.linspace(-env.max_speed, env.max_speed, 100)\n",
        "\n",
        "    grid = np.dstack(np.meshgrid(xs, vs[::-1])).transpose(1, 0, 2)\n",
        "    grid_flat = grid.reshape(len(xs) * len(vs), 2)\n",
        "    probs = agent.predict_proba(grid_flat).reshape(len(xs), len(vs), 3).transpose(1, 0, 2)\n",
        "\n",
        "    # # The above code is equivalent to the following:\n",
        "    # probs = np.empty((len(vs), len(xs), 3))\n",
        "    # for i, v in enumerate(vs[::-1]):\n",
        "    #     for j, x in enumerate(xs):\n",
        "    #         probs[i, j, :] = agent.predict_proba([[x, v]])[0]\n",
        "\n",
        "    # Draw policy\n",
        "    f, ax = plt.subplots(figsize=(7, 7))\n",
        "    ax.imshow(probs, extent=(env.min_position, env.max_position, -env.max_speed, env.max_speed), aspect='auto')\n",
        "    ax.set_title('Learned policy: red=left, green=nothing, blue=right')\n",
        "    ax.set_xlabel('position (x)')\n",
        "    ax.set_ylabel('velocity (v)')\n",
        "\n",
        "    # Sample a trajectory and draw it\n",
        "    states, actions, _ = generate_session(env, agent)\n",
        "    states = np.array(states)\n",
        "    ax.plot(states[:, 0], states[:, 1], color='white')\n",
        "\n",
        "    # Draw every 3rd action from the trajectory\n",
        "    for (x, v), a in zip(states[::3], actions[::3]):\n",
        "        if a == 0:\n",
        "            plt.arrow(x, v, -0.1, 0, color='white', head_length=0.02)\n",
        "        elif a == 2:\n",
        "            plt.arrow(x, v, 0.1, 0, color='white', head_length=0.02)\n",
        "\n",
        "with gym.make('MountainCar-v0').env as env:\n",
        "    visualize_mountain_car(env, agent)"
      ]
    },
    {
      "cell_type": "markdown",
      "source": [
        "## Lunar Lander"
      ],
      "metadata": {
        "id": "sT4RX5e85yB3"
      }
    },
    {
      "cell_type": "code",
      "source": [
        "pip install box2d"
      ],
      "metadata": {
        "colab": {
          "base_uri": "https://localhost:8080/"
        },
        "id": "_yenvdfi938L",
        "outputId": "adbf5ba9-48c4-4c65-b866-40f41e645b2c"
      },
      "execution_count": null,
      "outputs": [
        {
          "output_type": "stream",
          "name": "stdout",
          "text": [
            "Looking in indexes: https://pypi.org/simple, https://us-python.pkg.dev/colab-wheels/public/simple/\n",
            "Collecting box2d\n",
            "  Downloading Box2D-2.3.10-cp38-cp38-manylinux1_x86_64.whl (1.3 MB)\n",
            "\u001b[2K     \u001b[90m━━━━━━━━━━━━━━━━━━━━━━━━━━━━━━━━━━━━━━━━\u001b[0m \u001b[32m1.3/1.3 MB\u001b[0m \u001b[31m25.7 MB/s\u001b[0m eta \u001b[36m0:00:00\u001b[0m\n",
            "\u001b[?25hInstalling collected packages: box2d\n",
            "Successfully installed box2d-2.3.10\n"
          ]
        }
      ]
    },
    {
      "cell_type": "code",
      "source": [
        "env = gym.make(\"LunarLander-v2\").env\n",
        "\n",
        "env.reset()\n",
        "n_actions = env.action_space.n\n",
        "state_dim = env.observation_space.shape[0]\n",
        "\n",
        "plt.imshow(env.render(\"rgb_array\"))\n",
        "print(\"state vector dim =\", state_dim)\n",
        "print(\"n_actions =\", n_actions)"
      ],
      "metadata": {
        "colab": {
          "base_uri": "https://localhost:8080/",
          "height": 305
        },
        "id": "B635cQw35nyM",
        "outputId": "a35d35db-5929-4fa5-e507-8abc1952bf0d"
      },
      "execution_count": null,
      "outputs": [
        {
          "output_type": "stream",
          "name": "stdout",
          "text": [
            "state vector dim = 8\n",
            "n_actions = 4\n"
          ]
        },
        {
          "output_type": "display_data",
          "data": {
            "text/plain": [
              "<Figure size 432x288 with 1 Axes>"
            ],
            "image/png": "[encoded data removed]"
          },
          "metadata": {
            "needs_background": "light"
          }
        }
      ]
    },
    {
      "cell_type": "code",
      "source": [
        "agent = MLPClassifier(\n",
        "    hidden_layer_sizes=(32, 32, 32),\n",
        "    #solver='sgd',\n",
        "    #learning_rate='adaptive',\n",
        "    activation='relu',\n",
        "    learning_rate_init=3e-4\n",
        ")\n",
        "\n",
        "# initialize agent to the dimension of state space and number of actions\n",
        "agent.partial_fit([env.reset()] * n_actions, range(n_actions), range(n_actions))"
      ],
      "metadata": {
        "colab": {
          "base_uri": "https://localhost:8080/"
        },
        "id": "q8UIsCSc55XZ",
        "outputId": "43dd8c72-a737-4002-ca91-ecee5477665e"
      },
      "execution_count": null,
      "outputs": [
        {
          "output_type": "execute_result",
          "data": {
            "text/plain": [
              "MLPClassifier(hidden_layer_sizes=(32, 32, 32), learning_rate_init=0.0003)"
            ]
          },
          "metadata": {},
          "execution_count": 12
        }
      ]
    },
    {
      "cell_type": "code",
      "source": [
        "agent.set_params(max_iter=800)"
      ],
      "metadata": {
        "colab": {
          "base_uri": "https://localhost:8080/"
        },
        "id": "kG5XS7UKeKIq",
        "outputId": "c10f0d66-a279-4366-9e92-9cdca276fd06"
      },
      "execution_count": null,
      "outputs": [
        {
          "output_type": "execute_result",
          "data": {
            "text/plain": [
              "MLPClassifier(hidden_layer_sizes=(32, 32, 32), learning_rate_init=0.0003,\n",
              "              max_iter=800)"
            ]
          },
          "metadata": {},
          "execution_count": 14
        }
      ]
    },
    {
      "cell_type": "code",
      "source": [
        "from joblib import Parallel, delayed\n",
        "import time\n",
        "import queue\n",
        "\n",
        "n_sessions = 100\n",
        "percentile = 90\n",
        "log = []\n",
        "t_max = 500\n",
        "mem_len = 3 # сколько последних итераций помним\n",
        "states_buf = []\n",
        "actions_buf = []\n",
        "rewards_buf = []\n",
        "\n",
        "for i in range(200):\n",
        "    plt.clf()\n",
        "    # generate new sessions\n",
        "    #seconds = time.time()\n",
        "    sessions = [generate_session(env, agent, t_max) for _ in range(n_sessions)] # generate a list of n_sessions new sessions>\n",
        "    #print('usual time:', time.time()-seconds)\n",
        "    #seconds = time.time()\n",
        "    #sessions = Parallel(n_jobs=-1, backend='threading')(delayed(generate_session)(env, agent, t_max) for j in range(n_sessions))\n",
        "    #print('parallel time:',time.time()-seconds)\n",
        "    states_batch, actions_batch, rewards_batch = map(np.array, zip(*sessions))\n",
        "\n",
        "\n",
        "    if i < mem_len:\n",
        "      states_buf.append(states_batch)\n",
        "      actions_buf.append(actions_batch)\n",
        "      rewards_buf.append(rewards_batch)\n",
        "      elite_states, elite_actions = select_elites(states_batch, actions_batch, rewards_batch, percentile)\n",
        "    else:\n",
        "      states_buf[i % mem_len] = states_batch\n",
        "      actions_buf[i % mem_len] = actions_batch\n",
        "      rewards_buf[i % mem_len] = rewards_batch\n",
        "      states_super = np.concatenate((np.concatenate(states_buf), states_batch), axis=0)\n",
        "      actions_super = np.concatenate((np.concatenate(actions_buf), actions_batch), axis=0)\n",
        "      rewards_super = np.concatenate((np.concatenate(rewards_buf), rewards_batch), axis=0)\n",
        "      elite_states, elite_actions = select_elites(states_super, actions_super, rewards_super, percentile)\n",
        "\n",
        "    # elite_states, elite_actions = select_elites(states_batch, actions_batch, rewards_batch, percentile)\n",
        "    # elite_states, elite_actions = select_elites(states_super, actions_super, rewards_super, percentile)\n",
        "\n",
        "    agent.partial_fit(elite_states, elite_actions) #<YOUR CODE: partial_fit agent to predict elite_actions(y) from elite_states(X)>\n",
        "\n",
        "    show_progress(rewards_batch, log, percentile, agent.loss_curve_, reward_range=[-t_max-1, np.max(rewards_batch)])\n",
        "\n",
        "    if np.mean(rewards_batch) > 200:\n",
        "        print(f\"You Win! You may stop training now via KeyboardInterrupt. iter={i}\")\n",
        "        break"
      ],
      "metadata": {
        "colab": {
          "base_uri": "https://localhost:8080/",
          "height": 538
        },
        "id": "vXG9tMag58-l",
        "outputId": "4ebafa81-8fd2-4785-c28b-2072f3bcbac9"
      },
      "execution_count": null,
      "outputs": [
        {
          "output_type": "stream",
          "name": "stdout",
          "text": [
            "mean reward = 200.229, threshold=301.104\n"
          ]
        },
        {
          "output_type": "display_data",
          "data": {
            "text/plain": [
              "<Figure size 432x288 with 0 Axes>"
            ]
          },
          "metadata": {}
        },
        {
          "output_type": "display_data",
          "data": {
            "text/plain": [
              "<Figure size 576x576 with 4 Axes>"
            ],
            "image/png": "[encoded data removed]"
          },
          "metadata": {
            "needs_background": "light"
          }
        },
        {
          "output_type": "stream",
          "name": "stdout",
          "text": [
            "You Win! You may stop training now via KeyboardInterrupt. iter=169\n"
          ]
        }
      ]
    },
    {
      "cell_type": "code",
      "source": [
        "import joblib\n",
        "\n",
        "joblib.dump(agent, 'lunar_155.pkl')\n",
        "agent = joblib.load('lunar_155.pkl')"
      ],
      "metadata": {
        "colab": {
          "base_uri": "https://localhost:8080/",
          "height": 335
        },
        "id": "679tERAXb2li",
        "outputId": "520b4dc9-e75a-4160-fce0-5833facb7715"
      },
      "execution_count": null,
      "outputs": [
        {
          "output_type": "error",
          "ename": "FileNotFoundError",
          "evalue": "ignored",
          "traceback": [
            "\u001b[0;31m---------------------------------------------------------------------------\u001b[0m",
            "\u001b[0;31mFileNotFoundError\u001b[0m                         Traceback (most recent call last)",
            "\u001b[0;32m<ipython-input-16-87b0c73b0927>\u001b[0m in \u001b[0;36m<module>\u001b[0;34m\u001b[0m\n\u001b[1;32m      2\u001b[0m \u001b[0;34m\u001b[0m\u001b[0m\n\u001b[1;32m      3\u001b[0m \u001b[0;31m# joblib.dump(agent, 'lunar_155.pkl')\u001b[0m\u001b[0;34m\u001b[0m\u001b[0;34m\u001b[0m\u001b[0;34m\u001b[0m\u001b[0m\n\u001b[0;32m----> 4\u001b[0;31m \u001b[0magent\u001b[0m \u001b[0;34m=\u001b[0m \u001b[0mjoblib\u001b[0m\u001b[0;34m.\u001b[0m\u001b[0mload\u001b[0m\u001b[0;34m(\u001b[0m\u001b[0;34m'lunar_155куу.pkl'\u001b[0m\u001b[0;34m)\u001b[0m\u001b[0;34m\u001b[0m\u001b[0;34m\u001b[0m\u001b[0m\n\u001b[0m",
            "\u001b[0;32m/usr/local/lib/python3.8/dist-packages/joblib/numpy_pickle.py\u001b[0m in \u001b[0;36mload\u001b[0;34m(filename, mmap_mode)\u001b[0m\n\u001b[1;32m    648\u001b[0m             \u001b[0mobj\u001b[0m \u001b[0;34m=\u001b[0m \u001b[0m_unpickle\u001b[0m\u001b[0;34m(\u001b[0m\u001b[0mfobj\u001b[0m\u001b[0;34m)\u001b[0m\u001b[0;34m\u001b[0m\u001b[0;34m\u001b[0m\u001b[0m\n\u001b[1;32m    649\u001b[0m     \u001b[0;32melse\u001b[0m\u001b[0;34m:\u001b[0m\u001b[0;34m\u001b[0m\u001b[0;34m\u001b[0m\u001b[0m\n\u001b[0;32m--> 650\u001b[0;31m         \u001b[0;32mwith\u001b[0m \u001b[0mopen\u001b[0m\u001b[0;34m(\u001b[0m\u001b[0mfilename\u001b[0m\u001b[0;34m,\u001b[0m \u001b[0;34m'rb'\u001b[0m\u001b[0;34m)\u001b[0m \u001b[0;32mas\u001b[0m \u001b[0mf\u001b[0m\u001b[0;34m:\u001b[0m\u001b[0;34m\u001b[0m\u001b[0;34m\u001b[0m\u001b[0m\n\u001b[0m\u001b[1;32m    651\u001b[0m             \u001b[0;32mwith\u001b[0m \u001b[0m_read_fileobject\u001b[0m\u001b[0;34m(\u001b[0m\u001b[0mf\u001b[0m\u001b[0;34m,\u001b[0m \u001b[0mfilename\u001b[0m\u001b[0;34m,\u001b[0m \u001b[0mmmap_mode\u001b[0m\u001b[0;34m)\u001b[0m \u001b[0;32mas\u001b[0m \u001b[0mfobj\u001b[0m\u001b[0;34m:\u001b[0m\u001b[0;34m\u001b[0m\u001b[0;34m\u001b[0m\u001b[0m\n\u001b[1;32m    652\u001b[0m                 \u001b[0;32mif\u001b[0m \u001b[0misinstance\u001b[0m\u001b[0;34m(\u001b[0m\u001b[0mfobj\u001b[0m\u001b[0;34m,\u001b[0m \u001b[0mstr\u001b[0m\u001b[0;34m)\u001b[0m\u001b[0;34m:\u001b[0m\u001b[0;34m\u001b[0m\u001b[0;34m\u001b[0m\u001b[0m\n",
            "\u001b[0;31mFileNotFoundError\u001b[0m: [Errno 2] No such file or directory: 'lunar_155куу.pkl'"
          ]
        }
      ]
    },
    {
      "cell_type": "markdown",
      "source": [
        "##  Mountain Car Continuous"
      ],
      "metadata": {
        "id": "QXehj5LgBTZo"
      }
    },
    {
      "cell_type": "markdown",
      "metadata": {
        "id": "lVdrUd31B1ih"
      },
      "source": [
        "### Bonus tasks\n",
        "\n",
        "* __3 bonus__ (0.2 pts) Try to find a network architecture and training params that solve __both__ environments above (_Points depend on implementation. If you attempted this task, please mention it in Anytask submission._)\n",
        "\n",
        "* __4 bonus__ (0.4 pts) Solve continuous action space task with `MLPRegressor` or similar.\n",
        "  * Since your agent only predicts the \"expected\" action, you will have to add noise to ensure exploration.\n",
        "  * Choose one of [MountainCarContinuous-v0](https://gym.openai.com/envs/MountainCarContinuous-v0) (90+ pts to solve), [LunarLanderContinuous-v2](https://gym.openai.com/envs/LunarLanderContinuous-v2) (200+ pts to solve)\n",
        "  * 0.4 points for solving. Slightly less for getting some results below solution threshold. Note that discrete and continuous environments may have slightly different rules, aside from action spaces."
      ]
    },
    {
      "cell_type": "code",
      "source": [
        "def generate_session_c(env, agent, t_max=1000):\n",
        "    \"\"\"\n",
        "    Play a single game using agent neural network.\n",
        "    Terminate when game finishes or after :t_max: steps\n",
        "    \"\"\"\n",
        "    states, actions = [], []\n",
        "    total_reward = 0\n",
        "\n",
        "    s = env.reset()\n",
        "    eps = 3e-1\n",
        "    respect = 0\n",
        "    for t in range(t_max):\n",
        "\n",
        "        a = agent.predict([s]) + np.random.normal(0,eps,1)\n",
        "        a = np.clip(a, -1, 1)\n",
        "\n",
        "        new_s, r, done, info = env.step(a)\n",
        "\n",
        "        # record sessions like you did before\n",
        "        states.append(s)\n",
        "        actions.append(a)\n",
        "        total_reward += r\n",
        "        if r > 0:\n",
        "          respect = 1\n",
        "        s = new_s\n",
        "        if done:\n",
        "            break\n",
        "    return np.array(states), np.array(actions), total_reward, respect"
      ],
      "metadata": {
        "id": "dQhB2aUDDArl"
      },
      "execution_count": null,
      "outputs": []
    },
    {
      "cell_type": "code",
      "source": [
        "env = gym.make(\"MountainCarContinuous-v0\").env\n",
        "\n",
        "env.reset()\n",
        "actions_dim = env.action_space.shape\n",
        "state_dim = env.observation_space.shape\n",
        "\n",
        "plt.imshow(env.render(\"rgb_array\"))\n",
        "print(\"state vector dim =\", state_dim)\n",
        "print(\"n_actions =\", actions_dim)"
      ],
      "metadata": {
        "colab": {
          "base_uri": "https://localhost:8080/",
          "height": 305
        },
        "id": "L4xqsRmLAppg",
        "outputId": "9763924e-3210-49e6-9f83-2bca45db0665"
      },
      "execution_count": null,
      "outputs": [
        {
          "output_type": "stream",
          "name": "stdout",
          "text": [
            "state vector dim = (2,)\n",
            "n_actions = (1,)\n"
          ]
        },
        {
          "output_type": "display_data",
          "data": {
            "text/plain": [
              "<Figure size 432x288 with 1 Axes>"
            ],
            "image/png": "[encoded data removed]"
          },
          "metadata": {
            "needs_background": "light"
          }
        }
      ]
    },
    {
      "cell_type": "code",
      "source": [
        "from sklearn.neural_network import MLPRegressor\n",
        "\n",
        "agent = MLPRegressor(\n",
        "    hidden_layer_sizes=(64, 32, 16, 8, 4),\n",
        "    activation='relu',\n",
        "    learning_rate_init=3e-4\n",
        ")\n",
        "\n",
        "# initialize agent to the dimension of state space and number of actions\n",
        "eps = 1e-3\n",
        "agent.partial_fit([env.reset()], np.random.normal(0,eps,1)) #"
      ],
      "metadata": {
        "colab": {
          "base_uri": "https://localhost:8080/"
        },
        "id": "oVSF1QgYBjuD",
        "outputId": "6489a5c6-55e8-4132-c808-5cb323cff4c8"
      },
      "execution_count": null,
      "outputs": [
        {
          "output_type": "execute_result",
          "data": {
            "text/plain": [
              "MLPRegressor(hidden_layer_sizes=(64, 32, 16, 8, 4), learning_rate_init=0.0003)"
            ]
          },
          "metadata": {},
          "execution_count": 13
        }
      ]
    },
    {
      "cell_type": "code",
      "source": [],
      "metadata": {
        "id": "1MlypPfsC5Xx"
      },
      "execution_count": null,
      "outputs": []
    },
    {
      "cell_type": "code",
      "source": [
        "from joblib import Parallel, delayed\n",
        "import time\n",
        "import queue\n",
        "\n",
        "n_sessions = 100\n",
        "percentile = 70\n",
        "log = []\n",
        "t_max = 20000\n",
        "mem_len = 2 # сколько последних итераций помним\n",
        "states_buf = []\n",
        "actions_buf = []\n",
        "rewards_buf = []\n",
        "\n",
        "for i in range(200):\n",
        "    plt.clf()\n",
        "    # generate new sessions\n",
        "    #seconds = time.time()\n",
        "    sessions = [generate_session_c(env, agent, t_max) for _ in range(n_sessions)] # generate a list of n_sessions new sessions>\n",
        "    #print('usual time:', time.time()-seconds)\n",
        "    #seconds = time.time()\n",
        "    #sessions = Parallel(n_jobs=-1, backend='threading')(delayed(generate_session_c)(env, agent, t_max) for j in range(n_sessions))\n",
        "    #print('parallel time:',time.time()-seconds)\n",
        "    states_batch, actions_batch, rewards_batch, respect_batch = map(np.array, zip(*sessions))\n",
        "    respects = np.sum(respect_batch)\n",
        "\n",
        "    if i < mem_len:\n",
        "      states_buf.append(states_batch)\n",
        "      actions_buf.append(actions_batch)\n",
        "      rewards_buf.append(rewards_batch)\n",
        "      elite_states, elite_actions = select_elites(states_batch, actions_batch, rewards_batch, percentile)\n",
        "    else:\n",
        "      states_buf[i % mem_len] = states_batch\n",
        "      actions_buf[i % mem_len] = actions_batch\n",
        "      rewards_buf[i % mem_len] = rewards_batch\n",
        "      states_super = np.concatenate((np.concatenate(states_buf), states_batch), axis=0)\n",
        "      actions_super = np.concatenate((np.concatenate(actions_buf), actions_batch), axis=0)\n",
        "      rewards_super = np.concatenate((np.concatenate(rewards_buf), rewards_batch), axis=0)\n",
        "      elite_states, elite_actions = select_elites(states_super, actions_super, rewards_super, percentile)\n",
        "\n",
        "    # elite_states, elite_actions = select_elites(states_batch, actions_batch, rewards_batch, percentile)\n",
        "    # elite_states, elite_actions = select_elites(states_super, actions_super, rewards_super, percentile)\n",
        "\n",
        "    agent.partial_fit(elite_states, elite_actions) #<YOUR CODE: partial_fit agent to predict elite_actions(y) from elite_states(X)>\n",
        "\n",
        "    show_progress(rewards_batch, log, percentile, agent.loss_curve_, reward_range=[-t_max-1, np.max(rewards_batch)])\n",
        "    print('Доехали:',respects)\n",
        "\n",
        "    if np.mean(rewards_batch) > 90:\n",
        "        print(f\"You Win! You may stop training now via KeyboardInterrupt. iter={i}\")\n",
        "        break"
      ],
      "metadata": {
        "colab": {
          "base_uri": "https://localhost:8080/",
          "height": 414
        },
        "id": "uVy3Yx2PCdrr",
        "outputId": "ddfd5569-b042-4a82-9642-5cedc8c6deda"
      },
      "execution_count": null,
      "outputs": [
        {
          "output_type": "error",
          "ename": "KeyboardInterrupt",
          "evalue": "ignored",
          "traceback": [
            "\u001b[0;31m---------------------------------------------------------------------------\u001b[0m",
            "\u001b[0;31mKeyboardInterrupt\u001b[0m                         Traceback (most recent call last)",
            "\u001b[0;32m<ipython-input-17-851911670399>\u001b[0m in \u001b[0;36m<module>\u001b[0;34m\u001b[0m\n\u001b[1;32m     16\u001b[0m     \u001b[0;31m# generate new sessions\u001b[0m\u001b[0;34m\u001b[0m\u001b[0;34m\u001b[0m\u001b[0;34m\u001b[0m\u001b[0m\n\u001b[1;32m     17\u001b[0m     \u001b[0;31m#seconds = time.time()\u001b[0m\u001b[0;34m\u001b[0m\u001b[0;34m\u001b[0m\u001b[0;34m\u001b[0m\u001b[0m\n\u001b[0;32m---> 18\u001b[0;31m     \u001b[0msessions\u001b[0m \u001b[0;34m=\u001b[0m \u001b[0;34m[\u001b[0m\u001b[0mgenerate_session_c\u001b[0m\u001b[0;34m(\u001b[0m\u001b[0menv\u001b[0m\u001b[0;34m,\u001b[0m \u001b[0magent\u001b[0m\u001b[0;34m,\u001b[0m \u001b[0mt_max\u001b[0m\u001b[0;34m)\u001b[0m \u001b[0;32mfor\u001b[0m \u001b[0m_\u001b[0m \u001b[0;32min\u001b[0m \u001b[0mrange\u001b[0m\u001b[0;34m(\u001b[0m\u001b[0mn_sessions\u001b[0m\u001b[0;34m)\u001b[0m\u001b[0;34m]\u001b[0m \u001b[0;31m# generate a list of n_sessions new sessions>\u001b[0m\u001b[0;34m\u001b[0m\u001b[0;34m\u001b[0m\u001b[0m\n\u001b[0m\u001b[1;32m     19\u001b[0m     \u001b[0;31m#print('usual time:', time.time()-seconds)\u001b[0m\u001b[0;34m\u001b[0m\u001b[0;34m\u001b[0m\u001b[0;34m\u001b[0m\u001b[0m\n\u001b[1;32m     20\u001b[0m     \u001b[0;31m#seconds = time.time()\u001b[0m\u001b[0;34m\u001b[0m\u001b[0;34m\u001b[0m\u001b[0;34m\u001b[0m\u001b[0m\n",
            "\u001b[0;32m<ipython-input-17-851911670399>\u001b[0m in \u001b[0;36m<listcomp>\u001b[0;34m(.0)\u001b[0m\n\u001b[1;32m     16\u001b[0m     \u001b[0;31m# generate new sessions\u001b[0m\u001b[0;34m\u001b[0m\u001b[0;34m\u001b[0m\u001b[0;34m\u001b[0m\u001b[0m\n\u001b[1;32m     17\u001b[0m     \u001b[0;31m#seconds = time.time()\u001b[0m\u001b[0;34m\u001b[0m\u001b[0;34m\u001b[0m\u001b[0;34m\u001b[0m\u001b[0m\n\u001b[0;32m---> 18\u001b[0;31m     \u001b[0msessions\u001b[0m \u001b[0;34m=\u001b[0m \u001b[0;34m[\u001b[0m\u001b[0mgenerate_session_c\u001b[0m\u001b[0;34m(\u001b[0m\u001b[0menv\u001b[0m\u001b[0;34m,\u001b[0m \u001b[0magent\u001b[0m\u001b[0;34m,\u001b[0m \u001b[0mt_max\u001b[0m\u001b[0;34m)\u001b[0m \u001b[0;32mfor\u001b[0m \u001b[0m_\u001b[0m \u001b[0;32min\u001b[0m \u001b[0mrange\u001b[0m\u001b[0;34m(\u001b[0m\u001b[0mn_sessions\u001b[0m\u001b[0;34m)\u001b[0m\u001b[0;34m]\u001b[0m \u001b[0;31m# generate a list of n_sessions new sessions>\u001b[0m\u001b[0;34m\u001b[0m\u001b[0;34m\u001b[0m\u001b[0m\n\u001b[0m\u001b[1;32m     19\u001b[0m     \u001b[0;31m#print('usual time:', time.time()-seconds)\u001b[0m\u001b[0;34m\u001b[0m\u001b[0;34m\u001b[0m\u001b[0;34m\u001b[0m\u001b[0m\n\u001b[1;32m     20\u001b[0m     \u001b[0;31m#seconds = time.time()\u001b[0m\u001b[0;34m\u001b[0m\u001b[0;34m\u001b[0m\u001b[0;34m\u001b[0m\u001b[0m\n",
            "\u001b[0;32m<ipython-input-10-e2df9893f263>\u001b[0m in \u001b[0;36mgenerate_session_c\u001b[0;34m(env, agent, t_max)\u001b[0m\n\u001b[1;32m     12\u001b[0m     \u001b[0;32mfor\u001b[0m \u001b[0mt\u001b[0m \u001b[0;32min\u001b[0m \u001b[0mrange\u001b[0m\u001b[0;34m(\u001b[0m\u001b[0mt_max\u001b[0m\u001b[0;34m)\u001b[0m\u001b[0;34m:\u001b[0m\u001b[0;34m\u001b[0m\u001b[0;34m\u001b[0m\u001b[0m\n\u001b[1;32m     13\u001b[0m \u001b[0;34m\u001b[0m\u001b[0m\n\u001b[0;32m---> 14\u001b[0;31m         \u001b[0ma\u001b[0m \u001b[0;34m=\u001b[0m \u001b[0magent\u001b[0m\u001b[0;34m.\u001b[0m\u001b[0mpredict\u001b[0m\u001b[0;34m(\u001b[0m\u001b[0;34m[\u001b[0m\u001b[0ms\u001b[0m\u001b[0;34m]\u001b[0m\u001b[0;34m)\u001b[0m \u001b[0;34m+\u001b[0m \u001b[0mnp\u001b[0m\u001b[0;34m.\u001b[0m\u001b[0mrandom\u001b[0m\u001b[0;34m.\u001b[0m\u001b[0mnormal\u001b[0m\u001b[0;34m(\u001b[0m\u001b[0;36m0\u001b[0m\u001b[0;34m,\u001b[0m\u001b[0meps\u001b[0m\u001b[0;34m,\u001b[0m\u001b[0;36m1\u001b[0m\u001b[0;34m)\u001b[0m\u001b[0;34m\u001b[0m\u001b[0;34m\u001b[0m\u001b[0m\n\u001b[0m\u001b[1;32m     15\u001b[0m         \u001b[0ma\u001b[0m \u001b[0;34m=\u001b[0m \u001b[0mnp\u001b[0m\u001b[0;34m.\u001b[0m\u001b[0mclip\u001b[0m\u001b[0;34m(\u001b[0m\u001b[0ma\u001b[0m\u001b[0;34m,\u001b[0m \u001b[0;34m-\u001b[0m\u001b[0;36m1\u001b[0m\u001b[0;34m,\u001b[0m \u001b[0;36m1\u001b[0m\u001b[0;34m)\u001b[0m\u001b[0;34m\u001b[0m\u001b[0;34m\u001b[0m\u001b[0m\n\u001b[1;32m     16\u001b[0m \u001b[0;34m\u001b[0m\u001b[0m\n",
            "\u001b[0;32m/usr/local/lib/python3.8/dist-packages/sklearn/neural_network/_multilayer_perceptron.py\u001b[0m in \u001b[0;36mpredict\u001b[0;34m(self, X)\u001b[0m\n\u001b[1;32m   1581\u001b[0m         \"\"\"\n\u001b[1;32m   1582\u001b[0m         \u001b[0mcheck_is_fitted\u001b[0m\u001b[0;34m(\u001b[0m\u001b[0mself\u001b[0m\u001b[0;34m)\u001b[0m\u001b[0;34m\u001b[0m\u001b[0;34m\u001b[0m\u001b[0m\n\u001b[0;32m-> 1583\u001b[0;31m         \u001b[0my_pred\u001b[0m \u001b[0;34m=\u001b[0m \u001b[0mself\u001b[0m\u001b[0;34m.\u001b[0m\u001b[0m_forward_pass_fast\u001b[0m\u001b[0;34m(\u001b[0m\u001b[0mX\u001b[0m\u001b[0;34m)\u001b[0m\u001b[0;34m\u001b[0m\u001b[0;34m\u001b[0m\u001b[0m\n\u001b[0m\u001b[1;32m   1584\u001b[0m         \u001b[0;32mif\u001b[0m \u001b[0my_pred\u001b[0m\u001b[0;34m.\u001b[0m\u001b[0mshape\u001b[0m\u001b[0;34m[\u001b[0m\u001b[0;36m1\u001b[0m\u001b[0;34m]\u001b[0m \u001b[0;34m==\u001b[0m \u001b[0;36m1\u001b[0m\u001b[0;34m:\u001b[0m\u001b[0;34m\u001b[0m\u001b[0;34m\u001b[0m\u001b[0m\n\u001b[1;32m   1585\u001b[0m             \u001b[0;32mreturn\u001b[0m \u001b[0my_pred\u001b[0m\u001b[0;34m.\u001b[0m\u001b[0mravel\u001b[0m\u001b[0;34m(\u001b[0m\u001b[0;34m)\u001b[0m\u001b[0;34m\u001b[0m\u001b[0;34m\u001b[0m\u001b[0m\n",
            "\u001b[0;32m/usr/local/lib/python3.8/dist-packages/sklearn/neural_network/_multilayer_perceptron.py\u001b[0m in \u001b[0;36m_forward_pass_fast\u001b[0;34m(self, X)\u001b[0m\n\u001b[1;32m    157\u001b[0m             \u001b[0mThe\u001b[0m \u001b[0mdecision\u001b[0m \u001b[0mfunction\u001b[0m \u001b[0mof\u001b[0m \u001b[0mthe\u001b[0m \u001b[0msamples\u001b[0m \u001b[0;32mfor\u001b[0m \u001b[0meach\u001b[0m \u001b[0;32mclass\u001b[0m \u001b[0;32min\u001b[0m \u001b[0mthe\u001b[0m \u001b[0mmodel\u001b[0m\u001b[0;34m.\u001b[0m\u001b[0;34m\u001b[0m\u001b[0;34m\u001b[0m\u001b[0m\n\u001b[1;32m    158\u001b[0m         \"\"\"\n\u001b[0;32m--> 159\u001b[0;31m         \u001b[0mX\u001b[0m \u001b[0;34m=\u001b[0m \u001b[0mself\u001b[0m\u001b[0;34m.\u001b[0m\u001b[0m_validate_data\u001b[0m\u001b[0;34m(\u001b[0m\u001b[0mX\u001b[0m\u001b[0;34m,\u001b[0m \u001b[0maccept_sparse\u001b[0m\u001b[0;34m=\u001b[0m\u001b[0;34m[\u001b[0m\u001b[0;34m\"csr\"\u001b[0m\u001b[0;34m,\u001b[0m \u001b[0;34m\"csc\"\u001b[0m\u001b[0;34m]\u001b[0m\u001b[0;34m,\u001b[0m \u001b[0mreset\u001b[0m\u001b[0;34m=\u001b[0m\u001b[0;32mFalse\u001b[0m\u001b[0;34m)\u001b[0m\u001b[0;34m\u001b[0m\u001b[0;34m\u001b[0m\u001b[0m\n\u001b[0m\u001b[1;32m    160\u001b[0m \u001b[0;34m\u001b[0m\u001b[0m\n\u001b[1;32m    161\u001b[0m         \u001b[0;31m# Initialize first layer\u001b[0m\u001b[0;34m\u001b[0m\u001b[0;34m\u001b[0m\u001b[0;34m\u001b[0m\u001b[0m\n",
            "\u001b[0;32m/usr/local/lib/python3.8/dist-packages/sklearn/base.py\u001b[0m in \u001b[0;36m_validate_data\u001b[0;34m(self, X, y, reset, validate_separately, **check_params)\u001b[0m\n\u001b[1;32m    564\u001b[0m             \u001b[0;32mraise\u001b[0m \u001b[0mValueError\u001b[0m\u001b[0;34m(\u001b[0m\u001b[0;34m\"Validation should be done on X, y or both.\"\u001b[0m\u001b[0;34m)\u001b[0m\u001b[0;34m\u001b[0m\u001b[0;34m\u001b[0m\u001b[0m\n\u001b[1;32m    565\u001b[0m         \u001b[0;32melif\u001b[0m \u001b[0;32mnot\u001b[0m \u001b[0mno_val_X\u001b[0m \u001b[0;32mand\u001b[0m \u001b[0mno_val_y\u001b[0m\u001b[0;34m:\u001b[0m\u001b[0;34m\u001b[0m\u001b[0;34m\u001b[0m\u001b[0m\n\u001b[0;32m--> 566\u001b[0;31m             \u001b[0mX\u001b[0m \u001b[0;34m=\u001b[0m \u001b[0mcheck_array\u001b[0m\u001b[0;34m(\u001b[0m\u001b[0mX\u001b[0m\u001b[0;34m,\u001b[0m \u001b[0;34m**\u001b[0m\u001b[0mcheck_params\u001b[0m\u001b[0;34m)\u001b[0m\u001b[0;34m\u001b[0m\u001b[0;34m\u001b[0m\u001b[0m\n\u001b[0m\u001b[1;32m    567\u001b[0m             \u001b[0mout\u001b[0m \u001b[0;34m=\u001b[0m \u001b[0mX\u001b[0m\u001b[0;34m\u001b[0m\u001b[0;34m\u001b[0m\u001b[0m\n\u001b[1;32m    568\u001b[0m         \u001b[0;32melif\u001b[0m \u001b[0mno_val_X\u001b[0m \u001b[0;32mand\u001b[0m \u001b[0;32mnot\u001b[0m \u001b[0mno_val_y\u001b[0m\u001b[0;34m:\u001b[0m\u001b[0;34m\u001b[0m\u001b[0;34m\u001b[0m\u001b[0m\n",
            "\u001b[0;32m/usr/local/lib/python3.8/dist-packages/sklearn/utils/validation.py\u001b[0m in \u001b[0;36mcheck_array\u001b[0;34m(array, accept_sparse, accept_large_sparse, dtype, order, copy, force_all_finite, ensure_2d, allow_nd, ensure_min_samples, ensure_min_features, estimator)\u001b[0m\n\u001b[1;32m    798\u001b[0m \u001b[0;34m\u001b[0m\u001b[0m\n\u001b[1;32m    799\u001b[0m         \u001b[0;32mif\u001b[0m \u001b[0mforce_all_finite\u001b[0m\u001b[0;34m:\u001b[0m\u001b[0;34m\u001b[0m\u001b[0;34m\u001b[0m\u001b[0m\n\u001b[0;32m--> 800\u001b[0;31m             \u001b[0m_assert_all_finite\u001b[0m\u001b[0;34m(\u001b[0m\u001b[0marray\u001b[0m\u001b[0;34m,\u001b[0m \u001b[0mallow_nan\u001b[0m\u001b[0;34m=\u001b[0m\u001b[0mforce_all_finite\u001b[0m \u001b[0;34m==\u001b[0m \u001b[0;34m\"allow-nan\"\u001b[0m\u001b[0;34m)\u001b[0m\u001b[0;34m\u001b[0m\u001b[0;34m\u001b[0m\u001b[0m\n\u001b[0m\u001b[1;32m    801\u001b[0m \u001b[0;34m\u001b[0m\u001b[0m\n\u001b[1;32m    802\u001b[0m     \u001b[0;32mif\u001b[0m \u001b[0mensure_min_samples\u001b[0m \u001b[0;34m>\u001b[0m \u001b[0;36m0\u001b[0m\u001b[0;34m:\u001b[0m\u001b[0;34m\u001b[0m\u001b[0;34m\u001b[0m\u001b[0m\n",
            "\u001b[0;32m/usr/local/lib/python3.8/dist-packages/sklearn/utils/validation.py\u001b[0m in \u001b[0;36m_assert_all_finite\u001b[0;34m(X, allow_nan, msg_dtype)\u001b[0m\n\u001b[1;32m    101\u001b[0m     \u001b[0;31m# safely to reduce dtype induced overflows.\u001b[0m\u001b[0;34m\u001b[0m\u001b[0;34m\u001b[0m\u001b[0;34m\u001b[0m\u001b[0m\n\u001b[1;32m    102\u001b[0m     \u001b[0mis_float\u001b[0m \u001b[0;34m=\u001b[0m \u001b[0mX\u001b[0m\u001b[0;34m.\u001b[0m\u001b[0mdtype\u001b[0m\u001b[0;34m.\u001b[0m\u001b[0mkind\u001b[0m \u001b[0;32min\u001b[0m \u001b[0;34m\"fc\"\u001b[0m\u001b[0;34m\u001b[0m\u001b[0;34m\u001b[0m\u001b[0m\n\u001b[0;32m--> 103\u001b[0;31m     \u001b[0;32mif\u001b[0m \u001b[0mis_float\u001b[0m \u001b[0;32mand\u001b[0m \u001b[0;34m(\u001b[0m\u001b[0mnp\u001b[0m\u001b[0;34m.\u001b[0m\u001b[0misfinite\u001b[0m\u001b[0;34m(\u001b[0m\u001b[0m_safe_accumulator_op\u001b[0m\u001b[0;34m(\u001b[0m\u001b[0mnp\u001b[0m\u001b[0;34m.\u001b[0m\u001b[0msum\u001b[0m\u001b[0;34m,\u001b[0m \u001b[0mX\u001b[0m\u001b[0;34m)\u001b[0m\u001b[0;34m)\u001b[0m\u001b[0;34m)\u001b[0m\u001b[0;34m:\u001b[0m\u001b[0;34m\u001b[0m\u001b[0;34m\u001b[0m\u001b[0m\n\u001b[0m\u001b[1;32m    104\u001b[0m         \u001b[0;32mpass\u001b[0m\u001b[0;34m\u001b[0m\u001b[0;34m\u001b[0m\u001b[0m\n\u001b[1;32m    105\u001b[0m     \u001b[0;32melif\u001b[0m \u001b[0mis_float\u001b[0m\u001b[0;34m:\u001b[0m\u001b[0;34m\u001b[0m\u001b[0;34m\u001b[0m\u001b[0m\n",
            "\u001b[0;31mKeyboardInterrupt\u001b[0m: "
          ]
        },
        {
          "output_type": "display_data",
          "data": {
            "text/plain": [
              "<Figure size 432x288 with 0 Axes>"
            ]
          },
          "metadata": {}
        }
      ]
    },
    {
      "cell_type": "code",
      "source": [
        "import joblib\n",
        "\n",
        "joblib.dump(agent, 'agent_01.pkl')\n",
        "# agent = joblib.load('agent_115.pkl')"
      ],
      "metadata": {
        "colab": {
          "base_uri": "https://localhost:8080/"
        },
        "id": "5h1IvDVM4bP6",
        "outputId": "8eb3637a-53a4-45bf-da86-d73cb6242c7f"
      },
      "execution_count": null,
      "outputs": [
        {
          "output_type": "execute_result",
          "data": {
            "text/plain": [
              "['agent_01.pkl']"
            ]
          },
          "metadata": {},
          "execution_count": 108
        }
      ]
    },
    {
      "cell_type": "code",
      "source": [],
      "metadata": {
        "id": "aYbLTcn4ZT9-"
      },
      "execution_count": null,
      "outputs": []
    },
    {
      "cell_type": "code",
      "source": [],
      "metadata": {
        "id": "qPQZAoUy_CIH"
      },
      "execution_count": null,
      "outputs": []
    }
  ],
  "metadata": {
    "kernelspec": {
      "display_name": "Python 3 (ipykernel)",
      "language": "python",
      "name": "python3"
    },
    "language_info": {
      "codemirror_mode": {
        "name": "ipython",
        "version": 3
      },
      "file_extension": ".py",
      "mimetype": "text/x-python",
      "name": "python",
      "nbconvert_exporter": "python",
      "pygments_lexer": "ipython3",
      "version": "3.10.9"
    },
    "colab": {
      "provenance": []
    }
  },
  "nbformat": 4,
  "nbformat_minor": 0
}

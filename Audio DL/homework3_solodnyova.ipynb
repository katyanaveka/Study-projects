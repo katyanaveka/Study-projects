{
  "metadata": {
    "colab": {
      "provenance": []
    },
    "kernelspec": {
      "name": "python3",
      "display_name": "Python 3",
      "language": "python"
    },
    "language_info": {
      "name": "python",
      "version": "3.7.12",
      "mimetype": "text/x-python",
      "codemirror_mode": {
        "name": "ipython",
        "version": 3
      },
      "pygments_lexer": "ipython3",
      "nbconvert_exporter": "python",
      "file_extension": ".py"
    },
    "accelerator": "GPU",
    "gpuClass": "standard",
    "widgets": {
      "application/vnd.jupyter.widget-state+json": {
        "bb6dc4ae4cb04080a0df7d0a98b3659e": {
          "model_module": "@jupyter-widgets/controls",
          "model_name": "VBoxModel",
          "model_module_version": "1.5.0",
          "state": {
            "_dom_classes": [],
            "_model_module": "@jupyter-widgets/controls",
            "_model_module_version": "1.5.0",
            "_model_name": "VBoxModel",
            "_view_count": null,
            "_view_module": "@jupyter-widgets/controls",
            "_view_module_version": "1.5.0",
            "_view_name": "VBoxView",
            "box_style": "",
            "children": [
              "IPY_MODEL_f604a2def5b9460d9875f5c158878c57",
              "IPY_MODEL_091d461a4ef94c519ecacf7b0997e8a3"
            ],
            "layout": "IPY_MODEL_2780c2c4666241fdadf6b10b1c9d1548"
          }
        },
        "f604a2def5b9460d9875f5c158878c57": {
          "model_module": "@jupyter-widgets/controls",
          "model_name": "LabelModel",
          "model_module_version": "1.5.0",
          "state": {
            "_dom_classes": [],
            "_model_module": "@jupyter-widgets/controls",
            "_model_module_version": "1.5.0",
            "_model_name": "LabelModel",
            "_view_count": null,
            "_view_module": "@jupyter-widgets/controls",
            "_view_module_version": "1.5.0",
            "_view_name": "LabelView",
            "description": "",
            "description_tooltip": null,
            "layout": "IPY_MODEL_d0ed800f562c49bfb782bf127657d2a6",
            "placeholder": "​",
            "style": "IPY_MODEL_83ed41b847c04f138a8192f581b7316e",
            "value": "0.661 MB of 0.696 MB uploaded (0.000 MB deduped)\r"
          }
        },
        "091d461a4ef94c519ecacf7b0997e8a3": {
          "model_module": "@jupyter-widgets/controls",
          "model_name": "FloatProgressModel",
          "model_module_version": "1.5.0",
          "state": {
            "_dom_classes": [],
            "_model_module": "@jupyter-widgets/controls",
            "_model_module_version": "1.5.0",
            "_model_name": "FloatProgressModel",
            "_view_count": null,
            "_view_module": "@jupyter-widgets/controls",
            "_view_module_version": "1.5.0",
            "_view_name": "ProgressView",
            "bar_style": "",
            "description": "",
            "description_tooltip": null,
            "layout": "IPY_MODEL_6e3cb827f5e84dbaacb0e68d1efae067",
            "max": 1,
            "min": 0,
            "orientation": "horizontal",
            "style": "IPY_MODEL_09b6239a5dff4dada19ab7d2294fd657",
            "value": 0.9501441036724166
          }
        },
        "2780c2c4666241fdadf6b10b1c9d1548": {
          "model_module": "@jupyter-widgets/base",
          "model_name": "LayoutModel",
          "model_module_version": "1.2.0",
          "state": {
            "_model_module": "@jupyter-widgets/base",
            "_model_module_version": "1.2.0",
            "_model_name": "LayoutModel",
            "_view_count": null,
            "_view_module": "@jupyter-widgets/base",
            "_view_module_version": "1.2.0",
            "_view_name": "LayoutView",
            "align_content": null,
            "align_items": null,
            "align_self": null,
            "border": null,
            "bottom": null,
            "display": null,
            "flex": null,
            "flex_flow": null,
            "grid_area": null,
            "grid_auto_columns": null,
            "grid_auto_flow": null,
            "grid_auto_rows": null,
            "grid_column": null,
            "grid_gap": null,
            "grid_row": null,
            "grid_template_areas": null,
            "grid_template_columns": null,
            "grid_template_rows": null,
            "height": null,
            "justify_content": null,
            "justify_items": null,
            "left": null,
            "margin": null,
            "max_height": null,
            "max_width": null,
            "min_height": null,
            "min_width": null,
            "object_fit": null,
            "object_position": null,
            "order": null,
            "overflow": null,
            "overflow_x": null,
            "overflow_y": null,
            "padding": null,
            "right": null,
            "top": null,
            "visibility": null,
            "width": null
          }
        },
        "d0ed800f562c49bfb782bf127657d2a6": {
          "model_module": "@jupyter-widgets/base",
          "model_name": "LayoutModel",
          "model_module_version": "1.2.0",
          "state": {
            "_model_module": "@jupyter-widgets/base",
            "_model_module_version": "1.2.0",
            "_model_name": "LayoutModel",
            "_view_count": null,
            "_view_module": "@jupyter-widgets/base",
            "_view_module_version": "1.2.0",
            "_view_name": "LayoutView",
            "align_content": null,
            "align_items": null,
            "align_self": null,
            "border": null,
            "bottom": null,
            "display": null,
            "flex": null,
            "flex_flow": null,
            "grid_area": null,
            "grid_auto_columns": null,
            "grid_auto_flow": null,
            "grid_auto_rows": null,
            "grid_column": null,
            "grid_gap": null,
            "grid_row": null,
            "grid_template_areas": null,
            "grid_template_columns": null,
            "grid_template_rows": null,
            "height": null,
            "justify_content": null,
            "justify_items": null,
            "left": null,
            "margin": null,
            "max_height": null,
            "max_width": null,
            "min_height": null,
            "min_width": null,
            "object_fit": null,
            "object_position": null,
            "order": null,
            "overflow": null,
            "overflow_x": null,
            "overflow_y": null,
            "padding": null,
            "right": null,
            "top": null,
            "visibility": null,
            "width": null
          }
        },
        "83ed41b847c04f138a8192f581b7316e": {
          "model_module": "@jupyter-widgets/controls",
          "model_name": "DescriptionStyleModel",
          "model_module_version": "1.5.0",
          "state": {
            "_model_module": "@jupyter-widgets/controls",
            "_model_module_version": "1.5.0",
            "_model_name": "DescriptionStyleModel",
            "_view_count": null,
            "_view_module": "@jupyter-widgets/base",
            "_view_module_version": "1.2.0",
            "_view_name": "StyleView",
            "description_width": ""
          }
        },
        "6e3cb827f5e84dbaacb0e68d1efae067": {
          "model_module": "@jupyter-widgets/base",
          "model_name": "LayoutModel",
          "model_module_version": "1.2.0",
          "state": {
            "_model_module": "@jupyter-widgets/base",
            "_model_module_version": "1.2.0",
            "_model_name": "LayoutModel",
            "_view_count": null,
            "_view_module": "@jupyter-widgets/base",
            "_view_module_version": "1.2.0",
            "_view_name": "LayoutView",
            "align_content": null,
            "align_items": null,
            "align_self": null,
            "border": null,
            "bottom": null,
            "display": null,
            "flex": null,
            "flex_flow": null,
            "grid_area": null,
            "grid_auto_columns": null,
            "grid_auto_flow": null,
            "grid_auto_rows": null,
            "grid_column": null,
            "grid_gap": null,
            "grid_row": null,
            "grid_template_areas": null,
            "grid_template_columns": null,
            "grid_template_rows": null,
            "height": null,
            "justify_content": null,
            "justify_items": null,
            "left": null,
            "margin": null,
            "max_height": null,
            "max_width": null,
            "min_height": null,
            "min_width": null,
            "object_fit": null,
            "object_position": null,
            "order": null,
            "overflow": null,
            "overflow_x": null,
            "overflow_y": null,
            "padding": null,
            "right": null,
            "top": null,
            "visibility": null,
            "width": null
          }
        },
        "09b6239a5dff4dada19ab7d2294fd657": {
          "model_module": "@jupyter-widgets/controls",
          "model_name": "ProgressStyleModel",
          "model_module_version": "1.5.0",
          "state": {
            "_model_module": "@jupyter-widgets/controls",
            "_model_module_version": "1.5.0",
            "_model_name": "ProgressStyleModel",
            "_view_count": null,
            "_view_module": "@jupyter-widgets/base",
            "_view_module_version": "1.2.0",
            "_view_name": "StyleView",
            "bar_color": null,
            "description_width": ""
          }
        },
        "47f8fc01b4d547af8bb7031938638400": {
          "model_module": "@jupyter-widgets/controls",
          "model_name": "HBoxModel",
          "model_module_version": "1.5.0",
          "state": {
            "_dom_classes": [],
            "_model_module": "@jupyter-widgets/controls",
            "_model_module_version": "1.5.0",
            "_model_name": "HBoxModel",
            "_view_count": null,
            "_view_module": "@jupyter-widgets/controls",
            "_view_module_version": "1.5.0",
            "_view_name": "HBoxView",
            "box_style": "",
            "children": [
              "IPY_MODEL_25cc6524bd5c4c7385ab6d5b17feca58",
              "IPY_MODEL_f14898f20c2240b9a09787efe6ba2e2a",
              "IPY_MODEL_cc50bd8a359541a4a9bdda738760dcc1"
            ],
            "layout": "IPY_MODEL_27d59d48934840b38c2f804d787a8dd3"
          }
        },
        "25cc6524bd5c4c7385ab6d5b17feca58": {
          "model_module": "@jupyter-widgets/controls",
          "model_name": "HTMLModel",
          "model_module_version": "1.5.0",
          "state": {
            "_dom_classes": [],
            "_model_module": "@jupyter-widgets/controls",
            "_model_module_version": "1.5.0",
            "_model_name": "HTMLModel",
            "_view_count": null,
            "_view_module": "@jupyter-widgets/controls",
            "_view_module_version": "1.5.0",
            "_view_name": "HTMLView",
            "description": "",
            "description_tooltip": null,
            "layout": "IPY_MODEL_dca589e2b7cc455095df6fdfc58a57ba",
            "placeholder": "​",
            "style": "IPY_MODEL_df229ebe8c6748398066095778ca9ac3",
            "value": "100%"
          }
        },
        "f14898f20c2240b9a09787efe6ba2e2a": {
          "model_module": "@jupyter-widgets/controls",
          "model_name": "FloatProgressModel",
          "model_module_version": "1.5.0",
          "state": {
            "_dom_classes": [],
            "_model_module": "@jupyter-widgets/controls",
            "_model_module_version": "1.5.0",
            "_model_name": "FloatProgressModel",
            "_view_count": null,
            "_view_module": "@jupyter-widgets/controls",
            "_view_module_version": "1.5.0",
            "_view_name": "ProgressView",
            "bar_style": "danger",
            "description": "",
            "description_tooltip": null,
            "layout": "IPY_MODEL_1449b03dc71b4ce79c776ebbeb3d0ee6",
            "max": 20,
            "min": 0,
            "orientation": "horizontal",
            "style": "IPY_MODEL_041f1125915c4f16842d92a5c2763c98",
            "value": 20
          }
        },
        "cc50bd8a359541a4a9bdda738760dcc1": {
          "model_module": "@jupyter-widgets/controls",
          "model_name": "HTMLModel",
          "model_module_version": "1.5.0",
          "state": {
            "_dom_classes": [],
            "_model_module": "@jupyter-widgets/controls",
            "_model_module_version": "1.5.0",
            "_model_name": "HTMLModel",
            "_view_count": null,
            "_view_module": "@jupyter-widgets/controls",
            "_view_module_version": "1.5.0",
            "_view_name": "HTMLView",
            "description": "",
            "description_tooltip": null,
            "layout": "IPY_MODEL_866b897198ff421baf186707717c5cd0",
            "placeholder": "​",
            "style": "IPY_MODEL_2ce0209c168e4141a209b819d7e6c860",
            "value": " 20/20 [01:01&lt;00:00,  3.95s/it]"
          }
        },
        "27d59d48934840b38c2f804d787a8dd3": {
          "model_module": "@jupyter-widgets/base",
          "model_name": "LayoutModel",
          "model_module_version": "1.2.0",
          "state": {
            "_model_module": "@jupyter-widgets/base",
            "_model_module_version": "1.2.0",
            "_model_name": "LayoutModel",
            "_view_count": null,
            "_view_module": "@jupyter-widgets/base",
            "_view_module_version": "1.2.0",
            "_view_name": "LayoutView",
            "align_content": null,
            "align_items": null,
            "align_self": null,
            "border": null,
            "bottom": null,
            "display": null,
            "flex": null,
            "flex_flow": null,
            "grid_area": null,
            "grid_auto_columns": null,
            "grid_auto_flow": null,
            "grid_auto_rows": null,
            "grid_column": null,
            "grid_gap": null,
            "grid_row": null,
            "grid_template_areas": null,
            "grid_template_columns": null,
            "grid_template_rows": null,
            "height": null,
            "justify_content": null,
            "justify_items": null,
            "left": null,
            "margin": null,
            "max_height": null,
            "max_width": null,
            "min_height": null,
            "min_width": null,
            "object_fit": null,
            "object_position": null,
            "order": null,
            "overflow": null,
            "overflow_x": null,
            "overflow_y": null,
            "padding": null,
            "right": null,
            "top": null,
            "visibility": null,
            "width": null
          }
        },
        "dca589e2b7cc455095df6fdfc58a57ba": {
          "model_module": "@jupyter-widgets/base",
          "model_name": "LayoutModel",
          "model_module_version": "1.2.0",
          "state": {
            "_model_module": "@jupyter-widgets/base",
            "_model_module_version": "1.2.0",
            "_model_name": "LayoutModel",
            "_view_count": null,
            "_view_module": "@jupyter-widgets/base",
            "_view_module_version": "1.2.0",
            "_view_name": "LayoutView",
            "align_content": null,
            "align_items": null,
            "align_self": null,
            "border": null,
            "bottom": null,
            "display": null,
            "flex": null,
            "flex_flow": null,
            "grid_area": null,
            "grid_auto_columns": null,
            "grid_auto_flow": null,
            "grid_auto_rows": null,
            "grid_column": null,
            "grid_gap": null,
            "grid_row": null,
            "grid_template_areas": null,
            "grid_template_columns": null,
            "grid_template_rows": null,
            "height": null,
            "justify_content": null,
            "justify_items": null,
            "left": null,
            "margin": null,
            "max_height": null,
            "max_width": null,
            "min_height": null,
            "min_width": null,
            "object_fit": null,
            "object_position": null,
            "order": null,
            "overflow": null,
            "overflow_x": null,
            "overflow_y": null,
            "padding": null,
            "right": null,
            "top": null,
            "visibility": null,
            "width": null
          }
        },
        "df229ebe8c6748398066095778ca9ac3": {
          "model_module": "@jupyter-widgets/controls",
          "model_name": "DescriptionStyleModel",
          "model_module_version": "1.5.0",
          "state": {
            "_model_module": "@jupyter-widgets/controls",
            "_model_module_version": "1.5.0",
            "_model_name": "DescriptionStyleModel",
            "_view_count": null,
            "_view_module": "@jupyter-widgets/base",
            "_view_module_version": "1.2.0",
            "_view_name": "StyleView",
            "description_width": ""
          }
        },
        "1449b03dc71b4ce79c776ebbeb3d0ee6": {
          "model_module": "@jupyter-widgets/base",
          "model_name": "LayoutModel",
          "model_module_version": "1.2.0",
          "state": {
            "_model_module": "@jupyter-widgets/base",
            "_model_module_version": "1.2.0",
            "_model_name": "LayoutModel",
            "_view_count": null,
            "_view_module": "@jupyter-widgets/base",
            "_view_module_version": "1.2.0",
            "_view_name": "LayoutView",
            "align_content": null,
            "align_items": null,
            "align_self": null,
            "border": null,
            "bottom": null,
            "display": null,
            "flex": null,
            "flex_flow": null,
            "grid_area": null,
            "grid_auto_columns": null,
            "grid_auto_flow": null,
            "grid_auto_rows": null,
            "grid_column": null,
            "grid_gap": null,
            "grid_row": null,
            "grid_template_areas": null,
            "grid_template_columns": null,
            "grid_template_rows": null,
            "height": null,
            "justify_content": null,
            "justify_items": null,
            "left": null,
            "margin": null,
            "max_height": null,
            "max_width": null,
            "min_height": null,
            "min_width": null,
            "object_fit": null,
            "object_position": null,
            "order": null,
            "overflow": null,
            "overflow_x": null,
            "overflow_y": null,
            "padding": null,
            "right": null,
            "top": null,
            "visibility": null,
            "width": null
          }
        },
        "041f1125915c4f16842d92a5c2763c98": {
          "model_module": "@jupyter-widgets/controls",
          "model_name": "ProgressStyleModel",
          "model_module_version": "1.5.0",
          "state": {
            "_model_module": "@jupyter-widgets/controls",
            "_model_module_version": "1.5.0",
            "_model_name": "ProgressStyleModel",
            "_view_count": null,
            "_view_module": "@jupyter-widgets/base",
            "_view_module_version": "1.2.0",
            "_view_name": "StyleView",
            "bar_color": null,
            "description_width": ""
          }
        },
        "866b897198ff421baf186707717c5cd0": {
          "model_module": "@jupyter-widgets/base",
          "model_name": "LayoutModel",
          "model_module_version": "1.2.0",
          "state": {
            "_model_module": "@jupyter-widgets/base",
            "_model_module_version": "1.2.0",
            "_model_name": "LayoutModel",
            "_view_count": null,
            "_view_module": "@jupyter-widgets/base",
            "_view_module_version": "1.2.0",
            "_view_name": "LayoutView",
            "align_content": null,
            "align_items": null,
            "align_self": null,
            "border": null,
            "bottom": null,
            "display": null,
            "flex": null,
            "flex_flow": null,
            "grid_area": null,
            "grid_auto_columns": null,
            "grid_auto_flow": null,
            "grid_auto_rows": null,
            "grid_column": null,
            "grid_gap": null,
            "grid_row": null,
            "grid_template_areas": null,
            "grid_template_columns": null,
            "grid_template_rows": null,
            "height": null,
            "justify_content": null,
            "justify_items": null,
            "left": null,
            "margin": null,
            "max_height": null,
            "max_width": null,
            "min_height": null,
            "min_width": null,
            "object_fit": null,
            "object_position": null,
            "order": null,
            "overflow": null,
            "overflow_x": null,
            "overflow_y": null,
            "padding": null,
            "right": null,
            "top": null,
            "visibility": null,
            "width": null
          }
        },
        "2ce0209c168e4141a209b819d7e6c860": {
          "model_module": "@jupyter-widgets/controls",
          "model_name": "DescriptionStyleModel",
          "model_module_version": "1.5.0",
          "state": {
            "_model_module": "@jupyter-widgets/controls",
            "_model_module_version": "1.5.0",
            "_model_name": "DescriptionStyleModel",
            "_view_count": null,
            "_view_module": "@jupyter-widgets/base",
            "_view_module_version": "1.2.0",
            "_view_name": "StyleView",
            "description_width": ""
          }
        }
      }
    }
  },
  "nbformat_minor": 0,
  "nbformat": 4,
  "cells": [
    {
      "cell_type": "markdown",
      "source": [
        "# Homework 3: train RNN-T"
      ],
      "metadata": {
        "id": "1LxiMiEui-kl"
      }
    },
    {
      "cell_type": "markdown",
      "source": [
        "In this homework you will implement a variant of the RNN-T model. For that, you will have to\n",
        "- implement each part of its architecture: Encoder, Predictor, Joiner\n",
        "- implement the greedy decoding algorithm\n",
        "- train your model on a subset of the LibriSpeech corpus"
      ],
      "metadata": {
        "id": "NfPduSa6i-km"
      }
    },
    {
      "cell_type": "markdown",
      "source": [
        "# Setup - Install package, download files, etc..."
      ],
      "metadata": {
        "id": "AboXphY7i-kp"
      }
    },
    {
      "cell_type": "code",
      "source": [
        "!mkdir files\n",
        "!wget -O files/utils.py https://raw.githubusercontent.com/severilov/DL-Audio-AIMasters-Course/main/seminars/seminar04/files/utils.py"
      ],
      "metadata": {
        "id": "6tO44Q_hi-kp",
        "scrolled": true,
        "execution": {
          "iopub.status.busy": "2023-04-26T00:41:52.640789Z",
          "iopub.execute_input": "2023-04-26T00:41:52.641902Z",
          "iopub.status.idle": "2023-04-26T00:41:55.026461Z",
          "shell.execute_reply.started": "2023-04-26T00:41:52.641862Z",
          "shell.execute_reply": "2023-04-26T00:41:55.025081Z"
        },
        "trusted": true,
        "colab": {
          "base_uri": "https://localhost:8080/"
        },
        "outputId": "f1a30fe0-68c0-40dc-a412-877739eeaadc"
      },
      "execution_count": null,
      "outputs": [
        {
          "output_type": "stream",
          "name": "stdout",
          "text": [
            "--2023-04-27 10:42:00--  https://raw.githubusercontent.com/severilov/DL-Audio-AIMasters-Course/main/seminars/seminar04/files/utils.py\n",
            "Resolving raw.githubusercontent.com (raw.githubusercontent.com)... 185.199.109.133, 185.199.108.133, 185.199.110.133, ...\n",
            "Connecting to raw.githubusercontent.com (raw.githubusercontent.com)|185.199.109.133|:443... connected.\n",
            "HTTP request sent, awaiting response... 200 OK\n",
            "Length: 6770 (6.6K) [text/plain]\n",
            "Saving to: ‘files/utils.py’\n",
            "\n",
            "\rfiles/utils.py        0%[                    ]       0  --.-KB/s               \rfiles/utils.py      100%[===================>]   6.61K  --.-KB/s    in 0s      \n",
            "\n",
            "2023-04-27 10:42:00 (80.9 MB/s) - ‘files/utils.py’ saved [6770/6770]\n",
            "\n"
          ]
        }
      ]
    },
    {
      "cell_type": "code",
      "source": [
        "!wget --load-cookies /tmp/cookies.txt \"https://drive.google.com/uc?export=download&confirm=$(wget --quiet --save-cookies /tmp/cookies.txt --keep-session-cookies --no-check-certificate 'https://drive.google.com/uc?export=download&id=14vgOVBayQGYv9B1P3hYo3JM56rS6ap3U' -O- | sed -rn 's/.*confirm=([0-9A-Za-z_]+).*/\\1\\n/p')&id=14vgOVBayQGYv9B1P3hYo3JM56rS6ap3U\" -O files/model_scripted_epoch_5.pt && rm -rf /tmp/cookies.txt"
      ],
      "metadata": {
        "id": "gmrbnsCEi-kq",
        "scrolled": true,
        "execution": {
          "iopub.status.busy": "2023-04-26T00:41:55.029327Z",
          "iopub.execute_input": "2023-04-26T00:41:55.029973Z",
          "iopub.status.idle": "2023-04-26T00:42:01.770869Z",
          "shell.execute_reply.started": "2023-04-26T00:41:55.029929Z",
          "shell.execute_reply": "2023-04-26T00:42:01.769612Z"
        },
        "trusted": true,
        "colab": {
          "base_uri": "https://localhost:8080/"
        },
        "outputId": "e988691a-000c-4852-a111-c49e8084d43f"
      },
      "execution_count": null,
      "outputs": [
        {
          "output_type": "stream",
          "name": "stdout",
          "text": [
            "--2023-04-27 10:42:01--  https://drive.google.com/uc?export=download&confirm=t&id=14vgOVBayQGYv9B1P3hYo3JM56rS6ap3U\n",
            "Resolving drive.google.com (drive.google.com)... 173.194.218.138, 173.194.218.113, 173.194.218.139, ...\n",
            "Connecting to drive.google.com (drive.google.com)|173.194.218.138|:443... connected.\n",
            "HTTP request sent, awaiting response... 303 See Other\n",
            "Location: https://doc-0c-9s-docs.googleusercontent.com/docs/securesc/ha0ro937gcuc7l7deffksulhg5h7mbp1/ihgiours3hgoqeuc50t0l2e50570oijr/1682592075000/02999746975866030610/*/14vgOVBayQGYv9B1P3hYo3JM56rS6ap3U?e=download&uuid=9230ab7e-eed8-46e1-b2a4-1e7840abcbdc [following]\n",
            "Warning: wildcards not supported in HTTP.\n",
            "--2023-04-27 10:42:01--  https://doc-0c-9s-docs.googleusercontent.com/docs/securesc/ha0ro937gcuc7l7deffksulhg5h7mbp1/ihgiours3hgoqeuc50t0l2e50570oijr/1682592075000/02999746975866030610/*/14vgOVBayQGYv9B1P3hYo3JM56rS6ap3U?e=download&uuid=9230ab7e-eed8-46e1-b2a4-1e7840abcbdc\n",
            "Resolving doc-0c-9s-docs.googleusercontent.com (doc-0c-9s-docs.googleusercontent.com)... 173.194.214.132, 2607:f8b0:400c:c0b::84\n",
            "Connecting to doc-0c-9s-docs.googleusercontent.com (doc-0c-9s-docs.googleusercontent.com)|173.194.214.132|:443... connected.\n",
            "HTTP request sent, awaiting response... 200 OK\n",
            "Length: 44610317 (43M) [application/x-zip]\n",
            "Saving to: ‘files/model_scripted_epoch_5.pt’\n",
            "\n",
            "files/model_scripte 100%[===================>]  42.54M  42.7MB/s    in 1.0s    \n",
            "\n",
            "2023-04-27 10:42:03 (42.7 MB/s) - ‘files/model_scripted_epoch_5.pt’ saved [44610317/44610317]\n",
            "\n"
          ]
        }
      ]
    },
    {
      "cell_type": "code",
      "source": [
        "%%capture\n",
        "!pip install wandb -qqq"
      ],
      "metadata": {
        "id": "hcfHw_yWi-kr",
        "execution": {
          "iopub.status.busy": "2023-04-26T00:42:01.773720Z",
          "iopub.execute_input": "2023-04-26T00:42:01.774145Z",
          "iopub.status.idle": "2023-04-26T00:42:15.080174Z",
          "shell.execute_reply.started": "2023-04-26T00:42:01.774102Z",
          "shell.execute_reply": "2023-04-26T00:42:15.078638Z"
        },
        "trusted": true
      },
      "execution_count": null,
      "outputs": []
    },
    {
      "cell_type": "code",
      "source": [
        "!nvcc --version"
      ],
      "metadata": {
        "execution": {
          "iopub.status.busy": "2023-04-26T00:42:15.082201Z",
          "iopub.execute_input": "2023-04-26T00:42:15.082556Z",
          "iopub.status.idle": "2023-04-26T00:42:16.073606Z",
          "shell.execute_reply.started": "2023-04-26T00:42:15.082523Z",
          "shell.execute_reply": "2023-04-26T00:42:16.072463Z"
        },
        "trusted": true,
        "colab": {
          "base_uri": "https://localhost:8080/"
        },
        "id": "21yDRHalBiRD",
        "outputId": "3e5d841d-952a-448b-b9a3-490d8782178d"
      },
      "execution_count": null,
      "outputs": [
        {
          "output_type": "stream",
          "name": "stdout",
          "text": [
            "nvcc: NVIDIA (R) Cuda compiler driver\n",
            "Copyright (c) 2005-2022 NVIDIA Corporation\n",
            "Built on Wed_Sep_21_10:33:58_PDT_2022\n",
            "Cuda compilation tools, release 11.8, V11.8.89\n",
            "Build cuda_11.8.r11.8/compiler.31833905_0\n"
          ]
        }
      ]
    },
    {
      "cell_type": "code",
      "source": [
        "import os\n",
        "import string\n",
        "from typing import Tuple, List, Dict, Optional\n",
        "\n",
        "import numpy as np\n",
        "import pandas as pd\n",
        "import matplotlib.pyplot as plt\n",
        "import torch\n",
        "import torchaudio\n",
        "import torch.nn as nn\n",
        "import torch.nn.functional as F\n",
        "import torch.utils.data as data\n",
        "import wandb\n",
        "import ipywidgets as widgets\n",
        "import itertools\n",
        "from torch import optim\n",
        "from torchaudio.transforms import RNNTLoss\n",
        "from tqdm import tqdm_notebook, tqdm, notebook\n",
        "from IPython.display import display, clear_output"
      ],
      "metadata": {
        "id": "4u_exS1ii-ks",
        "execution": {
          "iopub.status.busy": "2023-04-26T00:37:49.393890Z",
          "iopub.execute_input": "2023-04-26T00:37:49.394615Z",
          "iopub.status.idle": "2023-04-26T00:37:55.628956Z",
          "shell.execute_reply.started": "2023-04-26T00:37:49.394574Z",
          "shell.execute_reply": "2023-04-26T00:37:55.627441Z"
        },
        "trusted": true
      },
      "execution_count": null,
      "outputs": []
    },
    {
      "cell_type": "code",
      "source": [
        "import files.utils as utils"
      ],
      "metadata": {
        "id": "VceAkujPi-ks",
        "execution": {
          "iopub.status.busy": "2023-04-26T00:44:15.776109Z",
          "iopub.execute_input": "2023-04-26T00:44:15.777412Z",
          "iopub.status.idle": "2023-04-26T00:44:15.787264Z",
          "shell.execute_reply.started": "2023-04-26T00:44:15.777366Z",
          "shell.execute_reply": "2023-04-26T00:44:15.786069Z"
        },
        "trusted": true
      },
      "execution_count": null,
      "outputs": []
    },
    {
      "cell_type": "code",
      "source": [
        "snapshot_dir = \"/mnt/notebooks/rnn_t_snapshots\""
      ],
      "metadata": {
        "id": "n14D_Nzei-ks",
        "execution": {
          "iopub.status.busy": "2023-04-26T00:44:16.159634Z",
          "iopub.execute_input": "2023-04-26T00:44:16.160522Z",
          "iopub.status.idle": "2023-04-26T00:44:16.170732Z",
          "shell.execute_reply.started": "2023-04-26T00:44:16.160476Z",
          "shell.execute_reply": "2023-04-26T00:44:16.169462Z"
        },
        "trusted": true
      },
      "execution_count": null,
      "outputs": []
    },
    {
      "cell_type": "code",
      "source": [
        "!mkdir -p /mnt/notebooks/rnn_t_snapshots"
      ],
      "metadata": {
        "id": "txn-Rm7Si-kt",
        "execution": {
          "iopub.status.busy": "2023-04-26T00:44:16.425358Z",
          "iopub.execute_input": "2023-04-26T00:44:16.425930Z",
          "iopub.status.idle": "2023-04-26T00:44:17.615968Z",
          "shell.execute_reply.started": "2023-04-26T00:44:16.425886Z",
          "shell.execute_reply": "2023-04-26T00:44:17.614600Z"
        },
        "trusted": true
      },
      "execution_count": null,
      "outputs": []
    },
    {
      "cell_type": "markdown",
      "source": [
        "# Seminar 4 RECAP: RNN-T Forward-Backward Algorithm"
      ],
      "metadata": {
        "id": "o8kaGJYEi-kn"
      }
    },
    {
      "cell_type": "markdown",
      "source": [
        "In seminar 4 we have implememented forward and backward algorithms for calculating the RNN-T loss."
      ],
      "metadata": {
        "id": "Lq4a_Bwe8vqi"
      }
    },
    {
      "cell_type": "code",
      "source": [
        "def forward(log_probs: torch.FloatTensor, targets: torch.LongTensor,\n",
        "            blank: int = -1) -> Tuple[torch.FloatTensor, torch.FloatTensor]:\n",
        "    \"\"\"\n",
        "    :param log_probs: model outputs after applying log_softmax\n",
        "    :param targets: the target sequence of tokens, represented as integer indexes\n",
        "    :param blank: the index of blank symbol\n",
        "    :return: Tuple[ln alpha, -(ln alpha(T, U) + ln P(blank | T, U))].\n",
        "        The latter term is loss value, which is -ln P(y | x)\n",
        "    \"\"\"\n",
        "    max_T, max_U, D = log_probs.shape\n",
        "\n",
        "    # here the alpha variable contains logarithm of the alpha variable from the formulas above\n",
        "    alpha = np.zeros((max_T, max_U), dtype=np.float32)\n",
        "\n",
        "    for t in range(1, max_T):\n",
        "        alpha[t, 0] = alpha[t-1, 0] + log_probs[t-1, 0, blank]\n",
        "\n",
        "    for u in range(1, max_U):\n",
        "        alpha[0, u] = alpha[0, u-1] + log_probs[0, u-1, targets[min(u-1, len(targets)-1)]]\n",
        "\n",
        "    for t in range(1, max_T):\n",
        "        for u in range(1, max_U):\n",
        "            alpha[t, u] =  np.logaddexp(\n",
        "                alpha[t-1, u] + log_probs[t-1, u, blank],\n",
        "                alpha[t, u-1] + log_probs[t, u-1, targets[min(u-1, len(targets)-1)]]\n",
        "            )\n",
        "\n",
        "    cost = - (log_probs[-1, -1, blank] + alpha[-1, -1])\n",
        "    return alpha, cost\n",
        "\n",
        "\n",
        "def backward(log_probs: torch.FloatTensor, targets: torch.LongTensor,\n",
        "             blank: int = -1) -> Tuple[torch.FloatTensor, torch.FloatTensor]:\n",
        "    \"\"\"\n",
        "    :param log_probs: model outputs after applying log_softmax\n",
        "    :param targets: the target sequence of tokens, represented as integer indexes\n",
        "    :param blank: the index of blank symbol\n",
        "    :return: Tuple[ln beta, -ln beta(0, 0)]. The latter term is loss value, which is -ln P(y | x)\n",
        "    \"\"\"\n",
        "    max_T, max_U, D = log_probs.shape\n",
        "\n",
        "    # here the beta variable contains logarithm of the beta variable from the formulas above\n",
        "    beta = np.zeros((max_T, max_U), dtype=np.float32)\n",
        "    beta[-1, -1] = log_probs[-1, -1, blank]\n",
        "\n",
        "    for t in reversed(range(max_T - 1)):\n",
        "        beta[t, max_U-1] = beta[t+1, max_U-1] + log_probs[t, max_U-1, blank]\n",
        "\n",
        "    for u in reversed(range(max_U - 1)):\n",
        "        beta[max_T-1, u] = beta[max_T-1, u+1] + log_probs[max_T-1, u, targets[min(u, len(targets)-1)]]\n",
        "\n",
        "    for t in reversed(range(max_T - 1)):\n",
        "        for u in reversed(range(max_U - 1)):\n",
        "            beta[t, u] =  np.logaddexp(\n",
        "                beta[t+1, u] + log_probs[t, u, blank],\n",
        "                beta[t, u+1] + log_probs[t, u, targets[min(u, len(targets)-1)]]\n",
        "            )\n",
        "\n",
        "    cost = - beta[0, 0]\n",
        "    return beta, cost"
      ],
      "metadata": {
        "id": "EcM082LQi-kz",
        "execution": {
          "iopub.status.busy": "2023-04-26T00:44:17.619960Z",
          "iopub.execute_input": "2023-04-26T00:44:17.620930Z",
          "iopub.status.idle": "2023-04-26T00:44:17.656246Z",
          "shell.execute_reply.started": "2023-04-26T00:44:17.620876Z",
          "shell.execute_reply": "2023-04-26T00:44:17.652435Z"
        },
        "trusted": true
      },
      "execution_count": null,
      "outputs": []
    },
    {
      "cell_type": "markdown",
      "source": [
        "# Implementing, training and evaluating your RNN-T ASR model (30 points)"
      ],
      "metadata": {
        "id": "e-Kcnm7Ki-k1"
      }
    },
    {
      "cell_type": "markdown",
      "source": [
        "```\n",
        "[ ] (10 points) Build the model\n",
        "[ ] (10 points) Implementing a greedy decoder\n",
        "[ ] (10 points) Train the model\n",
        "```"
      ],
      "metadata": {
        "id": "u7_XForhi-k1"
      }
    },
    {
      "cell_type": "code",
      "source": [
        "BLANK_SYMBOL = \"_\"\n",
        "BOS = \"<BOS>\"\n",
        "\n",
        "\n",
        "class Tokenizer:\n",
        "    \"\"\"\n",
        "    Maps characters to integers and vice versa\n",
        "    \"\"\"\n",
        "    def __init__(self):\n",
        "        self.char_map = {}\n",
        "        self.index_map = {}\n",
        "        for i, ch in enumerate([\"'\", \" \"] + list(string.ascii_lowercase) + [BLANK_SYMBOL, BOS]):\n",
        "            self.char_map[ch] = i\n",
        "            self.index_map[i] = ch\n",
        "\n",
        "    def text_to_indices(self, text: str) -> List[int]:\n",
        "        \"\"\"\n",
        "        Maps string to a list of integers\n",
        "        \"\"\"\n",
        "        return [self.char_map[ch] for ch in text]\n",
        "\n",
        "    def indices_to_text(self, labels: List[int]) -> str:\n",
        "        \"\"\"\n",
        "        Maps integers back to text\n",
        "        \"\"\"\n",
        "        return \"\".join([self.index_map[i] for i in labels])\n",
        "\n",
        "    def get_symbol_index(self, sym: str) -> int:\n",
        "        \"\"\"\n",
        "        Returns index for the specified symbol\n",
        "        \"\"\"\n",
        "        return self.char_map[sym]\n",
        "\n",
        "\n",
        "tokenizer = Tokenizer()"
      ],
      "metadata": {
        "id": "TIy1M2ICi-k1",
        "execution": {
          "iopub.status.busy": "2023-04-26T00:44:18.104729Z",
          "iopub.execute_input": "2023-04-26T00:44:18.105131Z",
          "iopub.status.idle": "2023-04-26T00:44:18.113704Z",
          "shell.execute_reply.started": "2023-04-26T00:44:18.105095Z",
          "shell.execute_reply": "2023-04-26T00:44:18.112589Z"
        },
        "trusted": true
      },
      "execution_count": null,
      "outputs": []
    },
    {
      "cell_type": "code",
      "source": [],
      "metadata": {
        "trusted": true,
        "id": "l7la6P2ABiRJ"
      },
      "execution_count": null,
      "outputs": []
    },
    {
      "cell_type": "markdown",
      "source": [
        "### Utils for creating a dataloader"
      ],
      "metadata": {
        "id": "t_QF8XMBi-k2"
      }
    },
    {
      "cell_type": "code",
      "source": [
        "# Download LibriSpeech 100hr training and test data\n",
        "\n",
        "if not os.path.isdir(\"./data\"):\n",
        "    os.makedirs(\"./data\")\n",
        "\n",
        "train_dataset = torchaudio.datasets.LIBRISPEECH(\"./data\", url=\"train-clean-100\", download=True)\n",
        "test_dataset = torchaudio.datasets.LIBRISPEECH(\"./data\", url=\"test-clean\", download=True)"
      ],
      "metadata": {
        "id": "L_Xmk902i-k2",
        "execution": {
          "iopub.status.busy": "2023-04-26T00:44:18.711718Z",
          "iopub.execute_input": "2023-04-26T00:44:18.712239Z"
        },
        "trusted": true,
        "colab": {
          "base_uri": "https://localhost:8080/"
        },
        "outputId": "4f529f2a-35d5-43a1-a681-cb334eb63ad8"
      },
      "execution_count": null,
      "outputs": [
        {
          "output_type": "stream",
          "name": "stderr",
          "text": [
            "100%|██████████| 5.95G/5.95G [03:41<00:00, 28.8MB/s]\n",
            "100%|██████████| 331M/331M [00:12<00:00, 27.5MB/s]\n"
          ]
        }
      ]
    },
    {
      "cell_type": "code",
      "source": [
        "# For train you can use SpecAugment data aug here.\n",
        "train_audio_transforms = nn.Sequential(\n",
        "    torchaudio.transforms.MelSpectrogram(sample_rate=16000, n_mels=80),\n",
        "    torchaudio.transforms.FrequencyMasking(freq_mask_param=27),\n",
        "    torchaudio.transforms.TimeMasking(time_mask_param=100)\n",
        ")\n",
        "\n",
        "test_audio_transforms = torchaudio.transforms.MelSpectrogram(sample_rate=16000, n_mels=80)"
      ],
      "metadata": {
        "id": "mLWxbcjMi-k2",
        "trusted": true
      },
      "execution_count": null,
      "outputs": []
    },
    {
      "cell_type": "code",
      "source": [
        "def data_processing(data: torchaudio.datasets.librispeech.LIBRISPEECH,\n",
        "                    data_type: str = \"train\") -> Tuple[torch.Tensor, torch.IntTensor, torch.IntTensor, torch.IntTensor]:\n",
        "    \"\"\"\n",
        "    :param data: a LIBRISPEECH dataset\n",
        "    :param data_type: \"train\" or \"test\"\n",
        "    :return: tuple of\n",
        "        spectrograms, shape: (B, T, n_mels)\n",
        "        labels, shape: (B, U)\n",
        "        input_lengths -- the length of each spectrogram in the batch, shape: (B,)\n",
        "        label_lengths -- the length of each text label in the batch, shape: (B,)\n",
        "        where\n",
        "        B: batch size\n",
        "        T: maximum source sequence length in batch\n",
        "        U: maximum target sequence length in batch\n",
        "        D: feature dimension of each source sequence element\n",
        "    \"\"\"\n",
        "    spectrograms = []\n",
        "    labels = []\n",
        "    input_lengths = []\n",
        "    label_lengths = []\n",
        "    for (waveform, _, utterance, _, _, _) in data:\n",
        "        if data_type == 'train':\n",
        "            spec = train_audio_transforms(waveform).squeeze(0).transpose(0, 1)\n",
        "        elif data_type == 'test':\n",
        "            spec = test_audio_transforms(waveform).squeeze(0).transpose(0, 1)\n",
        "        else:\n",
        "            raise Exception('data_type should be train or valid')\n",
        "        spectrograms.append(spec)\n",
        "        label = torch.IntTensor(tokenizer.text_to_indices(utterance.lower()))\n",
        "        labels.append(label)\n",
        "        input_lengths.append(spec.shape[0])\n",
        "        label_lengths.append(len(label))\n",
        "\n",
        "    spectrograms = nn.utils.rnn.pad_sequence(spectrograms, batch_first=True)\n",
        "    labels = nn.utils.rnn.pad_sequence(labels, batch_first=True)\n",
        "\n",
        "    return spectrograms, torch.IntTensor(labels), torch.IntTensor(input_lengths), torch.IntTensor(label_lengths)\n"
      ],
      "metadata": {
        "id": "cLsCL472i-k2",
        "trusted": true
      },
      "execution_count": null,
      "outputs": []
    },
    {
      "cell_type": "markdown",
      "source": [
        "## Build the model (10 points)"
      ],
      "metadata": {
        "id": "1SbrcCk6i-k3"
      }
    },
    {
      "cell_type": "code",
      "source": [
        "class EncoderRNNT(nn.Module):\n",
        "    def __init__(self, input_dim: int, hidden_size: int, output_dim: int, n_layers: int,\n",
        "                 dropout: float = 0.2, bidirectional: bool = True):\n",
        "        \"\"\"\n",
        "        An RNN-based model that encodes input audio features into a hidden representation.\n",
        "        The architecture is a stack of LSTM's followed by a fully-connected output layer.\n",
        "\n",
        "        :param input_dim: the number of mel-spectrogram features\n",
        "        :param hidden_size: the number of features in the hidden states in LSTM layers\n",
        "        :param output_dim: the output dimension\n",
        "        :param n_layers: the number of stacked LSTM layers\n",
        "        :param dropout: the dropout probability for LSTM layers\n",
        "        :param bidirectional: If True, each LSTM layer becomes bidirectional\n",
        "        \"\"\"\n",
        "        super().__init__()\n",
        "\n",
        "        self.lstm = nn.LSTM(input_size = input_dim,\n",
        "                            hidden_size = hidden_size,\n",
        "                            num_layers = n_layers,\n",
        "                            dropout = dropout,\n",
        "                            bidirectional = bidirectional,\n",
        "                            batch_first=True)\n",
        "\n",
        "        linear_in = 1 + int(bidirectional)\n",
        "        self.output_proj = nn.Linear(linear_in * hidden_size, output_dim)\n",
        "\n",
        "    def forward(self, inputs: torch.Tensor, input_lengths: torch.Tensor) -> Tuple[torch.Tensor, List[torch.Tensor]]:\n",
        "        \"\"\"\n",
        "        :param inputs: spectrograms, shape: (B, T, n_mels)\n",
        "        :param input_lengths: the lengths of the spectrograms in the batch, shape: (B,)\n",
        "        :return: outputs of the projection layer and hidden states from LSTMs\n",
        "        \"\"\"\n",
        "        x, hidden = self.lstm(inputs)\n",
        "        logits = self.output_proj(x)\n",
        "        return logits, hidden"
      ],
      "metadata": {
        "id": "y57EYzcgi-k3",
        "trusted": true
      },
      "execution_count": null,
      "outputs": []
    },
    {
      "cell_type": "code",
      "source": [
        "encoder = EncoderRNNT(\n",
        "    input_dim=80,\n",
        "    hidden_size=320,\n",
        "    output_dim=512,\n",
        "    n_layers=4,\n",
        "    dropout=0.2,\n",
        "    bidirectional=True\n",
        ")\n",
        "\n",
        "loader = data.DataLoader(test_dataset, batch_size=2, shuffle=False, collate_fn=lambda x: data_processing(x, 'test'))\n",
        "spectrograms, labels, input_lengths, label_lengths = next(iter(loader))\n",
        "logits, hidden_states = encoder.forward(spectrograms, input_lengths)\n",
        "\n",
        "assert spectrograms.shape == torch.Size([2, 835, 80])\n",
        "assert logits.shape == torch.Size([2, 835, 512])\n",
        "assert len(hidden_states) == 2\n",
        "assert hidden_states[0].shape == torch.Size([8, 2, 320])"
      ],
      "metadata": {
        "id": "tCeaQG-2i-k4",
        "trusted": true
      },
      "execution_count": null,
      "outputs": []
    },
    {
      "cell_type": "code",
      "source": [
        "class DecoderRNNT(nn.Module):\n",
        "    def __init__(self, hidden_size: int, vocab_size: int, output_dim: int, n_layers: int, dropout: float = 0.2):\n",
        "        \"\"\"\n",
        "        A simple RNN-based autoregressive language model that takes as input previously generated text tokens\n",
        "        and outputs a hidden representation of the next token\n",
        "\n",
        "        :param hidden_size: the number of features in the hidden states in LSTM layers\n",
        "        :param vocab_size: the number of text tokens in the dictionary\n",
        "        :param output_dim: the output dimension\n",
        "        :param n_layers: the number of stacked LSTM layers\n",
        "        :param dropout: the dropout probability for LSTM layers\n",
        "        \"\"\"\n",
        "        super().__init__()\n",
        "        self.embedding = nn.Embedding(num_embeddings = vocab_size,\n",
        "                                      embedding_dim = hidden_size)\n",
        "\n",
        "        self.lstm = nn.LSTM(input_size = hidden_size,\n",
        "                            hidden_size = hidden_size,\n",
        "                            num_layers = n_layers,\n",
        "                            dropout = dropout,\n",
        "                            batch_first=True)\n",
        "\n",
        "        self.output_proj = nn.Linear(hidden_size, output_dim)\n",
        "\n",
        "    def forward(self, inputs: torch.Tensor, input_lengths: Optional[torch.Tensor] = None,\n",
        "                hidden_states: Optional[Tuple[torch.Tensor, torch.Tensor]] = None) -> Tuple[torch.Tensor, List[torch.Tensor]]:\n",
        "        \"\"\"\n",
        "        :param inputs: labels, shape: (B, U)\n",
        "        :param input_lengths: the lengths of the text labels in the batch, shape: (B,)\n",
        "        :return: outputs of the projection layer and hidden states from LSTMs\n",
        "        \"\"\"\n",
        "        embed_inputs = self.embedding(inputs)\n",
        "\n",
        "        if input_lengths is not None:\n",
        "            # training phase, the code here is close to `forward` of the Encoder\n",
        "            x, hidden = self.lstm(embed_inputs)\n",
        "            outputs = self.output_proj(x)\n",
        "        else:\n",
        "            # testing phase\n",
        "            outputs, hidden = self.lstm(embed_inputs, hidden_states)\n",
        "\n",
        "        outputs = self.output_proj(outputs)\n",
        "        return outputs, hidden"
      ],
      "metadata": {
        "id": "bhLTyplNi-k4",
        "trusted": true
      },
      "execution_count": null,
      "outputs": []
    },
    {
      "cell_type": "code",
      "source": [
        "decoder = DecoderRNNT(\n",
        "    hidden_size=512,\n",
        "    vocab_size=len(tokenizer.char_map),\n",
        "    output_dim=512,\n",
        "    n_layers=1,\n",
        "    dropout=0.2\n",
        ")\n",
        "\n",
        "loader = data.DataLoader(test_dataset, batch_size=2, shuffle=False, collate_fn=lambda x: data_processing(x, 'test'))\n",
        "spectrograms, labels, input_lengths, label_lengths = next(iter(loader))\n",
        "logits, hidden_states = decoder.forward(labels, label_lengths)\n",
        "\n",
        "assert labels.shape == torch.Size([2, 158])\n",
        "assert logits.shape == torch.Size([2, 158, 512])\n",
        "assert len(hidden_states) == 2\n",
        "assert hidden_states[0].shape == torch.Size([1, 2, 512])"
      ],
      "metadata": {
        "id": "QNGRqpMji-k4",
        "trusted": true,
        "colab": {
          "base_uri": "https://localhost:8080/"
        },
        "outputId": "574b7518-7944-4aab-a151-f32a7ddc6d49"
      },
      "execution_count": null,
      "outputs": [
        {
          "output_type": "stream",
          "name": "stderr",
          "text": [
            "/usr/local/lib/python3.9/dist-packages/torch/nn/modules/rnn.py:71: UserWarning: dropout option adds dropout after all but last recurrent layer, so non-zero dropout expects num_layers greater than 1, but got dropout=0.2 and num_layers=1\n",
            "  warnings.warn(\"dropout option adds dropout after all but last \"\n"
          ]
        }
      ]
    },
    {
      "cell_type": "code",
      "source": [
        "class Joiner(torch.nn.Module):\n",
        "    def __init__(self, joiner_dim: int, num_outputs: int):\n",
        "        \"\"\"\n",
        "        Adds encoder and decoder outputs, applies ReLU and passes the result\n",
        "        through a fully connected layer to get the output logits\n",
        "\n",
        "        :param joiner_dim: the dimension of the encoder and decoder outputs\n",
        "        :num_outputs: the number of text tokens in the dictionary\n",
        "        \"\"\"\n",
        "        super().__init__()\n",
        "        self.linear = nn.Linear(joiner_dim, num_outputs)\n",
        "        self.relu = nn.ReLU()\n",
        "        self.softmax = nn.Softmax(dim=-1)\n",
        "\n",
        "    def forward(self, encoder_outputs: torch.Tensor, decoder_outputs: torch.Tensor) -> torch.Tensor:\n",
        "        \"\"\"\n",
        "        :param encoder_outputs: the encoder outputs (f_t), shape: (B, T, joiner_dim) or (joiner_dim,)\n",
        "        :param decoder_outputs: the decoder outputs (g_u), shape: (B, U, joiner_dim) or (joiner_dim,)\n",
        "        :return: output logits\n",
        "        \"\"\"\n",
        "        if encoder_outputs.dim() == 3 and decoder_outputs.dim() == 3:    # True for training phase\n",
        "            encoder_outputs = encoder_outputs.unsqueeze(2)\n",
        "            decoder_outputs = decoder_outputs.unsqueeze(1)\n",
        "\n",
        "        # Linear(ReLU(f_t + g_u))\n",
        "        out = self.linear(self.relu(encoder_outputs + decoder_outputs))\n",
        "        # out = self.softmax(out)\n",
        "        return out"
      ],
      "metadata": {
        "id": "IaM_Tkzhi-k5",
        "trusted": true
      },
      "execution_count": null,
      "outputs": []
    },
    {
      "cell_type": "code",
      "source": [
        "class RNNTransducer(torch.nn.Module):\n",
        "    def __init__(self,\n",
        "        num_classes: int,\n",
        "        input_dim: int,\n",
        "        num_encoder_layers: int = 4,\n",
        "        num_decoder_layers: int = 1,\n",
        "        encoder_hidden_state_dim: int = 320,\n",
        "        decoder_hidden_state_dim: int = 512,\n",
        "        output_dim: int = 512,\n",
        "        encoder_is_bidirectional: bool = True,\n",
        "        encoder_dropout_p: float = 0.2,\n",
        "        decoder_dropout_p: float = 0.2\n",
        "    ):\n",
        "        \"\"\"\n",
        "        :param num_classes: the number of text tokens in the dictionary\n",
        "        :param input_dim: the number of mel-spectrogram features\n",
        "        :param num_encoder_layers: the number of LSTM layers in the encoder\n",
        "        :param num_decoder_layers: the number of LSTM layers in the decoder\n",
        "        :param encoder_hidden_state_dim: the number of features in the hidden states for the encoder\n",
        "        :param decoder_hidden_state_dim: the number of features in the hidden states for the decoder\n",
        "        :param output_dim: the output dimension\n",
        "        :param encoder_is_bidirectional: whether to use bidirectional LSTM's in the encoder\n",
        "        :param encoder_dropout_p: the dropout probability for the encoder\n",
        "        :param decoder_dropout_p: the dropout probability for the decoder\n",
        "        \"\"\"\n",
        "        super().__init__()\n",
        "        self.encoder =  EncoderRNNT(input_dim=input_dim,\n",
        "                                    hidden_size=encoder_hidden_state_dim,\n",
        "                                    output_dim=output_dim,\n",
        "                                    n_layers=num_encoder_layers,\n",
        "                                    dropout=encoder_dropout_p,\n",
        "                                    bidirectional=encoder_is_bidirectional)\n",
        "\n",
        "        # The decoder takes the input <BOS> + the original sequence.\n",
        "        # You need to shift the current label, and F.pad can help with that.\n",
        "        self.decoder =  DecoderRNNT(hidden_size=decoder_hidden_state_dim,\n",
        "                                    vocab_size=num_classes,\n",
        "                                    output_dim=output_dim,\n",
        "                                    n_layers=num_decoder_layers,\n",
        "                                    dropout=decoder_dropout_p)\n",
        "        self.joiner = Joiner(joiner_dim=output_dim,num_outputs=len(tokenizer.char_map))\n",
        "\n",
        "    def forward(self, inputs: torch.Tensor, input_lengths: torch.Tensor,\n",
        "                targets: torch.Tensor, target_lengths: torch.Tensor) -> torch.Tensor:\n",
        "        \"\"\"\n",
        "        :param inputs: spectrograms, shape: (B, T, n_mels)\n",
        "        :param input_lengths: the lengths of the spectrograms in the batch, shape: (B,)\n",
        "        :param targets: labels, shape: (B, U)\n",
        "        :param target_lengths: the lengths of the text labels in the batch, shape: (B,)\n",
        "        :return: the output logits, shape: (B, T, U, n_tokens)\n",
        "        \"\"\"\n",
        "        encoder_outputs, _ = self.encoder(inputs, input_lengths)\n",
        "        decoder_outputs, _ = self.decoder(F.pad(targets,(1, 0), value=tokenizer.get_symbol_index(BOS)), target_lengths+1)\n",
        "        joiner_out = self.joiner(encoder_outputs, decoder_outputs)\n",
        "        return joiner_out\n"
      ],
      "metadata": {
        "id": "ovd_OawAi-k5",
        "trusted": true
      },
      "execution_count": null,
      "outputs": []
    },
    {
      "cell_type": "code",
      "source": [
        "transducer = RNNTransducer(\n",
        "    num_classes=len(tokenizer.char_map),\n",
        "    input_dim=80,\n",
        "    num_encoder_layers=4,\n",
        "    num_decoder_layers=1,\n",
        "    encoder_hidden_state_dim=320,\n",
        "    decoder_hidden_state_dim=512,\n",
        "    output_dim=512,\n",
        "    encoder_is_bidirectional=True,\n",
        "    encoder_dropout_p=0.2,\n",
        "    decoder_dropout_p=0.2\n",
        ")\n",
        "\n",
        "loader = data.DataLoader(test_dataset, batch_size=2, shuffle=False, collate_fn=lambda x: data_processing(x, 'test'))\n",
        "spectrograms, labels, input_lengths, label_lengths = next(iter(loader))\n",
        "result = transducer.forward(spectrograms, input_lengths, labels, label_lengths)\n",
        "print(label_lengths, input_lengths)\n",
        "assert spectrograms.shape == torch.Size([2, 835, 80])\n",
        "assert labels.shape == torch.Size([2, 158])\n",
        "print(result.shape)\n",
        "assert result.shape == torch.Size([2, 835, 159, 30])"
      ],
      "metadata": {
        "id": "PnC5EE33i-k6",
        "trusted": true,
        "colab": {
          "base_uri": "https://localhost:8080/"
        },
        "outputId": "7999a758-f46e-4b01-ca7a-d9f8b2b6db92"
      },
      "execution_count": null,
      "outputs": [
        {
          "output_type": "stream",
          "name": "stderr",
          "text": [
            "/usr/local/lib/python3.9/dist-packages/torch/nn/modules/rnn.py:71: UserWarning: dropout option adds dropout after all but last recurrent layer, so non-zero dropout expects num_layers greater than 1, but got dropout=0.2 and num_layers=1\n",
            "  warnings.warn(\"dropout option adds dropout after all but last \"\n"
          ]
        },
        {
          "output_type": "stream",
          "name": "stdout",
          "text": [
            "tensor([158,  42], dtype=torch.int32) tensor([835, 263], dtype=torch.int32)\n",
            "torch.Size([2, 835, 159, 30])\n"
          ]
        }
      ]
    },
    {
      "cell_type": "code",
      "source": [
        "for i in range(len(tokenizer.char_map)):\n",
        "    print(i, tokenizer.indices_to_text([i]))"
      ],
      "metadata": {
        "trusted": true,
        "colab": {
          "base_uri": "https://localhost:8080/"
        },
        "id": "wEHHsosSBiRN",
        "outputId": "c3301199-6888-4838-b0bc-db0685126111"
      },
      "execution_count": null,
      "outputs": [
        {
          "output_type": "stream",
          "name": "stdout",
          "text": [
            "0 '\n",
            "1  \n",
            "2 a\n",
            "3 b\n",
            "4 c\n",
            "5 d\n",
            "6 e\n",
            "7 f\n",
            "8 g\n",
            "9 h\n",
            "10 i\n",
            "11 j\n",
            "12 k\n",
            "13 l\n",
            "14 m\n",
            "15 n\n",
            "16 o\n",
            "17 p\n",
            "18 q\n",
            "19 r\n",
            "20 s\n",
            "21 t\n",
            "22 u\n",
            "23 v\n",
            "24 w\n",
            "25 x\n",
            "26 y\n",
            "27 z\n",
            "28 _\n",
            "29 <BOS>\n"
          ]
        }
      ]
    },
    {
      "cell_type": "markdown",
      "source": [
        "## Implementing a greedy decoder (10 points)"
      ],
      "metadata": {
        "id": "qBdlLxKni-k6"
      }
    },
    {
      "cell_type": "markdown",
      "source": [
        "<p style=\"text-align:center;\"><img src=\"http://drive.google.com/uc?export=view&id=1tHsoq0ZH0tHSHYlYlw00y8ksF-wHmrmC\">"
      ],
      "metadata": {
        "id": "RPZv4-Bdi-k6"
      }
    },
    {
      "cell_type": "markdown",
      "source": [
        "Now we know how to train a Transducer, but how do we infer it? Our task is to generate an output sequence $\\mathbf y$ given an input acoustic sequence $\\mathbf x$.\n",
        "\n",
        "Here we will index the encoder outputs $f_t$ starting from zero, because it is more convenient when describing an algorithm.\n",
        "\n",
        "The greedy decoding procedure is as follows:\n",
        "1. Compute $\\{f_0, \\ldots, f_T\\}$ using $\\mathbf x$.\n",
        "2. Set $t = 0$, $u = 0$, $\\mathbf y = []$, $\\mathrm{iteration} = 0$.\n",
        "3. If $u = 0$, set $g_0 = \\mathrm{Encoder}(\\langle s \\rangle)$. If $u > 0$, compute $g_u$ using the last predicted token $\\mathbf y[-1]$.\n",
        "4. Compute $P(y | t, u)$ using $f_t$ and $g_u$.\n",
        "5. If argmax of $P(y | t, u)$ is a label, set $u = u + 1$ and append the new label to $\\mathbf y$.\n",
        "6. If argmax of $P(y | t, u)$ is $\\emptyset$, set $t = t + 1$.\n",
        "7. If $t = T$ or $\\mathrm{iteration} = \\mathrm{max\\_iterations}$, we are done. Else, set $\\mathrm{iteration} = \\mathrm{iteration + 1}$ and go to step 3."
      ],
      "metadata": {
        "id": "wMhA58FEi-k6"
      }
    },
    {
      "cell_type": "code",
      "source": [
        "@torch.no_grad()\n",
        "def greedy_decode(model: RNNTransducer, encoder_output: torch.Tensor, max_steps: int = 2000) -> torch.Tensor:\n",
        "    \"\"\"\n",
        "    :param model: an RNN-T model in eval mode\n",
        "    :param encoder_output: the output of the encoder part of RNN-T, shape: (T, encoder_output_dim)\n",
        "    :param max_steps: the maximum number of decoding steps\n",
        "    :return: the predicted labels\n",
        "    \"\"\"\n",
        "    pred_tokens, hidden_state = [], None\n",
        "    blank = tokenizer.get_symbol_index(BLANK_SYMBOL)\n",
        "    max_time_steps = encoder_output.size(0)\n",
        "    t = 0\n",
        "    decoder_input = encoder_output.new_tensor([[tokenizer.get_symbol_index(BOS)]], dtype=torch.long)\n",
        "    decoder_output, hidden_state = model.decoder(decoder_input, hidden_states=hidden_state)\n",
        "\n",
        "    for _ in range(max_steps):\n",
        "        u = len(pred_tokens)\n",
        "        P = model.joiner(encoder_output[t], decoder_output).softmax(dim=-1)\n",
        "        token = int(P.argmax(dim=-1))\n",
        "        if token == blank:\n",
        "            t += 1\n",
        "        else:\n",
        "            pred_tokens.append(token)\n",
        "            decoder_input = encoder_output[t].new_tensor([[token]], dtype=torch.long)\n",
        "            decoder_output, hidden_state = model.decoder(decoder_input, hidden_states=hidden_state)\n",
        "        if t == max_time_steps:\n",
        "            break\n",
        "\n",
        "    return torch.LongTensor(pred_tokens)\n",
        "\n",
        "\n",
        "@torch.no_grad()\n",
        "def recognize(model: RNNTransducer, inputs: torch.Tensor, input_lengths: torch.Tensor) -> List[torch.Tensor]:\n",
        "    \"\"\"\n",
        "    :param model: an RNN-T model in eval mode\n",
        "    :param inputs: spectrograms, shape: (B, T, n_mels)\n",
        "    :param input_lengths: the lengths of the spectrograms in the batch, shape: (B,)\n",
        "    :return: a list with the predicted labels\n",
        "    \"\"\"\n",
        "    outputs = []\n",
        "    encoder_outputs, _ = model.encoder(inputs, input_lengths)\n",
        "\n",
        "    for encoder_output in encoder_outputs:\n",
        "        decoded_seq = greedy_decode(model, encoder_output)\n",
        "        outputs.append(decoded_seq)\n",
        "\n",
        "    return outputs\n",
        "\n",
        "\n",
        "def get_transducer_predictions(\n",
        "        transducer: RNNTransducer, inputs: torch.Tensor, input_lengths: torch.Tensor,\n",
        "        targets: torch.Tensor, target_lengths: torch.Tensor\n",
        "    ) -> pd.DataFrame:\n",
        "    \"\"\"\n",
        "    :param transducer: an RNN-T model in eval mode\n",
        "    :param inputs: spectrograms, shape: (B, T, n_mels)\n",
        "    :param input_lengths: the lengths of the spectrograms in the batch, shape: (B,)\n",
        "    :param targets: labels, shape: (B, U)\n",
        "    :param target_lengths: the lengths of the text labels in the batch, shape: (B,)\n",
        "    :return: a pd.DataFrame with inference results\n",
        "    \"\"\"\n",
        "    predictions = recognize(transducer, inputs, input_lengths)\n",
        "    result = []\n",
        "    for pred, target, target_len in zip(predictions, targets, target_lengths):\n",
        "        label = target[:target_len]\n",
        "        utterance = tokenizer.indices_to_text(list(map(int, label)))\n",
        "        pred_utterance = tokenizer.indices_to_text(list(map(int, pred)))\n",
        "        result.append({\n",
        "            \"ground_truth\": utterance,\n",
        "            \"prediction\": pred_utterance,\n",
        "            \"cer\": utils.cer(utterance, pred_utterance),\n",
        "            \"wer\": utils.wer(utterance, pred_utterance)\n",
        "        })\n",
        "    return pd.DataFrame.from_records(result)\n"
      ],
      "metadata": {
        "id": "o3tjfGsji-k7",
        "execution": {
          "iopub.status.busy": "2023-04-26T00:09:27.661372Z",
          "iopub.execute_input": "2023-04-26T00:09:27.661806Z",
          "iopub.status.idle": "2023-04-26T00:09:27.677204Z",
          "shell.execute_reply.started": "2023-04-26T00:09:27.661766Z",
          "shell.execute_reply": "2023-04-26T00:09:27.676132Z"
        },
        "trusted": true
      },
      "execution_count": null,
      "outputs": []
    },
    {
      "cell_type": "code",
      "source": [
        "model = torch.jit.load('files/model_scripted_epoch_5.pt')\n",
        "model.eval()"
      ],
      "metadata": {
        "id": "FIJtZpE3i-k7",
        "execution": {
          "iopub.status.busy": "2023-04-26T00:09:27.678929Z",
          "iopub.execute_input": "2023-04-26T00:09:27.679360Z",
          "iopub.status.idle": "2023-04-26T00:09:28.042718Z",
          "shell.execute_reply.started": "2023-04-26T00:09:27.679325Z",
          "shell.execute_reply": "2023-04-26T00:09:28.041496Z"
        },
        "trusted": true,
        "colab": {
          "base_uri": "https://localhost:8080/"
        },
        "outputId": "dd482a54-871a-44a3-c66c-6ffbcdafbc09"
      },
      "execution_count": null,
      "outputs": [
        {
          "output_type": "execute_result",
          "data": {
            "text/plain": [
              "RecursiveScriptModule(\n",
              "  original_name=RNNTransducer\n",
              "  (encoder): RecursiveScriptModule(\n",
              "    original_name=EncoderRNNT\n",
              "    (lstm): RecursiveScriptModule(original_name=LSTM)\n",
              "    (output_proj): RecursiveScriptModule(original_name=Linear)\n",
              "  )\n",
              "  (decoder): RecursiveScriptModule(\n",
              "    original_name=DecoderRNNT\n",
              "    (embedding): RecursiveScriptModule(original_name=Embedding)\n",
              "    (lstm): RecursiveScriptModule(original_name=LSTM)\n",
              "    (output_proj): RecursiveScriptModule(original_name=Linear)\n",
              "  )\n",
              "  (joiner): RecursiveScriptModule(\n",
              "    original_name=Joiner\n",
              "    (linear): RecursiveScriptModule(original_name=Linear)\n",
              "  )\n",
              ")"
            ]
          },
          "metadata": {},
          "execution_count": 23
        }
      ]
    },
    {
      "cell_type": "code",
      "source": [
        "loader = data.DataLoader(test_dataset, batch_size=5, shuffle=False, collate_fn=lambda x: data_processing(x, 'test'))\n",
        "spectrograms, labels, input_lengths, label_lengths = next(iter(loader))\n",
        "predictions = get_transducer_predictions(\n",
        "    model, spectrograms, input_lengths,\n",
        "    labels, label_lengths\n",
        ")\n",
        "predictions"
      ],
      "metadata": {
        "id": "mu-sVO4Hi-k8",
        "execution": {
          "iopub.status.busy": "2023-04-26T00:09:28.044136Z",
          "iopub.execute_input": "2023-04-26T00:09:28.044493Z",
          "iopub.status.idle": "2023-04-26T00:09:30.402956Z",
          "shell.execute_reply.started": "2023-04-26T00:09:28.044457Z",
          "shell.execute_reply": "2023-04-26T00:09:30.401824Z"
        },
        "trusted": true,
        "colab": {
          "base_uri": "https://localhost:8080/",
          "height": 206
        },
        "outputId": "a07fac37-cccc-4165-bb39-02520f75e856"
      },
      "execution_count": null,
      "outputs": [
        {
          "output_type": "execute_result",
          "data": {
            "text/plain": [
              "                                        ground_truth  \\\n",
              "0  he hoped there would be stew for dinner turnip...   \n",
              "1         stuff it into you his belly counselled him   \n",
              "2  after early nightfall the yellow lamps would l...   \n",
              "3                 hello bertie any good in your mind   \n",
              "4  number ten fresh nelly is waiting on you good ...   \n",
              "\n",
              "                                          prediction       cer       wer  \n",
              "0  he hoped there would be stew for dinner turnip...  0.132911  0.250000  \n",
              "1           stuffed into you his belly counciled him  0.142857  0.375000  \n",
              "2  after early night fall the yellow lamps would ...  0.096154  0.333333  \n",
              "3              her about he and he good in your mind  0.352941  0.714286  \n",
              "4  none but den fresh now as waiting on you could...  0.254237  0.545455  "
            ],
            "text/html": [
              "\n",
              "  <div id=\"df-f6cb39bc-800d-4035-9e13-2d2672758ff8\">\n",
              "    <div class=\"colab-df-container\">\n",
              "      <div>\n",
              "<style scoped>\n",
              "    .dataframe tbody tr th:only-of-type {\n",
              "        vertical-align: middle;\n",
              "    }\n",
              "\n",
              "    .dataframe tbody tr th {\n",
              "        vertical-align: top;\n",
              "    }\n",
              "\n",
              "    .dataframe thead th {\n",
              "        text-align: right;\n",
              "    }\n",
              "</style>\n",
              "<table border=\"1\" class=\"dataframe\">\n",
              "  <thead>\n",
              "    <tr style=\"text-align: right;\">\n",
              "      <th></th>\n",
              "      <th>ground_truth</th>\n",
              "      <th>prediction</th>\n",
              "      <th>cer</th>\n",
              "      <th>wer</th>\n",
              "    </tr>\n",
              "  </thead>\n",
              "  <tbody>\n",
              "    <tr>\n",
              "      <th>0</th>\n",
              "      <td>he hoped there would be stew for dinner turnip...</td>\n",
              "      <td>he hoped there would be stew for dinner turnip...</td>\n",
              "      <td>0.132911</td>\n",
              "      <td>0.250000</td>\n",
              "    </tr>\n",
              "    <tr>\n",
              "      <th>1</th>\n",
              "      <td>stuff it into you his belly counselled him</td>\n",
              "      <td>stuffed into you his belly counciled him</td>\n",
              "      <td>0.142857</td>\n",
              "      <td>0.375000</td>\n",
              "    </tr>\n",
              "    <tr>\n",
              "      <th>2</th>\n",
              "      <td>after early nightfall the yellow lamps would l...</td>\n",
              "      <td>after early night fall the yellow lamps would ...</td>\n",
              "      <td>0.096154</td>\n",
              "      <td>0.333333</td>\n",
              "    </tr>\n",
              "    <tr>\n",
              "      <th>3</th>\n",
              "      <td>hello bertie any good in your mind</td>\n",
              "      <td>her about he and he good in your mind</td>\n",
              "      <td>0.352941</td>\n",
              "      <td>0.714286</td>\n",
              "    </tr>\n",
              "    <tr>\n",
              "      <th>4</th>\n",
              "      <td>number ten fresh nelly is waiting on you good ...</td>\n",
              "      <td>none but den fresh now as waiting on you could...</td>\n",
              "      <td>0.254237</td>\n",
              "      <td>0.545455</td>\n",
              "    </tr>\n",
              "  </tbody>\n",
              "</table>\n",
              "</div>\n",
              "      <button class=\"colab-df-convert\" onclick=\"convertToInteractive('df-f6cb39bc-800d-4035-9e13-2d2672758ff8')\"\n",
              "              title=\"Convert this dataframe to an interactive table.\"\n",
              "              style=\"display:none;\">\n",
              "        \n",
              "  <svg xmlns=\"http://www.w3.org/2000/svg\" height=\"24px\"viewBox=\"0 0 24 24\"\n",
              "       width=\"24px\">\n",
              "    <path d=\"M0 0h24v24H0V0z\" fill=\"none\"/>\n",
              "    <path d=\"M18.56 5.44l.94 2.06.94-2.06 2.06-.94-2.06-.94-.94-2.06-.94 2.06-2.06.94zm-11 1L8.5 8.5l.94-2.06 2.06-.94-2.06-.94L8.5 2.5l-.94 2.06-2.06.94zm10 10l.94 2.06.94-2.06 2.06-.94-2.06-.94-.94-2.06-.94 2.06-2.06.94z\"/><path d=\"M17.41 7.96l-1.37-1.37c-.4-.4-.92-.59-1.43-.59-.52 0-1.04.2-1.43.59L10.3 9.45l-7.72 7.72c-.78.78-.78 2.05 0 2.83L4 21.41c.39.39.9.59 1.41.59.51 0 1.02-.2 1.41-.59l7.78-7.78 2.81-2.81c.8-.78.8-2.07 0-2.86zM5.41 20L4 18.59l7.72-7.72 1.47 1.35L5.41 20z\"/>\n",
              "  </svg>\n",
              "      </button>\n",
              "      \n",
              "  <style>\n",
              "    .colab-df-container {\n",
              "      display:flex;\n",
              "      flex-wrap:wrap;\n",
              "      gap: 12px;\n",
              "    }\n",
              "\n",
              "    .colab-df-convert {\n",
              "      background-color: #E8F0FE;\n",
              "      border: none;\n",
              "      border-radius: 50%;\n",
              "      cursor: pointer;\n",
              "      display: none;\n",
              "      fill: #1967D2;\n",
              "      height: 32px;\n",
              "      padding: 0 0 0 0;\n",
              "      width: 32px;\n",
              "    }\n",
              "\n",
              "    .colab-df-convert:hover {\n",
              "      background-color: #E2EBFA;\n",
              "      box-shadow: 0px 1px 2px rgba(60, 64, 67, 0.3), 0px 1px 3px 1px rgba(60, 64, 67, 0.15);\n",
              "      fill: #174EA6;\n",
              "    }\n",
              "\n",
              "    [theme=dark] .colab-df-convert {\n",
              "      background-color: #3B4455;\n",
              "      fill: #D2E3FC;\n",
              "    }\n",
              "\n",
              "    [theme=dark] .colab-df-convert:hover {\n",
              "      background-color: #434B5C;\n",
              "      box-shadow: 0px 1px 3px 1px rgba(0, 0, 0, 0.15);\n",
              "      filter: drop-shadow(0px 1px 2px rgba(0, 0, 0, 0.3));\n",
              "      fill: #FFFFFF;\n",
              "    }\n",
              "  </style>\n",
              "\n",
              "      <script>\n",
              "        const buttonEl =\n",
              "          document.querySelector('#df-f6cb39bc-800d-4035-9e13-2d2672758ff8 button.colab-df-convert');\n",
              "        buttonEl.style.display =\n",
              "          google.colab.kernel.accessAllowed ? 'block' : 'none';\n",
              "\n",
              "        async function convertToInteractive(key) {\n",
              "          const element = document.querySelector('#df-f6cb39bc-800d-4035-9e13-2d2672758ff8');\n",
              "          const dataTable =\n",
              "            await google.colab.kernel.invokeFunction('convertToInteractive',\n",
              "                                                     [key], {});\n",
              "          if (!dataTable) return;\n",
              "\n",
              "          const docLinkHtml = 'Like what you see? Visit the ' +\n",
              "            '<a target=\"_blank\" href=https://colab.research.google.com/notebooks/data_table.ipynb>data table notebook</a>'\n",
              "            + ' to learn more about interactive tables.';\n",
              "          element.innerHTML = '';\n",
              "          dataTable['output_type'] = 'display_data';\n",
              "          await google.colab.output.renderOutput(dataTable, element);\n",
              "          const docLink = document.createElement('div');\n",
              "          docLink.innerHTML = docLinkHtml;\n",
              "          element.appendChild(docLink);\n",
              "        }\n",
              "      </script>\n",
              "    </div>\n",
              "  </div>\n",
              "  "
            ]
          },
          "metadata": {},
          "execution_count": 24
        }
      ]
    },
    {
      "cell_type": "code",
      "source": [
        "reference_values = [\n",
        "    {\n",
        "        \"gt\": \"he hoped there would be stew for dinner turnips and carrots and bruised potatoes and fat mutton pieces to be ladled out in thick peppered flour fattened sauce\",\n",
        "        \"prediction\": \"he hoped there would be stew for dinner turnips and characts and bruised potatoes and fat much and pieces to be lateled out in the thick peppered flowerfacton sauce\"\n",
        "    },\n",
        "    {\n",
        "        \"gt\": \"stuff it into you his belly counselled him\",\n",
        "        \"prediction\": \"stuffed into you his belly counciled him\"\n",
        "    },\n",
        "    {\n",
        "        \"gt\": \"after early nightfall the yellow lamps would light up here and there the squalid quarter of the brothels\",\n",
        "        \"prediction\": \"after early night fall the yellow lamps would lie how peer and there the squalit quarter of the brothels\"\n",
        "    },\n",
        "    {\n",
        "        \"gt\": \"hello bertie any good in your mind\",\n",
        "        \"prediction\": \"her about he and he good in your mind\"\n",
        "    },\n",
        "    {\n",
        "        \"gt\": \"number ten fresh nelly is waiting on you good night husband\",\n",
        "        \"prediction\": \"none but den fresh now as waiting on you could night husband\"\n",
        "    }\n",
        "]\n",
        "\n"
      ],
      "metadata": {
        "id": "_Udw1t9ii-k8",
        "execution": {
          "iopub.status.busy": "2023-04-26T00:09:30.405795Z",
          "iopub.execute_input": "2023-04-26T00:09:30.406610Z",
          "iopub.status.idle": "2023-04-26T00:09:30.413098Z",
          "shell.execute_reply.started": "2023-04-26T00:09:30.406570Z",
          "shell.execute_reply": "2023-04-26T00:09:30.411994Z"
        },
        "trusted": true
      },
      "execution_count": null,
      "outputs": []
    },
    {
      "cell_type": "code",
      "source": [
        "for index in range(5):\n",
        "    gt = predictions.iloc[index].ground_truth\n",
        "    prediction = predictions.iloc[index].prediction\n",
        "    assert gt == reference_values[index][\"gt\"]\n",
        "    assert prediction == reference_values[index][\"prediction\"]"
      ],
      "metadata": {
        "id": "g7Pk9s7ei-k8",
        "execution": {
          "iopub.status.busy": "2023-04-26T00:09:30.414550Z",
          "iopub.execute_input": "2023-04-26T00:09:30.415092Z",
          "iopub.status.idle": "2023-04-26T00:09:30.541916Z",
          "shell.execute_reply.started": "2023-04-26T00:09:30.415053Z",
          "shell.execute_reply": "2023-04-26T00:09:30.540705Z"
        },
        "trusted": true
      },
      "execution_count": null,
      "outputs": []
    },
    {
      "cell_type": "markdown",
      "source": [
        "## Train your model (10 points)"
      ],
      "metadata": {
        "id": "rKCR9BdFi-k9"
      }
    },
    {
      "cell_type": "markdown",
      "source": [
        "Here you can launch training of the model you've just built. To get **4 points**, provide the curves for test loss, CER and WER from Weights & Biases.\n",
        "\n",
        "After training, you will get the test metric values on the hold-out test set. To get the rest **6 points**, try to pass the following thresholds:\n",
        "\n",
        "- 0.15 test CER\n",
        "- 0.3 test WER"
      ],
      "metadata": {
        "id": "MBEOtdeZi-k9"
      }
    },
    {
      "cell_type": "code",
      "source": [
        "!nvcc --version"
      ],
      "metadata": {
        "execution": {
          "iopub.status.busy": "2023-04-26T00:09:31.555934Z",
          "iopub.execute_input": "2023-04-26T00:09:31.556594Z",
          "iopub.status.idle": "2023-04-26T00:09:32.533996Z",
          "shell.execute_reply.started": "2023-04-26T00:09:31.556546Z",
          "shell.execute_reply": "2023-04-26T00:09:32.532706Z"
        },
        "trusted": true,
        "colab": {
          "base_uri": "https://localhost:8080/"
        },
        "id": "gzVTrGQCBiRQ",
        "outputId": "adcd4992-9fca-4113-cec7-8ea264c9d7a2"
      },
      "execution_count": null,
      "outputs": [
        {
          "output_type": "stream",
          "name": "stdout",
          "text": [
            "nvcc: NVIDIA (R) Cuda compiler driver\n",
            "Copyright (c) 2005-2022 NVIDIA Corporation\n",
            "Built on Wed_Sep_21_10:33:58_PDT_2022\n",
            "Cuda compilation tools, release 11.8, V11.8.89\n",
            "Build cuda_11.8.r11.8/compiler.31833905_0\n"
          ]
        }
      ]
    },
    {
      "cell_type": "code",
      "source": [
        "def train(model: nn.Module, device: str, train_loader: data.DataLoader,\n",
        "          test_sample: List[torch.Tensor], criterion: nn.Module, optimizer:\n",
        "          torch.optim.Optimizer, epoch: int, eval_period: int = 100) -> None:\n",
        "    \"\"\"\n",
        "    :param model: an RNN-T model\n",
        "    :param device: \"gpu\" or \"cpu\"\n",
        "    :param train_loader: training data loader\n",
        "    :param test_sample: a sample from the test set to log preliminary inference metrics\n",
        "    :param criterion: the loss function\n",
        "    :param optimizer: the training optimizer\n",
        "    :param epoch: the current epoch number\n",
        "    :param eval_period: the number of iterations between evaluations\n",
        "    \"\"\"\n",
        "    model.train()\n",
        "    data_len = len(train_loader.dataset)\n",
        "\n",
        "    for batch_idx, _data in tqdm(enumerate(train_loader), total=data_len):\n",
        "        spectrograms, labels, input_lengths, label_lengths = _data\n",
        "        spectrograms, labels = spectrograms.to(device), labels.to(device)\n",
        "\n",
        "        optimizer.zero_grad()\n",
        "\n",
        "        output = model.forward(spectrograms, input_lengths, labels, label_lengths)   # (batch, time, label_length, n_class)\n",
        "        output = F.log_softmax(output, dim=-1)\n",
        "\n",
        "        loss = criterion(\n",
        "            output,\n",
        "            labels,\n",
        "            input_lengths.to(device),\n",
        "            label_lengths.to(device)\n",
        "        )\n",
        "        loss.backward()\n",
        "        optimizer.step()\n",
        "\n",
        "        if batch_idx % eval_period == 0 or batch_idx == data_len:\n",
        "            wandb.log({'loss_train': loss.item()})\n",
        "\n",
        "            with torch.no_grad():\n",
        "                spectrograms, labels, input_lengths, label_lengths = test_sample\n",
        "                spectrograms, labels = spectrograms.to(device), labels.to(device)\n",
        "                predictions = get_transducer_predictions(\n",
        "                    model, spectrograms, input_lengths,\n",
        "                    labels, label_lengths\n",
        "                )\n",
        "                output = model.forward(spectrograms, input_lengths, labels, label_lengths)\n",
        "                val_loss = criterion(\n",
        "                  output,\n",
        "                  labels,\n",
        "                  input_lengths.to(device),\n",
        "                  label_lengths.to(device)\n",
        "                )\n",
        "                wandb.log({'loss_val': val_loss.item()})\n",
        "                clear_output(wait=True)\n",
        "                print('\\nTrain Epoch: {} [{}/{} ({:.0f}%)]\\tTrain Loss: {:.6f}\\tVal loss: {:.6f}'.format(\n",
        "                      epoch, batch_idx * len(spectrograms), data_len,\n",
        "                      100. * batch_idx / len(train_loader), loss.item(), val_loss.item()))\n",
        "                print(f\"cer: {predictions.cer.mean()}, wer: {predictions.wer.mean()}\")\n",
        "                display(predictions)\n",
        "                wandb.log({'cer_val': predictions.cer.mean()})\n",
        "                wandb.log({'wer_val': predictions.wer.mean()})\n",
        "                wandb.log({'val_predictions': wandb.Table(dataframe=predictions)})\n",
        "                if batch_idx % 5000 == 0:\n",
        "                  torch.save(model.state_dict(), f'model_epoch{epoch}_{batch_idx // 5000}.tar')\n",
        "                  wandb.save(f'model_epoch{epoch}.tar')\n",
        "\n",
        "\n",
        "def test(model: nn.Module, device: str, test_loader: data.DataLoader,\n",
        "         criterion: nn.Module, epoch: int, total_steps: int = None,\n",
        "         log_predictions: bool = False) -> None:\n",
        "    \"\"\"\n",
        "    :param model: an RNN-T model\n",
        "    :param device: \"gpu\" or \"cpu\"\n",
        "    :param test_loader: test data loader\n",
        "    :param criterion: the loss function\n",
        "    :param epoch: the current epoch number\n",
        "    :param total_steps: the number of test steps to perform. If None, the whole test set will be used for evaluation\n",
        "    :param log_predictions: if True, the predicted labels will be logged to the W&B dashboard\n",
        "    \"\"\"\n",
        "    print('Beginning eval...')\n",
        "    model.eval()\n",
        "    test_cer, test_wer, test_loss = [], [], []\n",
        "    test_predictions = []\n",
        "    if total_steps is None:\n",
        "        total_steps = len(test_loader)\n",
        "\n",
        "    with torch.no_grad():\n",
        "        for i, _data in tqdm_notebook(enumerate(test_loader), total=total_steps):\n",
        "            if i == total_steps:\n",
        "                break\n",
        "            spectrograms, labels, input_lengths, label_lengths = _data\n",
        "            spectrograms, labels = spectrograms.to(device), labels.to(device)\n",
        "            output = model.forward(spectrograms, input_lengths, labels, label_lengths)\n",
        "            loss = criterion(\n",
        "              output,\n",
        "              labels,\n",
        "              input_lengths.to(device),\n",
        "              label_lengths.to(device)\n",
        "            )\n",
        "            test_loss.append(loss.item())\n",
        "\n",
        "            predictions = get_transducer_predictions(\n",
        "                model, spectrograms, input_lengths,\n",
        "                labels, label_lengths\n",
        "            )\n",
        "            test_cer += list(predictions.cer)\n",
        "            test_wer += list(predictions.wer)\n",
        "            if log_predictions:\n",
        "                test_predictions.append(predictions)\n",
        "\n",
        "    avg_cer = np.mean(test_cer)\n",
        "    avg_wer = np.mean(test_wer)\n",
        "    avg_loss = np.mean(test_loss)\n",
        "\n",
        "    if total_steps < len(test_loader):\n",
        "        wandb.log({\n",
        "            'loss_test': avg_loss,\n",
        "            'avg_cer': avg_cer,\n",
        "            'avg_wer': avg_wer\n",
        "        })\n",
        "    else:\n",
        "        wandb.log({\n",
        "            'loss_test_final': avg_loss,\n",
        "            'avg_cer_final': avg_cer,\n",
        "            'avg_wer_final': avg_wer\n",
        "        })\n",
        "    if log_predictions:\n",
        "        wandb.log({'test_predictions': wandb.Table(dataframe=pd.concat(test_predictions, ignore_index=True))})\n",
        "\n",
        "    print('Epoch: {:d}, Test set: Average loss: {:.4f}, Average CER: {:4f} Average WER: {:.4f}\\n'.format(\n",
        "        epoch, avg_loss, avg_cer, avg_wer))\n",
        ""
      ],
      "metadata": {
        "id": "6wyqZtQ8i-k9",
        "execution": {
          "iopub.status.busy": "2023-04-26T00:09:32.536284Z",
          "iopub.execute_input": "2023-04-26T00:09:32.536857Z",
          "iopub.status.idle": "2023-04-26T00:09:32.559804Z",
          "shell.execute_reply.started": "2023-04-26T00:09:32.536819Z",
          "shell.execute_reply": "2023-04-26T00:09:32.558647Z"
        },
        "trusted": true
      },
      "execution_count": null,
      "outputs": []
    },
    {
      "cell_type": "code",
      "source": [
        "torch.manual_seed(7)\n",
        "if torch.cuda.is_available():\n",
        "    print('GPU found! 🎉')\n",
        "    device = 'cuda'\n",
        "else:\n",
        "    print('Only CPU found! 💻')\n",
        "    device = 'cpu'\n",
        "\n",
        "# Hyperparameters for your model\n",
        "\n",
        "hparams = {\n",
        "    'model': {\n",
        "        'num_classes': len(tokenizer.char_map),\n",
        "        'input_dim': 80,\n",
        "        'num_encoder_layers': 4,\n",
        "        'num_decoder_layers': 1,\n",
        "        'encoder_hidden_state_dim': 320,\n",
        "        'decoder_hidden_state_dim': 512,\n",
        "        'output_dim': 512,\n",
        "        'encoder_is_bidirectional': True,\n",
        "        'encoder_dropout_p': 0.2,\n",
        "        'decoder_dropout_p': 0.2\n",
        "    },\n",
        "    'data': {\n",
        "        'batch_size': 1,\n",
        "        'epochs': 10,\n",
        "        'learning_rate': 1e-4\n",
        "    }\n",
        "}\n",
        "\n",
        "kwargs = {'num_workers': 1, 'pin_memory': True} if device == 'cuda' else {}\n",
        "train_loader = data.DataLoader(train_dataset, batch_size=hparams['data']['batch_size'],\n",
        "                               shuffle=True, collate_fn=lambda x: data_processing(x), **kwargs)\n",
        "test_loader = data.DataLoader(test_dataset, batch_size=hparams['data']['batch_size'],\n",
        "                              shuffle=False, collate_fn=lambda x: data_processing(x, 'test'), **kwargs)\n",
        "\n"
      ],
      "metadata": {
        "id": "lOWGMWf9i-k-",
        "outputId": "491cde0c-8a8e-4592-fb33-e7c2b0feb71e",
        "execution": {
          "iopub.status.busy": "2023-04-26T00:09:32.561573Z",
          "iopub.execute_input": "2023-04-26T00:09:32.561983Z",
          "iopub.status.idle": "2023-04-26T00:09:32.576851Z",
          "shell.execute_reply.started": "2023-04-26T00:09:32.561943Z",
          "shell.execute_reply": "2023-04-26T00:09:32.575701Z"
        },
        "trusted": true,
        "colab": {
          "base_uri": "https://localhost:8080/"
        }
      },
      "execution_count": null,
      "outputs": [
        {
          "output_type": "stream",
          "name": "stdout",
          "text": [
            "GPU found! 🎉\n"
          ]
        }
      ]
    },
    {
      "cell_type": "code",
      "source": [
        "model = RNNTransducer(**hparams['model'])\n",
        "model.load_state_dict(torch.load('/content/model_epoch.tar'))\n",
        "model.to(device)"
      ],
      "metadata": {
        "id": "RPzsOxuai-k-",
        "outputId": "24cf3ac6-d378-4f27-d275-5b41c7aa89ea",
        "execution": {
          "iopub.status.busy": "2023-04-26T00:09:32.578782Z",
          "iopub.execute_input": "2023-04-26T00:09:32.579302Z",
          "iopub.status.idle": "2023-04-26T00:09:36.633877Z",
          "shell.execute_reply.started": "2023-04-26T00:09:32.579262Z",
          "shell.execute_reply": "2023-04-26T00:09:36.632903Z"
        },
        "trusted": true,
        "colab": {
          "base_uri": "https://localhost:8080/"
        }
      },
      "execution_count": null,
      "outputs": [
        {
          "output_type": "execute_result",
          "data": {
            "text/plain": [
              "RNNTransducer(\n",
              "  (encoder): EncoderRNNT(\n",
              "    (lstm): LSTM(80, 320, num_layers=4, batch_first=True, dropout=0.2, bidirectional=True)\n",
              "    (output_proj): Linear(in_features=640, out_features=512, bias=True)\n",
              "  )\n",
              "  (decoder): DecoderRNNT(\n",
              "    (embedding): Embedding(30, 512)\n",
              "    (lstm): LSTM(512, 512, batch_first=True, dropout=0.2)\n",
              "    (output_proj): Linear(in_features=512, out_features=512, bias=True)\n",
              "  )\n",
              "  (joiner): Joiner(\n",
              "    (linear): Linear(in_features=512, out_features=30, bias=True)\n",
              "    (relu): ReLU()\n",
              "    (softmax): Softmax(dim=-1)\n",
              "  )\n",
              ")"
            ]
          },
          "metadata": {},
          "execution_count": 49
        }
      ]
    },
    {
      "cell_type": "code",
      "source": [
        "wandb.init(project=\"speech-transducer\",\n",
        "           group=\"base-architecture\",\n",
        "           config=hparams)"
      ],
      "metadata": {
        "id": "0Y00qHnwi-k_",
        "execution": {
          "iopub.status.busy": "2023-04-26T00:09:36.635299Z",
          "iopub.execute_input": "2023-04-26T00:09:36.635677Z",
          "iopub.status.idle": "2023-04-26T00:10:52.240537Z",
          "shell.execute_reply.started": "2023-04-26T00:09:36.635622Z",
          "shell.execute_reply": "2023-04-26T00:10:52.239481Z"
        },
        "trusted": true,
        "colab": {
          "base_uri": "https://localhost:8080/",
          "height": 476,
          "referenced_widgets": [
            "bb6dc4ae4cb04080a0df7d0a98b3659e",
            "f604a2def5b9460d9875f5c158878c57",
            "091d461a4ef94c519ecacf7b0997e8a3",
            "2780c2c4666241fdadf6b10b1c9d1548",
            "d0ed800f562c49bfb782bf127657d2a6",
            "83ed41b847c04f138a8192f581b7316e",
            "6e3cb827f5e84dbaacb0e68d1efae067",
            "09b6239a5dff4dada19ab7d2294fd657"
          ]
        },
        "outputId": "94b6ab05-5d2a-466d-cd57-f979e096b34b"
      },
      "execution_count": null,
      "outputs": [
        {
          "output_type": "display_data",
          "data": {
            "text/plain": [
              "<IPython.core.display.HTML object>"
            ],
            "text/html": [
              "Finishing last run (ID:akh89vrl) before initializing another..."
            ]
          },
          "metadata": {}
        },
        {
          "output_type": "display_data",
          "data": {
            "text/plain": [
              "<IPython.core.display.HTML object>"
            ],
            "text/html": [
              "Waiting for W&B process to finish... <strong style=\"color:green\">(success).</strong>"
            ]
          },
          "metadata": {}
        },
        {
          "output_type": "display_data",
          "data": {
            "text/plain": [
              "VBox(children=(Label(value='0.661 MB of 0.661 MB uploaded (0.000 MB deduped)\\r'), FloatProgress(value=1.0, max…"
            ],
            "application/vnd.jupyter.widget-view+json": {
              "version_major": 2,
              "version_minor": 0,
              "model_id": "bb6dc4ae4cb04080a0df7d0a98b3659e"
            }
          },
          "metadata": {}
        },
        {
          "output_type": "display_data",
          "data": {
            "text/plain": [
              "<IPython.core.display.HTML object>"
            ],
            "text/html": [
              "<style>\n",
              "    table.wandb td:nth-child(1) { padding: 0 10px; text-align: left ; width: auto;} td:nth-child(2) {text-align: left ; width: 100%}\n",
              "    .wandb-row { display: flex; flex-direction: row; flex-wrap: wrap; justify-content: flex-start; width: 100% }\n",
              "    .wandb-col { display: flex; flex-direction: column; flex-basis: 100%; flex: 1; padding: 10px; }\n",
              "    </style>\n",
              "<div class=\"wandb-row\"><div class=\"wandb-col\"><h3>Run history:</h3><br/><table class=\"wandb\"><tr><td>cer_val</td><td>███████████████▁█▁██████████████████████</td></tr><tr><td>loss_train</td><td>▁▂▃▄▃▆▄▄▃▄▃▃▃▄▄▂▆▃▂▃▅▃▅▂▃▅▆▃▄▂█▃▃▇▄▂▁▂▃▁</td></tr><tr><td>loss_val</td><td>▄▃▅▇▅▅▃▄▁▃▃▂▅▃▄▃▄▃▄▃▂▄▄▂▄▆▆▇▇▇█▇▇▄▄▄▄▃▄▃</td></tr><tr><td>wer_val</td><td>▁▁▁▁▁▁▁▁▁▁▁▁▁▁▁█▁█▁▁▁▁▁▁▁▁▁▁▁▁▁▁▁▁▁▁▁▁▁▁</td></tr></table><br/></div><div class=\"wandb-col\"><h3>Run summary:</h3><br/><table class=\"wandb\"><tr><td>cer_val</td><td>12.25316</td></tr><tr><td>loss_train</td><td>26.65862</td></tr><tr><td>loss_val</td><td>43.60783</td></tr><tr><td>wer_val</td><td>1.0</td></tr></table><br/></div></div>"
            ]
          },
          "metadata": {}
        },
        {
          "output_type": "display_data",
          "data": {
            "text/plain": [
              "<IPython.core.display.HTML object>"
            ],
            "text/html": [
              " View run <strong style=\"color:#cdcd00\">easy-microwave-10</strong> at: <a href='https://wandb.ai/eksolodneva/speech-transducer/runs/akh89vrl' target=\"_blank\">https://wandb.ai/eksolodneva/speech-transducer/runs/akh89vrl</a><br/>Synced 5 W&B file(s), 189 media file(s), 100 artifact file(s) and 0 other file(s)"
            ]
          },
          "metadata": {}
        },
        {
          "output_type": "display_data",
          "data": {
            "text/plain": [
              "<IPython.core.display.HTML object>"
            ],
            "text/html": [
              "Find logs at: <code>./wandb/run-20230427_125428-akh89vrl/logs</code>"
            ]
          },
          "metadata": {}
        },
        {
          "output_type": "display_data",
          "data": {
            "text/plain": [
              "<IPython.core.display.HTML object>"
            ],
            "text/html": [
              "Successfully finished last run (ID:akh89vrl). Initializing new run:<br/>"
            ]
          },
          "metadata": {}
        },
        {
          "output_type": "display_data",
          "data": {
            "text/plain": [
              "<IPython.core.display.HTML object>"
            ],
            "text/html": [
              "Tracking run with wandb version 0.15.0"
            ]
          },
          "metadata": {}
        },
        {
          "output_type": "display_data",
          "data": {
            "text/plain": [
              "<IPython.core.display.HTML object>"
            ],
            "text/html": [
              "Run data is saved locally in <code>/content/wandb/run-20230427_134436-tx9esq22</code>"
            ]
          },
          "metadata": {}
        },
        {
          "output_type": "display_data",
          "data": {
            "text/plain": [
              "<IPython.core.display.HTML object>"
            ],
            "text/html": [
              "Syncing run <strong><a href='https://wandb.ai/eksolodneva/speech-transducer/runs/tx9esq22' target=\"_blank\">easy-tree-11</a></strong> to <a href='https://wandb.ai/eksolodneva/speech-transducer' target=\"_blank\">Weights & Biases</a> (<a href='https://wandb.me/run' target=\"_blank\">docs</a>)<br/>"
            ]
          },
          "metadata": {}
        },
        {
          "output_type": "display_data",
          "data": {
            "text/plain": [
              "<IPython.core.display.HTML object>"
            ],
            "text/html": [
              " View project at <a href='https://wandb.ai/eksolodneva/speech-transducer' target=\"_blank\">https://wandb.ai/eksolodneva/speech-transducer</a>"
            ]
          },
          "metadata": {}
        },
        {
          "output_type": "display_data",
          "data": {
            "text/plain": [
              "<IPython.core.display.HTML object>"
            ],
            "text/html": [
              " View run at <a href='https://wandb.ai/eksolodneva/speech-transducer/runs/tx9esq22' target=\"_blank\">https://wandb.ai/eksolodneva/speech-transducer/runs/tx9esq22</a>"
            ]
          },
          "metadata": {}
        },
        {
          "output_type": "execute_result",
          "data": {
            "text/html": [
              "<button onClick=\"this.nextSibling.style.display='block';this.style.display='none';\">Display W&B run</button><iframe src='https://wandb.ai/eksolodneva/speech-transducer/runs/tx9esq22?jupyter=true' style='border:none;width:100%;height:420px;display:none;'></iframe>"
            ],
            "text/plain": [
              "<wandb.sdk.wandb_run.Run at 0x7f6f64c07250>"
            ]
          },
          "metadata": {},
          "execution_count": 57
        }
      ]
    },
    {
      "cell_type": "code",
      "source": [],
      "metadata": {
        "id": "ynY18OeABiRT"
      },
      "execution_count": null,
      "outputs": []
    },
    {
      "cell_type": "code",
      "source": [
        "optimizer = optim.Adam(model.parameters(), lr=hparams['data']['learning_rate'])\n",
        "criterion = RNNTLoss(blank=tokenizer.get_symbol_index(BLANK_SYMBOL), reduction='mean')\n",
        "test_sample = next(iter(test_loader))\n",
        "\n",
        "for epoch in tqdm(range(1, hparams['data']['epochs'] + 1)):\n",
        "    train(model, device, train_loader, test_sample, criterion, optimizer, epoch, eval_period=50)\n",
        "    utils.save_checkpoint(model, checkpoint_name=f'model_epoch{epoch}.tar', path=snapshot_dir)\n",
        "    wandb.save(f'model_epoch{epoch}.tar')\n",
        "    test(model, device, test_loader, criterion, epoch, total_steps=20, log_predictions=True)\n",
        "\n",
        "utils.save_checkpoint(model, checkpoint_name=f'model.tar')"
      ],
      "metadata": {
        "id": "A6HlgxA9i-k_",
        "execution": {
          "iopub.status.busy": "2023-04-26T00:25:52.119716Z",
          "iopub.execute_input": "2023-04-26T00:25:52.120030Z",
          "iopub.status.idle": "2023-04-26T00:25:52.794820Z",
          "shell.execute_reply.started": "2023-04-26T00:25:52.119997Z",
          "shell.execute_reply": "2023-04-26T00:25:52.791094Z"
        },
        "trusted": true,
        "colab": {
          "base_uri": "https://localhost:8080/",
          "height": 344,
          "referenced_widgets": [
            "47f8fc01b4d547af8bb7031938638400",
            "25cc6524bd5c4c7385ab6d5b17feca58",
            "f14898f20c2240b9a09787efe6ba2e2a",
            "cc50bd8a359541a4a9bdda738760dcc1",
            "27d59d48934840b38c2f804d787a8dd3",
            "dca589e2b7cc455095df6fdfc58a57ba",
            "df229ebe8c6748398066095778ca9ac3",
            "1449b03dc71b4ce79c776ebbeb3d0ee6",
            "041f1125915c4f16842d92a5c2763c98",
            "866b897198ff421baf186707717c5cd0",
            "2ce0209c168e4141a209b819d7e6c860"
          ]
        },
        "outputId": "5e9442ba-9bfa-4a24-fafd-9eabcb137b0e"
      },
      "execution_count": null,
      "outputs": [
        {
          "output_type": "stream",
          "name": "stdout",
          "text": [
            "\n",
            "Train Epoch: 2 [6900/28539 (24%)]\tTrain Loss: 125.110359\tVal loss: 77.583054\n",
            "cer: 12.208860759493671, wer: 1.0\n"
          ]
        },
        {
          "output_type": "display_data",
          "data": {
            "text/plain": [
              "                                        ground_truth  \\\n",
              "0  he hoped there would be stew for dinner turnip...   \n",
              "\n",
              "                                          prediction        cer  wer  \n",
              "0  oooooooooooooooooooooooooooooooooooooooooooooo...  12.208861  1.0  "
            ],
            "text/html": [
              "\n",
              "  <div id=\"df-142b0733-7fa8-412c-a298-1a0f27ca7852\">\n",
              "    <div class=\"colab-df-container\">\n",
              "      <div>\n",
              "<style scoped>\n",
              "    .dataframe tbody tr th:only-of-type {\n",
              "        vertical-align: middle;\n",
              "    }\n",
              "\n",
              "    .dataframe tbody tr th {\n",
              "        vertical-align: top;\n",
              "    }\n",
              "\n",
              "    .dataframe thead th {\n",
              "        text-align: right;\n",
              "    }\n",
              "</style>\n",
              "<table border=\"1\" class=\"dataframe\">\n",
              "  <thead>\n",
              "    <tr style=\"text-align: right;\">\n",
              "      <th></th>\n",
              "      <th>ground_truth</th>\n",
              "      <th>prediction</th>\n",
              "      <th>cer</th>\n",
              "      <th>wer</th>\n",
              "    </tr>\n",
              "  </thead>\n",
              "  <tbody>\n",
              "    <tr>\n",
              "      <th>0</th>\n",
              "      <td>he hoped there would be stew for dinner turnip...</td>\n",
              "      <td>oooooooooooooooooooooooooooooooooooooooooooooo...</td>\n",
              "      <td>12.208861</td>\n",
              "      <td>1.0</td>\n",
              "    </tr>\n",
              "  </tbody>\n",
              "</table>\n",
              "</div>\n",
              "      <button class=\"colab-df-convert\" onclick=\"convertToInteractive('df-142b0733-7fa8-412c-a298-1a0f27ca7852')\"\n",
              "              title=\"Convert this dataframe to an interactive table.\"\n",
              "              style=\"display:none;\">\n",
              "        \n",
              "  <svg xmlns=\"http://www.w3.org/2000/svg\" height=\"24px\"viewBox=\"0 0 24 24\"\n",
              "       width=\"24px\">\n",
              "    <path d=\"M0 0h24v24H0V0z\" fill=\"none\"/>\n",
              "    <path d=\"M18.56 5.44l.94 2.06.94-2.06 2.06-.94-2.06-.94-.94-2.06-.94 2.06-2.06.94zm-11 1L8.5 8.5l.94-2.06 2.06-.94-2.06-.94L8.5 2.5l-.94 2.06-2.06.94zm10 10l.94 2.06.94-2.06 2.06-.94-2.06-.94-.94-2.06-.94 2.06-2.06.94z\"/><path d=\"M17.41 7.96l-1.37-1.37c-.4-.4-.92-.59-1.43-.59-.52 0-1.04.2-1.43.59L10.3 9.45l-7.72 7.72c-.78.78-.78 2.05 0 2.83L4 21.41c.39.39.9.59 1.41.59.51 0 1.02-.2 1.41-.59l7.78-7.78 2.81-2.81c.8-.78.8-2.07 0-2.86zM5.41 20L4 18.59l7.72-7.72 1.47 1.35L5.41 20z\"/>\n",
              "  </svg>\n",
              "      </button>\n",
              "      \n",
              "  <style>\n",
              "    .colab-df-container {\n",
              "      display:flex;\n",
              "      flex-wrap:wrap;\n",
              "      gap: 12px;\n",
              "    }\n",
              "\n",
              "    .colab-df-convert {\n",
              "      background-color: #E8F0FE;\n",
              "      border: none;\n",
              "      border-radius: 50%;\n",
              "      cursor: pointer;\n",
              "      display: none;\n",
              "      fill: #1967D2;\n",
              "      height: 32px;\n",
              "      padding: 0 0 0 0;\n",
              "      width: 32px;\n",
              "    }\n",
              "\n",
              "    .colab-df-convert:hover {\n",
              "      background-color: #E2EBFA;\n",
              "      box-shadow: 0px 1px 2px rgba(60, 64, 67, 0.3), 0px 1px 3px 1px rgba(60, 64, 67, 0.15);\n",
              "      fill: #174EA6;\n",
              "    }\n",
              "\n",
              "    [theme=dark] .colab-df-convert {\n",
              "      background-color: #3B4455;\n",
              "      fill: #D2E3FC;\n",
              "    }\n",
              "\n",
              "    [theme=dark] .colab-df-convert:hover {\n",
              "      background-color: #434B5C;\n",
              "      box-shadow: 0px 1px 3px 1px rgba(0, 0, 0, 0.15);\n",
              "      filter: drop-shadow(0px 1px 2px rgba(0, 0, 0, 0.3));\n",
              "      fill: #FFFFFF;\n",
              "    }\n",
              "  </style>\n",
              "\n",
              "      <script>\n",
              "        const buttonEl =\n",
              "          document.querySelector('#df-142b0733-7fa8-412c-a298-1a0f27ca7852 button.colab-df-convert');\n",
              "        buttonEl.style.display =\n",
              "          google.colab.kernel.accessAllowed ? 'block' : 'none';\n",
              "\n",
              "        async function convertToInteractive(key) {\n",
              "          const element = document.querySelector('#df-142b0733-7fa8-412c-a298-1a0f27ca7852');\n",
              "          const dataTable =\n",
              "            await google.colab.kernel.invokeFunction('convertToInteractive',\n",
              "                                                     [key], {});\n",
              "          if (!dataTable) return;\n",
              "\n",
              "          const docLinkHtml = 'Like what you see? Visit the ' +\n",
              "            '<a target=\"_blank\" href=https://colab.research.google.com/notebooks/data_table.ipynb>data table notebook</a>'\n",
              "            + ' to learn more about interactive tables.';\n",
              "          element.innerHTML = '';\n",
              "          dataTable['output_type'] = 'display_data';\n",
              "          await google.colab.output.renderOutput(dataTable, element);\n",
              "          const docLink = document.createElement('div');\n",
              "          docLink.innerHTML = docLinkHtml;\n",
              "          element.appendChild(docLink);\n",
              "        }\n",
              "      </script>\n",
              "    </div>\n",
              "  </div>\n",
              "  "
            ]
          },
          "metadata": {}
        },
        {
          "output_type": "stream",
          "name": "stderr",
          "text": [
            "\u001b[34m\u001b[1mwandb\u001b[0m: \u001b[33mWARNING\u001b[0m A graphql request initiated by the public wandb API timed out (timeout=9 sec). Create a new API with an integer timeout larger than 9, e.g., `api = wandb.Api(timeout=19)` to increase the graphql timeout.\n",
            "\n",
            " 24%|██▍       | 6901/28539 [38:29<27:17:50,  4.54s/it]\u001b[A\n",
            " 24%|██▍       | 6902/28539 [38:29<19:54:35,  3.31s/it]\u001b[A\n",
            " 24%|██▍       | 6903/28539 [38:29<14:30:35,  2.41s/it]\u001b[A\n",
            " 24%|██▍       | 6904/28539 [38:30<10:39:53,  1.77s/it]\u001b[A\n",
            " 24%|██▍       | 6905/28539 [38:30<7:59:53,  1.33s/it] \u001b[A\n",
            " 24%|██▍       | 6906/28539 [38:30<6:02:12,  1.00s/it]\u001b[A\n",
            " 24%|██▍       | 6907/28539 [38:30<4:39:34,  1.29it/s]\u001b[A\n",
            " 24%|██▍       | 6908/28539 [38:31<3:46:12,  1.59it/s]\u001b[A\n",
            " 24%|██▍       | 6909/28539 [38:31<3:09:23,  1.90it/s]\u001b[A"
          ]
        }
      ]
    },
    {
      "cell_type": "markdown",
      "source": [
        "К сожалению, у меня не получилось научить модель выводить что-то адекватное. Самая разнообразная строчка, которую я видела на тесте, состояла из 4 символов, но чаще всего выдавалось просто 'hhhhhhh...'. У меня было несколько идей как заставить модель выдавать более вариативные сэмплы:\n",
        "\n",
        "- Добавить diversity penalty: добавить температуру в софтмакс декодера, что то типа $exp(p_i)⟶exp(\\frac{p_i}{T})$ и, например, постепенно понижать её по мере обучения. Тогда бы самая высокая температура соответствовала сэмплированию из равномерного распределения, и мы бы постепенно двигались к нашему искомому\n",
        "\n",
        "- Добавить в декодер возможность выбирать не топ1 символ, а с вероятностью $ɛ$ какой-нибудь из топ-k символов\n",
        "\n",
        "- Добавить в лосс слагаемое $ɛ H$, где $ɛ$ маленький коэффициент, например 0.01, а $H$ - энтропия, которую надо максимизировать, чтобы зашумить модель и натолкнуть её на другой локальный минимум, чем просто вывод какого-то одного и того же символа.\n",
        "\n",
        "Но я в итоге пришла к выводу, что вероятность того, что вы дали задание, где надо что-то менять (даже гиперпараметры), чтобы обучить такую большую модель, приближена к 0, да и колаб не располагает к экспериментам с долгим обучением, поэтому максимум, который я пробовала из экспериментов - это поменять шаг оптимизатора. И пришла к выводу, что я что-то не так сделала в коде.\n",
        "\n",
        "По графикам лосса видно, что модель со временем училась (числа 6-9 в легенде по порядку совпадают с порядком запуска, и видно, что лосс всё таки уменьшался), но училась, видимо, чему-то не тому."
      ],
      "metadata": {
        "id": "X4ejPaqk4in-"
      }
    },
    {
      "cell_type": "markdown",
      "source": [
        "![image.png](data:image/png;base64,iVBORw0KGgoAAAANSUhEUgAABwwAAALpCAYAAACuWNJ8AAAAAXNSR0IArs4c6QAAAARnQU1BAACxjwv8YQUAAAAJcEhZcwAAEnQAABJ0Ad5mH3gAAP+lSURBVHhe7N0HnFx1uf/x75m6LdlN2ZaQsqmkkYTepCoK9oINC/Zy9aro/dtQvGIBBewNC4ioV1FEQWnSq7T0XnZTtyXZvjt9/uf3mzOzJRvYTd/M5+1rds/5nTNnyhZivnmex0m7BAAAAAAAAAAAACAv+bzPAAAAAAAAAAAAAPIQgSEAAAAAAAAAAACQxwgMAQAAAAAAAAAAgDxGYAgAAAAAAAAAAADkMQJDAAAAAAAAAAAAII8RGAIAAAAAAAAAAAB5jMAQAAAAAAAAAAAAyGMEhgAAAAAAAAAAAEAeIzAEAAAAAAAAAAAA8hiBIQAAAAAAAAAAAJDHCAwBAAAA4BC6865/6rSzztHr3/xW1dVt8VaR9cKSpfb9MTezDQAAAAA4/AgMAQAAAAAAAAAAgDxGYAgAAAAAAAAAAADkMQJDAAAAAAAAAAAAII8RGAIAAAAAAAAAAAB5jMAQAAAAAI6gHTt36tvXflcvf9WrddpZ5+iy975Pf/zTn9UTiXhn9DJr5tilb7/MnmvuY+67aXOt0um0d5a0Z88e3firX+uS173Bnmc+//TnN6q+vsE7Y+h27dqlyz/wYXudm357S7/HMXbW1+ttl73bHr//3w/YtVg8riefelqf/9KVuddlnoN5Tm1t7fYcAAAAAMDRg8AQAAAAAI4AE7z96+579PbL3qM7/nGnOjo67PrGjZv0/R/+WP/1yU9py9atds3o6enRd667wR7bum2bXTP3Mff9yMc/oeUrVti1Xbt368tf/Zp+fdNvtXv3HrtmPv/2d7fqvz/zWW3fvsOuDdWYMWO0eNFCu/3CkqXq7Oqy21m1tXWqq9uiqVOnaN68uWppadF/f/oKfeZz/08PP/Jo7nWZ52Ce03euu16dnf2vAQAAAAA4sggMAQAAAOAIWLV6tW74wY8Ui8V06ZvfpPvvvktPPfawbvzZjzV50iT3+Br95Ge/yIVr6zds0H33/1tFRUW64bvX2nMfffB+XfnFz+vdl71T8+fNs+c9++xzNtirqqrSLb/5lZ5+/BE9cO/d+thHPqT3vffdmjhxgj1vqPx+v1529lkKBAJauWq1tvYJMZPJpJ7+zzN2+9STT1ZlRYUNGF/z6kv0mksu1u9u/rWefPQhPfbwA/qfKz5jr/Hwo49pxcqV9j4AAAAAgKMDgSEAAAAAHGYmaLv3vn/b6rvZs2bq3e96p0aPHi2fz6eFJ5ygD3/w/fa8J558KheuJZMpJRIJhcNhFRYW2HPN9mtf82q9992X2WDPMOcYoWBQhUWFchxHJSXFuvw979YlF7/K7g/XjOnTtGjhCeru7nafz2pvVbaacMXKVTYIPPOM03PP4ZJXvVJXfukLmjVzpl0zz+XCC87TzBkz7PPLVkMCAAAAAI4OBIYAAAAAcJh1dHbaCkLDBITjx42z21mmtadp8WnCtXXr19s1E9qdduopNqT71BX/oy98+St65tnnFI1G7fGsxYsXaVpNjW1b+v4PfdTOOFy5apUNKffXqFGjdPJJJ9rt5194wQaHxtZt27Vh40YbBM6cMd2uGSbMTKVS9nF/+eub9NH/+qQufce7tGbtWns8kdj/5wIAAAAAOPgIDAEAAADgCCooKMhV5mWZtqPFRcV2u6srE86ZCsSrv3aV3vbWt9j9hx5+RJ/89BV646Vv013/ujsXCB43caK+d921Ov+8c+3cQzPj8AMf/pje+s532fahZnbicJmqxFNPOdk+rzVr1mrnznp7HXM9E2qaGYemFamRXTePZx73V7+5SUuWLsvNMgQAAAAAHH0IDAEAAADgCIpEIntV/5kKvq7uzOzC4uIi+9koLR2tKz7137rvX3fqu9d8S/PmztXu3XtsFeHDjzzqnSU7v/Cab16tu++8Q1/50hd03HETtX37Dl151f/a2Yn7o2bqVFtl2Lxrl60UNAGguZZpR2pmHGZDz/XrN+gb37rGPp55ft/+xtf1r3/cYW9mHwAAAABw9CEwBAAAAIDDrLioKNfCc9ny5dq1e7fdztq4cZPq6rbYMG72rFl2zVTuZecTFhYW6pyXna0ffO86nX3WmXZ97bpM61LTCjQbQJqqxNe8+hL99Ec/0PTp02zIV1tbZ48Nl6kuNC1RjZWrVmvT5lqtXrNWc46frZqaqXbdWLNunQ0VzeN9+5tf1wXnn6dx48bK53PscwMAAAAAHH0IDAEAAADgEDKhn2FmDXb39NjtYDCo177mEjsbcN36DfrdrX9Qe3u7DdRMgPijn/zMnnfWmWdowfz5dttU873tsnfrzrv+aVuNGmaeYUtLq93OViKaVqVvv+w9euLJpxSPx23Q2NDQmGttWlycaXW6PxadcILKx4+3QeEDDz5kKyHNcywrLfXO6GUer9V9bubxd+zcqau/dU1uhmFffr8v9x51dnbazwAAAACAw8tx/8/b8AdYAAAAAACGxIRkn/z0Z211n5nz94MbrtPsWTNtkHb3Pffq29+5TrFYzDu717y5c3TVV76sKZMn2+M/+NFP9Jfb/+Yd7W/ypEn67rXfVllZqb7xzWv02BNPeEf6My1Fv/G/V+XmDQ6XaZ/6rWu/o3vv+7fdN1WH5vWcsCATahp1W7bqfz7/RW3dts1byTBVhuFQWDvr6/Wed12m//rYR+x6fX2DPveFL9qqSuOG715rQ0gAAAAAwOHj/5rL2wYAAAAAHGRjx4xRQTisVavXqKurS2ecfpoNAR3H0YwZ03XuOefYFqI7dtbbYNCsmUDts5/5tMaPG2evYeYDmvuZ9qPm3PqGBnvuhOpqvfXSN+vzn7tC1dVVKigo0IUXnK9FCxfaxzLnmfOz1/zvT/6XrWrcX6YS0LQ/ffDhR+z+4kUL9ZY3v1HhUMjuGya0NAGiCQIbG5s0ZkyZ3vn2t+rKL37BBpWPP/GkFp5wgk495WR7fklJsUpLS7Vq1Wr7nOfOmaP58+fZYwAAAACAw4MKQwAAAAAAAAAAACCPERgCAAAAQJ75yc9+oVtu/b23t29VVVX6wfXf1dSpU7wVAAAAAMCxyOd9BgAAAAAAAAAAAJCHqDAEAAAAAAAAAAAA8hgVhgAAAAAAAAAAAEAeIzAEAAAAAAAAAAAA8hiBIQAAAAAAAAAAAJDHCAwBAAAAAAAAAACAPEZgCAAAAAAAAAAAAOQxAkMAAAAAAAAAAAAgjxEYAgAAAAAAAAAAAHmMwBAAAAAAAAAAAADIYwSGAAAAAAAAAAAAQB4jMAQAAAAAAAAAAADyGIEhAAAAAAAAAAAAkMectMvbBgAAOOalYh1qvv/dSidjqrjoVvkKxnpH8kf9318lpVOqfsO97p6TWRzE7kc/rZ7tD6j6TQ/LXzBOHat+peYHP+QdlQonv1LVr7/H20O+WP6tlUpGk1r0lRPkBPb9/ZNlzt38+zptv3uH4u1xhceHNfO901X98io5vpe+f1bj401advUKb0+qOrdSJ3xpvrd36ER3RfWfzzyn6e+q0cRXTvBWDw3z3qZTaS388oIX+9HEMebOdcv1YN1affjEl2lOebW3eujcvPRJ/WvDSm9PumTmfF2+6Exvb297erp03ZP3a3LpWH3gxLMU9Pm9IziaNT34f2q47xZN/8h3VFxz6H9XHinb/vI97XnmHs376p8UKCnzVg++jg1LtO76D2n2Fb/QqFkneasAAADHFioMAQBAXknF2hXbvULRXcvc7TZvdf9FdjyqLb+ZqLYXrvNWRgjH/DFwCImE43fPypxXPOvtmvSejfZWMPFcu3a4pFMJtS25QXU3jtXmHzn2Pe9Yc7M5kjkBB0W0Jaan/+sZrf/lBm9lcP6w+30xhLDQ2HxrrQ0LZ390ls79/dk2eNv0+1p1bO70zhia8lPG2/ubW/kZ473VwydQHPC2Di0boh4FYaENev9Qqwff+Ijue+UDeujSR1X7xzqlEinvjPz051XP6SN33aotrbu9lQNX27pLOzva1NjV4a0cWm+Ze5J+dPHbde3L36SJo186YNnd06WGzjbVtuxSPJn0Vo+8ZY3b9e6//UZvve3GvW4fuvN3auxs987MT521K9S52fx5Z4e3sv/irU1a9vlXqe53V3srRxdfuND948qhD7Ltn4fsn5+OvHQqqaaH/6znPnKSnrx0op55/3xtv/2HSifi3hkAAADDR2AIAACGLhVXsmOjku3r9u/m3tdc40gKlEzUxLc+q0nvXKHA6Bpvdf+lkxH3NSUUGn+Ct3Ls8gVLFCydbm+Ov8BbPTz2PPkFtfznKpUu+rQmvv0FFde8Rrse+YStejwcTGVcpDmy3zcTvowIybRi7mstnVPqLRyYRFdCe1a0asIrqjXhwipbXXjcqybqtB+crNEzRnlnDY0v7LP3Nzd/iAqnQ63uL1u15W/bdPwnZuuc352lmrdO0aY/1mr7nQcePryUWCqpLZ2tqu3Ys183c19zjUOhOx7T6HChxhWVeCsH7mMnn6ufv/oynTt1lrdyaJWEwqosGa3y4lEKDKFacObYCn3vlW/V/57/WhUFQ97qkTd59Fi9Z+EZev/is3K3y044TWMKi+yxsUXF3pmHTsr9fkvs3rHft3S0x7vSwVfz3q/p1F8v19iTL/JW9l86lVKifY9GzTzRW8ERlU5rx+0/Uu2vr1TFuZdq8Q8f06S3flZ7/nO3ort3eicBAAAMHy1JAQDAkEVqf6fudT9wt/b3jw+OimZ/SgU17/b2Rz4TWO167NOquuR2FU4+8L+UOxxsS1LXS7UTtS1JdzysCW98cK/WrUO9xsGQ6NymnX95mUpmX6axZ3zTW02r6f73Ktr0nCaYlqmFFd76wRfZFdXK76xSrDXmrQzfmBPGaM4nZnt7R6+2te16/ktLNO+KOao8e/D31LTNNIbSDjTbznPiqyZo+mUHHtBnDec5HKjsa5j9kZn7fE8OlsP5ul5MojuhF65cqrGLxmrGe6ZlFt1f+8u+ucJWQB7q5/fwzs16unGrt7d/Tq+crPMmeM/9IPrmY/9Sa6RHV537Ghu8jWSdsaj+95G7NK+8+kVbko4kz9dv1Q+ffkDvP/EsnTvl0AawyT07tesnH1WyfZe3MnwFc87S2Pd/19s7epl2nKu/8Q7N+Nj1Gnf6q73Vo4NpSdq67BHN/dLv3D8LDO8fogyHeQ/WX/9hzfrsjRo1c7G3emR01a3W2mveqynv+rLGn/2GzGI6rVQiLt9RFOoDAICRh8AQAAAMWWTzzepe/yNvb/8UzfqkCqZd7u29mLTal/9Urc9fq0TXDvlCpSpb/Fn17HzUPebkgqrBgqtUZI92/u0C+YuqcuvZtdiuZXY/NH7hoEGYYeYcmmq2jtW/ti1MfeExtrKt7OQvyfFl2hIOnOfXV/kFv9SoeR/09oYmGzya+3asvkmRHQ/b9YIJZ2v8Bb9SsDTzF9/Z11E48TyNO+f7ds2It23Szr+cpZKZb++znnkPW577lpJdO+3rGHPaVequ+5d7rPc9NLo232Gr+OKtG2z14OgFH1M60a1I/ZP7FRgO5T0cqp6t96npvnep/BW3qGhK5nGNzvV/0K6HP6HKS/6qwuPO91YPPlMhuOLaVbbKcH+VzSvT3E8d7+3t24Zfb1Tjk8065bsnKjy2N4ww8/vW/HCdTr52sUpqMpVNpnrPnL/z3w22gnGw2YAmAFz2jRVaeOUClR4/2q4Z5nqrblijk7612K5ng0JzzYGmv2dav7AvG2rNeN90rbxutdpWt7nfn0H7+irOKLfHsoFT66q92/7u63p9Q6js/QvGFwwaTh2sYK1za5dWf2+N2jd0KBVP2VarlWeXa+YHZig8LvP+5wLDD8+0/VnW/nS9Yrtj9n0zj19Q0Vtt29MU0aabN7nvb7P9mgRKAqo+t9Jer19LU/f/gTU83KgNv92knvoehcaENOtDM7Xr6V3mR7P3dbnn7X5+t9b+YoO6t3XbNrDjTxmn2R+bpULvcVf/YK3iHfF9zj0075X53rDPf4hS0ZSWfG2ZCioLNO9Tc+x1zetZ8tVlKppQNKTv5QPx4I5NeqZpm7e3f06tmKQLJk739vbN/J/huzes1B1rl6ot2iPzf49Hhwt04bQ5esucExX02hyaoHBZw3a73VdpQaG+cf7rbcVeVns0ot8seULP7qyzLTzN9d5w/CJdPHO+/H3aGfadJRgOBPS5My/Swsrj7P5A63Y36palT2lz6y6l3Oc4trBYb5i9UBfNmDfYl31IXiowNC09r3zo72qLZKrgFlYdpy+/7BK7PZB5fr98/jFta2+x+5NGj9GHTnqZZo+rtPuGeb2rmuv10ZPP0a3L/6O1uxoUcN+P18w+QW+dd/J+v44s87W84an7td19Dl8777UqDRdmDhwipkJw108+YqsM91d49mka98HveXuDM0HVpp9eoXFnvEY77/qlgqPHavpHr1PDvTfb2X2j552h2Z/9pfs7JvM9aAK0bX/KtEn3F43S3Cv/OGjA1b19vTb9/H/c//4vd3//xWxbz3GnvVpT3vUl93dS5uuWDQqT3Xu3y530ts9p0ls+Y7ebHr5NW353teZ+5Y8qnjrPrhnm/mu//R7N+OQPNGbxBd7q0JjWmjv+8TPV332TbYnq/odNBVVTNPmtn9P4s17v7me+Y7KB4cxP/tB9Dt9Qy/P3u78rw5r8ts+q+hL3z2LeeaaF567H77DnRxq2uMuO+2eHmZr67q+obOG5ufOMWEujvdbup+9S2v0ZHnPSy1V+7ltUd9NV/QJD875s+f031fTIX9zfm+7v8rFVmvyOz6v8nDe7T9ev7q1rtfba92nmp3486NxD8/5s/PGnNOcLv1VB9dD/UU39v36tXU/dechDUgAAkH9oSQoAAIbMCZS4Hw6gFaCZh2euMQQm6Nr95OdVNPViHfeOZTYU6tx4myL1T3hnDI+vYIyqXnvXS87fMy1GTTjVueFPqnjVnzTlQ7tUdtLn1fbCd22glpWd5zf2zGvkC422zy87388c6yveut59PT/e62bW+0mn1fLM1+ULFmvCpU/a4C/Wsk71d1yoRHudd9LQtfzna/Y5j57/EU1611p7vbYl31O08VnvjIzOdb+3r7nQfV/Me1316r+pe/PfbYi4P4b6HhqRhqf2fm9W/sIGnFmB0VPt906seYm3kuEvGG/+RlGJji3eyqHhC/rkDx/YH5uHOv+u6rxK9/UktPv5/n8B3bq6TUXHFdoAx0h0JrTkqmVqfma3rQZ82c1nasKF1Vr947V2zpz9m/NhGDWjRGf96nQt/vpCBUcHteDz83LzAqe8cZJ3Vq/u+h6t+PZKVZ5ZrlOuO1Gjakq0+vtrc3MJA4UBLbrqBJ3+41NtWDX1LZNf9HoHW2dtp+ofauh3a3y0qV/oa97Dld9drVBpSGf95gxdeMd5Ovk7J6pzS5eWXb1ir/DUXGPLbVs195PHa8EX5tnK01U/WJtrN5tOpe17H2uL65TrT7Kvdf5n52r3shYt+9bKfm1pt96xzX6tprxpsm33Oe/Tc+x996zIhC1ZJlRc8vXlKp01WmfeeJpO/MYi+94///kXbNBomODSrMU7M6/NzIdcfs1K+z2Q7EkquieqkimZ1ozpRFq7X9iz13tj1syxLNP+9bhLJqrhwUZtuGmTfS/q/rxFXdu7Nfl1gwdaB1PY75evz1/eD5e5r7nGULxQv1V/WvmsLqw5Xje+5l365WvfrdfNXqh7Nqy0oVbWJ0453879m1terZox43X9RW+x+9+64A0aX9z73zUTOn7z0X9pVdNO2y7TnHfqxBr9ccWzunXZf/r9aGZnCV624FRvZXD3blqtqx/5p31dV77sEn3rwjdoUeVx+p37/P644hnvLPd7tKNN92xctdfNrO8P87rM63upWYdLGrbpW4/d7b7nAX31nFfbm9k2a+ZYXyak/PF/HlJV8Wh96eyLtaByou5at9x+Hfpav7txr9dx/+Y1aunp9s7YW3NXhzbtabah66EOCw0nEJITOrD23L6iobV/NgFWpGmrFl57t4Kl47Tmmvdo9NzTNf8bf1f3ljVqX/2Ud6Y04dUf1Mm/eF7TP/Idb2Vvia52bfzxp93f9+O0+AeP6bTfrde8q25T9/Z1Wnfdh3IBYUnNfC3+/qM20AqMGqOZ//0je21zM4+TZQK3QHGpdj3xd28lo2fbOvfPX0Uqmtz7jwxMsLbn2Xu16/G/9bt1rO3/Z5Pmx+/Qzn/8XNM+8A2d9tu1OuXG51X+sjdp041f0K4n/+GdlZHoaNWGH37S/W/kFM3/+t809tRXassfrlHLkoe8M9z/btWttmHhhFd/SCf99Gktuv4Blc47U2uv+2C/80w4uep/36Z42y77/pp2n+a1m/afqWTvfxfMe7jm2svV8vwDtvLyxB8/qfJz3qLNv/yibRdq/kxnAkS/+73esz0zF9i0C1362QttUGiYxzLvj7m+YY4PfF/MbWCb0Y51zynsXtuEqWZ24VNvm6y133m/os17/6MGAACA4aDCEAAAHHUS7bXaeft5Kpz0cpVfaGbUZf7iOLLzcTXc+WqFq84YdoVhX+Y+ye6GQSvnOtbeot2PfELlL79ZxdPf5K1KzQ9+2Fa6TXjLYwqU9AYepjJwz9NXuutP2Nl+g9lXNWLfSsTsOcXT36zKS25zVzKv2Txmw7/epNKFn7LtOIdaYZh9D0tmv6tPG0+pa8Of1XT/e1Tg3t+8N6YS0ASSgZLJ/R432vS8u/4KBUZNHnaF4XDeQ9P2tG2ZaXPbywkWD2jxmlbTPe9QV91dKjvx/7mv8W2KNP5Hrc9c7b7ujftV0Xm0MqGNqQiLd8VteGcq3kyw9dwXl6j89PG5yry6v27V5t/X5ioEs0xYZMKok69ZrFHTRw25wjBrX+f3ZZ7frud268SrF9rKSaN7R7ee/dwLmnH5NE185QS7ZgylJemhqDA078OmWzZ7exkmtO37ek2Q9sxnnrcVhbM+ODP7rW+rBFORpIonZ0K27GsoGBe2gZ2pGjR23LtTG2/ebAPToolFdi2VSNnqzmyFpzHwPTWP++z/vGADualvnuydZSoJ92jJ/y5Txenl9nVlzyudPVrzr5hrqwuNnsaIDQzHLBpjq/9a17ZpxTWrtPhrJ9jqP1MZaF6DqVI13z+mKrDm7VNtZeK+Kj/L5pVmXltR/2C7/oEGrfr+Gvf3RMr9WoS1+OpFGjVtaP/oY6R4uG69fv3C4/rEaefrtIm936PLGrdratm4vYInU2lo7KvS7o8rn9W/NqzYq1rQVNc95D7WF89+lY4fX+WtZjxQu9YeH6zC0IRgX3vkLh03qswez1Y8Gk9t26y5FdW552iu84vnTBV+fx85+RwbiA401Jak2fPKCgr3et09ibi+7h5LpFL92rRm7xPw+fRVd70wELSv0YSfly88Q6+ckalCazKv7+E7ddKEKfrA4rPsmtG3+jLrpaow/7l+hf6y+nl9fpD3eCQz4dK66z+k2Vf8wlaprf/ex9zfS9s198t/UDLSpRVffp2mvveqvVqF7n76n9r4s88OWmEYa2nSyitfr7GnX6Kp77rS/f3n/be/ebsN9EzlXV/mObxUO84tv/+WnaE373//qtCYCqWTCftcnWBIs/77x7nHiO1psM85uqv/PNTxZ75Osz7zM29P2v63H6nh7ps072u3qXBC75+v2lY+qdHHn+L+TgzafRMCbv/L9zXj49fbwM5IdLZq1dffZgNB895Y6b1bdprnuPGnV9jqw+xz3HnnL9R4/62512HPc++39rvvV/vaZ3PvpznPPPbA99esmQrAeV/9k4qnzNW6Gz7i/ndjjKZ/5Fq1LHnQVhxOuexLmvDaj9iAtenB/9Pxn79JvlCB/Zqtc9/ngWa773v265vs6dDqb71bkR2bFBpX5b6+r9n12pu+aqsh53/tzwqWHdr22QAA4NhFhSEAADjqRJuX2iCreMal7l7vX7yHxs5VYPTQWzbtj+7auxQYNWWvKsTC485TKtqq+J413kpGovOl/zW3CbOmfTK9121gyOX4Au5rNgFb72sOV5ysYOkMG+ANh2ktmk70qGDCy7yVjHDlKfIVjPP2zF88NSnRsVWFk0yrsN7HDZbNUNBU9u2H4byHJtwc+L7UfLRzwDxIR+WvuFmj539UbUuu17Zbj9eexz9nX5u/eIINNY8VJhQy4Zqp1DNtMo2Ouk47P7Hi9PF231SNNT/VrDELyjR6Rv9WZNXnVcoX8GnXs7u9leExrS2Tsd5KuH0xj106u7cyxgRT5rmbqrujgQknL7r3wn63C24/t18IGh4T1qTXHaetd27X0594RvUPNthw1rT6zIaFfU282P1e88JCwwSQpmow3tFbcWLe+75hoVE0sdC2bI3sitj9SFPUBpJlc/tXFpXUFNvnlNW2rt2GlSaAzYaFRmFlgcrPLNeeJS2KtkTtvvl7+O6GHsXaY+4tLqXS6tjUab9Xku5jmbDPMIHgqTecvNd7Y9YGhoWmunH9Lzfo+I/P0snXnqhQWciGj+3r270zjg2Lqydp+thyff/pB2wYaCrdTBvRwarUIom4umP7nmXaHY9paf02TRtTbisR+zp/6mzbftO0KR0O0+qzPdpjW6T2DQuNMyZN6/ccTSj450s/vNdtsLDwYNm8p1k721t1zuSZ/WY6mm2zZo6Zc7IqikfptON6/zteFAyp2D23obN/iG0CzIGv43dvfP8+w8J4Kmm/dhNGldmg91hjqvfC4yd6e+7vr/HH2Xaj+ytUVq6qV12uhntu1rIvXKzmx263FXPh8uP2CguNRGeL++eyzO+wfRl/1huU6Om07UENEz521a6069mw0DBVdyf97BmdeduOfre+YaFhqgmD7vNc/oVXa/Mvv2Dbe5pgr3T+mbmwMMtUMI458eXenvtwpkrZ/dkw4WSO+xwGzvdz/AEbKprwMhnJVMh3blyqoilz7HuUZR5v1PG9lcAmqN3z3H0qnXu6SqYt8FYzyt3X63PPN+Ggecxi93jPzo32Pp2blqlo0my1Ln/Uvp899ZvdP+dNtmGhYULBge+LuQ02N9K0MJ33tb+678dZ9mZCRfMaWpZm3n8AAID9QWAIAACOOqnIbqVTMTnO4f+jipm3F9u9Ult+OV6bf+Tkbk33XqZ0eu/5biYAO2j84UybzT5MZZ+plEz1NLnPbeht5RJdO21r0IHvoZkF6S/s/UswExaaWYWOr/9fopnzfIX79y/Uh/seDoWZqzju7Os09SNtNlSc8sEmFdW81pQHyAkdW/N7xiwss1VcO/9d774+qenJZhUfV+TevLaS6bRtf5kN6frKrqWS+9dExARgfVtT7stgjz3iuE/fVPi97DdnauzCMVr/64166NJH9dwXltjZhgMNpa2sqexb+Z1VeuB1D+u+Vz5gbw+95VF1bOyd/2VCPhPimflZffkL/AqP61v5kna/7x37Xg9knov5HlBKChYHVVhdaAPmzrouFVUWavwp4+33jQlwzdfJzEgcDhNYr/vlBs380Ewdd/FEjV00RqfccJJGTS/R2p+vt5WKxwoTuF113mv1/868SMlUStc/db/e//ff6ifPPKyuWP8A3FTRxVL7DtTNbMGU+0Mb8vsV9PX/uhUEgvL5HPsYwxH1WiCa6rqjUSKdsq+5KLT395hZM8fMOVkhf0CBAe/NwWCCybrW3VpUNcm+13gJ7u8fU+F24o+esIHZllu/qWffP99W5ZnZhgOZqsNU8sXn+BZPmaOxJ71czY/cZs9vX/20rS7cV0XiSzEB6QnX/EszP/E99ezcpOVfuFjPffgkW9lnKv76MuGgCQlfjAkbmx/9q17477P15Fsn6clLJ9qbqcLMMqFerLXJ/TORe60Bv6MLqzOzpC33e9pczxcyj9v/ZzPzXIK2etEwMx1ju3ba8LJr03JVXfQeux1pqFPPtvUqmjTLnjdk7p/rzPMz7092bqVhgljTktW0KwUAANhfBIYAAOCoYyrgHMevVLz/X9qbENFUze3F/mXkwemybuYRhitP1aTLVudmEuZu71yhgonneGdm+ML7nus0bKnEXq/ZtCA17VNNeGdCvKyXCt4CxaYtpE/JyK7MgseEjsme3moPU53nBIr2qpQ055mQcn8M9z3cX9Gm5+x7EjzEVaeHmwmIJry8Wq0r29S5pVMty1pUfUGVnStnmKDJVLENFu5l13z+Pn/RaQJG9zYURyoItOHXwfkRHjYzY3HWh2fq3FvP1mk/OsVWc5oZhtGWfVeSDcbMTXzmM8/Zv2Q+4xen6aJ7MtV7ZpZhUXVvFZitInS/Pqaasy8TIkZ39z6mCQtNaNh39mGWmSloKxndbwnzfVFSU6KOTR121uWYE8ps+1Gz31nXqUBJ0M6UHI6W5S32+uMWZuZqGfb78hXV6trSpe4dg/weHsHMd/zi6sm2debNr79cl847SU/v2KxfvvB4v29L014z9CJhl5kx6HOvFksmbcVbX6Y6MWWCfvcaw2FmAZogsjWy79l9R5KpmjSvebDKS7NmjplzDrXljTvc9ymlhVWHfsbmscSETFPf81Wd/PPndMK3/2nn9q277sN2tl5fJgTz+V8iiHW//8vPfYsNwkzouOfZezT2lFcqWNr/H0INhwnGxp56sZ2veMqvV6jqondr6/99Rw33/dY7Y4jcnyHTstPcd/Lb/ken37ohV7035bIveieZf7hRrFBZhW1pOrCi0lQD5nihXSrWkwsGs0xYmk7Gc0FiYZX7ZxT3velY/4L7x7yYyhadZx+jbeUT7n8H9thKweEwz9GEhYM9RwAAgANFYAgAAI464fJFNojr2vAnd6/3r2sj9U8q0bnN28sIFFcr3rpOifbeNm+xPavtDL/9UTT5Ffa+qWSPnUnYe5smf8kkmUq3vgIlxymdjNrWnlnplPnLo+GnH+Y63XV3ma3MgivS8LT7fDaraMor7b6Z7+cLlyra+IxM29asSP0TtjIzKzh2nvyF49S57o/2ulnRxmf7necvqlSwbKa6Nt9hw8mseOtGxfu8p8Mx3PdwKNKpuL1lma935/o/2LanpgLzWDPupMzMyLo/b1GiJ5mbFWj4C/0qP6NcLSta1bauT9Wp+21j2mqaOXomMDKCo0wlmmyQlOOeZ2YQDiY4KvMXwn3DrEMd5pnArqO201beZfXU96hr26ENSOJtcfv+mvfLcmRbvE5/V437OyRq24EOR+OTzTZkm/m+6ZmA0Mtddy9rUU9z71/qmmPhspDqH2roF/h21nb1ew/M7ELz3my/e0fvc3R1u+9N0xPNGrt4TK6Faems0ere3q3Wla0qPb5UJVOLlehOqv7hRttiNRs2D5X5HjMBZqytfwhk3jNfyK9A0cGvEDtSnq/fqgdr13p77s+A36/XzV5oZ+DVd7SpJ977HpjKNVM1Z4IwEwBmZcNB015zUfUkbW5p1srG3vls5qv8YK373yn3h/GUCcNr9Tx7XKXKCor0r/Ur1RbtH9TuaG+17VOPpGljyzVhdJke2bK+3/Mz22bNHDPnHErma/H09s22Henk0v7zdjE4E1Tt+PtPeyv1nEzrzEmXXmHDwmjfVp4uM4PPMK1Js0yFnQni+iqZdoIKqqZq++0/Uve29Rpz4oXekeHb/dRd/arl/IUlmvDaD9vn2blpubc6NLGWRrU8d78qLni7xp/1evf3WObPIaYN655n77PbWaPnnm5bh3Zt6W2fbt6njrXPeHuZ0G7syRepbfXT6tywxFt1ue+Hae9qZiWOWWxavbu/U0rHu7dx7uPfZ7dN2DdqzqlqeuQ2JTpaFB7XO/d3qEoXvCzzHDev8FYysyEjjVs0avbJ3goAAMDwERgCAICjjplTOGrO5era9Fc13PV69Wx/SC3PfkO7HvqId0avklnvUCraot2Pf9a2wezZep92P/opWzXXlwnxTMgUb9sk06rTVCvGO+rsWibgyyie/mb7+A13vlbtK35qzzeVbA13vUH1d7xcAyscQ+MWyPxL89bnrrGPb+6z48+nKLar9y9xhsrMMOza9Dc1//t99nW0Pn+N3TYzDEtmX5Y5xx9Wycy32cdqefrLiresU8faW+y5fasdAyUTVbroCvVsu1+N/3qTfQ/bln7PfZ8+Z59vli9YorKTv2QDvvo7L1F37Z32ek33v9u+R32ZQNG8H7n30L1l9/uGjcN9D1+KCTyb7n6rGv7+Snsd81oa/vl680VV2eLeVmLHkvDYsCrOGK+dDzTYirG+FWrGca+cYNuWLv/2KjtrzgRsG27apNrbtmjKGya5xzJtWgsrC22wtPVv29T89C5FmiLadOtmta9rlz+09/8VyIZZW/661VbM7Vnaouf+5wW1rDqIrXcHqDqnUvHWmDbevNm+jra17Vr78w0KFPQPpUwbTBPimZuZs2hu2f39aZG56/nd2nDzJi29arkNX811zHu06dZa+/6Z2YPDYYI5E7A1Pt6keHvcVihu/cd293Vt8s7IMPMMp72jxp638rrVtpXozvvrteYn62zgmGW+B2a8a5ptLbr6e2vVtbXLfj2W/u9y+yM87W1T3Z/lzLlFE4vs7MJEJGmftwkSSyYXu6+rpd/cxqEat3isgqODWnr1CvvczPeCCVdN29bxJ4+131fHAtMe9O4NK/XrJU/oF889qk0tzdrWtkd/XPms1u1q1PyKCTYE7MsEiVvcc+7ZuMqe+8vnH9MNT96fCw0vmTlfE0rK9NNnH9G9m1bnzvn35jW6YOpszXbvn9UW6VFjZ7s6oxH391nvft8wsrx4lA0wt3e06CsP/l13rF2qJ7Zu1Pee+re+8O/b9WDdOu/Mocs+TnNXhxLu8+5xH8/sD3xsE0Y2uedkzzP75pzdPV25f0NQGAjqrfNOVnN3p77z+L1a1bTT3sy2WTPHzDmH0lb3Pd7Z0Uo7Uk+iq82GR6YCzXyhEu277X7farTWpQ9r6x+v1Zpr32dbh5rje567X9tuu0HFU+eqcEDVW0HVFDtPcOddN9pZgqY6btXXLlV7nxDNMJWI5edeqj3P3mvnIZoAcX8kuzu04x8/15pr3msf0wRhPds3aNtfvm8f31QuDocvXGTDutYlD9n7m+t3bl6uDT/65F4tWMef/UY7w3D99R9W08O3Zc77yWfUuan/n+sqLniHbTe6/vsf164n/m6f45Y/XGOD2AmXfFDFU+ba88ysyYKqGm/m4Rnu723HtoE1lZgyVctjh/+Pnsad9ir7dco+tvl6rHOfr2lJOtz3BgAAoC//11zeNgAAwFGj8LjzbCVd1/o/qn3lL2Sq7Mae/nUbPpmQa9Tx77Ln2aq1okp1rL5JbUuuU2Tno+55V2fabqYS3nmODcR2/uVMtT73bSU6tijVs0sdK29U54b/U/GMN8tfkKlKcAKFKpn5dqXjHe71brBBXOeamxUorlL5+T+Tv7janpdlgjnbasp9/PZlP7QVfCbQM/P1TLg3VLHmF9S97d8a/7Ib3NfwuH3cyI5HVTTlVap45R/k7zNPMFS+2IZ1Hat+aUPAeMtajT/HPPYz8rvPp2jqJfa8cOUp8ofHqnPjbWpf/mP3vDUae9Y1SnbXu0/Zn3tvTIVhcOwcW91oAr7I9odVduJn7XuS7NqhkjmXyxco0p4nv6im+y6zr9O8h+Zmts3NhHrmuRrDfQ9figlSTevUrg1/dr9+31LXut8rNOZ4Vb7q/xR0Px+rQqVBNT/ZrKlvmaLiSf0DcF/Ip8qzKmwAuPn3dar761b1NPbo+A/P0qTXH5cLnsznsQvG2PaUm/9Qp61/367iiUWa4l6z+T+7VPmyChWU91Z8mjl6JjTcfu9OGxA1P7NL404ep+pzK+1jGo2PZappzX2zkt1J7XDvYyr0xp7Q28ZyX+t9FYwLq+i4IhuumefYsrJVsz4wQ/HOhK3Aq3pZpfk2Va37fJZctUxbbt9qq+nMzWybmy/s3+f192XU1BKNmVeqPctaVPt/7nt42xZbeVl+yjjNu2KO+/2aaSeXfQ3j3ffBhHBZJsBrfmqXJlxYrYLxYRVPKZbP57Nh68ZbNmv7nTtshefUS933+uldqjijPHf/Evexi6qLtPOBevs+m5mJx39slg0azdcs+5rNeaZ6cMd99fbrbMJhU3m44IvzVVjVG9qZ9qWNjzapbE6pDWDNNUyF4J4lLZrypsn9vsZDYV67qWLt3NSprXdsc79vttn2plPeOEkzLp+e+14Y6UwL0VMmTrWhytM7anXX+hW6b/MaW1n4pjmL9aa5i+05fU0pHastrbt1v3ueOTeSjOs1s07QJHfdnGkCq9OOq9GOjlbdvXGle1ulXd2dts3pm+ee2O96Zl7iTUuf1IqmHUqmU3pmR529T0XJaE0b09vGccbYcs2vmKi1zQ16fNtG+1y7E3G91b3mRTPm2ccdjuzjmhCzIxqxs/8yz7X/Y69s3qmvPXynDUfNeSYANOesbNqpMydNt/MIjeqSUs0tr7bP/871y/XIlg0qDoX16dMvtKFr1tKGbfYa502dlbuvad9qKhHN+3bOlJl2bbie3LZZK5p36LWzF6rKff7HGhPmmeq08nPcP6sUlmj30/+06+POeI37Z51ONT34R9vmsui4zCy8jT/5jJ3L1/L8/e7v0Jh2PX6HDd2Ka+bnzimefLxGH3+K2lc9oR1/+5F2/P1nal36oMaceIFmfOx6G3L15Q8X2jDKPJYJxFpe+LfKFp6nclOtF+z/Z51gabl9vuPPfoOt1tsf5prjz3ytUtFuNd5/q7b/9Qfu59/ZoG/GR76rsSe9wv3Fl/nON4GnCevKX/am3HMxr7v5sb8pUDjKvk8+9/txlPt6zXuy/bYbbAWkCdmOe8MnlI5F7PuYvb8517yfkfrN2vn3n7iv+f80ataJtrrRBI7jz3qdrQo054077RJFd223QaaZrRht2qqp771KVa+63P093Pt7MrZ7p/tnsaU67k2ftMGl+Tqa52Le04pz35J7LUNlnmfZwnPVVbdSO//xM+167Hb3z12LNePjNyg4OtNhAAAAYH846aEONAEAADjCTBXbzr9dYFtQVr/+Hm/12NCx6lfa9dinVXXJ7SqcfJG3inxmwiET1pz4jUUKlAxvBh0AAEdCx4Yl2vTTK3T852+y7UkBAAAwchwb/zQUAAAAGOGS0aQ23bLZtn9sXdVq22VWnVtJWAgAOHql09pxx4/VsfZZ2+6z7uarNHruabZ6DgAAACMLgSEAAABwFDCtLztqO/XUx5/RC1cus3MKj3vtRO8oAABHHzMbMdq8Q6u+/lYt/8LFdrbelHddOew2mwAAADjyaEkKAAAAAAAAAAAA5DEqDAEAAAAAAAAAAIA8RmAIAAAAAAAAAAAA5DECQwAAAAAAAAAAACCPERgCAAAAAAAAAAAAeYzAEAAAAAAAAAAAAMhjBIYAAAAAAAAAAABAHiMwBAAAAAAAAAAAAPJYXgSG9V88T7t++jGlk3FvBQAAAAAAAAAAAICRNxWGiYZNUjrt7QEAAAAAAAAAAAAw8iIwDE6YrlSky9sDAAAAAAAAAAAAkJUXgaG/rMr96Ci6eYmUTmUWAQAAAAAAAAAAAORHYBionik5jpItDRJdSQEAAAAAAAAAAICc/GhJWj1DjuMo1dLo7pEYAgAAAAAAAAAAAFl5ERg6hSXmo21JmqYlKQAAAAAAAAAAAJCTF4FheNoiryVpIwWGAAAAAAAAAAAAQB95ERga/jGVSrbRkhQAAAAAAAAAAADoK38Cw7Jq96Oj+M6NUprQEAAAAAAAAAAAADDyJjAMTJhh25KmIh3uHoEhAAAAAAAAAAAAYORNYOgrKLGf45uXUWEIAAAAAAAAAAAAePImMAxNWyTH8dkKwzSBIQAAAAAAAAAAAGDlT4VhYYkZYcgMQwAAAAAAAAAAAKCPvAkMg9Uz3I+Oki2N7mcCQwAAAAAAAAAAAMDIm8DQ8I+pVLKtkQpDAAAAAAAAAAAAwJNfgWFZtfvRUbyetqQAAAAAAAAAAACAkVeBYWjaIslx1PaXa5VOxr1VAAAAAAAAAAAAIH/lVWA46uWXK3TcLMUbNqnr8dukVNI7AgAAAAAAAAAAAOSnvAoMjVGv/qQcf0CxzUuVTqe8VQAAAAAAAAAAACA/5V1gGKyeITk+pSKdEmMMAQAAAAAAAAAAkOfyLjD0FZbYz7HaZRIVhgAAAAAAAAAAAMhzeRcYGsHq6ZLjeHsAAAAAAAAAAABA/srLwNApMFWGjqKbl1JlCAAAAAAAAAAAgLyWl4FhqGaRrTBMM8cQAAAAAAAAAAAAeS4vA0Mzx9BxHCXqN7l7JIYAAAAAAAAAAADIX3kZGAaqZ9gKw2RLvdJpAkMAAAAAAAAAAADkr/wMDMdWuR8dJVoapHRaqZ7OzAEAAAAAAAAAAAAgz+RlYOgvq/IqDBvdvbS6nviLlEpmDgIAAAAAAAAAAAB5JC8DQ8NXUKJka6bCMF63TOlUyjsCAAAAAAAAAAAA5I+8DQwD1dMlx2dDw+imJVKawBAAAAAAAAAAAAD5J28Dw6ye5+9VOpVUdPNSQkMAAAAAAAAAAADknbwNDEM1i+wcw/jODe5eWulIp/kEAAAAAAAAAAAA5JW8rzCMrHlCSqWUqN/k7pEYAgAAAAAAAAAAIL/kbWAYnDBDjtP78k2lYZqWpAAAAAAAAAAAAMgzeRsYOgUl7gdvx5VsbZTSVBgCAAAAAAAAAAAgv+RtYOgrLHE/9iaG8fqNBIYAAAAAAAAAAADIO/nbkrR6huT0KTF0JVsbCA0BAAAAAAAAAACQV/I2MOzLX1Zpw8PEngZ3j8AQAAAAAAAAAAAA+SOvA8NQzULJ8ck/psrdcxSvXaZ0KpU5CAAAAAAAAAAAAOQBKgxdJRdeLsfvVyrS4a0AAAAAAAAAAAAA+SGvA8PghBn25isa7e45iu/cKKWpMAQAAAAAAAAAAED+yOvA0AmX2HakJjQ0MwwBAAAAAAAAAACAfJPXgaF/rAkLZ8lxMm9DrHYZFYYAAAAAAAAAAADIK/kdGJZVKTRtka0uDFZPp8oQAAAAAAAAAAAAeSevA0NfYYkCY6vdLUdOQYn9nGxpkNJpexwAAAAAAAAAAAA41uV1YBisniH/mGpbWegzgaEjJUxgKAJDAAAAAAAAAAAA5Ie8Dgz7ClTPcD/SkhQAAAAAAAAAAAD5hcBwgNjmZUqnUt4eAAAAAAAAAAAAcGwjMPQEJ8yQ4/B2AAAAAAAAAAAAIL+QkHkcb4ZhqpUZhgAAAAAAAAAAAMgfBIYeX2GJ+9FRoqVBShMYAgAAAAAAAAAAID8QGHqC1TMkx/H2MqKbl0pp5hkCAAAAAAAAAADg2EVgOECsdlkuJIy8cK+7mbTbAAAAAAAAAAAAwLGIwLCPYPX0flWGpj1pdNMSqgwBAAAAAAAAAABwzCIw7MNfVmUDw2wr0mRro5L1G5lpCAAAAAAAAAAAgGMWgWEfgeoZchyfkq0NNiRMehWG6RQVhgAAAAAAAAAAADg2ERj24R9b5X50lNzTqFRPp7udVqyud6YhAAAAAAAAAAAAcKwhMOwj25I0VrtUsR3rbJWhCQ6TLfW0JQUAAAAAAAAAAMAxicCwj/C0RZJpSdrS6O71BoTR2sxMQwAAAAAAAAAAAOBYQ2A4gH9MpZJtjYpt6g0J45uXKU1gCAAAAAAAAAAAgGMQgeEAti2pHCXqN+ZCwujmZVKKwBAAAAAAAAAAAADHHgLDAUxbUsfnU2TNE7mQMNnaYGcZ9m1TCgAAAAAAAAAAABwLCAwHCFRPlxzH25MK5pzlvks+xes3SCkCQwAAAAAAAAAAABxbCAwHCE6YITm9b0vIVBy6+zHmGAIAAAAAAAAAAOAYRGA4gJlh6CsosdvB6ukKTJhpA0Qz01AEhgAAAAAAAAAAADjGEBgOIlCdqTJ0CkrsTEOzHatblptpCAAAAAAAAAAAABwrCAwHYUJCx+dTYEyVnWcYrJ6mVKRLydYGKc0cQwAAAAAAAAAAABw7CAwHEaxZaKsKfWVV7p5j5xia/fhO2pICAAAAAAAAAADg2EJgOIigbUnqyFdY4n5y7FxD8zlev0lpKgwBAAAAAAAAAABwDCEwHIQJCv1jqhSYkAkOszMNE/UbqDAEAAAAAAAAAADAMYXAcB+C1dPlKxztbpkZhpngMNnayAxDAAAAAAAAAAAAHFMIDPchWD1TwQkzc61JTcVhvGEzFYYAAAAAAAAAAAA4phAY7kOwZqEcX+/bY+YYmmpDM8eQ0BAAAAAAAAAAAADHCgLDfQhPW2TnFmaZfRMgJlsa9mpLmmxtUHTzEilFkAgAAAAAAAAAAICRhcBwiHxjKm17UlNhmGyp7xcQRlY/oa7H/6x0MmH3AQAAAAAAAAAAgJGCwHCIsi1JE/UbFN30gjr/fbPSqUxA2PPCvYqsfEzJPTv2qj58MameLvfj0M8HAAAAAAAAAAAADjYCwyGyLUp9fsXrNyu2aakNDc0t1d3urm20cw27X7g3FyIORbzBvR9tTAEAAAAAAAAAAHAEERgOQ7B6mpJtTYpuXmoDwo5//kSRFQ9JqaQ93v3UX6VhtCWN1y5zL9Pb1jR7HQAAAAAAAAAAAOBwITAchmD1DDvHMNnaYFuPmnmG7f/8sdKJhHwFxUr1dKv7hXukIVQZRmuXKbFnpw0ejUTDJm+fFqUAAAAAAAAAAAA4fAgMhyFQPUOOk3nLQjULJXfbzCH0FRSp9M2flxMIKvLC/UonX7pSMFm/UYndvQGhCRDjO9bnAkQAAAAAAAAAAADgcCAwHIZA1XRbYWgUnvhKVX7+TwrPOlUF885Rwfxz5B83QdG6ZWq768dq/dM3lU7E7LmDMdWJfcPBdKRLCXct26IUAAAAAAAAAAAAOBwIDIchPG2R+475c9v+sRM07kPf1+jXX2GrC4sWv0qOL6DuJ/+q7uf+qeTuHftsMRqtXa7Ezg250DDesEnRTS8wxxAAAAAAAAAAAACHFYHhMAWrp8k/ptrestWGvsJi96OjwpMukvx+O8/Q7Hc+eIt23/jf2v3zT2jPzf9P6XjUnm/amCZb693PHTZQtNWGqZQSjf2rDl+KCRnN/QAAAAAAAAAAAID9RWA4TMHqGQpPX2znFw7kL6tSxf/8QeVX3CInFFb3C/cquvF5WzkY37GxTzWhu53KVB6mIl2Z4FBpGySmejrt9lDEa5e5l6QiEQAAAAAAAAAAAPuPwHCYAtUzFJq+SI5v8LfOhIam+tAEiyZULJhzpm1dmmxrtNWEhgn6lM4EffH6jYptXqpsK1KzP9SqQdPWVKmEtwcAAAAAAAAAAAAMH4HhMAWqpis87cRBKwz7KjrzzQodN0ulb/miAuWT3fMdJVsbbGhoQsF0n1AwFTGtSTPbsdrl/Y69mFSkc6jFiAAAAAAAAAAAAMCgCAyHKTxtka0YzM4v3JeCOWdr7Id+KP/osQqMqXJP9ynRYgLDlGJ1y3JVhCZETOzcqLTXrjRh2pUOcY5hsmGz4vUbhlyRCAAAAAAAAAAAAAxEYHiI+AqL3VuJu+XIP6bKBoyJ+k1KttQr1d07pzDZ0uSu97YhjddvHnIAaCoMU92Z+YcAAAAAAAAAAADA/iAwPAz8Yyrdj45SkS5FvXmFwepp7lLm7TfBX7C6RsEJM5Rsa7KhYnbe4UtJNGwacgtTAAAAAAAAAAAAYCACw8PAV2YqDH22kjC2eYltORqsWeQu+dT91F+VTiTkhEsUmmbW/IqsecI9JeHde3BxLyg0ISQVhgAAAAAAAAAAANhfBIaHQbBqhvtOO0r1mArDZUqnkiqYc6a7FsgFfqGaRSo66RLJH1DPkvukZP/A0Mw67Ft1mOrptPuZdqZJbxUAAAAAAAAAAAAYHgLDw8DMMzQtSWN1y5Tcs1PBqhqFp53oHuh9+4PV0xWcMFP+sdWKN2x2z+vflrTzwd8psuHZvcJBGzhSYAgAAAAAAAAAAID9RGB4mPSdWWjakfYNC41QzUK7ZioPHV9A0dqlthLRMKFg95L7lNy9XWkvREw2bJJpbWpnGKapMAQAAAAAAAAAAMD+ITA8TArmnK3Q9ExVYSYU9OdCRPPZVzTKPcuxlYbmnGRLkw0Eje4nb5cScXetMbdm2puaCkQqDAEAAAAAAAAAAHAgCAwPk5IL3qPxH/mhJlz7uAqON/ML/XLCoyTHUdBWF/rteb6yKrsWq12aaz/a9fTtSifj7tqyvVqSGqbKUKlMkGhE3fNSXW02UAQAAAAAAAAAAABezAEFhnff/W994hOfz91uuOFnikQi3tGM1tY2feUr386d85vf/ME70mso5xzLwlMX2YpDu+2Fh+lopnKwZ8m9SnW22vAv2WqqDjMhYNy2Is1WG3a6H3vDwe6n/qbdv/y0km3NhIYAAAAAAAAAAAB4UfsdGJpQ78knn9U3vvEl/fjH1+q66/7Xrv/0pzflQkMTBF5//U9VUzPFnmPOra3d0i8QHMo5x6rwtIVyfL7c/MIsf1ml4g2bZWYTdr9wv9LJhHwFxUq2NtqQ0LQhtSGhFwYm2xpy4aER37Jc8Z3rtefXnyU0BAAAAAAAAAAAwIva78Dw/e9/p66++osqKyu1+wUFBbrggrNVX9+ghoYmu/bUU8/az29606vtZ3Pum9/8GhsImqDQGMo5x7JAVe/8wiwTGJrZhon6zYrVLpEvVOCeN8OGiqYtadtfvq10vLeSMzPvMBMKmnakya52u2+qECOrH1M6lbDHDBNEprozx4eqZ+n9Sidi3l4vE2BmZyoCAAAAAAAAAABgZDqoMwzr6xttcJgNEevrm2zlYHbfMNumArGubqvdH8o5xypTNRiatsjdyLQjzQpWT5fj+NS95F4pmVBo6gkKTz/Rti3teuhW9ax4RIkd63JhXbK1IbcdXfukvU+wapoNGJMtjbn5hqYyse327yq67j/u6XvPQtyXWO1ye82BTGCY6u4YVvgIAAAAAAAAAACAo4v/ay5v+4AsXbpCf/rTHbrwwpdpwYK5NvB77LGnbYC4ePEC76yMZ59dojFjSjVp0oSXPGfmzGneyv5LH6WBlqna85WMVaB8suT0Vhgmd21TdP0zSjbVKR2PquiUV8sJFym26Tkldu+0AV06EffOdu9aUKLCRRe5X82A2v/xI6U6dqvkFZe7578g/6hxCs85yx7ruPNHiq55XE7hKIVnniz5At4VXlzHPTcqNOdsG3D2FV37VOY1eBWRAAAAAAAAAAAAGB6nT0Z0pDjpA0zTzKzBF15YpsLCAv3Xf31AU6dOtusmMDTzDOfMmamLL365XTOyMwvPPPMUnX/+2S95Tt/1/RWNxuztaJPcukK+8qlyCkvcvT6B4daV6vnDlySv7WjB26+WEypQzx+/klszfJPmKbVjrZyScSr66I3uC+1U988/LKe0QuFLPqXIH78sp6JG/jETlO7YpcSW5VIqKV/FVBVe/j054f4B4GDS7U3q/sVHFX7d5xSYeWq/kDH60E3yV05XYPYZkj/orQIAAAAAAAAAAGCoRo82OdGRdcCBYVY2IGxpadVnP/txFRSE7b5pL2rmHWYNFhi+2DkHIzA8WqV6uuQrLHK3+ifHZr3t9mvVs+Jh2wq06ur73FVHjd98g9KRrsxJLtOqNB3vUbx+kyo+fbOSPZ3a8+vPqmDe2Sp7yxfV+I3Xy19aoXhTba4tqb+sQsm2Xar4wm0KjKlyL9v/sWN1yxXdvESh4+YoNP1ERVY8pNbbrtGYd16l8PFnyvH3BoZ7bvq8ncE46sL32kATAAAAAAAAAAAAI89B6yNp2opmQ7+nnnq23yzDvkwYaMLF6urKIZ1zLPMVmgq/vctMzfqYy76use+9RoUnnC/HF7DtQH0FJSo5/z1yAiHvTBMaLrSzDSNrnpRpQWoqCP2lpkWoY+8Tb9xsw0Iz07Dyy3eoYM7Zcvx+xWuX7TXHMFq7XNFNS9T575sV3fCcvZadX5hKeEFl/2w54V471dPmbjHDEAAAAAAAAAAAYKQ6pIPnqqsrVFu7xQaAWWbbBIXZ1qVDOSdfFcw5U2Pe/c1c9V7xGW/SqIvenwsMQzULVTDvZbZNaKx2mZK7d9j5hqGaE2wloL9qurKzBU11oK+4VKFpJ9jzo7Y9acIeM0xYmO52vwZewam5nqlujNWtUDqZVLzBBI/9A8ZUpFOJnZvscQAAAAAAAAAAAIxM+xUYmkDvK1/5tm644We2EjDr9tv/affnzJll98844xT72awb5n5//etdttVotrJwKOcgo+SCd9uwMFBd437lMl86Exr6i0oVWfe0Ert3KJ1OyT9Iq9Fg9XT3Pv5MRaLfr0R9pvIwK9mwSfGdG9zb+tx6srVRyZZ6yb3mQKZ1qQkK09G9Kw8HY6412HUAAAAAAAAAAABwZO1XYGiCvC9/+TN2+3Ofu0qf+MTn7c1UCn75y1fkKgPNeWaeoVk3x6+88luqqZnSby7hUM5Bf/4yEwj2fumCNaZq0G9DPNuStMy0JPUpXGPCwczMwUD1dHfJlzuWCfx6KwwTXjiY6u5Q2v1fsq1J0dqluXNs4Nc3YPQCwMEqDweKrn1KkZWPKp2IeysAAAAAAAAAAAA4Wjhpl7eNEaLzwd+p4/5f23alBcefruiWldrzqyuUjvUoNPUEjfvgDXLCRep86FZ7XjoeVdXX75WvcJS9/+7f/I+i655W+ad+k6k8dHx2LR3ttsdjW1bItCMtXPQKRVY+bIO+0JQFGvvB65VsbVJy907F6ze6z+MW99oRVXz+NkVWPKTis96Sa5/aV/u9Nyq27j/u/b8nX9Fob3VwJsgMTpqbCzoBAAAAAAAAAABwaO1XhSGOrGxFYZapJAxNX2zX/GMyFYRGcOoCu2ZCRKfP+YExVbbasG+b0PiWFUrsXK9E/YZcxWCiYZN7uH8b0XjdcvW8cLeiG59zj2WqDyPL7lf3c/9SOhGz+wNF1zyt2PZ1SrbsfMm2pLG6lVKSSkQAAAAAAAAAAIDDhcBwBAqYUNCbYZhVcn5mvmGmXWn/+YWB6mn9AsZcW9LazBzCbHCYinQp1dPpbmeKTk27Uf/ocfbcRGOm9ahZi6x+QsndO3ItSiNrnlJi93ZbdZgNG8214vWZuYjZoDDqnvdSbUkHtkoFAAAAAAAAAADAoUVgOAKZUNBfMEqhaQtzQWC2ytDcsu087QxD93iwanq/gDE4NVOhmA0KE/V7VxJm+UsrbSvTlGlXmjZVh5vdc3tDRiPbwrRn6f25KkNTnbjnps/ZtqjpWMSu9Sx7wLZH3RcTFqa623KBJQAAAAAAAAAAAA49AsMRyl89TY7TWzVoFC2+SMHxx+1VYWgCw77nmrmFJkjMhH5pWzWYrQwcKFSzUMGJs2zAmIp02qrBfZ0bXft0roIwVrdCqa62XIjoCxcr3lhrKw73dX/DBJLyWp0CAAAAAAAAAADg0CMwHKHCUxdK/v6BYeHii+QfZwLD/tWEmcCvd81XUOzeSmxloGn/GW/YdwjoH1ORu17303f0qxAMVtXYIDHLBJDRzUvtNW0Y6VUt+ssqVHTmm+QEC7T7F59U9wv3DtqaNNFQa6sX4+7nFwsVAQAAAAAAAAAAcPAQGI5QhSdelGs9+mKCA+YXZvmr3HXHZ4O9+M6N/VqS9g0CTUvSwNgqOdmZh6mEQlMWuAcCKlz0Cjs30Z5XlgkWW377Be36/uWZa6ZT9lrhuWdr1IXvVelrPyknXKSOe3+pdKzb3q8vM/fQVDyaSkZzXwAAAAAAAAAAABx6BIYjlL+ssl8l4b6YqkPHH/T2evkKS+Q4jg0Mky318peOz13PCZe4HzJtTUM1J8g/dqI9lmjMtC4tOf8yBconK1A9Ixcsjn7lR1R4wvnyFZfZ1qOx2qXyBcIac/l3VHz6G+UEwyo6/Q0KzzhZqY7duUrEbEhoJBpNpWNC8boV7g5tSQEAAAAAAAAAAA4HAsNjnJlf2LcdaVZm3a/I2ielZEIBM+fQO88/xlQUOrmqwaxsuBeaulBFJ16sQPkkO+PQVBuG55yhMe+6WkWnvz5XdRiomiZf0Wg7MzEbLBYuutA9EFZk2QNSIqrup/+udDxij6V6vArDaKfZs2sAAAAAAAAAAAA4tAgM81x0zZO20s8EiP6x1TYgLFz0cikQsu1ITSvSbLhomGNOIKjCxS9XYPwke9y2KPVl2qOGp55gA0QjUD3NvVz/dqi2jWkwpJ6l/1Y6HlPPsgdycxGTbc22FWm8vtZ9TswwBAAAAAAAAAAAOBwIDPNU0AR7Pr+SrU1SOiX/mAr3Vu2u9X5LZKsHncJi26LUVByOuvhjckKFuZaoIfc64ekn5uYpho8/I9cCNWjmJHrrfWVnJEbrliu5e7ttiapUyrZHNZ9T3nMCAAAAAAAAAADAoUdgCMtfVqXghBm2LalTWGIDQf/YKhsUZpW9/asK2DalvWtGaOqCfsFg+PjTbRWir3TwOYtmRqJpeRpd97TSibhidSuU2LMjFxIm20xw2FthmNknQAQAAAAAAAAAADgUCAzzVLjmhFxVoGFmGPoKS90tx1YG+sdOyFQcelWEpa/+uEKT59nKwL5CNQsU6lNhaNi2pL7AXo+Rla1OjNdvllKJTGC4a3u/kDDeUJvb73r4j4qs/4/SybjdBwAAAAAAAAAAwMFDYAj5wsXyFZYo6LUgzTLBXzbwKzr9DXKCYbvdlwkTB4aCpt1pcOLMvcLFLBsYmnaojZuVTiUzlYadre6RdOYEVyrSaecZmjCx+4V7lNi1lSpDAAAAAAAAAACAQ4DAMI8FvFmCgerpctzPJjT0FZS4RxwVLX6Fe0JmFuFwmQrF0LTFg1YXGv6yclthmIp0Sem0/dy99H6l41HvDCm+ZaWUSKjr0T8qHe1RqrWZwBAAAAAAAAAAAOAQIDDMY2aWoJFpEZppRRqYMNOGh9m2ofureB8ViYa5tpmV2Fd8ywqlkwmVnPtOOaFCJVsb1b30XkU3PGdbkUbrltOSFAAAAAAAAAAA4BAgMMxjgTFVNrjrGw4GbLvQzNzCfVUIDsWLBY6OqWJ0HLtt2qGa7Wy1YaBymvu4ftumtPPftygV67bnKep+do8DAAAAAAAAAADg4CIwzGPZUC9UY8LBzLzBYPU0d23w2YMHi6lkzM43DB9/uopOujhXjVgw53QVzHuZ0om4kq0NClZMkX9steJNdVIqYc/pK95Yq1RXO2EiAAAAAAAAAADAfiIwzGP+MRU2MMzOLTQKFl0kZz9nF+4PE1qWvvGzKj73HXKCBXYtfPwZ7nMI2e3C016nQPkUOY5f8YZaKZW061k9T/9dzde/U50P/FbpWMRbBQAAAAAAAAAAwFARGOYxX2mVbQca6FPx5yvItAg91EJTFtiWp6YFqXns0a/8sMZ9+PtyCkcrPPsMKRC07UqLFl2k4KQ5kt9v5xqmU0l1/+fvuXDQVBgmu9vVfu+N6rj3l0qb1qUAAAAAAAAAAAAYMgLDPOYrLJF/jAkNj9y3gVNoAsrM42fnJprQsuD4M1R4smlVGlKgLFMJmWisVXznBkU3L1U6Gbf3STRulpK9rUqbvvt27fx/ZynZvstbAQAAAAAAAAAAwIshMMxjZpagf0y1HN/h/zYImFmJPr/CUzOVhgOZ2YbFZ79FTrDQViGac0yFYbx+g6JrnlCqo0XRuuV21qGpRDRVkdEtK5TqbLPzDNORLuYaAgAAAAAAAAAADAGBYZ4L1yy0wd3h5guX9JudOJBpSxoYN8k90ZdrmZqtMEwnE4qsf0qJ7Wtti9KCRRfKCYYV37IyV3kYb9hszwMAAAAAAAAAAMCLIzDMc+E5Zw5a4Xeo+cvKFZgww90Y/LH7zlI02/6ySsWb6hTfsUFKJhVd+7SiG5+XEnGFZ58uJxCy5/aVosoQAAAAAAAAAADgJREY5jnTlvRIVBiaADA4YYacIT62eZ6OL5CrIjSfTXiYTiUUrJzmXmvmXuGjmW9IlSEAAAAAAAAAAMCLIzDEEWECQ1/h6FwV4UvJtiXNMtWDydYG+UeNl69olJwC9zagvWl03dNKJ2LeHgAAAAAAAAAAAAZDYIgjwgSGITM/0R/0Vl5caMoCOYHMuf7SCvc71ydfuFhlb79SvsJRClTXuAd6A0VTgdj15O1Kx3q8FQAAAAAAAAAAAAyGwBBHjFNQImc/KgxHvfJDCoyu0JjLv61wzSKZVqS+cIl7wb2/nRONtbQlBQAAAAAAAAAAeBEEhjhihjM/0VdQbKsSTWWhqTYcf8UtCk8/yYaFRrCypt88xOiWFVIirnjDZilFYAgAAAAAAAAAALAvBIYYMUzA6B9TbWcW+gpNRWFvdaJTUDzoPMT4lhVKJ+LeHgAAAAAAAAAAAAYiMMSIYdqSBifMylUV9uUfY+Ya9p9hmE6aCsNaKZX0VgEAAAAAAAAAADAQgSFGDNOKNDx9sRx/0Fvp5S+tlOPzKVg51T3eGyhmZxgyyxAAAAAAAAAAAGBwBIYYMUyFYcBWGA4+99BXWqHgtEXu8f6BYnTt02r5/VVKd7d7KwAAAAAAAAAAAMgiMMSI4SsoVrjmhEErDA1TZRieukhOoP/x1tu+pXj9RiVb6mlPCgAAAAAAAAAAMACBIY4ZgbIKOUWjJMfxVvpLtDYqnUp5ewAAAAAAAAAAADAIDHHM8JVVKlg9093onWHYVzrS7X4gMAQAAAAAAAAAAOiLwBDHDF9BkXyFJQpW1cjxBxSonKrghBn2ZvYTjbW0JAUAAAAAAAAAABiAwBDHjIKFL5cTDMspKHH3HPu55NzLNPq1n3K3izMnAQAAAAAAAAAAoB8CQxwzfCYU7DO/0Mw0DM85U04wZPejdSuUTsTsNgAAAAAAAAAAADIIDHHM8pdWyvH55S+rlBy/twoAAAAAAAAAAIC+CAxxzAmYgNDnz7QhdRz5Syvk+HxKtTVJqZR3FgAAAAAAAAAAAAwCQxxzChZeoFEvv1yFC8+XE8i0I3XCxUq2NyudStp9AAAAAAAAAAAAZBAY4pgTmrJAJRe8R4GKGltpaASqauT4A0pFuqR02q4BAAAAAAAAAACAwBB5JtG4WelkwtsDAAAAAAAAAAAAgSHygqk6lD/o7QEAAAAAAAAAACCLwBB5pf0fP1TP0vuVjke9FQAAAAAAAAAAgPxGYIi8UHD86QpPP0mprha1//17SrY0MssQAAAAAAAAAADARWCIvBCorNHY912r4jPepHQyqc5Hf69UtMs7CgAAAAAAAAAAkL8IDJFXSi76oPxlFep+5i4lm7ZIqaR3BAAAAAAAAAAAID8RGCKv+AqKVbjo5XKCBepZ9iCzDAEAAAAAAAAAQN4jMETeKTrtdXLChepZ9oDSsYi3CgAAAAAAAAAAkJ8IDJF3/KUVCk1dqFRXi6K1S5VOxL0jAAAAAAAAAAAA+YfAEHmpYPZpcgJhxbeskpIEhgAAAAAAAAAAIH8RGCIvBapqJH9A8YbNSicT3uq+xbeuUnzH+iGdCwAAAAAAAAAAMJIQGCIvhaYskBMIKtFYK/UJAdvv/KFitcv3Cgb3/O7Lav7+5Up17PFWAAAAAAAAAAAAjg0EhshbgcqpSnXuUbK7XUqnbVjY9fQdim54VkrEvLPczcZaKgsBAAAAAAAAAMAxi8AQeStYOc39CQgo0bhZXU/dru5n71I6FtkrIExFumygOJhkW5NidcuV6mzd5zkAAAAAAAAAAABHMwJD5K1AZY0cf0Ad9/1a7f/4gZRKS46j2JaVSifj3ln9DQwPu5+5U7t/dYWim57f530AAAAAAAAAAACOZgSGyFuhqQskb46hqSgc/br/VqjmBNumNNXdMWjFoKlG7BsMxhsyMxAHzkIEAAAAAAAAAAAYKQgMkbdMhWH5p29SyYXvVelrPqHChRcqdNwcyZ9pU5ptS2orDvvMNByMqTxMp1PeHgAAAAAAAAAAwMhBYIi85i+t0OhXfUTF575TTrgo16Y0XrdSeomQEAAAAAAAAAAA4FhAYAj0EZoyX/KHFN3HHMN0pHvQVqUAAAAAAAAAAAAjFYEh0Ee2wrCvVFuT+yFpt/c1q7DvOQAAAAAAAAAAACMJgSEwiPjW3rmFiVYTBr74fMKhnAMAAAAAAAAAAHA0IjAEBghOnicnEPT2Xlw62uV+ICgEAAAAAAAAAAAjF4EhsA8xM8cw0X+OYbKtSek+rUdNi9L0IC1KAQAAAAAAAAAARgoCQ2CAYHWN1GeOYf/2pI2DzipMR7upNAQAAAAAAAAAACMSgSEwgBMucT/4lGiolZKZCkNfuNhdc+z2YKg0BAAAAAAAAAAAIxWBITCAv6xcjs+ndMTMJ0xn1iqnyvEPba4hAAAAAAAAAADASEJgCAzgL62QHL+dV5hsqZdSva1Gk011VBICAAAAAAAAAIBjCoEhMICvwGtJ2tqkxJ56pfvMLEz1qToEAAAAAAAAAAA4FhAYAgMEKmvk+ANKR7uU9sLBYFWNghNm2PWsgeFhbMtKpRMxbw8AAAAAAAAAAGBkIDAE9iHRWKvomieUjkdtm1KncLStPMwyx2lPCgAAAAAAAAAARjoCQ2AQ4dmnygmG1f3MnUpHu1VwwoVyQoX2WGzLCioJAQAAAAAAAADAMYPAEBjEqIs+mJll6Co84QL5R49TYEyl+xPjUzrSrfiWlUrsWCdRYQgAAAAAAAAAAEY4AkNgEKYFaeHiV8gJFajghPPtZ5+7Jp/ftiLdffPn1fq365Xq6fDukWlRSoAIAAAAAAAAAABGGgJDYB9KXvEBhabMV3jaYjmBkLcqRbeskBJxb69XKtKldDrl7QEAAAAAAAAAAIwMBIbAPvgKilX2tivlKy61+/6ycjk+v+JbV/WbYRionCrHH/D2AAAAAAAAAAAARhYCQ+BFmNakpg1pZtvMMMxs9+WEi90P/CgBAAAAAAAAAICRiZQDOEhSbU3uh6S3BwAAAAAAAAAAMDIQGAJDFKisedHWo4lWExgywxAAAAAAAAAAAIwsBIbAEJmZhnIcbw8AAAAAAAAAAODYQGAIHKDChRfICRV4ewAAAAAAAAAAACMLgSEwDMHJ8+UEQt5ehr+0wv1J8nt7AAAAAAAAAAAAIwuBIXCQpKPd7gdmGAIAAAAAAAAAgJGFwBAYhuwcQ19473mGicZapZMJbw8AAAAAAAAAAGBkIDAEhiFQWSP5A/JXTpXjD3qrAAAAAAAAAAAAIxeBITAM/rJyhaaeoOD449yfnt4fH+YYAgAAAAAAAACAkYrAEBiGwhMu1LgPXK+iM98sJ1TorWYCQ4fAEAAAAAAAAAAAjEAEhsB+MK1JHX8gt23alPbV9eiflIp0ensAAAAAAAAAAABHLwJDYD/4Coolx9lrO7ZlpZK7t6vzkd8ruvZppRMxuw4AAAAAAAAAAHC0IjAEDrK2O3+kVHe7YltXERgCAAAAAAAAAICjHoEhsJ+Ck+crNG2xnEBIgbJK96fJbysMY5uW2KDQbCtOYAgAAAAAAAAAAI5uTtrlbQPYT2ZmYcf9v87NLfSFi5WKdavyi3+Vf0yVXQMAAAAAAAAAADgaUWEIHALBKfNs5aGpMhzYljTZ1iSlkt4eAAAAAAAAAADAkUVgCBwCoSnzM4HhgDmGqUiXepY+qI5/36yGr16ktr//QKmeTFUiAAAAAAAAAADAkUBgCBxkwcnzFJg4SwoE95pj2PPMXYpvXanknh1KU2UIAAAAAAAAAACOAgSGwEHgFBS5HxxvTwpPWWArDAfqWfGQku27lGhplJIEhgAAAAAAAAAA4MgjMAQOgkBljeQP2O1gVe92sqlO6WTcbvcsf1CJ5i2K1S3PtSmNbV0pJaJ2GwAAAAAAAAAA4EggMAQOMidcbKsN/aXlSsUiUjpt13ue/afSkS67HR8w2xAAAAAAAAAAAOBIITAEDjJ/WYUcn1++0sznVKRL8YbNiu/coHQy4Z0FAAAAAAAAAABwdCAwBA4yf2mF+5Pl9/akRGOt4jvX51qT9pVqa1Y6xSxDAAAAAAAAAABw5BAYAgeZr8C0JPUpPHm+nEDIrqVam6VkUoHKqXK8+YZGsq3JPUhgCAAAAAAAAAAAjhwCQ+AgCE3pDQcDlTX9QsFEU52S3a1Kp1MKzzpNTrDAOwIAAAAAAAAAAHDkERgCh4ivrFzyZ2YYJuo3S8mEghU1UqA3TAQAAAAAAAAAADjSCAyBg2TMu65W+advkm/UOLufnWWYjnZJ6ZRdC88+da8Kw9iWVUonYt4eAAAAAAAAAADA4UVgCBwkpi1pcOLsfu1IjXhDreL1G5ROxu1+cPI8277UFzazDh27BgAAAAAAAAAAcKQQGAKHSGaWYdBupyPd8o8ebysOfQUmKPSp8JTXZLYBAAAAAAAAAACOIAJD4BDJBIOOkk11trrQV1ohx+e3cwydPnMMk21NUirp7QEAAAAAAAAAABxeBIbAIWTajqai3VI6nQsQfWXlClRPz4WGydZmpZMEhgAAAAAAAAAA4MggMAQOofDsU+UEC+y2aVGqQFD+0gr5Cke7+9Mkr2UpAAAAAAAAAADAkUJgCBxCRYPMKTTBYWDcRPmKRttZhgAAAAAAAAAAAEcSaQVwCJlw0D+22v1J82YX+gM2QPSXVUp+vz0ntnWllIjabQAAAAAAAAAAgMONwBA4xMKzTpMTDMspKMpVFJo1/6hxchzH7hvJtiYpxSxDAAAAAAAAAABweBEYAodY0amZtqROQUkuMAxUTlVwwsx+MwwTjXVKJ+LeHgAAAAAAAAAAwOFBYAgcYv7SCgWrpys4YYZtSTpQsqlO6WRCPcsfVDrW460CAAAAAAAAAAAcHgSGwGFQsOAC+cKF3l5/qUiXUj2d9qZ0ylsFAAAAAAAAAAA4PAgMgcPAtCV1wsXeXq/g5HlyAiElGmuVqN9gKw0BAAAAAAAAAAAOJwJD4CgQ27JKqc4WKgwBAAAAAAAAAMBhR2AIHAViW1cqHY/Z4NB8BgAAAAAAAAAAOFwIDIEjKFg1VQoElWyqox0pAAAAAAAAAAA4IggMgSPIFy6W4zhKRbpsO1JbYZiIekcBAAAAAAAAAAAOPQJD4CiSjna6H9LeHgAAAAAAAAAAwKFHYAgcQb7ScveD39uT4o11Sifi3h4AAAAAAAAAAMChR2AIHEH+0gr3pzDg7ZkKw0xrUgAAAAAAAAAAgMOFwBA4iiQa66RkXKlIN8EhAAAAAAAAAAA4LAgMgSPIV1Aix3G8vYxkW7Miy+5XbOsapZO0JwUAAAAAAAAAAIcWgSFwBAUqp0r+oN32hYslx1GyrUnR2mVqu+N6JXfvpNIQAAAAAAAAAAAcUgSGwFEiPOtUOaECGxgmWxqUqN+ktr9/T6muVu8MAAAAAAAAAACAg4/AEDjCfOEiW1kYnDJPTiCkZGuzDQtNO9Lo+mfU/fzdSke7vbMBAAAAAAAAAAAOLgJD4AjzV9bIP3aC/GOq3J/IgHqeu0upSJd3VDZATKeS3h4AAAAAAAAAAMDBRWAIHAX8pRUK1yy0FYapSDdzCwEAAAAAAAAAwGFDYAgcBQJVUyV/UMHJmbakRt9tAAAAAAAAAACAQ4XAEDjCwlPmyV88VnJ8CprgMBC06yETGAbDdhsAAAAAAAAAAOBQITAEjgLBKSYcDCk0eb6cQCYkDFZmqg4BAAAAAAAAAAAOJQJD4CgSqJwqJxCQL1wkp7BEchyl2pqkVNI7AwAAAAAAAAAA4OAiMASOsEBljcI1i+y8Qn9phXyFo+WvmparLky0NSudJDAEAAAAAAAAAACHBoEhcISZkFB+v7cnBSfPU+i42XJoRwoAAAAAAAAAAA4DAkPgCLNtSPuEg8HKGgXGTugXIgIAAAAAAAAAABwqBIbAUSY4Za4CE2crXLNYTjDsrQIAAAAAAAAAABwaBIbAUSZQMU3BCbPkBALeSn+pSLeUTnl7AAAAAAAAAAAAB4bAEDjK+AqK5CsskZzeH890tCsXEkZWPOTud9ttAAAAAAAAAACAA0VgCBzlkk21im1eqnQ8ZvdNYJiK9thtAAAAAAAAAACAA0VgCBzlTAvSeMNmpZNxux9vrFN854bcPgAAAAAAAAAAwIEgMARGgERjpsowvmOdlIwr1drkfk56RwEAAAAAAAAAAPYfgSFwFPOXjnd/Sv1KRbsVq1upxK7tSqeSijfVUWEIAAAAAAAAAAAOCgJD4CjmL62Q4/Pb7UTTZtuKVIm4YltWKh2P2nUAAAAAAAAAAIADQWAIjACptmbF6lbYlqSmsjDZXGdbkwIAAAAAAAAAABwoAkNgBEi2NSnV3a74lhVKx2NKRbqVbG2UUswxBAAAAAAAAAAAB4bAEBhBTFCodMpuJ1qblE4m7DYAAAAAAAAAAMD+IjAERqj41tVKJ2LeHgAAAAAAAAAAwP4hMARGmEDlFDn+oBKNtVKCOYYAAAAAAAAAAODAEBgCR7FA5VT3Q9DbyyhccL6ccJGS7c1KM8MQAAAAAAAAAAAcIAJD4CjmC5fIcfr/mPorpspXXKpE01Yp2Vth2He+IQAAAAAAAAAAwFARGAIjhL+03P2J9StYWaPAhJlyAkGlIl02JEw01im+c73StCgFAAAAAAAAAADDRGAIjBAFC86Xf/R4+QpL7E2Oo3hjrQ0J4021/aoNAQAAAAAAAAAAhorAEBghQlPmKTR9sZxAWMGKGjn+oGTbkKaVam1WsqVeYqYhAAAAAAAAAAAYJgJDYAQpOuU1cgqKvT0p3lSndDKu2NZVSjRvd7cT3hEAAAAAAAAAAIChITAEjmJOQZFtPWr4SysUrlkoJxhWcMo8+zkd9WYYesGhEV3/jBq+/lq1/f17SnW32zUAAAAAAAAAAIB9ITAEjmKByqmSaT3q8peWuz+xfrudFW+oVaqzTameTqVaG21L0kTTFikRV2zLKqUTMe9MAAAAAAAAAACAwREYAiNQaPI8KRCy2/GmWikZV6K1SWlmGAIAAAAAAAAAgGEiMARGAF/YtCbd+8c1vm21YpuWKB2PeisAAAAAAAAAAADD46Rd3vaw3X33v/XPf97v7UknnrhQ73//O729jNbWNl1//U/V0tJq9/f3HCAfxbau1J6bvyj/mCqNfe818o8e5x2RWn5/lSKrHlVo6gmKbVkhx+dT+Wd+p+4l96jr4T+6Z6Tsvn9sdeYOB4GZldhx36/kFJVq9EUflK9kjHcEAAAAAAAAAACMVPtVYRiJRHTDDT/Tk08+q29840v68Y+vtZ9ra7foN7/5g3dWbxBYUzPlgM4BsDd/WWamYXTDs0rHIkpFupVOp5RoqFM6Gc/tH0ypSJdidSsV376O+YgAAAAAAAAAABwj9iswLCgo0BVXfExXX/1FlZWV2jXz+cwzT7FhnwkBjaeeetZ+ftObXm0/m3Pe/ObXDPscIF+FJs9X1VfvVPknf9mvutAIzzxVTqjA23tpJkDUQQ4QAQAAAAAAAADAyHdQZxhWV1d6Wxn19U22cjAbKhpm21Qo1tVttftDOQfA3oKT58sJhL29jNjWVf0q/1JtTe6HpN2Om2MHadZhsrnOfZy4twcAAAAAAAAAAEaygxYYmoDvwQcf15gxZSooCNv9wSoETRhoKhTr6xuHdA6AwfkKihSevXeVYTralaskTLQ1K51M2O3YtlWK7zCtRA886KNaEQAAAAAAAACAY4eTdnnbB2Tp0hX61a9u1Qc/+C4tWrTAhoE//elNmjNnpi6++OXeWb0zC0370vPPP/slz+m7vr+i0ZgSiUyVFXAsiS+5Rz33/0IKhJTubFHhxZ9U5JFb3O099njhm7+k4JyzbSVi91+/pcD0kxSce+6wWpn2FfvPHYo8/Fule9o16pM3yzdukncEAAAAAAAAAADsj+LiQm/ryDkogaFpHfqTn/xac+bM1vvf/067lg0MTbVgds0YLDB8sXMORmCYSGQqrIBjTaq9WS0/+7j84ycpvnWlCk9+jSJL7lWqp8MeH/WGz6pg8SttQLj7uncoNPt0FV/4PvmKRtvjw9Xz5F/V9cBNSnW3a8x/3ajgxFnub5GD2tkYAAAAAAAAAIC8EggEvK0j54ADw2xYWF1dpY9//H22lWjWb37zB/u5bxiYPf+yy95iKxGHcg6Afdvzm8+pYMH5ar/75ypceIF6njeBYbs9Vnz2pRr1ig8osWubWm75knyjyzX2vd+Wv7TcHh+ursf/oo77f61Ud5vK3v4VFZ5wvpzg/lUrAgAAAAAAAACAo8MBlQZlgz0TEprAr29YaFRXV6i2dku/OYVm25w3depkuz+UcwDsW+Epr5a/rEKO4yjRWKd0MuYd6RXfulrpeNRWJCpFe14AAAAAAAAAANBrvwNDM7Pwuut+YoO9z37247at6EBnnHGK/Xz77f+0n00Q+Ne/3mVbjWbPH8o5APatcMH5csJFdju64VmlYxG73VeiqVbpRFzJtmalk7ToBQAAAAAAAAAAvfarJWl2PuHmzXXeSn8nnrgw12LUBIBmHmFLS6vd73ssayjnAHhxTddcqsTuHXbbFy5SKhZR8LjjNfbya2zb0vjOjVI6pbJ3XKXCBefJCYbtucPRtyXpqAveo+LzLpOvcJR3FAAAAAAAAAAAjEQHPMMQwNGhb2AYnnmKYltWKFA5TWVvvEJ7fnelki0N9tioC9+r4nNN0Fdi94ejb2BYfOZbNOqiD8hXTCUwAAAAAAAAAAAj2QHNMARw9LBtSZ3Mj3Sgcqocf8hux7ausvMLAxVT5ASCSrSZOYb715Y0ts1ca++WpwAAAAAAAAAAYOQiMASOEeFZp8oJFXh7mbak8e1rFduxTkrGM21Iw8VKNNbZeYYHKhXrsi1OAQAAAAAAAADAyEZgCBwjgpPn5uYS+sLF8lfV2IrC6IqHlYp05wLFZHOdDRAPVKJxi9KJmLcHAAAAAAAAAABGKgJD4BgRnnlarsLQXzlV4WmL5QTCNiz0uev+skoFq6fb6sJ0qrcy0Bw/2JWCiSbCRAAAAAAAAAAARgoCQ+AY4SsoUmjy/N4qw9Lxkt9vt/0VU90PQduS1Mw5TDRl2pKasLDn2TuV6um05x0smesTGAIAAAAAAAAAMBIQGALHkL5zDIOVNXL8QbsdmjzPBokmVDSBYSqSmT8Y37pK6XjUnjNQz8qH1fD116jtjhuU6m7zVnuZ1qbJPTuUbKl3dxLeakZk5aNKm8cAAAAAAAAAAABHPQJD4BgSnnWKnFCh3Q5UTLUzDO12ZWY7UJGZa5iOZtqQRjc8o9i2NYNWA6Zam20QmK1G7MsXLlIqGlGipVG7fvpx7bn1q4qsekzpeMQej21brXQssw0AAAAAAAAAAI5uBIbAMcRfWqFg1TSFpy2yFYXBSXMzn73AMCvRmAkBY1tXK9XZ8qIzDO2MQ2/mYdwEgfGobXFqrpepJOx0Pz+s9n/9NHMtjw0NvQARAAAAAAAAAAAcvQgMgWNMcMo8OYHMHEN/WYV8haPcz5XuT3sgU3XotSk1lYPJPTuV6m5XbMtKdT58qyJrn9pni9K+AqXl7nUC/WYVJpq22BAy8zmm+NY1Ssde+loAAAAAAAAAAODIIjAEjjGFC86XEy6y2yYgDEyYKXkhoWNmGPp8SjTVKrZ5qQ0HTegXWfOkOh+8RdG1T9u12NZVSuzernQqaWcVppP9W5b6Ssvda5rAMBMS+kePt/vmfsmO3bYi0TzGYK1OAQAAAAAAAADA0YXAEDjGDJxdGJw4M7fvKyiWHJ9tMxrbsiJXTZhtUWqY0M+sJ1ub7AzDTEvStD1mmPmF2YrFrIL559lr26rC7DWbthIYAgAAAAAAAAAwAhAYAsewQEWNghNm9QaIXpiYjnYruv4ZpWM9dt1WESbiSkW77DzDpG01mgkQBzLzC/3jJtiWpHZ/9HiFahbICRbYasXk7h3uJRJKtjfbdqcvNh8RAAAAAAAAAAAceQSGwDHMV1Ck0JT5coKZmYZZmdmDvYGgrSJMp2ylYWzzMiU7WvoFfQPPN0FkrmqxtEKhqSfYxzAtShO7d9rKRKPvjEMAAAAAAAAAAHB0IjAEjnH+0gr3J723fWigYkou7PObWYQ+v93OMlWG8cbNSnW15kLDbOVhlmlLalqbGoFKc72QvW6qu1WpnrbcubZFaSzTohQAAAAAAAAAABydCAyBPOOEM3MMTVhYuPDCzFzDPkyVYaqz1f1c26+qcO8qw0zw6Atlrpe9bmz9s0pFM61OE03mGlQYAgAAAAAAAABwNCMwBPKMaVNqgr3isy/NtBL1Z6oNjfi21Uru3q5Ew6Z+4WCqrVmprjZ3o7fKMBsQBifPkRMKKzR5rvu5QMn2XX1akm590cAw2woVAAAAAAAAAAAcOQSGQJ4x8wf9xaUqPOEC+WxL0v6/BpImHOxu7xfkmbV0KuntZWQDQluh6Oz9qyRQMdm9TpsS9SZ8HDw0TDTXKR2nAhEAAAAAAAAAgCOJwBDIQ4Unv1pOQck+w74XYysU+4SMgYqpdoahv3S8u947K7Fw/nnuYxSrZ+UjSkc6vdX+0pFuJdsacxWJAAAAAAAAAADg8CMwBPJMcPJcFZ3xJvkKS7ywr7cl6b6YlqTZUC97n+CkufKPO879LeK3677RFXL8vYFhaObJ8oWLFNvwXG6m4UCJpi1K7NqhNIEhAAAAAAAAAABHDIEhkGdCk+fJP2rMsCoLE7Ylaf9Qz1Qn+ssqcyFh32pF0440MHaiAtXTXrItabJ5y4vOOQQAAAAAAAAAAIcWgSGQ5wIVU3IVg04w7K1mFJ58iXyFo7y9/sz9ghNn2nak2f1staITLnZ/u/gUnnGKu12oVLSr30zErNi21Uq27xn0GAAAAAAAAAAAODwIDIE8N/rV/6WxH/qBChect1dg6AsXy1dQovj2tUpsX690sn8lYGB0udSnDem+JJu2KB0fvIrQhIbpWMTbAwAAAAAAAAAAhxuBIZDnzEzC8LRFe4WFWX6vcjCy4VmlB8wiHFiBmK0y9JeWu79dArk2palIt5ROe2f1SrXvUrqnnQpDAAAAAAAAAACOIAJDAJYJDrPtRfsyMw+dYIGSTXVKJ+Le6uBsK1LHJ//oCjvb0F9uAsTMNXuev1up7g67nZVsa1b8ReYbAgAAAAAAAACAQ4/AEIDlFBS5Hxw7y9BfMiYT/JWOV2jqAlt9mIqaKsGUbVNqjg3GVBaaoHCg2LZVar/nRnU98nulutu91V4mOFQykdlu790GAAAAAAAAAACHHoEhgL34bbVhUL7SCgWqZ+SqBH3hIoVnnypfqNDuDxSaPEehaYsVnDgr05q0LBMgptqalU4l1PHgLep6+g6lIp2Z2YXxzOxCEximkwm71nHPjUp27LHrAAAAAAAAAADg0CMwBGBl5w2aFqTB42YrVLNQ/lFj7YzCQFUmQBx1yccVnHi8NEgVoVEw/zyNfd93VHTqa+SEi+QfXW7PTbbvylUNdtz9czu7sK9k8xbblrTzwd8psWs7Mw0BAAAAAAAAADiMCAwBWNkZhr6CIo16+fs07kPfV3jmKTYoNMfCx5+pgvnnyAkPXl04HLGtq5XYtS0XIqYi3ep6/DbFapcpHWeeIQAAAAAAAAAAhxOBIYB+Mu1IMy1Is0xwWPrGz9mKw+EKVEzOXa/vdqptl21DakRWPqquJ26z8w2Tu0y1YdSuAwAAAAAAAACAQ4/AEEA/2dakfZnA0D963F7rQ+GEeq+Xa1HavEWprpZc69Fke7MNC82+qTZUKm3XDbtPi1IAAAAAAAAAAA4ZAkMAOcFJcxWcOMu2IT1YTItT+TK/akKmxWm40IaA8Ybafu1HfeEiBSv3rm5sueWLavz2pWq97dtKNG+TUoSHAAAAAAAAAAAcTASGAHL8ZeVyfAFv7+DIzEY0cxAnKzBugr1+KtqVC/6Ck+bICRYoPP8c+UorbbgY27Za6VjEHjfVh8mWenU/c6diW5YrnRjejMNUtFvxrasVWf240hH3cQEAAAAAAAAAQD8EhgBysi1DDwUnbFqT+u12ommLEvUbbPgXqJgiJxhS0UkXK1g93T2l9/HNeX0DwvjWNUrHery9oTHX2PP7r6rj/t8o2d3mrQIAAAAAAAAAgCwCQwA54VmnyAkVensHh780E0KGJs1TePqJ7vUL7LppS+ofNVa+olIVLDhPgcoa+cdUu7+VegPDbCWiqU40rUoTzf0DRAAAAAAAAAAAcOAIDAHkZNuHHky+0Zk2p77S8ZI/U2EY37ZG6XjEXStXaOoCFZ/xRvmKRttjRvZ4pqIwovCMU+QUFCvetHXYgWGyaYvk3icd7c61QQUAAAAAAAAAAL0IDAEcFqbS0LQbzVYLZpmQMjhhpl3zl47v15I0FeuS0ik75zA4cZbS3W1KdbUPK/gzMwzTqaQSzSZsjHqrAAAAAAAAAAAgi8AQwCGVqVoM5T47ITPLMPOrp2D+OfKXVeT2TcWhaV+abUWaaMy0IPWFixWsnGZnHSaa62hLCgAAAAAAAADAQURgCOCQ8hUUubcS+QpLbDBo9uVzP4eLVLjgfHtsoGxQmDRVgfGYAhVTvCrEsNemtMc7c3jSEdqSAgAAAAAAAAAwEIEhgEPOXzEl14Y0W2kYnn9OJkTsI9u2NMtUGvpHjbWzD/0Vk907h5SKdSud3r/QL9FsgkjakgIAAAAAAAAA0BeBIYBDrnDBuXIKir29jKKTLpavcLS3l+EfnWlJmo51K7Zlpfs5Ip+75viD3hmZ6kPFh96SNG3am+5nwAgAAAAAAAAAQD4gMARwyGVCv0zlYHDSXBXMPcu2GTXh4GASTVuU2LNDSiYUqMxUJ4bc+zmhAu+MoYs3ZdqaGvvTkjS2bf9boAIAAAAAAAAAMBIQGAI45EKT58oJ9oZ9hYNUF2aZINEEhCY0NHMMQ8f1Dwrj29coHY94e8OTMDMR3WsOR3z7WqWjR1dgmGjett/vAQAAAAAAAAAAAxEYAjis/GXlCk89YZ/Vgv7R423lYc/z9yjV3Z6rMDSCFZNz24eDDRjjR9/MQzPbMdFYR2gIAAAAAAAAADgoCAwBHFbZOYX7Ep55snzhIrttPvvLKnrPDxe7iz7FverDvobSOtQEbelU0tt7afGjtB1pYvs6xTYtUTra7a0AAAAAAAAAALD/CAwBHFVC00+RY4JBl7/cVBeG7bYRKM3MQkxHu/rNIuy450a13/E9JTt2eyuDy7Y5HarY9jWZlqRHYZVhzH1eKTOTEQAAAAAAAACAA0RgCOCo4isoUqBqqm09amcf9mld6rPViUEl25qVTsaVinar9f+uVudjf1Js60opvncYaGce7meVYKJpm5KdrUqne8PJo0V8xzr3dREYAgAAAAAAAAAOHIEhgKNO4bxz5BSWKGArDHtnFpoWpY7jU6ptl5RMqPvJvyqy5om9AkETJPatQNyXF5tRmGrfpWRLvfs4cW/l6GLakTLHEAAAAAAAAABwMBAYAjjqhLw5hsHJc/pVGPorJktegBjd+Ly6nrzdBoeBykxFYrw503LUBInx+vVKu8cMOxPR8WXai/YJF1ORLmkf1YN2TuIRbkX6UsGnfT3MMQQAAAAAAAAAHCACQwBHHf/ocoVnn2Y/m6BvoNi2NYqsftzOMhz1qo8oNGmue6eA0mamXyqp6MYXFFn5aGbWoctfPlmhmoVyQoXeOSl7jRdrVZoNF20g517zSMhUQO5dQWjnF7rPK7Z9HXMMAQAAAAAAAAAHjMAQwFGp+My3yFdS5u1lBCqmygmG7Oy+ZGujrSAMVE5RcMIsdz1sw71ka5NtJdr1zD+V6mrz7ulVGfp8StgqxKhS7c2K161w7zN4aJjwKgwzod3esxEPtRdrl5qVYI4hAAAAAAAAAOAgIDAEcFQKVPSfX2iY0M9fWqHk7h2K1S6z8wz9pZW2utAwIV90zZNKR7psINiz/EGlezrssez1ku66CRqTbbtyLUsHE9/Rv33p4bav6sK+TJUhcwwBAAAAAAAAAAeKwBDAiBKaPDc319BfngkB+4aLPaseU8oLCXteuCdXZegrHS/HH1Sqbbede2grDfdRwWfalab2UXk4VJHVj6nzwVsUN1WAybi3OnSp9t1Kd7Ur/SIzDA3bOpW2pAAAAAAAAACAA0BgCGBECdiQMGy3Q5Pm2PDQ8dqNRjc9p/i21XKKRsvxB5Ro2qp0ItNO1M5DtGumIs+0JN2leMMm2550oGTzVukl2oG+lMiqJ9Tx4G/tnEElhh8YmjmFNgx8ierBRPM2KgwBAAAAAAAAAAeEwBDAiBL0QkLDVA2aENC0KnUcfy4gDM88SaEZJ+XOC02aq+DE4+2cQ9PGM51O2XNTnS2DVvBlz8mKb19z2NuTJnfte4ahrVp0n6ORbN/lvubhB5IAAAAAAAAAAGQRGAIYUUz7UXntRwMVU20IaNeCvfMOw9NPVnjGyXJChd6K+8uuwISKPlu1F9++btDKwgNhKhb3p/XoYExgmerpVDqV9FZeWvfTf7fhIQAAAAAAAAAAw0VgCGDEyVYZBvvMLuzLtCoNHnf8XsfsWqhQqbZmpZOJTJVen0rCrHS0S0qlFCifZAPJl2LCwp7lDynd3e6tHJhEs6kufPE2o75Qpg1rsmO3DSrNZ3ntVwEAAAAAAAAAGA4CQwAjTqbF6OxcpaERLJ9sA8KwaUUaLvJCxd4KQ8MpyIRs3S/co1RXmxfM7V1paFubuutOuNi900v/moy758d3ru93rfiOtUpHh9bGdGB1YsJUQLr33dfzM/w2zCyw9zUzEmlNCgAAAAAAAADYXwSGAEac4KTjFTpudv8KQhPu+XyZoDBcaOca+ssq5PgD3glSoDxTkWjakg5lJqG5hrmmCe6im5eq8ZpLtfN/ztSuH35AiV3bvbNMOLjG3d9mqxYHiq5+XC23fFmtf71WybYmb7WXCfw6HrxFydbeY9nwz1ZAvkhb0mwFZMx9PbHNSzLnAwAAAAAAAAAwTASGAEYcM7vQP/a4fmGgDfccLzD0KgtNQGiqEH2l4yT33MGqDl+MDRiDYaUj3Ur3dNo2pUZs2xobBKYi7porvs2bizhINWCybZeiW5YrsuR+pQZpWWrDyLVPKbrhuVzgl9i175akieZtucdxbFtSvw0LUz0ddg0AAAAAAAAAgOEiMAQw4phwsPCUS+QrKvVWTIg4RYFxExWsmp6rPDRrJvDzjy634aKZbegbEBgO1vYzO9vQBI2OP2jX7HmJqArmnu0+7mh1PPIH27rUhIjZawx2razUPqoF7X1iEXU9+sdcleGLX8fMV+x/nfiOdUpH3PXDxDxeonmL+34wMxEAAAAAAAAAjgUEhgBGpGy70L5MINi3gjBTUVjg7WUEKkwbz95WpjZoS2cqB7OygZ0JGk1lYmZti10rmPcyFcw/V4r1aM+N/62Oe36uVFerPSfV1txvFuFAfasDs0w70ZR7LfOYe377Be3+6cfseYZtm+pVNRp2XqF3fTOnMVA51Qai2euaax2utqSxzUuV7qaqEQAAAAAAAACOBQSGAI4JppowWLOwX0A4MEA0AuVT5QTC3t6+ZVucGsn2ZiVbGtyNhG1TWvbmz6v47LfaMLHjoVuVbGu255nQT/uoDDQGqw5Mtu9275gJAc39o7XLeluTDqg0jKx+QqmuNrsdKJ8sf8lY9yn67f7hlOzYre7n73E/7/JWAAAAAAAAAAAjGYEhgGOCqbgLzzpVvnCxt5IRLJ+ca1FqBCrc/WBvYNjzwr3qeuzPuSAuy2/u552XbN+leP0mG875CktsZeOoV35IwcqaflWOtlow2qOeJfcp1dnirfZKDggATZvSVGuj/GOrVPb2r2rcR3+s4MTZ/a5pQsOkuVYqZQO62JaVh62KcF9S7buV3FOveMNm204VAAAAAAAAADCyERgCOCaYCkN/8Zh+YZth1n0lY3PVgv7yKe5iyFbomdak0U0vqP2eX6jl1ittAJZsbcy1FXUKimxIaAJD0wrUhIjqEzaG550tX+Foby8TLHb86+fqfvZfSkU6M2u7ekNCEyam+7QYzVYQmqrF/8/ee8DJlV5l3qdydZZardjKWRM0Odpje+xxHCdMMHhNMrCENWFZWFjWLN8Cu3x8wC7smhxsMLYxTjiPw+ScpJlRzrmlVudYuep7n/Pet+pWdVV3dZJa0vP/ud1Vt25Orbn/es6JbbxJYptulcX/7r9LtHO7BONWTEIqZk7v03RibqhXUoefl3zClgINL0V51VKiMnPusI5/qUi+8jBThoQQQgghhBBCCCGEEHIVQGFICLkqqNbTEEDGRVZtKaYFUaY0GG2Q2ObbJRBr1mEgdfRlGXnor20fwFxWh2FaSEX0DsQwm04spRUbb3m7BJsXSWT1dol0bpVCYkQSex6R/PiwN4ZNEbo+hLYPYimRl/V6DgZbO0RCER0Gkdn6gV+T2PZ7VAbmR3okiyRfJiWZc4ckc/ZQUUAiVVltm2uRH+mVzOm9VlR6ZVBnQ/rEbvYxJIQQQgghhBBCCCGEkKsACkNCyFVNRPsYllJ4AIIvuukWCcTK+xtmL0LoWRkXau2QQCisrx3BaJMEAqWegRB90XU3SmzjrSr63PiZcxCBCX3tp5AsyUPgEoaR1dus8PSImvVTGWhIHd0tySMvajlTpBwdQax7HbIw23OmKCmT+5+R/n/6rzL62GckPzaow6ZLttfMzytDquVX9z9ZtfwqIYQQQgghhBBCCCGEkCsHCkNCyFUNSpL6exaC2JbbikIOQNahBGi296xIURgulYCX+nNEN98qgXh5j8T49a+X6LobJLJqq4ivPGg1kBAspEslQ1HCFOVPbZKx+rTZ3tOSOfGaZCpSgSiPimWWlSRFYjE55r2zjD7xWclcOCGSz3lDZgcSjpmzB4oSMn1st+QTpUTl5URLsnqlYAkhhBBCCCGEEEIIIYTUD4UhIeSaI7b5NgktWiaBYl/DtRL2ypaip2GhinTSsqNI/lXIx/h190l0252aEmx94Ccl1LbU+6Q6id3fKSbykP5DYtH1K/SDBGEAPQyH+1QqJnZ/10zX731qcWVYg9HapUkh0dJmm1AaFeVW8xVCcTogXZjtOyu5sSEpeAJSk5S+1OTlpJA265KbGzEKhr76Z3Lhv71NRp/8l2LfSEIIIYQQQgghhBBCCLkaoTAkhFxzBFuXSmTFpqL8QwoxtvFmCUQbtJehP6UX6dyuw5vu+T4JtbR7Q8uBuIusvV4a736/BJsWeUPLaX7jhyRiljP65Ockse8JW440l5HQ0jUTJCSoTB1mzx2y/RCrYOcRt+nFQkneIf2HvoqabEyVtgmpRX8vxclIH3+l2JPRpguRkixNC0nn5OHlBglRlYaEEEIIIYQQQgghhBBCpgWFISHkmgf9CsMqEKOS1zKhWQm2LTEf2J6EtufhrSoOa+HSfrVAirHpvg9KqKVDUvuflsyF4yLZjISXrTXznSgMK1FZWCXJF166RqIbbtLla79Cn8xLq2Qcs8IQ/RM9kArMdp+Usaf+Vfo/+RuS3Pdk2XR+kgeeLvY7TPnkocPf0/Byk+06wpKkhBBCCCGEEEIIIYQQMgMoDAkh1zxh9APstCVJHdrDMGx7GDbe+nYJ1UgOTofYdfdJaPEKSZ94RZL7nlC5FYg1iQRC3hj14wRlINqo5VUxX7e+DicKIRKzfeck231cCl6PxuFv/Ln+QBbmhnuqpgQhA3MjA8X+h0g5+pOKwZYlE5Z5OUl3HZZCYu6FYfbc0XmZLyGEEEIIIYQQQgghhCwUKAwJIdcsSOchVYi+g6HFKyXY2Cri9TV04LPYtrskEG/yhkyO9jmMVU8ioi9hbMvtuozUkZdUQqH3IYbXg79XISSnK1kabO3Q9ZdQpJhEzI/0SvbCsWLp0cy5g5Ib6i3KvxySlNmMvs6cPSyFKuVOtfyoJwi1NKmWNz1sXu/Wsq2hliVmRaL6+UIB0pApQ0IIIYQQQgghhBBCCJkeFIaEkGsWl+6DcAuEwrLoh/6rlvfEa0fTm/6dpg1nS7itw/xfRBpueZsEmxd7pU8zEjbLxvBKrMwsL1Uau/51Emxs895ZUNI0hnX2hKb2RswkJX32kOST42Y+q1UsWvlnpaD2OqxS3rQSJBTTx3aphEyfO2jmV0oX+sF4+Cw/0ieFbNobOjvQjzDTdWT6PQlTZvzc3PRUzPWd1fKt0yV1+HkZ+MzvyMhDfy25wW5vKCGEEEIIIYQQQgghhCxcKAwJIdc0mgj0ehMitdf+kT+S2HWvk8iqLRIIx6bsTVgvwRZIyYguo1l7GS6xw1VWVinr6VuuSxZimui6GyWAzzyinUg0NmofRn95UCcIG+98n6YkkQpEQhBor0MveQiQPkRisBJIOzde9hxSiKVxwh2rzTYtlkCwVE7Vn1qcLVh3rG+1UqnVgKyUbNqu83QlYw0gC+tdvp/ccL+kT+2T3ODFYqKTEEIIIYQQQgghhBBCFjIUhoSQa5ZQW4eE21eWCTsIwvYf+wMViXMhCqvRePf7VUpGN96iPQinwiULQ0vXSrijs0wMqnA07yETsR1OcjlBiO1A2dNCvjBBXkU6t9qUZRVQ0jQ3cF4FINKQmQvHpZAuSUasd3jZhmJZVIBypdXE40zAvPJDPXULt9xwnxQy6TlNOc4UTUZ6cpYQQgghhBBCCCGEEEKuBCgMCSHXLMFW27vQX4J0tkRW76hLAra+55ckvv0eM2552dFqRDfeKsGGFk0nhtpXlwlOW7q0JO2yvWdUWOVG+iWycrMmD0Nty8oko8OlElXO+dKDACVNnfzT/oXjw/q6GjmzTPFkopY9naNUnU0LliRlPeTmQRhm+85KHmVcp4lO55WBnYps3zm77wghhBBCCCGEEEIIIeQyQGFICLmmgYSr7BV4KUCSsfn+D6vMq4YthWrLfeJ1bPNtOm5k7Q6bTMTnPnQ7olYcZr1ypJHObTqe/zM/KJMaXXdD1ZShSkRPGKaQVhyfmJgLxhp0HfNeqhHTpM8elPw0JV81Ml1Y/qj3rn607+AclSR1YPtm0hdRp6tTnmZO7pFs//kZlUAlhBBCCCGEEEIIIYSQ2UJhSAi5pkF/P5nDhOFc4ReZeN1w53sk1NIu4dYOM2BiWlA8eYc+g+kz+6wwXL1NgvFGCXeUpxCrkTl3SAWhk1xIDfr7HIIgyp76lh3CfKuIyJmCcqK2DGrarH9CshdP6u96yI3aZCHWP58YrVvULSSyKGU6SZKTEEIIIYQQQgghhBBC5gsKQ0LINYvr7zffCcNga7lomwlWIMZtz0JfSdJKsj1nJH3iNUGJ0Si2Ldak01SVjAakECEVQergM9L/d/9RUqf2Sqb7VLEcaG643/xfWkJmOyQU1WFWRtpkYrbntBQyCU0YFmaQCnSgD2HmPHolJiTbd0byIwN1J+7yZh1dKVKUZc3PMmVoy5DObB7YF1jv7Pmj2keyXjLTHJ8QQgghhBBCCCGEEELmCgpDQsg1S7itQ2QS+TYTImu22VKdBttfMCahlpmlGJf+8idk1R89Y+Wclii1t+zo6u3VS5J6KUL0zQs2LS5um7/PoT8lGFm9VQKe9Bv5xp/LwGd/V9InX5PUnsckPzagw0F+pFcK2YwnFyeWL0UKEKk+W5b0SLH34UyA7MuNmGXn8lJA38DCDEqBjvSJZGbXx1CTjTMoQwpyvTPrR0hhSAghhBBCCCGEEEIIuVxQGBJCrlmCrUslMI/lSAPRpqLkm0uCbUsmpAydUERKT3IZCSGJGLZpQBDp3KqSEcP9ktQOb9JSnkGMHwxJbgTlPTMS7lhdVnIUCUN/UtIvEJFsrCxhOl1QBhXpyMzZA5ruy/aelUJq+vP0pw3ngvzozOcH8VhPShL7PHvhuFl3s+/rGJ8QQgghhBBCCCGEEELmEgpDQgi5wojveL0Em9q8d+W4NGBAexqWbvFOIGra0CcBIRrj198nS376f0nLO35W+ySm9j8t+bFBm2IMhLwxzbgt1UubqmAcHzILn53ogrRUWTjUM+15aRrRmwblTFHWdK5AYnGmwhClTetJG+ZG+qWQSdU9PiGEEEIIIYQQQgghhMwlFIaEEDJPBOINEvAJt/kGiT9XqjS8dF2xDCmwwjAigWijBIJ2ncIdayWyaou0vuvnJbbtbgl1dKoQ1N59+dyEEqS2tKktt+rvywihlrng9R7sPT1rWZc8+Kym+kA1+VdN4GV7zqpwBPWm+hYi2a6jkh8f9t6VcyVvFyGEEEIIIYQQQgghZGFDYUgIIXNIdPWOorSLLF1n/i+mry83YU8mBuNIDdpbv00hloSmSsVQqYypvwQpypMGm9vNpHbaUMsSMzAq4VW2D6KW0sxmZiW1Ml2HJZ8ctaVI07YUKdJ2/vlBCo7v/q7kkEKsQabriBQSo967EsnXHilOh2WgX6O+n0MJl0dSMJvy3lnJN51eiOnzR826V+9jmNz7uCT3PVVTKBJCCCGEEEIIIYQQQshMoTAkhJB5RpOGPjE3XwRjpeWgN6HKQY9w2xKJrNgo4VWby0qS+oFQ9K9ndOMtEmho1df2s4l/MlDSFNMkDz4j+dEBb6gVexBx2V4kBMv7EE5V4tP/uQo3n9DLnjss6WO7pZAc84aUg8RkIN7svSvHrRMYe/oL0vcPvyaJ1x4pJhP95FRalkqDDn/1z2Tw83+g2zPZ+mt51kzps1zfubL5TEX2/FHJ1xCGudF+GfnWX6joZNKQEEIIIYQQQgghhBAyl1AYEkLIHNP2A78pS37u4xLqWK3vkTQMXIKkIUqM1loO+g8GGtvE9SQMtiA9WEoTgnBHeX/DapLQX4oU2DKlpWkgzCSbkZQnEK0wLBdyOU0jThRuVg7mvXcWTRv6hB56/CFBmEOvP988dBk+iZZGWrEiZZjc86jkhi567zx0mVnvTQmUZfVLOSwzecBs09igvq4l9RyB6PQkca7/nKYpQa35o89hfnRQ5WXmzAFvKCGEEEIIIYQQQgghhMweCkNCCJljoqu3S2zTrdov8HIRXgp5WJ4kxHq5noS2/GhJ/FWiQtF8ruVVgyErBqMNKh5RitRRKRk1fZdLS/r4K5IbH66aMMycOyy5od4ywQeq9SusBNOibGna/PaXHYVIxLSQtEhaVoIUoQrECcssF5KToduWSZtpSnLPj394aEmn7jtIPn/isBZYBycoJ+tjCLCcxMvfktzABW8IIYQQQgghhBBCCCGEzA4KQ0IIuUoItkHmWQmIUqH+/oQAfQwhCiNrrpPI6m1los8R7twqgVhTsX9hCEIwErfyMxiU5jd8UNo/8scSv/6NEjTTV/ZBBLafoZVkyVcekdxIr772k0NpzynkIKhMKOY8qZg+8Yrkx4e8oSWCup4hr6Ro5XTjtmRojXKi9YD0X/rMwaqSMfHSNyXb36WvVVpiPXR5pZ6Gs8FfrtSWPp2b+RJCCCGEEEIIIYQQQgiFISGEzBOhtiUSXXeDhJauMW9qp/nmCldmFL+dOPQTXb1NIqu3y+If/m1Z9AO/KaHFK7xPJuKShZUgURjbcJPZtg79PNK5rZhadOSGeyXbfVwkY5OFmbOHJO/rOZhPj5eV+0T6D6VCC9mMN8Ssq1lGsLG1LHmHhF9ubMi8yEkWZTuT5SVH0b8wvGyt7gMVer5luN6CuWGb+FOZ6Pu8FsGW9gmlW7UcapWEIbYj8erDkhvslvCS1XYfmuUUclMvx08+M/W6Zfu6zPJK61Ar9YjtnO7yCSGEEEIIIYQQQggh1x4UhoQQMk/Er7tP2n/8D6T5DT+i8utSMVW50cmIqgBsnFBqVN9XlDh1WFFZWt74C1+XTPfJoujLnDsiBZ8wzPWckfSJV4vD0gefkfEXvyn5kX4JRm0yzy6/QVOBrq+hliH1JCHkXPrMAZWGeC2eFHPS1ErJUm/CPERhNi35UfRYRFlRW4pUeyT6koiVBJvN/CIlYQhRmRvqkdwwBGd5UhEJwPTx3VLw9R9UkYdtmAbZ3onyLz8K0ZmS8MrNEmxoURHp772IfZe5cHzCdFYklvZ9Ncae+BcZ/uZf6L4ghBBCCCGEEEIIIYRcm1AYEkLIVQJ6FC779c/K0l/5hISXrfOGzo7Wt/6ELPmZ/yUNt75jQpLQYRONNtkIcWjLfyZtsjA1Jtne05NKufFXH7GizYwTv+ktKjzDHatVGPqFnib7zOtwR6d+lj74nIoylDetnL+WJIVI9MB4Kgw9ceiAbCz2DvRNg9KjfvHnSHvDbVJxYklQl4hEMjG69jor96YAy0KpUWxToEqqE9heiCktAyuhsBWByZIczJn3SHYWciWJ6MC+mSxlmDzygow++s+6HugRmb14suq2EUIIIYQQQgghhBBCrl4oDAkhhBRxSUKUGkUvw2BLh0TX3VgsQVqN8FKbRgx54lATf/mclywc9aSfLU8KIL+ySMOlE1ZQ9ZyS1JEXJT8+rJ9DFkK4oXxqwCcpsz1nzbyT0vzmn9AkZNJMkz75WlkvxEjnVgk0NHvvSriSpChrWq2nYKbrsKSP75J8cqIkrAaShpVJQqQaHVh/Ccf0dc6XGIRQzCdGi5LST2hJpy1jWkHm/FHJDXTrPg0tWS3R9TtVRGK7nQjM9k9MJQIkE23ycPKUIUgfeUEGPvv/SP+nfluXSQghhBBCCCGEEEIIuXagMCSEEFIkEK/eu3AyQq1LJBCK2t8V/f4AJF1+3PYeLL4fG5JCPi+pg89KfnRAh4Nga7tE1t0gkdU7JBBr0GEQjpCMmbMHJGDmgfRk05t/VMJLOmX8xa9LbuCCjhdZtVWCcSsLNSHo63Ho0olOHBaBbDTzhNRLn3hNk36TkfPEXA4lQn1JRZV1FSm+kNkWlDP192wce/bLMv705yWPPo9aLrQk+ULolxixktFP4uWHZPS7f6/j+0Gq0IlAiMhcz+my+YH8yIDZP+drJgYhBp2o1W1ispAQQgghhBBCCCGEkGsSCkNCCCFFrPSLaGpQy1/Wget3iDSiv5dh5twhyXt9CrM9p8uSgBB3kIapYy8XhRVASjGyYqP5vVjCbctsP8LUuKR1vCGJbrxJ+0HGt9+jKT5N+vnEIIBIRHlPPy71qKU9faIPvQwxf/xOn3xVConyecU27JRg0yLvXankqC15WpJz1ZKLoWYkLmPmMyviUoefl/GXviGjT39RezyOPvJPktz/lM7Tjm+FIXohOnEJoZc6tkvSZw/q8rBtmjA0+0DLsHoiMnPhmGQHL1ZNLkIa1iMCs71dZl+a44X5ViltSgghhBBCCCGEEEIIuXqhMCSEEFLESr+oLY1ZZ9IQPQch+aIbdkrAS/gBlPlUAYXXWp50TEuQ5pOjKthSR16w6cAKyRWDDGxuN+viJRZTCUkd3SX5sWGJrr9Zgk1tOl4w2iD5TFoyZw7qPB2BqF131//Q3wcRy9VyqJ6kcyCRmBvskezFU2WfxXfeL8t+419l0Qc/JqH2ld5QiMZzVkJ65FTK+ZKLBiQk0ZNQ+ywOnJexJ/5FU4AoEzr85T+WxKsPS7bnjNmuwQn7wIF0Ya6/y3vnzTNkj0u2r0tlJ+Y3mRDUz6uUYQU5Mw9/L0SQNcvDfP3pQ0IIIYQQQgghhBBCyNUNhSEhhJAywp1bJVill14tVOw1tk0qGLO9p4vSzpEfRiovI/Gb3qzSEYQ6kGwsTwemuw5L6uDTZiZpiW6+VYJYlgH9/CqThEBTkigFmrI9/groLZgvJeaQJvSvSyGVVFmI5CHEYbU+hmGzrCBEpA8tc+qlDCEixSflIqu22B6MZj+iJOn4C1+XzPljElq8XIe5cqQoK6rlU735hFds0v6EAInE5KHnKhKY7RJZe70EzDi6XbmsTU1mUnZ9PEHrgPRDmrGQri4MbUpxYpoQ65U+uUdTnYQQQgghhBBCCCGEkKsfCkNCCCFlRDu3SSDe5L2rj8abH1BRVwub8ktaMeal6bT/4GC3xDbcbIWjQaWcJx4jnVs1sZjrPSP5VLJYjrQSJBnziVEJd26RQENzMZkIgZbc84ikDj6vnzvywxBspTRg6vCzVvgZVBgmRrTUqX8a7adYIUS1nKknHl1vRJRJrezjCPGW2P1tLc/a+r5ftdvrzatW38DES9+SoS/9saYhY1vvLApVJC9dn0Obchw363pUCuPDui5VS5KiR2SNhKE/nYgkoxOO6VN7zX55gQlDQgghhBBCCCGEEEKuESgMCSGElBHUPobl0msqMA3ScYHIxL6HEHiFxLDkxoZsyc900vvEAjEY23RLTUmpCbzkaKlEqYdLErrPHeEOmzyExBv5zt/L8Lf+UkufIvUHAWn7DfqE4fHXJDc+qK8z521pUog3zMOJvWpAPIon21SGmmkabnyThBYt12FYHtKCtodhWj+LLFsv8ZvfIrEdr9PP/D0VQ+i96CU7x3c9pEKw9d0flUU/+FsSXrZOh4PIys1WnGI/5rOedCwvh+pnspKlLp0IkDZ0wjEDYXj0xVkJw8Tu78jId/9e+1cSQgghhBBCCCGEEEIWNhSGhBBCyohDZjUt8t7VR7hjjZbLhGCzYi/ifeITeEgK+kqB+sE40fU3lUlDJwQd4SVrbNLPo1IgRldtlWC8lDBMvvao5IZ6vE9RztPOT9OAvsRdvv+s9kkE6F849tTnzLqeldj2u3RelbgUYWLvY5KBAM3niuVJIyu3SKDRlhT1g2Rg/Ja3SXDxcolvu0sW/eB/kfCqzZLrt6VJge1PGNbXAPss0rlNQouWSXTDTRLbfHuxXCnQsqbJcU9IpmxCMFVektTOf8yMi8/scvwgfVhNJqKPIeadnUUfw8Tu76qwpTAkhBBCCCGEEEIIIWThQ2FICCFkTol22lKijnDHWglE4yrqcgPny9J9kVV23MiqbRKsSBhWisd6k48qKP1iEX0OgyGJbrtbpSZSdeJL5Gmvw3xOGm9/l4TaV0rq0PO6rg033q+yDqCHoZtnfOtd0vS671d5N/rIP0r24kkdHl65WSJrtttxvfWMrr9RWh/8D7L0P35SRaEK1eZ2CTa1SWTpWjNGQHJDF4vSLtRRShkiceh6SUbX7zTTLdbXAMsKNtjyrJkLxySfGBbITsnltG/h2NOfl8SexyQ7YObt9XEs5Eq9CpEmzJw7rOteK30I0HdxJn0MIRzzFfKSEEIIIYQQQgghhBCycKEwJIQQMmcEW9sltHhlUfRB+oXaV6hAyw/3Sa7/QpkwdIQ7t0qobemEEqD+noYuqejQkp+emAyraCt9pmlHT9o1v+NnpeVtH5EIynoGwxNKkoLwkk5puP1dEtt4i84nvHKLhJeuK85D03++dWu47UGJrL1BMmcOSmLXQ5Iz2+bwlyVtefvPSPOb/l2xB2EZZtswT/QKzA336qBgpJQyVNHpvY6uu1FLkbr+hY7UETOtL0UJ0NNw7MnPS3Lv49rbEOQqEobpU3tk8HO/J+nT+70h1bHCcPoJQysvS4KSEEIIIYQQQgghhBCysKEwJIQQMmeEWjoksu4GiazepqlClAGFQJRwVBNteV+vQYD+hUgWBmMNEr/uPgm2lFJ0IORJQlcGtBYBn1gEweYlukwQ7dwiLW/5SYkh4ecTji55iN/ND/ykRNfskEUf/JgZ9yek8Y53aaKxGlinUGu79l0MNi+S5MHnVUJaadkoYa934VREVnm9CGsAienShhCW8ZvebPblCn0f1T6G6IE4IK6PIsj2n5O8JwYzXUc1eQhQCtafMMyb6ZAsDC9ZpevhllNJFunFWfQxJIQQQgghhBBCCCGEXBlQGBJCCJlT0Hsw2LioKPBUCsaatCxm5uxBKSSrl6pEytAlBiuBeBRfeVKgkstbhhOLDl1mQ7OVeL7hfqLbbYnSxtd9vy0X6o3XfP+PSvN9H7TLrIKOZ5Yb23a3BFs6bJ+/xIgtRWo+84u+yXDC0qGJyToFogMpwtzABe+dl+zL5/S1X/bl0O/QVyIU/Q/z5jg03vV+aX3vr0h4+XrvkxLYFiQg6+ljWFm6FP0UMX/7+nzxNSGEEEIIIYQQQgghZGFCYUgIIWTOgCy0JUltug/v8RqlSnODF7V3nj8tCLEX8HoXImXoF2gAZUiDsbiEOtZMEH/+XoUoXeovGYp54X14iZnOGwdAyrn+ihB2jXe+V5ru/j4tnToVlclBCDyVeGZb0FOw4eYHqpcerQF6FFYKQE1YevsmjARijaSinRYS1vZfDK/cVOxpmB/pl0K2vC+h9mnMWZEIMB3EoptPNaLrbtBjVU8fw+S+J1USOnT+XqIxnx5neVJCCCGEEEIIIYQQQhY4FIaEEELmjNj2eyTYvFhCS5G2i2sCD0INpUpdQlDLlq69vigKJ0NLjQbCmvZzkrEalf0NQ0j7xRok3Ik+h9WlGxKBTa/7fgm1r/SGTA5SiM33f1gabnhDUeRFN+zU6Vsf+PGqKb3JgLwML1sngUhpu4LN7RP6FFZDJWjIl05ciXRiiyYJM71ntNyoH6QNC155UpDx0oeQppFlazUBWklsy+0SbFvmyb+SbKxGtvuYJPc/o7KSEEIIIYQQQgghhBBy5UFhSAghZM4IdayVIERhReLP9iqcWG601nCHJgVDQVty1JcUdKCkqIrECoFmE4mNKgX909nEovcev4Nh+7oOUIIU5UpD7au8IXZYixkWWXujWY+pRV8ljbe9w8yv03tXzmQlSsNmGif5bLrQCsx8OqnJwVpkzh+V3GC3CsDwik0SMPNX0ertOwzDMsNmG13yMNvXJXlfOdNqFFJJyXQdKiYR65mGEEIIIYQQQgghhBCycKAwJIQQMme4sqLxHffK4g//vjTf/yEJNi+S+E0PSHTjzZo6RPowguRfRYnRarhSpGGvtGklwWb0NoxK2Iznnx/WAyJSE3y+4fq6ouzpbEBJ0obb3yWhRcu8IdMjtvUulY6htmVlgnUq/AnD2LobzXzuUPk3GZCFY099XkYf+4zkBs57MnbiMiFEISs1PTnFPIErWZo+tV9yXsKwnlQiIYQQQgghhBBCCCFk4UBhSAghZM5BT0D0wAsvXaeiD3Kq5a0/JZFVSBS26E9k9Y5iP8GpwPwmK0mqsrBCuMV33q8izg96Kbr5BGONVYXZpQYpw9jWOwX9DLXnYyQm4SVI+JVEZzVQ+lXH1V6HXv/C0b4J5UjtvBptCvDcYRl7+vOS7T2rycZq/QshVUNLS2VKUc4U5UtroX0Uc1mz7H4z7nEpJMuThbn+82bZTBsSQgghhBBCCCGEELKQoTAkhBBySUA50Oa3/JhEtIRms/kLNPWfICQMI+tvqtnvECVNw8vWasqwkvj2uyXY0u69s2gvRK9nYGhJZ1n68HKBNF9s060SaGjRHoYdv/CXsuw3vyDRtTd4Y1QnZMYNLV4hkeUbzf5p1GFI+GVO7y8TfK4vYvrUHpV6jmCLFY7VCEEymn3uSpRORq6/qygJ06f36TrkBswwTxIWUlYo+imkkxOGEUIIIYQQQgghhBBCLh8UhoQQQi4Z8e33SsPtD0pk/U6JbrhJgjVEoENLizY0T1quM9RckoB+qqUS0ddwOn0LLxXxG96o8m86QIZG116vQi+ycnNNsQcxirRg+tTeMmEI4eiEoe1ZaKUj5gWB6Z9f9vzRYn/CSrJ954r9CjNYxkifphknE4LD3/pLSez+juQr0oiEEEIIIYQQQgghhJDLA4UhIYSQS4r2zptGvz4Vi01t3rtyMC/0D5ysXKkfpBwXQqqwEpQfnc4+ARB+kbXXSaCxxRsikh8ZkEK2vCRp/Po3Sqh9hVc6NFcsUaoJS6/sKPZJIBTW9Gd09fZiOdJQh00aTgbSguhXiBKpuZG+ojysxdiT/yrJvU9IbrjHTMeUISGEEEIIIYQQQgghCwEKQ0IIIZcclBLVMpxTyCgQNePW6nUYWrJaf+oVhqDx9ndpP8Xw4pXekCsTSMbYxlsk2GTLrgYjDVIYH5rQwzAYi0uwdWkxTdh41/ul4aa3SGjR8qo9HJFcdOMGI40SCIYl14eyo+M6rBLb43DI66kYl8x5+74aid3flbFnvyS5wW7b2zA56n1CCCGEEEIIIYQQQgi5nFAYEkIIWdBUKy3qJ9TaPj1heMeD0vK2n5JQ+5UtDGNb7pRQx9qi9NO+g14ysJKwpglLJUfb3vcrEuncpu8rcf0Li6/NdHlNJ05MA6LEKQRleMVGCTbaFGj2wnHJjw1JIBpX2ZiBUDTvQXL/k9rzEGhvw3xOXxNCCCGEEEIIIYQQQi4vFIaEEEIuC0gZBmskB+sl1LpEQkgKVulheLWjZUyrJAT92NRfTIUhyoziPfaVLUE6dQlUSD8JhVUCIhVYKQ1zKIGaTkqopV3C7SuLyUQQQl/EigQpxnXzgDhkwpAQQgghhBBCCCGEkIUBhSEhhJArFqQPVVRNI2F4tYLkYNDrZ6hCMBiSYHO7SDjmybtGKw6rlIGF8IPsC+p0YW+oHR40wzPnj0r/J/+zpI/t8j6x5PrPST41rsuBuMU8cn0YNlacpyPb3yX55KgmO7EONrXIhCEhhBBCCCGEEEIIIQsBCkNCCCFXNFOVLL0Wid/wBln04d+TRT/0WxJZvr7YlzDUjtKkE4UhhJ9+7itHCjC85Z0/Jw077zdvQpI+d6isPyESg5LLShDlR0NWNKZP75P8SL+EKxKGhXTCjJuTyMpNEmhsY8KQEEIIIYQQQgghhJAFBIUhIYQQchUQ0j6FJUGHxGF0zQ7tQWh7GDaZ36sk6PUy9NNw69tl2W/8qzTf/6MSbGz1hlqi627Qz0NtyyR7Hv0Ih71PSgTbzXxbl2j5UocOizdZqZjPSa7PCsJApEHCS9doArJaD0N/2VJCCCGEEEIIIYQQQsilgcKQEEIIuQpAT0OZpC8hkn0RCMQqJUmnAtIQJUYzp/ZKfrTfGyq2rGjeyj2UPa1W7hRJQpQiVRGYz2nyMNTSYf4FEvY+G/PGtGTOH5OCL8U4G5L7n5bBz/yOJF5+SNeBEEIIIYQQQgghhBBSHQpDQggh5CqgsmdgJf4+g9PFTrtCciN9khvuKyYAbWqwXPg5JvYwPGelXSwuoWVrVVzmUyhTWkoTQipme89MkIgzBeVRk4dflPSZ/Sx/SgghhBBCCCGEEELIJFAYEkIIIVcBrg8hCLd3Tkj7oa9huH2F9276RFZskmBjm6RP7ylLGYJqsjLYvFjCKzYU18P2O0TCsFMThuh5WNnHUNOFY4Peu7kjPzpolp/y3hFCCCGEEEIIIYQQQiqhMCSEEEKuEoKRBu0NGIjFzZvy8qSuj+FMiay7QYIoS3pyr+RHyoUh5CCEYmW5U/QrROlRoHIwNSaBaFzCS23C0JUpdWS7j0lujsqR1oI9EgkhhBBCCCGEEEIImQiFISGEEHKVEFqyalZScDLQxxD9BzNnD0kWpUhzWcmPDkghY5N7EIEBTw6G21dK0LceGC8/NijBtqWaOITQxLi5/nNlCcP0qf2SOvyiGXdIMheOSe+f/5z0f+LX9fVkTCUB82NmPZFwNIx8+28lfeIVfU0IIYQQQgghhBBCCLFQGBJCCCFXCaGOTomsv1FCi1Zoyc+5Jrr1DgkuWlosS4ofJwzLiDaYlQlLQH+HZOgr/1vSx1+RkJZNjdvf0ZjkVfTZhCGkYm7gvJmfFXu2hGlWsv1m2BQ9DbMVpU0ryY1AbCZl7OkvSGLPo5Ib6mXKkBBCCCGEEEIIIYQQHxSGhBBCyFVC093fJ0s+8kfScPMDEog1ekPnjtiWOyTUtkzGn/uKpI/tUlnoTxOiNKm/l2HzG35YGm54o5ZJRbqw+a0fkfCqLd54cS+haAUhUoT58VL/wlz/eclPIQodqf1PSbbvnPeuRLb7hCYbwdhTX5DRxz8juYELVkxOIhgJIYQQQgghhBBCCLnWoDAkhBBCSF2gJGnDbe9Q4Tf62Kcl03VUJNqoaULgRGBk5WYJNrZpmdLWd/+iNL/lJ2Xxj/yOCkeXfMR4hfGRYkIxe+G45MeG9fV0QVIxc+5wUQ5WUsgkJHX4eZWFhBBCCCGEEEIIIYSQiVAYEkIIIaRumu56n0RX75Bs9ynJjw95Q2sDadj8pg9JdP3OsjKp2m8xXupzmD69T/IjfZKrKC+qKcR0qeypP5VYJJ2QXO+ZstKlrqQpsGnF2onCzIXjmkZ0fQ4JIYQQQgghhBBCCLnWoDAkhBBCyLQILemUQHxiyVPXszAYjUvA/K6HzPljkj5zoNhXENKukLd9DUGlIFSxONznvbOgz2H65GuS8xKGmEe253RNSVhIJ8p6GKK3YfLgsxNFJCGEEEIIIYQQQggh1wgUhoQQQgiZFiGv9CiIrNyk5UdBdN31WnY0uunW4rBaoLxpoMEmDLMXjkmhjrQiSLzyXUmfPVQm/ACkoUsY2vKmE8uTYp2RckTi0KUYE688LOnjrzBdSAghhBBCCCGEEEKuaSgMCSGEEDItgi3tEojEvHclIAvRq7DhlreVlRutBtKIgSDkXZcmBisFIJKH1aQfxF765KtavhS4BCJ+50YHdT5ZM8/k3icm9CwMr9ggwaZF3js7bfK1hyXXd9YbQgghhBBCCCGEEELItQmFISGEEEKmRQjpwCmE4FQEWxZLIBqzAvDcIcmPlRKG+dH+svKgKhWTY8Xf6aMvS26w234GYeilA12yED0JM+hJmCn1PgTRtddLsHWJ986WIk0hXehKofqkZX6sNF9CCCGEEEIIIYQQQq52KAwJIYQQMi1sOtD2KJxOv0I/Qa+sKfoJiifqwis2ainT3AhSgyXZl/fGcb8hBLMqBMuFHoQiypLis+xF83mF8HPLxHwgBzPdpdKluYHzUkiUeh7m+s7X7IF4rYB9o8eHEEIIIYQQQgghhFz1UBgSQgghZFpo38Im26MwuKRzVmlDlA9Nn9wj+fEhlY8SCnufTMTfezB9ep+WMnWSEEAkps8c0HHyKE/qE4qh9pUS9NYT88kN9ZoXOX1fjfSZ/Wb+ZpxrhMqEJYAwzKcoDAkhhBBCCCGEEEKuBSgMCSGEEDJtkNRDD8KZElmxSdOEDqQLI6uvK0q9alipZSVf6ujLkh3stsPyVnRlu49L+tiuYmoQBJsX6boGmxbbhGEoosNzA12ST4zY7agiKVHSFNJxOthpBrx3VxbZiyclP9LvvbPvc773hBBCCCGEEEIIIeTqhsKQEEIIIdMmpMnCRu/dzIDAy/Wd03RhGemk5HpPSyFlk4OuN2Gu34zrJQz9aUMQ0NKoYUkde1lyA7a/IQg2tetn4fZVElm1RQINVkhC7CGBiORhIN5sy5R64hH9C7VEaUXJ06nIXjhRJiuvJLDP8olh751NF2rZV9+wuSR98lUZffwzkuk64g0hhBBCCCGEEEIIIZcTCkNCCCGETJuQ1w/Q/Z4JtrTpIvsaiUOvzCnKlOaG+iaWyEwlBT0MXXlRvM+cO6xyK7r2egm2LFGRWK33oEsaAohAlCQtpFN2/aNxKyC9HobaQzFt5u2JynpJHXxGsr1nvHdXFpmKhGF+dMiWda04BnPF+PNfk+Gvf5zCkBBCCCGEEEIIIWSBQGFICCGEkGkTbGmXQCQmwWb7eyagDGmwqdV7NzUoI4rUYSDSoL0O0b/QycHYda+X8JJOfe0n1AKhifW0YhBADma6DmtCUYdXCM880oWJ0ap9/WqBRGJuuGfeBNt8kx+8IOlTe4plSCEQL0VJ0txgt+TH5yfFSAghhBBCCCGEEELqh8KQEEIIIdMm1L5KApP0G6yH6NobJNjSoa8hD6ObbimmDP0UvHKhEHjBtqUSXrq6KPkwTHI5CbevlNjWOyXUukSHOyJrrjPDOrz1bZZgpEFLlzoZGNvxOgl3rNZxcyhTaobnvc+0LKmXOpyKLJKNZtxc/wX9faWBbc71njXbO2Lfjw3qfndMR55OhV8S6rHNZfQ1IYQQQgghhBBCCLl8UBgSQgghZNoEog0SCIa8dzNDewt2rNbyopMBGYfSlfnkmC431LrUlxYspQwja6+TYGtHWflRHS8UlqD5DVEY9HoWoj8fpFjQzE9CdjsyZ/ZLbrhX54n0IUqjVitvWg2dH0p4QrLNoQCrFHfzSXYAstOKvMrlZs4dVNE3F8ylfCSEEEIIIYQQQgghcwOFISGEEEKmDfoPRtZsn1L2TQXmE2hq8/oZ2nRh6uhLkhu8oLIvEAzrsEIKIi6rScJAQ7MOy6LH4PiQ9jRE2hGJxVBLR1k/RICUIURiJeHlG0p9E7tPSOrYLsmcOaDSEELLphfrL0laSI7MWIZVmw7SLvHaI5LtOe0NmR/cdtrk34hkvX6GOAYuCYiehnMlLrGcAsuQEkIIIYQQQgghhCwoKAwJIYQQMiNm07/QEVl7vYRaysuI5lEaNJMqK3uKvoNI/SFhGIw3q0jMj9kSouhpiPcQjLFtd0r8xvu1DKkjsmKjhKqUOg35+hoCCDqVhif32IShl0KsBSQhyo9iHbI9Z21JUhWH0y9Jmj67X/JDPd47S+K1RyW5/5l5L3HqxGBu4ILkzDrkhnpVDjqRCGzC8KK+ni1WjrIMKSGEEEIIIYQQQshCgsKQEEIIITMivKRTArFZJgxXbJLoxlsk2Ngm4XYzv7hND/pBidDE7m9Ltq9Lomuvl+j6G1Uk5kYgFpPeWJaGmx7Q5CPKkDpsAtHO15UmBa6EaXjxSpWQkJLpk69paU6X9nP9DKuRePVhlYpWLA54Q2dGtvukilKHysuDz+i2X0ogD7O9Z6ws9JEd6JaCV650tuTHB21ilBBCCCGEEEIIIYQsGCgMCSGEEDIjgprQm13CEETXoZRou1eCtNQXEcnAptf9gITalmvyLbRklUTW7CjKv9wAeg2O6XjBpkU6DOsUajLr5UlBpAi1jKmXJAwtRmrRTh9e7k2nfQzt+JWpQtfPsBoYF4nCbM+ZYgowa96nTr5WJv/qAf0P02f2F6dDujBz4bgKvEJiRIddCiAu08d2SW6k3xtSAtIwPwfrgvKm+fS4vs5ePK3lT69FkKItZJm0JIQQQgghhBBCyMKAwpAQQgghMyK25Q4JtS3z3s2c+HWvl9CSTu9dOfhM+xwGwxLbfJuEFi33Pin1/QvESqlBUJYohEBcbN5HSqVHAcRjuGN12XTVsGVHJ0oyDEfpTshCvyDEOiV2fUeSB5+dVilRXY7XO7GULjxf3MZ6QVnR6Uo9/zSaMDTb5O9XqD0NR/t12PDXPy4X/tvbZey5f5vWevlB38lrPWGIfaByerx2yVtCCCGEEEIIIYSQSwmFISGEEEIWLEgGxm98k4RXbpL4trtVGPoThcCmBqdXGhWlTf19DisJta/QMqVamjOX84aWyF6wZUgh+jKn9hRTiRg/13dGS6jmek/rsHrAdFoKNDEimTMHNFHpwLz9Am8yUoeek+zFU967+iikU2YbrfzDtNnu47o8vIYodOQHuyXTdUTlokrG8ZmVKJ3O9lyt5MeGrYgdG/KGEEIIIYQQQgghhFxeKAwJIYQQsmDQMqeR8jKnSBm2vOXHJbx0rTeknFALSqOWJwjb3vNLsuL3viPxG97oDbEEvTRiZI3tXwhQsjTYUN47Mbrmev1cy4KODajQgyxDKgyv06f3a8LQfRZevkElpksepk/ukWzP2SlTeG6+udEByfbbNGNOhVpSU5FYV3yG9/WQPntA8j7ZOF2wnMp1zqEU6fiw9nN0YnGmVJv/tUpu8CKFISGEEEIIIYQQQhYMFIaEEEIIWTBE10HULfHeWVzKsFbZUisZy4UhypIiIVhJcPFKCa/aLKG2jmI50kCkwXzgXltJpwKwuZRiRF+/wc/9ngx9+U9UGmYv2l6HqQPPajIQ6xhZtaWYfIQYSx15QQViLVLHd0n/J35Nkq8+rCJOk3eZpJYihTiMrtkhwbalZuH1SbZM90mdNn1qj+SGLnpDpyafSZj5Z1SuRlZu9oaWUFlplo9EnOttaFOJ0++/lxu08vFaR0uSmnOjkLK9HAkhhBBCCCGEEEIuNxSGhBBCCFkwxDbfLqE226cw1L6qqvQDYS1L2ibh5eZ3Y5s3tD5im9ALcYX3rpzoWps8dGVP86M27ZdPQ6plNe2XRslQM9xPGH0SG1q8d5YkZGLPGe+dBfNK7n1SBr/4hzL4mf8uqaO7JHnYikXbS3DUlqo0y8HyA9EGHY5SpfWSOv6K5Pq6vHdTYxOEI2ZfrpeG294h4WXrvE8s6LNXWaIUvQ4xzUwJL10nwZZ27921B6Rp5uxhyQ33ekMIIYQQQgghhBBCLi8UhoQQQghZMEASRlZtlmC8yZYZ9VKAtUCJ0anGqQRSEAnDSiDoImt2SHjxiuI80adQE3YeeK19/MxwP0gjhttXqOADSCoWkiOaRoQEdOD96OOflvHnvlLsU6jCzhtHxx8dkPCy9RLddIuEmhfr8OmQOXtQReV0S39inRtufqvENt9mZaW3DyBH86m56TkI0VjwJQwhIXMjfd67ie+vdgrjQ5c9ZYjz0PXgJIQQQgghhBBCyLULhSEhhBBCFhSxLXdIaJFNGU5FaHHtFGI1wu2rJNSxpqyEabAFSb64ljZFb0NIQ8zT9SUE2QsQeYOaBEyffE1f2wSgnU+wabFZl5X6HvOObTXbYN5D/iGd50AZSpQbbdh5v7S89ac0IWmlpB0HwhApRohCJx8z3rDpkD6xW3L957x39QFRGmpbKk2v+wEVh4GGVi1zmvfKkPpB6VSUMZ0uKGWK6ZAODUYbvaElUodf0H1wOSlkzDpmp79t0wH7T3LpBdHHMNd7piivCSGEEEIIIYQQcu1CYUgIIYSQBQXKkganEIbh9pUSiDdrIhG/60WFXkUiEbIPw1GGNLJ8g0pDJwoBJGE+WUoJ4n3BvI8gqdi6VIfZnom2JClehyElzTxtOVHftP1m2gTKf27QBKG/TyJIvPaoZC8cl9DiFdoTsbLM6WTkUdLUKxM6nbKkeaT+EqXUH9KN/nKh2Z5SKVKHbtcMehE60aiyNWaFqAPpzfTpfWbe3d6Qy4Pts1gu8ZAqxbGbKyAKc2ND2mvycqf7sr1nJXVsF6UhIYQQQgghhBByjUNhSAghhJAFBURbbMNOCbUs8YZMBOk7iL9gC2RfzBs6O7BclCKN73idhDpWS9CTi0j/5YZ7bCrMALGFPoch8+NKl2LacOcWFYBOOkL2aaIwWer1h2lRKhTpw+h6s401So4GvbQflg+hpNN509bCptbs5xB6SDLWQ77KfAOR2ASxWg30W8xVSSDWIqtSc1jCy9aaY1d+fDNdhzxZNyiZswcuW2nSbM9pla3+lGH65B7J9p723s0dmjCskJOXGiQqM+jL2Te9RCohhBBCCCGEEEKuLigMCSGEELLgiG6+XUuDTiUDkTScTknSyYDECzY0q/yDLPOnF1GCFMLOYcuX7rC9C7V0aUn8YT5IB2JeldNBsOE91lmFp1fW1F/eFAm/2KZbdRm2F+KoDHz6t2X0ic9qOnE+CC1eXpZmDGNfNLZKXgVe7SQheg5mzuyfdJxqYBtDvhQjyJw9ZEXn2JBku81+mkGCcS6AtMx0HS4TeXid7T4153LP9g+8zMIwm7J9L/vrS6SSqx/cc+r9wgEhhBBCCCGEkKsHCkNCCCGELDiia6+XyMrNZb0G/UDUoWxnrc+nQ9BLK9Yqb5q9cFLQZ9BPePEqCbUt0+mKgtGsE1KJKEmKdCASiJguN9Qr+cSoTSmmE/p5oMEuR6WgWX5s0y1me1bpsPjO+7U8KtBtbGhRyZjtOlqzl6FNIZZ6JYJqwypRmZnL6n7ENlSC9KFLLfqBKMyN9qvgS+57UrJ1ptMgIAte2VTgUpFYj/Tp/SrrQPrcYcmYZcykT+JssQlDsz2+hCGSgOlTeyQ/3OsNqY/kgadl9LFPS/b8MW+IBX0DMS8IyHxq3Bt6eYC01G1Gqd3UmDeUXMtAFuKeRQghhBBCCCHk2oLCkBBCCCFXHMHmdk3yoXTmbFGBF28uliB1QEpCBmYHusr6EAJbenS99i3UNF6Dmb5psQQbF6sotKlBmxAc/safy+AX/l/tEwcBZ8Wi7d/n0okYL7Jqs8S23yPxrXeqSHSfN97+TgkvXavlTf29Bv2kj+2W1NGXJe/7PKfpxsmFoSsRWov0iVdUBoaXrdN9DoJNbSo5QVZF2t4JPQ5rAUEYiDcWp7clSIe9cqQXdJhKzGzGpg1nkDJMn3xNRp/4jKSOvCCF1HhxGfWgAm90QLfZTYOSnZIz64PyoWPTW5/U/qf1+KdO7fGGTERl3fDl7x8IIZ2ts+8lubrJ9V9QgUwIIYQQQggh5NqCwpAQQgghVyRI4aGU51xgxV35vFTkReMqkFR0+VJ4ViY2SKh9hYSWrtbxQHjF+pLsW2HmaV4jZQihlzm5R0uKuvmCYHObBGKlVGLTXe+VSOdW/Qw07LxfWh/8qA5TgVYl9YPh2d4zVhDmsrodbv71gvEDoYj3rgTKZUI66raHUUK1zYpas+2FdErywz2S7T4huZ7TZXKymqSDCCxkzfo1mvWLWWHoSB16QcuQAkwLCZk+vtvMf/p9DNFvcPSxz0rq8IuSTyVU+CEx5e9JWIvcgFnvsWE93oVc2g7DtqBMqoq9+hOGKh/TU6cHsZ8gNi8HtiTqoL7O9p017y/qa3Jtg/6h+cvUQ5QQQgghhBBCyOWDwpAQQgghVxxI6AUbWqqW0ZwJSBdKjXk5UeeSiADlQ/EaIi3UulR/g9iO10m4Y7W+hriDUAwvXy+Sz0ji1UdV7LkyowClTZFShIBsuvcDEtt6l8q4SjAvlVhVEoPok5jtP1/8DMsLeWnAWqi885UaDS0y69RY6mGoItMnHaMbbpbwkk5PRtr1Sx1+vij5UD4UkgGgT6OmKUfKU4cq3nwJSCtgraSsJhjd+PWUVvVjy5wiEYjyp0P6O9N1RAXeVECYYbxqaUIdDnlch3gEKluTE0WgLsPXtxDrWG28S4GeU972ZM4fk+yFE3Vv32xBqhLnLll4FLJpvecVMlaaE0IIIYQQQgi5NqAwJIQQQsgVB+RdeNUWCcSbvCGzA/0LgxX9C0MtpSQgwDJRehSiS3+HwhJevlEia64rCsAIkopewjBqhi/+kf8ube/9FQl1rBHtg1gw46zaWhwH8tCVM7XJverJQDtei2S6T2ri0Q9KB2Z7z6oEBE7q5QchOkv9Av0kdj0k6eOvSM5MV20cvxgELlEJQuazYKzBE6lWqmXOoqSoTaehv2HqwLMq6hza89ATiihvGmpZIqFFy1VSVspLN64Kt1RCEru/K+nT+7xPa4PEI3oequxDak/foz9iSrezUCEkq5G9aFOEdtlW4vmThUhSTrePYSVuPVFOF8IU63q5+hjqfkqW+hZamXlpJB6Sn9n+c5SGCxCUGM50HS5es4QQQgghhBBCrg0oDAkhhBByRRJutym/uSC+43US8pKBDtdb0KEyEGIPScMGu9wwSomiZ2GVdCLkH2RgdP1OCXes0XGa3/QhiW29o2z8yJodOo/JUJnY0CL5gfMTBB/6EOZ6T6s4dNIQoF8iSoBWA9OMv/g1GXvmC5LrOyeR1dtV4NUivHi5RFZtkei6GyW8YqPKQ5sKtOuSOQdhaAUh0oap47sk5yUMIQDHnv2ypPY/VVXaoXehP10IQYdyiJgfSmZCFmL+lWU7tSQqUlA5m4hDz0Ik5Bz58UGdBim63EhvXeVBc0Pd2icSacJClfGz2M9mXtOlWjnTUNsyCTS1FeVkZfLwUlAwxw/LLspLs+2FVEkgzjeQhkizkYUFkoX6hQAKQ0IIIYQQQgi5pqAwJIQQQsgVie27NzclSeuZlwrAeLP2Ggx6IlFln3k/GZgO0rDp9R+Uhp1vKaYLHf5UYi3CXsIwV6U8p036jWoyDJ9hXJd4rAWmQXIvdfgF86/BoFmH9Tr/aoQWL7fzwzaHIjbt2NhSWt6ydWb9271kYL/kzG+UI0Vp0mxfl4w98yVJ7nuy2GMRYjLY2OrN3SvdmR73xGq5tE3s/o5kzuzXcfKV2z14QVNQTjZCMKaOvKjbBnQaiDgzPHPuiHk/ecJQew76So46kaeyzxMnrsdhPagM82SmH5WRqTEJLlomoaY2b6iZd88ZLdM5V/j7E05FsNWc082LdNvyvsThfJLrPSeZ0zi25YlZsjDANVxZVpgQQgghhBBCyNUNhSEhhBBCSA2QIIxtuUNa3vmzEt/5Zi2DqmlBX7nOeojvuEea3/LjEl6xwRtSIrrxFi2JOhmuHGquH2m88oShv8ef9gVEb8Vw/SJ1qnSh6zUYal6kZVqj6643+2Gr7gN8Flm52Qxv1/XInD1QlGtIBY49/a+SOgqJd15/NM0WjZkNKq2fphMHur0yqI3eUEumy36m22im9aMir6/LvLBSDqVI06f2FBOAEHbilTp1qcXJsCnA0jg5CETfMpHCUzlbI2Fo03IlQWj7IE5MDGoJ0mRCgmZ+Eop6Q+3yKrdxNmTOH1VhWwsIxRT219BFFbVIPF5qKvfZXIH5onyvS72S6YMkc62SxoQQQgghhBBCrk4oDAkhhBBCatD67l+UJf/+z6TlzT+uSUCkEMOaCFzkjVEfKCkK4VeNetKNrqcgUnWFZOkhfqb7hPYbcyD959KF2Sr9DkFlH8TohpsltKTTe2fR5cWsFA0vWy/BlnYJNi7S14GGVolvu1tTiUgfhpau0XEhxzJnDhZTSemTr8n4M1/S9QBIHCKBiHkHYyUx6Hr6BZvaist0uM9s2q92whCpPe3liG3zEoCQRTp86KItM1pFOvpx4wcb7XoUignDM9q30JUQtT0SJ4pAN329oK9lqK1D1y/TdUR/6k0E1kPm1D7d59WATBz+6p/K+NOf12Vi27D/88P1pxKrkT6+WzLnDnvvJgflT20pW7M/UQp1imRjtu+c7uN6QPnXLM6NKuf/5QLyrZAc9d4tXFAiFj+Q47imCCGEEEIIIYRcO1AYEkIIIYTUCRKCSPtJcG5KoU4HlXXRBrF9+2xyTiWYr28hCCL9GIp470rYcUvSLbrxZmnY+WaJrd85oRypE5T2dZu+DjaXhF50w00qGbFOkeW2pyHmn9aEYb8mD5HuK5UgRQnTIV2+mzfmF4w2iu01iOHmPfpGVll3K+PKS4FCNGV7z+g8NYVoPtcehL7xkDTT/ZW10tGfGKwkfXKP5Mz8Yltul8iKTTo/JymRKo2svU5LqeYz6A1ZvdSov6SpH5QbhXQEBTOev0+gXceRqtPNhqKQGyovc4qekMNf+z+SeO3R4r4JLVqqxyUPQetbj6Gv/Kl0/fq9MvbUv0rm/DHtdzkZuaFes5/rk3R6vCC7c2nJm+lyU8g9lZmjk8tMJx4hiCEu6xWMlwKb2Fv4whBJ3LyXtM0nR3W9CSGEEEIIIYRcG8xaGA4ODslv//Yf6A9eV+I+/+hHf0N//uEfPuN9UqKecQghhBBCFgLhSdKC8wn6HEK0ZQcuSMF7iF9AX8CK3n7aY7BCAGbOHpTRh/9Jf+cH0fNwWBODzQ/8pEQ33eKNVZ2i4DO/NV3Z2GrexyW2+XaJbbpVwpowbFRhiIShFHIS3XiTisJI51aJX/8G83qFzsuWN7WyFct3yURsA5YR7uiUgNffECVAnTyEFNU+jSpLMyrntMxp/3mVgNke9E/sNePZRKLDn/qbrCwp5FK2+5QKUMhQrAPWK4395Yk+V5rVL//8INmYReJzipRhzicukTIMtnaoqMx6vRrnAlvqMy3Z3rMThGHm9D7dVrd/8TvUskQC8Sazk1Lmx+6/yh6IefMePTQnQyXgSHVpWg0rCgd1WelTe1UC1yJ1/FUVoJOB8y995oDkhvs1fbpQhKHKwpF+PSZXEhCHU/UxxOeuDDEhhBBCCCGEkCubWQnDb33re/Kxj/1PGRio/vAAIvBP/uQvZMOGdfLxj/+h/P7v/5acOHGqTAjWMw4hhBBCyEJgJuVI5woIu2A0LvmB88XUTwZlPn3JLH95U3+icPzlh2Ts+a/YspcYP5f1EoNx/XwytPRoS7sKM4hIN//Ytrs0pajlViEyL54y8+5XOYi+j+Gl66Tp3u+X+A33qQwEkIhOCFZik4ilz/A+1LFap0VyMH30RUnue9wrlditgk5lYyqhosmVIgXhpWsl2LLErNPpUlpKk33lcnXsmS9J6sgLul9yg+cl0rlFIqu3aclU3X9O7C1eLtH1N0iotUMKSBj6pKQD6+gXfkg/ojSmn7EnPyfjz35JU4Z2e9u8T8z6Vennh3VGyu/8xx6Q7j/8oCT3PuF9YqVg5sLxCUIQoMwp1l/XoeJzFYHjgxJZuUlTosHWpRIw51bxM08KOunoyA2beU6R8Mv2nVUhiZRhcu/j0vOnPyEDn/kdFamVQLpiPN0O9Bs06zwZkORIr2IfaXqy67Bkzx8tK2WK5aAsKnpZopQsRNZCKAOK61Wvjynk20ID+7tSBmJ/+lOHSKxmTu713hFCCCGEEEIIuZKZlTB85zsfUMn34INv9YaU8+yzL+rvD3zgQf29aFGbfP/3v1uFoEsj1jMOIYQQQshCILJio4q7y0F4+XpNGSLlNf7yN1UWQeD4S5L6exg6YZg6+JykT75qXx97RdKn96s4swKyvGdgJa4cKahMLmqCcNUWmzj0jRdetk6Th0gvxrbeKSEIqYrehKBSEAKXQITwi5p5xHfcK9ENOyUQjqmYSB1+wSaavBKlKgHTSBhWTw9q8tCTdpW9B9FjMfHqwzL+/NckseshM/2ARNZcL5HO7ZqY1N6Cp/bo9CpL42bbwxFPVk78NyrSjXpMqqQPASRWcv+TmvqD9NKEn5kfSB54RjJnDniSriQNEy8/JMnXHlVxiRRibrgk/yDE0sd2afKvFjmzLJTy9INl4NjHd96vgtQRXrJaQm1LvXeQXCjJamUc9rUKL08mVsOWcC3JOy1Pas5PPU5V+hO6bcX6Zc8flqz2cKxeltTJS2w/pDSShENf+hMZ+trHdZ8DrC96NqZP7dN9peP3nZPsNFOGON6jD39Shr78x3pM5opC1mxD7gpLGJprqvK6Sh563txTntXXSPlqH1GfQCSEEEIIIYQQcuUyrz0Mz5+/qMlBSEAHXieTSTl58rS+r2ccQgghhJBrnZBXkhQCEOVFIbuy3ccl2NQqkVWby2SeFX1xlViJV78r2fPHdHj6BIThPsmnEzV7HToglZAedCJwMjBuURgikdi+SqLrrrdSEL0JfTIR5S8BknxIIaIsppWHLVZKeqk7DItfd59EVm7W9UTZ0OS+JzRhCHnlkk8Qf0jS+bHLtWVFXcqysg9i6shLkr1wXPdj6ujLmh5FmhIST0Wo2d/Jg8/qPsZ7lFnFuml6zyceHVgHJwtdws+B9OH4S9+S9JmDZr/coPNz5UCdNAR23nY6CMHUsV0qmqLrd+o+9ScGs332c79EdNhSpHZd/NPYBKFZd5Qhbe/U9YghOekThS5lWBhDP0CbsET/QhWaPiFYiRODVupNnkT0k+09p9vq+ilWAxIPyVgIwFplS50cxPJdkjbb1yX5ScqcVgNJxjTONXOdVZ5XMwUp18y5I5rYW+ho6d+kFYC2h2EpoYnrLnXoOb0G9X3PafP+eRWH5MoE1xyEPCGEEEIIIYSAQMHgvZ4xKE36zDMvyn/6T79QFH8Qfn/xF5/Q9x/5yId0GHAlSO+99w65//7XTzkOUoyzJZ2ur48KIYQQQshCZuRzvyup1x7W11pGMpOU8PqbVDplT+0zr3dK45t/QtIHnpLks1+S6PX3adlGyCkIsMyZfcVEWssPfUxiN1WvEgHGH/uUjhu/630SXrHJG1qd1KvflfFHzfiDF6T5A78hsZ1v8T6xjHzhDyS1+yGJXnefrl8YEtCQfOnrknjiM2ZjQtL04C+KZNMy/sgnNbHY8LofkMj6myV98Gmdd+7iSZ2m4e4PSM4sJ3PkBSnksmZeWzRdVoCgy+e1XCiWkb1wTNL7n9RpHLrszq2avEu9+j3Jdh32PhFpevu/l/jd3yeBaKNkTu+V8e/8rWROvKIlVJvf/ctmXz1g1uMfJfnMF6TxrT8j8Tvf601pE3CjX/3fkjt/RBru+2Erds2yM0deLEtohZaslqZ3/rxEd7xe36cPPqvbmz13UN833PuDOj36Giaf+byMP/kvEtl0qyYfsb6BWJM0vuUnJbx6u4x/7x8k+eJXzbr8tMRvf7dO70gfes7O9+wBiW69y2y3mWbNDsn1nZWxh/7KrFOvND3w0xKIm209uVci626UbPcxSTz+aYlsu1sa7/uQZM4dkMQj/6jnT3TLXSqRwp3bpfENH5KgTzA60odf0GUG42YdzX5O7X1UEk9/XtcVy4psucMb08q9se/8jaT3Pma2dYkZkJPgohXS9NafMuPd6Y1VItd/To9Hrr9LGh/4KckPXJDxx/9ZBTP2R2TjrZLc9S1J4JyFQDX/eQMRgrK0TW/79xK79R3enKYmc/Rlsx2fUEnZZPYtjvtUYL1wrkgwKJENt6iw9pM5tkuSOP/R9/Pmt3lDFybYjvGHP2l+79b3OJbYxyBtrjkc4/DyjWbYR+y1+fA/mG16uzkuHzH3oaiOd6WDpCvOMXxBINi+yht6dWLL+o6a8/ZmbwghhBBCCCHkchGN1v5S96Ui9P8YvNcz5ujR43LmTJcKvnjc9sLJZrPy4ouvyIYNa2XLlo06DCSTKS1DumZNp3421Tj+4TMlm81JHg+Q8PCAP/zhD3/4wx/+8OcK/UHCJ9i2TFBusYCeb7msxG59l4RWbJbcxRMSbGiV0PqbtBQnJFTO/CD1FrvtQQlvu0dy3ccl75VojOx4vQSXbai6HPxkT75q/qUYltCqbSLx5qrjuB9Nd53aoxIzsuM+CbQtL/s8e+o1s+wTKjfDG24x/wpu1OFi/gepBeEZhiiKRPVhPXoXhjbcaua32My7S+ddGLXpLKSecv3ni2k3/W1+wpvvEAlHdbzITW9VgZg7f1THCS5Zo9uCtF56/1MqOCHyItvu1SQmZGrk5reZ8dba9TL7MXtqr+QuHJMwypSafRVo6TDravepxJok2LFOf+v2me3PHHjKzLPfzKNTst0nJXP0RbMuA2YF87oOIHr9G3X/uOlQOhOCpuBJRYjC4MqtkjPbmHzx65Lv75LYne8323a7ZM/s1x59wdXbJdDYJqk9j0j29D4JLl0nweUbpYBtN/PET+b4brP8l1QEYHOCndvN+q7R5GHmyPMSiDRKaNNtevyxz1DGFvIV24btDK293izvgGSOmXmkxnWbBCkkMy7mhf3jluV+cByzZnw9Z9bdKLme02bYfp0mtPYGs3y7b/GTGx9SiZY35ynK46IvZHE8sz3++eIHKc/MoedU4oRWX6cyEOcUErShzh06TfrV75lxnjUnSE7FMUC6NLhys1nnHVIIBCbMt9pP1uzz7IlXzfl6TM/9kDn+1cbz/2SRSHz2C3p8Qis2SaB1afnnKJW67wkJNLfrNvo/W0g/6KOZQ+LztL3eAsGQOTdaJWD2L445jkF67+Mq0SHScF1mjr0swcUrJbRyS/G8vtJ/Uru/I6Nf+kNz6eYltPHWquNcLT9IiyIZHFi8qurn/OEPf/jDH/7whz/84Q9/Lt1PJBLW/5a9nFwTCUNCCCGEkKsB7VcYCsvIt/9Gxp/7ikgwJIt+6Lckfp1NrDlGvvcJGXv6C1qWMbxsvbS9/z9KbMsdMvSVP5XxF76mCSg3rBYjD/+j9h5suOkBCbW0e0Orkzl7SIa//n9VeLU88BO6TD8jj/yTjD31r9J4+4PSdN8PFcuSgsHP/b6WPWx5209picxKMucw7z/XMpPoAQfBBFDO0yUKwaIf/C+SPrVXtw+vUS5x7Nkv6fiNdzyoUi99/BUdF8tBSdTGO9+racVCJu31W+zQz4Huwyc/J033fr+uM9JGKGOKfY91abrrfWb4ByXUvlLfD3/jL8x+OChxpDp7Tkn65B5vTiWa3/Lj0owEYZP37+UDz8jId/7eTGd75cW336v7IW22efTRT0l0w03S8uYf11Kuw1//uNmHn5fW9/6SrvvIt/5aS6k23Pp2aTHz9e/z0Sf/VcYe+7QmL7GPWt/zixLbdpekj+2W8ee/KqGlayZMg1K3I9/9e5WHWAeUIMU6oEQpkpGSTWnStOWtP6XlZivB+Tb66D8L+jw2ve4HdZsSu75tpu2U1nf9vDTsfLM3ppnVheMybNYfPR0dkN2tD/6CNN5VSm460LsS+wl9IFvf/VEJBIIyYtYNadDWd/6s9hYdfuhvtGStw6XdGm5/l25rZeqvFqkjL9plnXxN17v5/h/1PqlN8sDTZt/9gwRjTbrvcNz8oE8mzqemu9+n58BCBecx+mIm9z1pzp1SX0J7zG/QbcQ1hRLI8evfIJnzRyW59wm9/7S87acl0rnVm+LKZtRcO8Pf+HNzvzLnzjt/ruy+cDWBaxtljUPm3hbbfrc3lBBCCCGEEHItM289DJE0dPLQD2QgZOLKlcvrGocQQgghhFiQhguEwhLbeIv2tIus2V7Wf84RXb1DYlvulKgZr/Ge75PISltSNLbxZgkvqb/EXmTZeplKFoJANKYiE/0Lg80Txw9rb8JW89kiCcYavaEWSIbJZE4gEtd5RzfslIadbymOi/dIIoLQomV2/uYn0rlNS1Havop2WZFVW83+uEuHg4abH5C29/6KShD0SWy4+a0TpEB03Y36A6nm+irGttwuzW/+Me13mDq+S6UkQF899DXUn9EBTcABrE/At72hNrOeniwEus7xUo/IfDapAhRlApFWxHGGLAQoA4pp0Vcvhd6K/bZvHMqrun6FjgL6CSIZqNMs0mkgGyHUdLiuV5M3tsXN32H7IJb3R7TDynsCumEQsu4zJAaRgtXX4yPFXogQhW6+SJL6gdzMT9Ij0aHiF304kd70yHSf0HKr6OMZiNvtCq/YKGFzfiCdWE8vQpQgxXzR69KRG+4rW04ttMeiOV6QbEjA2mGYtrxnIdKLrv/fQgS9CN15FV66Vs99vM+a4ZnzRyTjlfBFL8bUsd2aeAa212FJMF4tIHmHaxHbrfL9KgPpbNwrCCGEEEIIIcQxb8IQrFy5TE6cOKUC0IHXEIXr16/V9/WMQwghhBBCSkAEQhg6cVgJ0iKLP/Q70vHzfy7Nr//BosSLbrzZjN8pocXLVa5MBmRhsA5ZCEKLVqgMCy9ZrTKqEkg/7aPYCIlXEmQAabnYtjtrLgvCLNS6RKLrd0rTvR+Qtg/8Z1n265/V3+GONXYclOVEOU9IQk/QQXhgOgDRGt9xjybRouutCHTjIamIkqiVRDq3SPyGN5j9tcIbYkGaKrJ6u2R7zkhuxIo6iEKU7gSQCxAvAKKxuD5mXSulpP28JO7ygz2aTIRQqxwf7yH18uPDmrrUXn0GSLo8+jf6sMnCrO5zoKVIT+/XRCPKY1pRWRKZQCVivMkKvcFyKQgZh3UqoFdkhdRLoV/iy98uToMSuFr21pOm2l8SYiKTkvGXviGpw8/r8GpgHCdbdbqkXZbKSE/k6fwrJJ6WxDWfI90Z23SbDsMxgjRESdvK7akGErC9//dnZOyZLxaXa9fHis96UGGYGFVZOPrIJzVZiOnR/9GJRAfGRaIP0nk6y5gvIDwhAHWdIA0jUXufML8x3AnCQLzZHJC0OZ/2Fc9zlaW+Xp1XCzjPRh//rPR/4j9L4hXbO3Y64FzGObRQgRDNnD9Wl1AnhBBCCCGEXBvMqzC85x5b5upLX/qG/oYI/OIXv66lRl2ysJ5xCCGEEEJICRVg179ey2hOJf78QKjFt98tkRWbRDyZVIvw8nVV04LVwPogxVhL+iEVGGpdqunISiLoEzdFuUgkCMNL16gEgviDRAwv6VTJ5T7Ha78kRFrOn+5DkhFyEqUUIZKmAjKv4Za3mem2e0NKQN6hdCdElaYKx8yPJwxteq70RTgVcWY9dB19Cb5a4OE9EmvYXghCB4RsCGnBrqOSuXBSgotWSGTNDpVNEGJOtDnJhWkhRpFAzQ9dlJxPKlaKSoDxQm3LVfZlzuyfICEBZCVkWpnYG+6Rscc+JakDT+l7fIYkXX60fHqIQpRQhViCaIKsqARJSScDs71ILJbSfg6USs10H9fXuX6bNoR0C0YbtFRmqGWxfobzI7Jys+TTCU31OSmH8rOTCToIyZzrl+klB6dE5+n2R0kWZi6e1GVDDqKfJLbdpQ6Trz0m/Z/4DRl97J/rW8Y8o/0Lsa4+8YdkLn4gB1GyFuVmUY42hH53Zh/iiwK4FvEa+3Uy6hlnIQAxDUEN9JjNIjmJeeEeUQmu1/FdD2n55GzfWW/opQf3KspCQshCp5DPaXl5QgghhFwaZiwMIfZ++7f/QD760d+Qb3zjuzIwMCgf+9j/1PevvGJ7tkD4oa8hEoQYjs83bFhX1pewnnEIIYQQQkg5DTferz3lpktkw80SWXudBGJxb0h1UI6wnnKkjviNb1JBUw0IRZQPdYLPj5WNED2lvoaVoNdg1Kx3JZoODEVsClHLkLapVEQyT4VhtEEloitF2njHu7XnX7X1qEat9KEVkx364F9l4dBFKYyXJKEflzL0pw1roaU9u46orAtWli9tsuIRfeNy/V0S6Vgj0bXXm+G25Gh+qHbiEKlBl0h0+6waKOEJ0YjUEUSHk51+0mf2y8hDf11MCuYzaU3VOWEGVCjmSnII04w9+2XJnDus0hEJNohH9DdUEYrj1bxIxJOdAH0L0yf36mtM48qVavlPn4zMXjih24/jjnMEklvP3UVmvmb+4UXLy8qSorciSqP6UYnoySx/GVKVXL7tqkXOJwJVBL38bZ0Wx8lf4lT3SxVphv6L3b/7Hu0vOd9o+dCKtCPIj/aZ9TXHxdv/+CICUrauRyeSs6HFK/ScC7W265cDGu9+v8RveKMKz8Sr39NjnO0+qdP7gXjDeY39cSWB1CquAz0HvP1SLzju6KkKKVcJrtGEOUcgDHO9E4XiJcNsF85JQghZyOCLTIk9j3nvCCGEEDLfzFgYQvT93u/9F/n4x/9wws/NN9/ojTVxvI985EPeJyXqGYcQQgghhJSAaKuW2JuKyPL1Ett0q4TqTA/WC1KCtUTcZJ/VQ63pNbmIZFxLh5VyvlRhqA19E8sTfU70zRabaGzTZJum0FR0TRRL6O3ohGOwSsLQSUB9je0LhiRz4bjO05YkLU8YQg46QktXS3TTLbr96LOGVJ8fCEWkPgPxRiuqvPWDEAz45uMHwhDblj6+WwVRoAGlS8uTiMm9T2jZTogUTVNW6fGXPv6KykEHpkkf26Wv/fIPJWxV7Jl1CjYttjLQk53orYbyrJCdBU3ojZX1KHS4cqW2Z+EaLU0LgRyMN5tzfaOEzLD0iddk/Lmv6L7V8Sv6COaGq28Hho8+8RlJ1vmgEkIMxwKCTN8P95n9cKSYIMR7l150QLBle0+rdKz8bK5BSVFI2Px4ldQcpGk2resKeYj9h1K/Wu63oVlHwevYtrvN7/XScNNbpOGWt9r+pOZzCN5xCEOvr6EfCOWMGY5tnAtQDjjbfcJ7N3/gnNMys+bcwLkwHZCgRQnfalgRbeU4fl8ucK25LxIQQshCBv8OwJdXCCGEEDL/zGtJUkIIIYQQsvDQXn8VvQTnE5cirLcnYr1AyIVRCtUrQwqh4ZKK+AwiQ9NrFSm52eLEIx5eQYYhmeUH8g8iECU+nbS005QEIMBnWDek/oKe9ITcsz0hJ4pNK9a8+XWskfj2e7WHpS1jah/8aw/CIdtbMaDrURJsjXe9V5Op1VKTAHINy3CCMYTpKwSd+wylFLFcvyiNrtkh4eUbvHel935hCVmVu3hK8mMDZhs6dTsi63dKZEVpOgeSgeifCJAWRG9OSE0/KEuKpGewwa6rK0WK15jGlSUde/oLkjr4rD50TKPPpC/5VwvIPJWdZ/YXJWA94JiEO9aq+M32nDLbbtNpThKB/AiSkv02nTh8aUqSQgJnzU81sgMXbPITEsuXgkQPz9DilfoacjC67gZpuu8Hzc8P22stHLM/Bp3HQLm4hpyFzMbvuUoY6n4bnp+eiXp8zPk6FbjOKpOqfnB+Q4ADKx5L8lAFpMr2waoJxLkGPUSxv3AdOiALsWz8XM6yqIQQUg/oE12txDMhhBBC5h4KQ0IIIYQQMu/MNmVYDYg19FjzJwmjG3YWpZImEDvWSCA2t3IUgk/TfWb+ib2PSebsQRVfSLeByCpbyhFA8GkKq4agbfvAr8vK//moNN75Hm8Ipt+s0qkSKyKbrNhDT0izHuHlGyUQjqnc8pciRUlT9Dz0A3nW9LofkOja67wh5UAWYt1dkhHCMVjR69CBHoPpY7u1HGt0480qkiA93fhYJ/97V3YUqaucJu6CEoy36HYGm23fQZWQPacl031C0L8QicDUcbMML/0Xbl+tEraSYklT77Vug5lnIBKVlrf9lLS+7af1PQQOJG9+oLso7hQvXVcLSM5qPReBk2GVhJas1PMDMjlnlgcKKN2asPPJQ8xNssy5BhIQacfk4RfM9pcLbqDrUmV9NGWIEq/mHHbnNARi2Hsdbl9hfuy5qqVHL9q0JEBaEfvb7oPy/oiz6Q+IJGb2ojnfJ5k+c+GYXpfTxaYJrejz45d+GEe3q8p4jvzIgDmfu8x+Tem5g2Tt5QKp2vTRl8w1ddEbguONcqRJ7x0h1waFdFJlPrnyyKfH+eUGQggh5BJBYUgIIYQQQuYdLRM5SZ/CmQAZF1m9rWy+kIfFMp/m87lOFzpQkjG2+XYVA/nxoWLqECBdFl1znVl+q65PePl6XZfJCC+16T6VkRtuUVFTietriHKjGBdEIReXrNJSmLm+Li3XiH6GKhNXbCyOh9+Y1v6uXpIUNNzydoltvVNfYx4ujaivQxHdLmyPTTJaAYHSp23f/5+l6fU/oCVQ7bCN+uOmj227S6Jrb5Tc+LDKl2Bbh4RXbVHRaHsxtmt6YPBzvy+j3/uELemYSakIRRoQ8i+8wvYmnEAY6xnVlzrfZWu1pKYDIjcEYeiVL9XSp+a4OXKa9it/iKw9/CB+F00UlFMRal1ipt1qzst2SZ96TTJn9utwCK7pJBXnkmzPSU071iKPcqlVSobiutUfTxxWgv2OJK+TxpnzR4rlaHPaF9FLFw6c1wSiWwakMZY5IzIZO/0kwhBidqZCshpW+tn55cy54i/lWU0yQt6jb2P61D5JHdtV1qsQwgLp00sF5D76kvrRfqnmGibkSgPSL318l5bGxpdKpgP6t+b6Jn5hgix88KWX3CVK4xNCCCHXOhSGhBBCCCFk3plpz8XJsDJug0DMVQOfR1Zvn3NRCSDQGm57uzS98Uek7b2/LG3v/1VdlhKNSWTNdRJabJNXWpp0EknnBynA8IoNRdHmB30MkRoM+xKI6EkIEah9FHOl8qCVPQ/FrK+ErFSbDAjFxlvfoRIPScTQMlsqNNi6VOI775eWd/8HabjuPskPdUvq2O6iNET6EckzV8I0vGKTRDfcLIHmReazFomuR/Kz00o7M42TkWGIxRUlsQis2LPzzZw5oIlDJCqRKEWyDWnCslRhG17blCJKk0JsuffAlitttj0Me89acZeqLe4gC1ve+bPS+u6PeilBSK+pS5g6kK50qTw85PQnCZEsROlP19dQ0405WyoSAk0TkO6zOQTzzXQd1ZKs6CnoB+vnX0eITn/5YMhwCF+XMPSD8eI3vUVa7v9Ria67UROGSP8BbIdfQmp/RE+UIUnqxpsu+TEz356TmlatRW7wgjlvzDhm/1ai21tleL1UCkKcU+mjLxeHaRrRbLcrAYqSoH55adN9Kb0O5rvEHpaFsr6VyRyU95ts/xGyUIFwT7z6iIw+/I+SOviMN7Q+kPLWUtpppmuvJPLmfpU5e0C/GEVIJfrlMvNvCkIIIXMHhSEhhBBCCLki0V5/i5Zp8q0amjTz+hvOBxAkre/8OWm674MqU1zvQhUsm27RsqVItyE96MqV1kLTiGba6ObbVBpWI7QI0myZloCsTCxCPmhfsr6zgn6GSORBwpX6KZppmydPOTrQKzB+4xtVlvlFXvyGN0ps4y0S6kBp0GV2WUM9El5i3zsgzCBP0UMQQB7iNYa7+ek0ZlsgAiH3Gu94UFrf/u9VAGt/N69snKYBfek/zCu8ZI3Oz6X/7Hxry1AIS4hMFX+D3VoeMu+VBgV42OQXZoGGFk0oqpScou8mUp2V/RCx7yPLkYYspROxfviBMEPazi1Pexh6aUeUr0Q6b64ffEFWaQlNs1zIQqRs/KC/nV/s2XW1fQkBEoaxzbcW+4P6gYyPX/8Gc87coyIbshWlarEdSAEiYYeyrQClRLEcpCxRptQl9qbbk1CTJprsnTytaedbSgKih2XfX/+SdP/ue2Tku3/nDS3Hlh6dmEzEPnOCDcc7fWqvnpsAMi59co8UvLKjmmLyXgN/SVInC2sx130NcY0iXYjUcVnK0axTbsxbX6+fISFXAlpW1FwnhVxWCqnpib9CPqv3BHdPIlcI+ZzkUwmvLCn7GJIK8nlzflQvG08IIWRmUBgSQgghhJArkkDUlsmsRSASt9JnnsqSVoJEI0pfIknpSpQGzTrWsw7BhjYVM7aHYHWxp4nJzm2aKnRMSBIarNCz40AYoo8g9kU9CUNH85s+LA23vM17V054pRWAlaB3JNYHpUiRJrQpwqiWMY0s36jlQoNNNvmHz/39CFE+NbJmhwQh9lQSDqq0coLRJgoXe6JwWXHewAnBWlgBWPo8jxKkvj5WlVKyiIqziD5ghnyaDCcEASSarmur/a3D9HW7yq5qvQKBijBIzRkmDCEEM6f3aZLPT/biKf2xb0ppQoyXPr1XS2cieVMLnJMosVoN3e6I3W7I5Njm2yR9Zr8VaihB6vUvdL0eVRQi5QN5mRzRYZoEzNaWaA6IRohPzEtTgpNMo6VnfVIAxzd56HlJHX1JhWC1MqIAsq9av0GIRCQ08bBapR7WQUVzxmxDtxWy3vyQjkVyEIlfrAeOiUsS6nKHSsvNYV6e1MR0yUPPSXaaZRYnA30UsxXlSEFhbLBYVnWu+hkitYjyzIQsVDRhaO5B5MoE9xh8CYIQP4X0uGTOHPLeEUIImQsoDAkhhBBCyFUJEl4Qd66n4XwDgQmhBbEHsOzopls1FVfPOkyWLnTEdtyrAs5RFGeZlJbcdCVCK9GEYZ1lUauBdKMrAYrlRzu3qUwLLVkt6K3oxyYKrbTEPtD+lWZaV4YUIhAlVd38HCFIRF+PwoY7HpS27/s1lVAoKYppw2b/hjvWSMAnPyuFYCUqTX09DSHm6ilJ6fatjl9D8jmQIPWXQQWhlg7zYxOKSIWiRClkJeRdtV6GKGOZhlwavOANqR+s49gzX5a+v/tVSbzyPW+oxS8MNdE4jFRjv4w8+k8y/uI3rSSrsj7TBdsXXXe9BMzr1KHnJNNlexk6bElSu+ycWR8Vd1g20o1THI+iLLxoy4zqPCqEH46Rljr15BxEnpOGkJQox+rQz6aRVIEwTOz+row+/hlNFDpQ3jDbfcwTkFbAudf6W8ViWnJj1QVl6vBzMvq9T6okTB1+fsKxmw0Qgdnu4+a+UC4MMVz3xyRJx5ngT1ISMl9AsqNMteSz5hyeZsIwl5U8vsCA6ckVRyGVYO9VUk4+r/eEyXo0E0IImT4UhoQQQgghhMwBSMxVJgRtAnDqUqAoW9pw4/0q1yaj1vxQUlD7/mUzEulYIyj1CSDXIO4gv8RL682EyrKfKLeK1JkrfepAqVGUNIXYA+hPiMQjcOVHVQxWSMZqhBpbpGHnm2Xxj/0PaX7DB4vSL7btTolfd28xVehPG1YDZTIrE4jZfvRJtKVEta9fcmI5K5tqbDcjQxiW+kP6QYlRyCs/Ol1Lu4SWrBKUzdVhKgxtolLLgvpKojogcJxAqyYU/VRKTIhAlYGehKsG5CXWC+OpLHzu31SwIQ0IkadpQffjpQanS3jpOnMOb9CUYebkHpWfSBU6skgUQvph3T3xh76HWKfJQOrS9mE8ovu8GnZeJ3WbKkucukQhUrBa9tas13TKEkLGI52YMdvllw253jP6GcqhFVyJVaT3hsqXD+GIkqXonenvHYi04viLX5fBz/2+OR5fKftstrhypPpak432ywS2BGn1LxbMhvzYkOS93qN+MHw+lkeubXAfRap6OuC+yoThlQsShllfaWVC8O8mfDEG5wYhhJC5g8KQEEIIIYSQOQKlPyeTV/NBSEt9tkl+6KLkxqqXBKxWurQe7LwnThfdeIuEO7d68y0l6yJrd0hk+QbvnXmv5Ujte5cwdP0LK1Gh2FTqGRhA/8V4kwQbWiW0eGVR+iG9GF65uSgQnYicjAnS0CfcINn8gq4oCj0gmiDVkP6DeHKyLrHrIRl5+BOaMnMJQuAEZrDFikMn4YArzVkNLCNzer/KrqnKkqYOPWt+nvfeTY5KyITZPpW+MUm8/E2VhdgOxdueMEqPdm6xJVWr9CusB+wD9PPUBKC3DSjnqilC7zVKoGKfoqchUojVkneVQO6mtDfiET1etuRo+YN/7cvXf0Hlp8pXTxLqZ9rPsFciq3dIdMNOTSRUE49aTtQnEu2xK/VzRBIwc/agN945FWG5vq7yZen+9voD6nAvbYjenEmU7Rwx87RJWwAZnTbzhGS1482NXCsrR5or9U4spNCn0SctVXDOvochthPXgh88xE0fe1nSR1/2hlw5oKRsIT23KcxqaC++9OxLwi5kcF6P7/q2jD71r3r/w/bi2s+cOeCNUc6k+2SG+0vThWY6pBKxPuTKQUuRmvst7v3Z80e9oYTY+/SU/4bQHocUioQQMh0oDAkhhBBCCJkDkBJE8g7lKS8p4biW6EQ5QMiAUMeaYp9D/Ibwc7JuulgBGvF6IZbKqmJ+sQ03SXS1LU3qiHjlSB1INzrhiB6GgabFnoScKPjqXUfXz3A6BBpsWVIn7/CAKT9SemisCcBFNgHohB9ww9NHX9IEmCbyTr6mD7rRew+lLePb75WG296psszO326D62GI/oWQcSFPQlYKykog1ypTi5WgxGhy3xPFUqOToaU4s2mbMGxotsLTk4WQa1oGdeC8hFFSdOOtNiVrxpsJThj6gYwsLg8pwP7zVtaaHxWLEAhYx0nQXoen96pkQFnXariypejLCBlYtlwk/MwycDx0+6Ix3WYci9TBZ6Tnzz4iA5/+b8VyplZUt3jHr3Q9235/ViJle85K5uyh4ntICOxLNw9gk4fDVgT6Hmri/Mf1UImdvydya4D5u+TgZGD78966+dHSoWPDWiYZ1zVSyW4bZgpkKGRq5fKw/amTeyR15MUF298Q902XNvaDa+NSlLnDfqm2/KsJ3DfHnvycJF76piZ0ca4Mf/3PVSBWk3+4VjWlXKV0qO19OnVKUBOIvi8V4P6gJYLN8pC4BZD72n+UqcMFTSGfM/+2SejrfHq87B7rxz8euUaAMMSXY8w9pipasnSgrn8rEUIIKUFhSAghhBBCyByhgi00fTE3F6isqHgoAvmF0pj1lEWdDIiFyrKesW13S/zGN4m/F+Fk0s+JOO1vWCVhCAKNNgkIKVhPz8VQe3nfw1oEzXzR5zC8YqOWpVRpl0ISrCTv0AuxchsdeECZOrZLIAgz5w5JYt+TKrEgkxpueZtEN96k4+F9wJdO1OThohVm26Mi5gcyEBJCE381QAoRpTtrgXVGCU+k7YoPyTwBB/Cw3W2Tk4NIDKLcLbYRBBqa9QcP3/GDBCeOZ+u7fl7a3vcrWm52pkBMut6NjmDLYjNsiW535rx9QJ8bGdCH9ThnkbqbDCvc+oq/Afa/v6yoJha9eassM+M6uagpx/FhFaHoq4leo1mvjyHKw+IzKxWHVRBruV2cD+Zc1rK7nkD0k0dfwqHe4meacLx4uiy5iJKjKqdT42Y5Vkz5eyAC7ctpzst6wTwzuNan0cvLJhu91CMShcM9mg7GtXApSJ85IKkDz3jvzPuTr0nitUe8d5ceK+lskhPyCddSJUhLpk/t8d7NH7aU7tX9MNslBgvZrD68T5/drxIZ58H4y9/0xioBkYdyvzJFknCysqQYnjpWSrYWU4vmtyBlaJaRePlbMvSlP9KShuTKQNOGFUlmR97cXxN7HvPekWsBfNkFXyyoVZIU1zm+FJSrJRQJIYRUhcKQEEIIIYSQOcCKhvIehpeCUBNkXin9BwmAZB9QgQnREZr7MqmQiOFl66umBauB0qHRdderqKgFyo8GY00iEfRcrL3OEIrND/ykLPqh/yLR9Td6Q2uD+QbizRKGPDXHSQWRE0Xmt4pVlOL0ypw6rGi0w5BOSR56zsqac4fLUkEQRg03vFGaX/9DElm5yRtq1rN9lT0nzDxUOJnjoOk6fIYEYsvEfacybbC2MNTPkbjrOqySGPPzlzHFQ3RIRaC9DUcn9geEEMMPZAV+NBk5w76FldiU4SrvnSUQMsfTzN/f07BS+NVCx6uRKPGDPoEqX3pO6/guYegko0sL4joNt3fqw2WU7XRUpgABStPiHI/vuFca7/2A9j90QChBNIS8tCCmx/bgAaaKRl8pU5WXQ6V5Rzq3SWzjzfo6bF4v/vDvScs7flbfTwVKlqI8K3oUTgYeoLqeiP4ypEgx5tMpvRbCKzbrsNkCSaq9MCtKm2Kbcz1mP108VZYy1KTu4ReK7y81tq+ivX5xblRLEuK8wzrPd/oP96DJrverjeyFE5J89VF9jXtB4tVHJiQJC+mEvb4qZCCEH4S5Q8uM1kiUQYz7+40WPLkIgZA+uUdGH/knGfq3/63iPXV6vzcWWejgno4vmzgg/pN77PmEcyHXV10mkquTQj5fUxYC/LtA//ZMMg4hhJCJUBgSQgghhBAyB0yWrptPAo1tEoBkM1QmASEOIaxCzTOTmE2v+wFZ+qufkpYHfmJWZUQdKFka7uj03k2k3vlhPPRGjG26VQXQVED8Yb+ghx2EHpJnSIi5/n21ypxC8vn3Z3LPI5L0JaWc9MN4SFs23QdhWJIwmG946TorDONWPuLBNR5aQ4iqSKsCyiFCflXDCkP7ID178WRd6aRQa7tEIGsX2z6LKI+KpB1ShgBlU2fat7AS9G3E/CpB0tJfrtTJQ/zODtQWhxA2TjL60dSgP81n9heEnx3fzs+WITyvZUFxfPV4dKxR8QdRAOGH8wDng76/cMIcoyY9Xxxhc37Fr3+DCmGkAR0uPYiEK/pyWmF4ToVhtZKjObMc7VEJ+anJRXvsQ2a9kER176cC8g8lSV3CEAKxWtpQJSG2u2lR8QsEAFJPZaMnibVEqRlv1kxR2tSlDFVYImnabc7drsvTj8xKOisC8bC51vZryvDka967+QHrkTl32Ht3lYJ0XyZprscRTf0huRldc5007Lxfr6OsORf8fQv1/DDXol8OAohEXGdTodN3HVERqfd5QyGPHoZWLqoM9vpqqlg04xaXbd5nLjBxuJDB/XrsuS/L+MvfMsdt3Fyn3hdK8rmaAplcneCegL7CKEWLvzGV4PP08d01+6USQgipDoUhIYQQQgghVwmBil6DIAgRMYuEofYvbG6fExka3Xizpqtq4cQdBEw9IrBeAg0ttsegVz5SQhEvqdA74QG09i1cXL5s18tQS3wi0YfpNJlny6zWAuLMlefU0paRiKb/AgHzWUWa0Q/mXy0ZCCDXsv02kZQ+tluGv/mXknj1e/owvhLXD9GuZ0lIBVuRnIPItGLMJiBn1rewklAzthkCEqVJrTjE8iLLzfKw76cJkpPYHw4r/paoeMLxABCDLlXpR8uRHd8t6XMHi8IQaAp3SafKGqQM9bh680ASFevtBB4SrLGtd+jxxzTFc8gD5UQhovW8QJnTipSiA+dZzpUC9cSjzsvsp8lkoV8IYpuRrsleOFpMXeJ39kL1noYoj6znmTn2TtRB6kEg4hoDVizOLumHHoaZKmUCIV+w/kD7HJrtyI+bYdjvPac0lXg50JKkA3a99IGz2X/VemDZPoYsZTdbtIzywIXib9yPw2t2FBO7OAYoM+kShfhSBdKBU8nBQiah59gE8pCPkIsl+acJQ++LBy59iPtBxKyHSks3HsqV1iElyaWhkE3p3zAHBH9y/1My9MU/kvFn/02/MJPpOqrnFsqGZ89fni8hkMtAPj9pclBl4el95nofrvl3mRBCSHUoDAkhhBBCCLmCUaHnlSSNdKwRlP70E910q6YMr2W0fGr7SrOfmvRhNSQKHjC6Xn/o8xjffrfEtt0l4aVrihLQlhTdLE13vUfi171OhwEkYpA+mgqIpXDnFpWVKIcZbLYCDQ/KQ0vX6utq1EoY2gfu5yUYiWpCsFAoSOrQc5La94SKNR0HfQkTXg9DrywnkoThdrMO5rf2kfSknttO7WnoycPZoqIQPREhh9ffoMMCoahuey1hWEv4gbwmEbu8ZOB6u87hmO4flzDE9labHg/+08dfkVxfl0TX7JDI6u06HMcDJTmzKJdZUQ4RicHIuhtUJkDohXS/QZovVsmK+fh7DmJ9IIMhxjQ9aNCejRUJQ6QXkYCAeLfnw1Lt0+lP/6kc9JUa1d6ZB58rzlfTkMNWdKmAHOpR2aH9S6ukDNFfNOjNX5NTXYetwINIRDJ2ivLJVviVlxmdDCsFS9dFIVdKHdok35CZp/kx64DfmYsnJ5WVbprZYMVyefIRidPMmf1WMFRJ6OLhMkQhkoe41me7DrVAyWCkhHHtXu19DIGWFDXnVCAUlmA0rsNwTuO6wLWYRxoYZUZxPZtjkBssTxY70eewJUpryz0d31x3QBOMGZsidGlGfKEjuvZ6/UJC2pwPACWqc5MknsmlxX6xx/flGV+KEDIxa86ZbM9JK4ZqfMmGXJ3gvj7ZfVO/MHTsZf075K9GQAghZGooDAkhhBBCCLmC0TKkXqoQCUN/P0OA9NLlKJU6E0IdnSpsbO/A8u2YDRBVkVXbNCWm8ifeJOjplvb1IoxuuEkW/cBvSvMbP6RyyBFdv1NiW+5UyeMvTwrsvp08vYlykzotxJJ3HEKLV0l4kS0P6keFXrxZkzBI4lSiw/svqMhsfvOPSeu7fl6FJoSDE4xI0uhPJq0P3iENkSSExNOyqEj/eclHVzoU8tClAecCFXLo3egThBjmL0nqp5bw05KiZrtQ4lMlXkuHlpSNrN6m25XPpnSczPmjKgUrSR15SZIHnlZRiOPrwPGFwLUJQ6+cnQdkMmRn63s+Kq3v/kUJLy/JQZTUja6/yRxHmwjE+QABjdQg0of51JgUxke0DyfOMz9W9vVa8WiOH84dm3osF/x+0CsT6+9KZqJflyu/50qLFiBFuo5M6B/owLmOPqfA9TJEGdTIsg1l61hVrOkwK1n8YF8j1eNAchIJsUrcPCEmnRiFBMy57cHD/knKkib3PSU9f/oR6f2rj8r4rm9PWD8wlVTEZ+4ad2C9VM5OISwBrsOrvmToPOEvM+oHX07AlyYgtIGK/TMHJGfO5YJ+KaLLm7Z6iVuXDPSDMqdDX/5jSR1+wUqkC+bYmusNYhjovcQMd+A6j6670cznOl3HnCceUSI5fXSXviYLB/3yja/ct5LLmWOX0L91OLb54eplvMnViYpAr/oAyg2jNKkf7V/oXcsqF5kWJ4SQuqEwJIQQQggh5Coh6OtneCUTaIAEnZsSmQ5X7tT2M0QvwVLCMNwOUTmxBCpkbGzz7RJeuUnHQVLTLw0h3PxycTJ0XK88aWT5eoltv7so0dDfD7hEYx4PtwYuqBTzA6mGb81jPliXqPYlrC7h0ONp+Kt/NuEb+Fhe2CzXj0vJzRVI7cQ23VYUaxChKEtaEm31lUBVkTg+rOuH5CfWHeVxcSzRey938bSMPPyPMvz1j4vrWwi01KdPVlrJaNOFQPsUmnMMoqIyeaCpQrNPIyu36HHylwuNoPzomor5mHPEgQeUEHJWSFpBBjEC6WzG1oeWKhm9HolBiEavpydksr9sLNJRSM1kzh4qCkMIP6TjgAqv3rN6jmQHUQq1xwpB87n7DOB+gOtJIFhHzPaOoa9hWyl5mIRwM+dVRToQYH5ItLrlAwzLnD1QV+k/pAhdojEQiavc0+TeoE1JTlWWNJ8e1+Wnj+2S5KsPTxB/AGnA9Mk9KlOrUausKEShpgfNOqp0NPu7GvPax9CTYigdfDUmDHGPtX0EJ+7bQLRBvwig+8B8DuGs0gdiz/uyBCQe9r3r2Yr7AcqWQtKHffc9zB+icOyZL0nf3/6KDH7u93Q4pKOmRc2885XiMhTW+QTNemgSsdvrW+hN45eLZH7A3zP0mgSFfM5ch7X7D+JYRc3fPEzj7j16jzTnB+6BOXO/QzrbP09ylQNhOFQ9OQiZqH+7vL/vhUJe/81ACCGkPigMCSGEEEIIuYKBJESiCWhvNl+JwysNpK2CTVaqzTXhFRu0rKVN+kVVkmTOHakqIRyQTtpjzowfWrJSmt/wwxLfUSpNOhNUelX0SHTYJORWFXp4YO0enDtcT0JdL6+MKORbJXioruUnzW9IUZWSi82P+R1de51NGeI9hKU3fC7BfKPrblBJCrCO4aXriu8jKzeX9bLU3n9VHtDjQTB+cAyia2/Q3n/6euPNWvJz7JkvytjTn1chlO3vKh5bpIfwgBngmCOd6BeIVli2FOfv0D6F7VbgVQOyD+uOErZ+MJ3rS+jShg5IRZ3GE4NOMuI3ysq6hCHkSdBXxjRz7pCkj+/21tEmrVB+FGIQQMShP6M+JEevtq4jktjzmJaorQbEWPr0fhWJKlQ90Wkl45CZr5kfSnT6pGEhOW6OywUVe7bXY0p/p068JjkvmecvQ4p1Q2lJP0hy4hgAPLDFscK6ayq6ULBCsQ6K8tEje/6YpI6+pOuePvGqnu/VyJw7qD3PKoE41f1h1geiAu8d2v/Ok1yQpUh11kq7zQaVu5Pcf+YDJGrTJ17x3s0v2LfJ1x4ppvccSBaivDBQwdN9Qs8hlCDVfoZj3vi5rMrg8Ze+aYYn9RxHSVJMCxFvew+i1yF+n7TTADNdPmPlk5bsxfnq+0IBCDYtksjyjRKIIulrk44OLCux51G5+Mcflt6/+PliH8T5QM9fXMfzuIzJwPWv14DZ7w5c5/nRS5DWg5wdvKjHFdI+ffaAvq4X3Btzw30qprUkqZeyJ9cG7gsB1cA9HallCQS1rzfeVyYQCSGE1IbCkBBCCCGEkCsYLUnqCQD8vpJx5VMhg+pN7k0X20twsUoYPHAM1ZkSDC/bKLFtNhU4E1xp0sjyDRKp0b8QsiuyfJ2OhwfcLlnjQOk1rLMKP/ODVGBlMhAP4FUUJmx6shJXktThJNulINSMZORm3edgqqShTQCW+lKFIP+WrVdp23jLO3QY9okDSVAkCZFGxH7WYb7XU4HzoLL34GTo+OZ8mgqU2XVCEUIckhBiMbJiQ1mC0YGkIiQHHnhCXLk+gniNn/CS1RJsW66SIXP+mA5Dr8bEKw9L6siLKqIA7gfau9IrSarTD/eoLMEXC1C+2InD3OhQ1fj/WA4AAP/0SURBVNKmKN+JZBdKPrqef8m9j2miZzJUHnoiEdsLaaglSs28AtG49oPElx0qRaBDx/WlwrQfoift8FnqxKuS3POYyjykyyYTDa4nIVA5Otitv7UkqVl+JTZxWBKIKFOZ6TrkvZt70KMN/RwvBZlTe2X00X+e8GWE+UAf6JvzKV9jWbj2ca/DdY7jh/MsN4R0n5cwNPfAxGuPaIoM5x6SpviCQ3zrXZpQdEAwZrqPa29EJFkhxVMHnrGfmWPv+hPivIdoBNpHMRbX8TXpaMD6IomoKUfvCwwoyTtZn8TZAiHa+5f/QYa/9VfekEsLjs/Ys1/Skr8OLRFr1mu+ySNxbI4b5CRKOVcrT6zy0olAfBnES+kDlza0X2Q4pz/zAf7m4ss6ZGGhpaVdgtCcSxkIQgeu5aE+CcQabHUB7WNYfz9eQgi51qEwJIQQQggh5CoA/QvxTeorHZRrhFiar76LKiUjUcmcOWhTHeGp+xAClXMV4zkJOB1QdrRyGk0ALlqhIi+y9gZPGE5MGEIEYpgVq1Hbe9DsKz/60N1Mi98oWxrbdpf2KwRILqKsGxJ4kHaYHst0n881WI5fCKogxDojWYf90LLYvO/QFCRSNkjVVQP7A6m+6JodEtmwU7c9vvN+abr3+6XxtrerQIS8iyxbq8lBvIYYxniR1WYaXzlSh0p2L3XoXttSpaUk4lRg/jgWfnGIYdjmoCcC8R7SEpLPvkd5zphKRH8SsUg2I+mzh4qSw+HEoSaj1l6vaWLIMpdMQsIG6UL3GyB5DMGC8qtIeeX6z6kgLK6LK1dqwMNU9Opz/QUBpB9EIcRa+tjLktj1kJYQxXqo0MPD/OFeyfV48hDDvDSkQ/epJyxx/kIMQRRGOrdK0OwDvwj0o2LPJxLxYBgJER3ec9qcL0hDnpOMWT/Ms1o/Qiv+hlQ6O2Ho1ltf43Mzja5DlV6NkJzR9TfqNTcffQxtsrF6KdS5AP0/sV8cLjkJwTry0F/N67KBiidzfCrvY9pDE+IuaAWfA/csl4wGeszR27D/gqYMU8d2qwCP33CfuX+U7qGavO09I+Fl6yW6+VZvqDm/o3beqX1Pai9QFZRemlqveXNtOAqJMT2PICn1fmSWC5kFaT1fwnC+ZSRK7o4+/hlNX9cCXy5I7X9Kxl/8uvaCLeRyNoXqKxWM62Q+ZJxKHly7Zt7aU/h8Femvss4KQ3uvnfi3yi/07Dk0tyVJtUei74srZP7B8Rx95J8kuf9Jb8hE8LcGfwuqUSjkJJ8e03+D4J5gv7xQPY14KcC9duzpL3rvCCFk4UNhSAghhBBCyBUOJEe0c5smea50tCxpRYm4ucT1MsRDRk3rQbQ21J/MVMlmpp8J4cWrJIKSoL6HniqdzI8Dx1JTN0hNDEzsYwi5hwfuleBhuCtPisQSHrihvGnbe39FGm5/lw7HA3L3kNwt15bvnLqf4ExA6dCWt/6UNN7xoJWrKCeK0qLmNQg2L1FxifVNvPqwJHZ/t+zBLLbf/7Ab6ZJQixVzkHAt7/xZafv+/yKxzbdZObnIbB+Or3kNeYjloxRtNex2e70EvddONE6G7jdPBjpUbnvDMA/sd1deVMsvrtqiiTqsc3F4E9KME69XpKWSB57SxKBKjcYWFWfap2+4R5OJKPeK68T1LPQDSYD9mLlwzBtigQhBGhHTuxKhjlwfPjuq4iVfkfaDYMMDe0g3JPrGn/+KDrcC86Ken3lPtukwr5cgyplCxqH0KAQhcMuBqEQPupC59vAQt1TStJQEdKBsK7YXMjK57wkZ+uqfyZhZh9SRl1UgQgQBSHKUGPaDBBNKp+p8L1Z/sAw05VilNGioY7VEN91qxdfp/So2nWScC9CjUYWm2b+5nrnvYZhDGvRgqURtPoVyn4P68Dx54FkZfeJfvE/mDyRWUWqyGpoI9KQewH52KTOIcQcEYuogEoMF/QIArp1AMKwyD4nazJn9VqR3bpFgpJQ8xL0e91snHnE8G7yS0liu3ke9dbDi2itjmrC9O+cbnE85r/TnfMjDvLk/JHZ/R4a+9EdVpSHkIO63KDOMEr9j5nxA2g+S148mL8154y9TOhdlS3HvQBoU4t/fm/BSo/cwTzhWgnMC4jg3SmF4qcC5hS8HDH/7b2Ts8c96Q6uQz2vvS/xdBSoFkTQ1f0MgefWeb65v/VuZNf+emod7bL3gbwa+cEMIIVcKFIaEEEIIIYRc4QQa2zQ5gRKDVzoo3YiecJcKCLpAbBrCrErSsF4iq7dqPzugqUIk51o7pPHOd8viD/+uNL/xwyrFINSQBkQ6SPvH9XfZcpB4iB2O2R8PNx/0M3RpvmLpUqQHcV546xs2r/HjCLaaZS1bq9POB9jWpvs+qEIPQEyGvGViGyOrNmkvQxUFF0/pQ3r0o6oEghWi0Mq60r537yNrdkjDLW/zRJoZD/KwZYkO9/dKrIUmBLUMri0XOhk6rjeO9jw052s902lZUvRM844dRGK1aSD8Mide1e2IX3+fhFds0uF4+A85CImIY+pSe36snGvVhE362G47UPdRScoEm9ok6IlKpP9CZj4YH+dXfrxU/hRAZmXPHykOK0/n2d6HKtt80zgg1gpjZn1DEQl3mGt66RorZcz02NfaV7Jtmc6noFIP/Q8nSj0nHLEsrGfi5Ydk7Okv2GVjOk9QQi5P6GNo1lfSKGnYJ9ne2sKwEpUo3sNlXIdIQ+qyhi5Y6TbUq7KnGuixl3jle1UFJB5o+8uszjd59APsPTsh4Qe0dLH5bL7WB9c0ehNWbrOm/Mw+ta9byu5HSLkiWQuBj3Pc4eaBYRC4QF9vvlUyZw9oL1NcT5E1+DJGSTT6BSGWGd9+r/mNa2eRSkL9goBZH/cFBsd8J/8c/uX45eFsgHwee/JzMvjZ/669O3Gupo++JMNf+d/69yR97pBZVkLHS+57vCgHcV0i4T3+wlf1GkMa2YHPcG9GYtW9z144NqOypZjWiUZNGJ49KJmTr9mUIfoK15CGOFdQzno+wJcNtE+m+ZuJ7fTLQ0hV/SLF8OyPDamTvNnn5tyAENTfVfD3KMQXUHBOI1k/9uLXy/4eBWMNEt1wk6bqkT6tNT8H7jX4OzL6yD/qF1TmApznqUMv6t9wQgi5UqAwJIQQQggh5CoAZQfx4ORKBwks11NqvtBymJ6U1MRhy/SXp6IxPr1kHpYLAQHwkHrxj/w3WfKz/1cabnqLyi6Vd+GoltZDsgryCN+STx/dJYmXvqUP/lUm+srxVYJyehArGFeFmvmpBeRVaLHZF62lnobziYqApetU5gHbw7AkK3MjA5o2dBRG+yU/0mvWE2U8a28HxGBsxz1mO9rN9izX7UGJ19imW1VAVwOpUte/D+IA+1WThpMspxb+9XOpwEogDGObbqm9PpB3SNz1nZXMhePaay224WYz35jZD4PaXxAPQjWdh5Ku5rwFeO+2w/ZKtOVGHaGmRdJ4x7uk4da36XtIOpQzBUg4QqpA1qk8QpowMaoP9QEeoKvIMMvNeClABx68os8fJKB442NYwUs8Yng+m/QE5TId5oAEhCgKmc8wTW5sSB+q6sP6cZves6VO7TKR+qxMRVaC8VGe1a07gGB1ZU1detEmBOsrxYnjChkcbFxkpSMSK2a7bIqlelolc+GEDH/t/8jI9z6h+86BdUm89A0Ze/rz3hCzj3T9rFi05UMnzhPXQ7Xh9QD5DmlXq/SoprqqyMT5QK8xc1+TkLlWfP0H/eDcw30L48bW36iSz/UlBBDs0TXX6WucD/Ed9+oDfowT3XiLxLajNLEVhpo4XL1Dz2+UL8U5j9LFEIWYFglXP5B3KGvqehc6ICrzY3MjDyGRU0df8t5hmZDZc5wqRP/TMwckefBZSe57SuUcpBdK6g5/4y9k8J9/WwbMz8h3/lYGP/M7Mv7cV1Siosxrtv+CykJcJ/lUSfKqIOw+VUx/4hrCtQBp44D4rEcg4p6CpHPq0PPFMqe4NlOHn9fXk4EUOEpqT4beR8y9rG7yOU04Jvc/o1Iwc/54+d8glKc9va9MIjqwn0Yf+ZT3jswLNaQhSo6KGY6/JdF1N+rfCJS1Tb76sHefT6iMBvgbioQ/zr0p76Xm/o5rZeThf5Lk3ie9gbMD64/rHveSylLjZB4w13S1vsiEkOlBYUgIIYQQQsgVDvqlhVduVAFwpaMlQuOXRnw23PRmaXrTh6aUEX6sYGy3JSynKQzrlYzh5eu1/6CWWTx/VB9yjb/0DS1TWQnkG9bHAQmAh5x4COySPLVQgYdtmUQqziVYn8iy9foAL7J2hz7os/0DvWSkWW9/whACC4LBLxWrgfWHSIh0bjfHcq3Ktsia7RJdf5M3xkSQKnXzxfkW2XCTTjMdVMj6SpHquWHmhb6ASNapkG1brhJPf5v1qixn6sB+wHQuxYfkIvrn4XrAMMhU7BuVgh2rVcKFzHyD8UY9BzDf6NrrJbb9bm+OZp08IQhR03j7gxLbcoc53nZcgPtF5blfKjWK9UDvLisTAR7Ooh9kZOUmLTWJUqJufOCXfpCM6G2I/QFp6Ae9VnF+IhmNdCHKoKKEKXrVQUL6UWlnzo9A1FtnM110w06JbrqlmFwNm/WJbbndTIvE4cRkH3B9DG3fwPJlqAw0n1WCZGNl2hniDw99qwlD7I/U4edUgKB86+hjJZmA0ouJ1x6V8Ze/pWUiQT2Jw8L4iNmm6Us9JwNxzuQGqu8TpHIKNWTibIFAynWX+ifiXIPgg9jDdQAgDv2lRx0YN4J7g/kcXwZAr1JcW9H1N6jwA/gdXb1DYlvvNOfDLdL8hh/2zpNyGYnzG+c+5ldMLYbCIhXjWTGO5Gj58cC1iGvPUc8xqwXSsMmDzxenx/0OpYLnA5WR5hig6gC+DIHrEYlDnIfJA8/I2HNfUZGIcwD3k8bbHjQT5Wv2KkQSOOulDnENpI7vKqYBIeohIytLmVYD64VyyRAouCYB7iHpE9WnRclJlO6tGx2/JDKnAnIwdfhZsx/QT/GwTTxWlDau1sMQ+y198jVzTT+i+5TMDxD51e7N+JIKhgeCQXMPabVfoMnntVevuzfj7xy+XON++yViLWwp05l9QaMq5prC36S5SiteMZjtzpu/6ZcD3DNc5QFCyMyhMCSEEEIIIeQKJ7xqsz4UvBrQpGR8foUhUl7Nb/wRaX7gJyXilXysF0igSyHYXMoQ4iG5v/RNdzz09otAuz4xlV8qYTwhicTbVOupvfWmSGzMNbYPIfpAooznEi1TqsLLrKuWDBsfsUmAntP68BpScyph6Af9jFTMqcyr/ziFFy0311D19F8lkRUbJH7DGyWy9nr7oNIAQej6GAKkRpf8/Mel8d7v0/c4p6MbblYBUi9WprYKSpmhxx0erAe9Y6olTbWMKnombtFyfUhRuLRhJZCFre/+qKYcHUgn4lzyT6MCsK9LH3IWRaCXIoyuvU5a3/VzEt95vw7Lnjus6RskZ2Pb7pZQxxpJHX1Zxp74nKZc8yquV+g15sQkkiAYT18jfdi0SCWCSwBWAmmH7YNwxT5uuOENsvjDvy8t9/+YXh+YXwSlXiNxKyp9Dwq1xKonEO1nE8WZil3fcQNaItVL/gVikFrl+1Tlo68nIhIpg//6P6T/735VEq9810qrQED7HrqHz5B+GA+p4cHP/Q/p/v33yci3/1Y/AygRWe1BtZZxrVH+dDIgbyEDIXe0lLEBaTMs34q6NpUekJwukTyf4BpuuONBaf/R35cGc/4AVxYU4DzAdeuSgTimEOb6g2QuznEvXejAvbDp9T8kTW/4oN77bLlTKwWROgxi/ub8aLj9Qb0eAeaP5DHm796HV9jX9QC5jL6ZSAFPF5Uf54+a82KvfY9yl57c0iTb8VfKEoizwQrDfgmaaxy9XHH9A5zr+uWGtqU6TNO+5p6pX1BAr9AqqCQ357JLQyLJlfHShjhvUBIWQsSVLJ0MrFf2/HEtH4mkrhumZUrzVmD60TRj70SJifu7fnHHXJ+1Utv1gOsuBYmrf3NOSerEq+bvTkkAQrzjeLkyqg4VsK8+ol+oSL72iDf0CgBC1ZcMXYjo34NqktBHAcnD9Lj+2wd/B4rk0Mewy0pDlCuNNuo5r8IQfQynkoGFvIpF/T0dUV0DSLPiNY15XiaJdqnBPkzuuTzXBe4Z4y98zXtHrgjMtYHkOVlYUBhWcBElWLzXC4nhdHJBrhchhBBCCLn84IH/1VCO9FKBB6V40DxdWehHZVQk4r2beyB/8JALD7iqfsPeA9INyTI8VIc0cmk9SDn8TAaSqfi5HGDbwsts0ggiAGIAD2VRgjR15EUZ+PTv6EMfbM90hKFL+k0FytD6xwsuWqEPzeshtv0eaf/xP5Cme6wMBG5+xaSh+Y3j4i8RakuXTr2/NVWHY+OVG3VlSlGqt9h/0PsMv9ErEr3dIOUgQCASqwHx5nrAOUJeiVIIJEgEpPRQNnP04U+qZAM2RdijEju25U5zXnUIUlKJV78nydceleiaHZoeAxhv9PFPax+1aglGlEhFShJYWRdXWYjUEQQxBBawy3TSrtGuX/tKFUfYv9iOEIShGY5ELvaFTUX6SilmS2mwyhSh9rjs3Ka9Ff0pQhVsZj2cpMMDZ+xTBwQeRCqkQmXJUUyH5CpKX0bX71QZgWVCgmh/zuSYbq+dR09VgVkJ5pk+8ar3rn5cwhC/K5fjkn2Q8ygNiWOI/T2XIOmDcqj1gGsFIj0ECW6OMe5lEg5LZPkGiW00x9mcR/Eb3lAsR+rANuC8gwCsRPultq9Scah9KH1SUGVirNTXU8mbcyUztUjBfkKibiaoLENfWm96f8JQk3TolVelRClSjUi1jj3/FW9IbZAE9PcfxPmG8xwJXFwjjfd8QJb87Mel7f3/Sdo+8Ovm7+APStjcP/AZkroOTRR6Qg+g1KlLGEJ6IKmVOr7b3AMelrFnv2zPtxr9Bx2aQMY8zfZku09KYt/j3ieWWnLQgb+5Lk1vxSfS8ea3OT+QlIc4tMuoL/GnkrD3rL2WkSwzy851H9frtggkJr5A4C9JigSTubbSJ1/VcRN7H9f7y7wzB7IP5TGzU6Ts5gPc81A2ui5U2lmxVkse2mvJDEfC0JwHKOfuhmvvVExvPkPCVqUiyiFjmilEpKM4/1mC9UgfscKwrvQihOew14PR7IfLldKriTkH0b909LF/1i8L1QLnWWLXt4tfjriU4H6J+wuZZ/J5/XfbtDDnT3L/096bEjhm+HcnvrBx5VKY9y9eXWooDCvY1dMleXNjXmgMmz9YhQKVIbl2GDkxKvn0wrsWCSGEkIUIHsrjoSqZfyAnYlvv0kQVyl/OF64sqUsJOoFoE4al/lsY3vrgL0jbe39Zx3dUliqtBj6fapz5wiUAI2abGm9/l8RvfqsEW5fog3GUX82cO2THizdr+de5Rverl0DU0qxIO04jkVhJIGTLk9rtmp2EVTHYutQmDIsiLCU2VegJQ+91oGmRFYFrrtcSpSjhKuEKGTIJmAcSfxCHKF8KoYGShanDL5Y9ELRC0YpIvEZJVKwXEoQQZJje4dYXYg9CDjhZCvkXarQlSvE50k0YPz94UUWcQ+fhpJ2ZJmD2A857d45jfuFFy1RWokxqwKwTEiFI5KIvG5aPh7UQebgWMK2WyUTJ1LEh3YZIJ5KLdr0xHpIgw1//vzLy3X/Q/e7Eph9X9tSWOLUPfzEthiEh1/LAT0jTG39Yr0stc2jO4/Fd39b9GerolLYP/Jos+Zk/VaEI7HKWq5DImH3vx4nGensu+rHrdEHnUSkDsW5xc//CZyjDCEE/5w+6chBwJXmrUtArRerAdY3jon0FzX0N5z3OR4hBXJOR9Tdq6WIc86a73qfjTQWuC1fytBoQiZDOQd89FCDdnD59YEJyEFIv7yU0AUpTzqQPmZYyTZljYY6zu64gCf3lTXFuab88c576gYhDGrUeUYnl+PsPSihk9vFyTUPjizIt9/87LyH9Bv2iQMtbf1oab327SheUiHa4cqVK1pY3hShMnzX7yBODGOYvQ4prrjKJ58BnWor0+G7JZxJ226vIL1yzKtkrPtNyyMs3Tfh7pcNXbTXHfKP9MoW5/1ZOW2tZuIaRdNTX5rgkDzylKUl/iVHsA32fTRelII5T6tjLZjvSEow2mGunW8Zf/IZ+Np/kzbmS652dxMKXFtJd9m/rJcXcz7P1CkMfmiSsJs3MeY4vmuBvSgRfGIk2eh/YY5Y5c1A/Cy9dZ24KQb3P4m/lVNJSxX1qzHs3e3A+I3VfL4W82a5BKwwh3dJHX9TXCwVcx+iPOvK9T5q/tY96Qysw+xBfhEBy/bKIO5SmNfds/78nyNyDczW1/xnvXX3geoZwnoD5e5Pa/6TkpvjSyYKmYG5zvn8rXA1QGPpAunDI/HFZiFru2QunJbcARSYh88XYqTHJpXLeO0IIIYSQhQEkB6RA23t+SXu5zSeuLCnSE033fEAabnunPkivReMd75blv/UlWfG731aBCLm40EG6EL3otP9YOKbfPk6+9pg+3G6840EVCbMRefVgS3/OTkpauTf3YhMCEPsFuFQh0GQgehiqIFmvCS2cjyoSF3lS0ROOkwFBA3EAKeNPakFSoU+hA0LUiUibYjTTLVsnzW/8kJYoxftIxxovNWjX1867VH4U6+xko+JJRIi39Km9pX6GnnAEmiZE/7lFyz3BWJL0KDeJZCqSRUGUJE2hr9geGf7WX8now/+oKTc8sIVYhPxD78JM90mzbUNmv6DU6VadL4CMGfn235Ue/HvpRwdEkT+dAsGH9bbJQqQNkypiGm5+QPdlaNEKnWbsmS/J0Bf/P0kdfkGPF8517BdIHAABgv2IB+BIwPjBA2OkzmYC1gdiAyAFldz7uKYJARJ2EjX7C6mw3rOadkQacaaopEKlJr/8QrLRzFPLjprzpRpYD3weiDSo5ItuvcP2NcUwcz2ibCgk4kzQ5ZproRJNF+IaabbzxXjutUPXyzv2um3edqHELhKw1eRTNbD/0bcy8cr3VNRk+7t0ftjnqUMvTOhfiHMe+yznk2546D2+6yE9drm+6fc71LLD7as07dz2/v+oYtBPIBQy+6BBf4eXrNJysa58qcOJQIiUzBkIQ/vAV4Whud4g7TCtrr8/necDQh29O9EP1aUIA8GQlwwslVNXYTLcq9eUH4yL8qP6Ohw1188Kcz+wCXqVhp0oy2yu5yopcSwTZVPLyOc0QZn0rgmkDV2ysCgJVR7ZY+3vY4jjg+OBexHKmosZH6WIUXJ4PsE5NNtl4BrN9tgU96VCy1ebfT1VmdHpoKWaxwb1b4ADf+vi171e91PqWHlpX/flJJQATptzuBaaOp0qBThTzLmdd+nBGuh5hi+iIF1o/l7h3ryQwP1L1wlS0BObleAcw987vdddYmGI44cvMUD8so/h/IJz1d+neUoKBU2/V6YIcZ6M737I/Ftq5MouS2q2r1qf+SsZCkMfR4f6JL9AQ3zDmSTOPxk/N25ufkwakqufbML8RzNPdUIIIYRcw0Ak2FThKvN6rTTe+e5iL67JgPyCiHDpxCuBkNfTEEB8Nd39fln0Q/9V2n7gNyXSuV2HzyW2dOjcpXIh58IrNtdd1rQSK+Hsw0+XLASRzq0S23qnSsNA8yJNHjownpaehUxrs8M14egJRsiCqYQhxsE5pueaWX/t/xiJlUk7xSuTCiAFYxtvkdZ3/6I5J9+j4ztCS1ZpyVYt96n9EW2a0KHb6SX3nDzU1N5Qjy4TD+qRXEDyxy0facLIsvWaNitb1uKVEl1/k71GIAQhGnrPqBBEmcSxJz6jyUMtY4rPUVrQK8+pCUPIapRyNdNjuvTJ1/SzetBE0v6nZfz5f5PUgWd0XbV8qdle7B8V+/rQd1CFjB7HLbfrsULiUUvkGTAujh3Gwbb7pVthfGI50XopJIaLqUGIKQiT8Re+ZuZnh+H8d+ugD999y62X0ny/quXEev/vT8vo458VlNTD/LQsL2SvOQ8mAwIPwjtqjpPr8elk4nSBVEaZ0ui6nRJePLGvL0SgphmdMDTvK6Ukzg2URdV1933pAom0zKl9eh7Vk/ZDkmLkO39ne5jlzX/bevsYYkrLWaYSet/AMlRGdh+3+85LCCKhmT76sjnHvqrvsdzpPlDV/YiErrluKmVhJfjiQONd75uQ4isCIWjOUVfy04rEAb3HoKxpAQLa620I/Mk+XJvJfU+WCUUVjZDC5noAOr75PIueml45VCQdIeT8YFvCq7ZKo/kb0XL/h6Xhhvv0XuDWGynR4W/9pS4b4jp56Fk9R1F615HtPy9jz31Zj0ts8+1l26zbZa5vHB8VhxiWTUtu1Awzxyl1bJdk+7p0OqTjG1//g/oe18B8YqXm7Eqf2tKgl6B8qh9zX8d9rF7Rjv2f8dLbmtKuKKFaLG+KeyeEoTkf9F5urvvImu06PaSo3ndX23872LKk6+w5XG9Z0np6Hk4C7oH+NLIKtCkEINYdKWMVlz1XZllN7Dd8AUhTpRWp+XkH6UIkC83fXohjMk+Ye7WWSi+Yl/XuZ3NMsgNV/j1j5pUy/5ZC+nDaJU4XFHnzt2G39/rqgMLQx5nRITk9OqhibiouJsbMtXFpbEbS/GEZTqd0eWNnx/WiJORqJj2YlvFz5h/4mdqpWoxTyPFiIIQQQsjVC0QhHoTapOE6lUM1H+Ze4WC7gi1WmEU33CTRLbfra1vic+7FpxVrczdfCKKp5Nxk2O20MsyfJIyuu0Haf/IPZemv/bM03/fBsmUgURNDvzcfwRik1fTWA+VMIfmQ9Gl5849J413v9T4pAdEX9ERfZO110vK2nyr2LVQ0kRfTEqFt7/lFM58fLaYLgUo0lbQo/VrazlBTm9jSoV4aDiXcju3S3mj+kmLor4YH9H7KEofe8h1WDtrpISaCjYtscsl7WIx9FDXb4XpfAYgtlMPEfHQ/QmjG0O+vJD3xwB7zQLIQAgIyB+8rxZ6WUPXSi3Gzb1GGFH1TAZbtPoMs0f6Ty9bZefseUOfTZr+MDZplTU8cQsogSelAuid15CVdz8zZieUIIX0me7CLB90Yp7K0KR5sD335T8w++Jrkes+oqIEgG/rq/9HSXJBVmjxdvkHPn2pgOM4ZSDxIoMo+hdMF51zrg/9B2t73K2Wyz6HJwyqpRWwb0nP5sQFBGWScVyhfivSjA+dP+kztvl1+ILxQijbbfUIlWvLQC5owBDjOqcPP24RhEGK0wQzrt6IgiR6EdjyUVRz5zt+bA5jV9baCriTcqglEXEv+5CLO47D5O1IPLo0ICkjOmnnjPC+WIEXPy2O7JzzU1WO4fqeuX1k6cuCCJlux35IHn5kgjFwyEH/bsA+w7hlz/ufwBQJvPhBGrpcivgjT/IYf0QT94g/+V2m44Y0qDVGKObxio6YVAY7l2GOfkf5P/LqKXexbiD+UGk6feE1lDCRUcu8TEl29w9zLftrcm0r9fsvKkI5auaaybrhftynx0jd1WbEdd+vfLaSKIVtx/NLH568Hl663WS/X53UmYB44N2czj+kCEVCvLAQqjpOTjG+uB4g3fJEEfwMCAZTdXSENO99s3vu+UBMMqZBX8IUXM66WODXnWT1MNa5KvTqEIqonxK9/g/ducvAlAdyH7GvMf2FIQ3yZB+W1M6f2lFUemEAhb673fi1zDbHr/zt0STDnTn6wR/9m1dtDl0wfV1oU16r7+zAVBQjDrsPlX8zyUocog49z51IkDPF3LH3ileKXp+YKtJDLXNE9GCdCYejjjPmHRb0S8KFTByVXZ9JvOJ2clePrNf9ozJuT78ThHkn2mnkxYXjZGcE/1usxy2RGpAbMP47GsvibURMIw3x26mMwiv9w4bEihBBCyBWIltHq3CKxbXdNmdK50nFiMLJys8Q2oURpi/fJ/NF8/4dl1R89o4Jhtri033yVT0XZTTyU98vAcEenhFeUl8X1pxPrBalA7HeU0my49e1loq9eNLEHAafJwpXa4xOJDwekAkqnBhpK8k2TTxUJREit9LHdKh/0c0/WVZYjrQTJPtePEH0RXT82HBOXIoQIgKzx99bzo+Oaaw1pQJQ/1LQgxGHFOjrwQBRl2XJD3brP/T0PtdTisnU6PLzc/K4QZhAN2l8LrzHt4uUqSVxfRKAJw4FuXQ7WvV50O8cG7Tmz4SZvaAlsW2TFRv0iggNpmEohCCBtR779N9L/if9cs9wWxkmfsSkgXTbSP2Z+WlZ0zXWaGqwlDAFkESTeTFOFswZlOSMQcmYfIDGnAuzGomhTmXjusIqvXH/1HkV4CNr3Vx+V3v/z0zLwuf8h6XOHtEwlyA52SxopQw9NGvWeU8GEcwbJ00og/VCKFOkNXJPN9/2wvobowsP4sSc/p8sb+dZfelNYMG93rmgZT7Nv54pCesysd3l/QZV+SPC2d+o16xKEKhq9tCFkd3LP4yoEs+eP6ANi3CfxNw3nINKckdXb7LpCaPWe0f1TL1gHiD9c50ipAjzIRgJm6Et/pKIPQL6MPvxJc4wHtaSwHmezbHstrtZxAMrrov+ak4RARZs5z7V8b/dJs82bJb7tHv1MZdUd75b8UK/Zzkd02LwBmTaF8ML64dwY+vIfe0MskD56/6syDyQxcd+tCeTZ2JCZfgZ9CCHBug6X3dsqKaYGK8naErV+kGDTlCC+hAJBGA5rH0OUI42Y8wDgnopqDO5vhn55AcJwqtQgzmHMuw5wr5hQ6tZPASk3s5+D9osTttzoFPP2JCX692bM/aFq/8Y5BtctUtDos1sLnPs9f/qT0v+pj5n72UVdz4LX6xHT416mr819P3XElvkF9rO93rv5B9dpytdXlcwThZz94kihIPl6v8xkxs1WSDqUoEalhiLmvKosWTqnYP5HXpDev/pFGf3eJ72Bc0FBv0wCKYo+vVcLFIYeR4bNH846ncIZ84fyork5JswfNT/jZ82NvcpMhs1Nstrw6TIwPFr3OpL5pceTuGT+SFww/7GZrW4Mc8mcpPqRMJy6r+fF00Pmvzuy3jtCCCGEkCsLJL/i2+7y3l296MPj9lUS3VhKF15phNALcMVG793MCcQh0qYWptVKjtbTt3AqIP9ciVNH0KzTVPN1shdUE21If0Dm+alcFh5kQzaAyWTdZKAMXcMtby1bX7xG0sOmAUvJRRWNLu3X2qHlX5HcrBcr81L68Nrf8xDLw3yRPELZ1Er088XL9UF2uL1TxYkmocoShua/h7zk5XTQcqSD3ZrohKStBGIGxwL7A+drdOPNKplyo4OS7T9XFIN4wD+CfpCP/rMVuRWlAYtAUmVKEgmyCw/N7Lat1DK3tdBrftPN3rvLA9LBLo2I6wfywZaJ9fWwHOnVB/jVUAHYf0GTsShBiHK6Y49/Rs+t+Na79MF64rVH9KE8hiENh+OK9JuWRPXKowItTWqOAeRgrq9Lr5fGe5CiW6X7dfibfyl9f/PLMvTVP9M0BiROZSoD9w/sV/0Sgyc96wXnpb83Lx74u1QjyoNCFuLciW21fQ4DSEiiBLY5l3Q/uDRiYkQyJ18z58wBFXdICUJUaa9LzGPRCi3niXLBuN5c/0EsDylDzAfbm3jpW0WBWwt/f0OgvRHN8Qst36ip1/GXv6mf428M5o2EIMqq4ksqSPiqvGxpN/vLXA8Qjtm0CpCxp79QTOJp2stL9+n1s6QkGHH+xNbdYG48UX3Y7cqYVgP7MnnwWe/d9MB5hHMQsnMy0GsS52JlmlilZzUpZ8C+Hvj0x2TgUx8rk4J67u7+jpYb7vlfPyrJfb6H+/UCCWbOa9cPshq47138/35Yzn/sARn83O/r9SbBoLmHRLSvrT/ph78RuBcFzXGIrNmm47hehoFwWK8VpLab3vTvdBiwJUnNvVBFV20Jhwf+xWWZ83nSnoNmXrmhXk1vV0MTiE6SQhqacwzHphbFEqZmubnh0t+ousC1d/GkOdcf0i8UTAeVesd215We1uvTrKM/PQghjJ6F+hrC8NALekzwRRkx40FgXypwD8ohlZnNiJZFnSOwjeMvfE1GH/u0OeYzKxN+VWH+FiCtDSmOLzXVhblesl3mb5X5O1CUgtmsjD3zZf23QsMtb7PzqzOxOBM05Yi/l4XCrPo2T6Bgdslczm+BQGHocWaklC6cKmm4r69bZVEPypL6pNHwEfMfNlX8xZC5aaKs6Exx0/bgP54mWS9y6TgxPCBZc6O71PQmx+XLJ/bJyz3mP+Quw/IvFfmU2bZ8QXIJpAwnnvOQiSN95j+g6yhJeijXJ8nCxOuvZ3hUMuiJcI0D+crUMiGEELJwQdIODzKvBdCjLrbtnkuSLpwPIBsCDbOTdUBTgjOcDyQiJHPrO39OS/bNiFDUHIyYFXxeT0Mr72qvk4qWNds1eVMVlIRrWSzBpvJ54MGiX7RZYTh9SaYJxGXrdH6hJts7D4lMyBMtLapi0opBu0yvfClSbbp9DSpntBzuWpQlLU+6aRlJ9C7rOa3Tq2SClPBShTYdVyqJqvurCf0aV2hisRKkGZEwxD6F1NMEcSBQViYLYkVTf1lPStYJhChkAYRlfNu95ny4d0LSEJIHacr4jfebdVikIiN79oD2Ehp59FP68Aulu9xDNQggyBI8ENb3owPFB8b4DA8NIY2wHa7EqfZSNe91eJXyoACyDCVLFww4N8z5g5QtkpHuCwAQcygvqq8ToypYHIWkfa/yLBrXcyV9er8e4/hNb5bY5tv0QTv2C0ryRtde701ptt+clxF/ShhSzuxj/CBxinPT33MRQAI23vGgposhN5DY84P1EKT1sD4+kTYTsN65kQHvnZm3WZ/oltuk+Q0f0vfBxhaJrtyspU+1f2veSkVcx+hDh3PR39cQ4LxAqhIp5Ii5BrB9Tghqqm+kX6fX0sR7H9Prsune79fP6wESEKnM2Iad3hBzOzP7quUd/17l0/jL3zDn8jk9L3G/Qu9RCECUH9a05KKlKuZGH/9MqXweZFvfOe3hqPeKihQ2jg9KD+v6ux6BZl9USjKcA6mDz3nvpk/Z/KcAkqOs9Kh5n+sx13CuXBzi+oX0wnFO7H1cBj7z371PzOlojsXYc/+mgk5lWton2yACzXGaCl2Pi1Ml67CvxvW4p0/u0bQhzrXQ0rVa8rD3T3+i+IUFlbe4D5vjgGSpH4jBuDmvFr3/V/WcLAL5aMbXhOEkSUc/miAfqi5Yge6P0T5zr7UlRGthKydssmnIfGHK1KCK956znvSdfN5AZdar35OLf/Qhla3D3/jz2svIZzUl6wfXeOroy5MmDGuh4vDMweK02L+ZM/u0JHfLAx+x2zKZMDTH3V96fFYUzL419+a6e+pNA/z9HVNh+M/mb90cre+VitnPOfzNH+zWL4GkTtaZCMR0vi9r4dgn9z+lchyCv+FWKwwvRVnSuaegvXfB1SQOr3lhiHKhZ0YH9aeeFCDG34d/PJtxB0bRx7DE8NERLRla6fSGUym5iBtXHfOvRu+4FZNDyYSk+sx/KPDZ/mXnkLnRpc0/kKZLeiBdl5yBGERPzTHzD0K/vD453C+nzD/kjph/uCwk2XUeJUdmsD9qkbiQ1HKj+F2oUnZ0IJ+SgbD5B29g6n05kjT/kVNlnz9z6oSMmmvzWmdgj/kP+pGpv9AwfHhYy8QSQgghhMwXsS13lvfFu8KwfQxbvHeXDwiJ5jf/mKDc3kyACHMPxCG9gr4EYC2mSgNCjCDhEfSVJAW21OjEEqhOyhXFXp2ghCl6Lar8W3eDBKN2vWyS0JN7SPd58tARaimVPNWSqujp6Otv6AdSDP0IW972MxLp3KbD7PxLZYMhAqMbdqqowz6sBJ8jYeiw67lIH9AjbYMUketfpUKuzn47eIiXOvaKfUhtzoPY1tul7d2/oClCP5AjEKMNN92vSRBIHjw0Tux5TOUXEoKQVijfqElFc+xyF0/LMBKHT3zWm0s5weZ2lZ94SIxpnQyE4IptrH4u1uopeCkJNi+akAzGMSuKPLM9ED1FcZY37832OTR5h+2tlIHmfXz7vWVlg1GC15/gm4CZN9KeSHaphNQEYrueX0gm4jdKLba++6P6gFV7HvZ5vRHR09DrL6jnn5ZV7dT30yWfKPUuBCq2zXpjHZrf+CEV8eh5qsLdnEsOPKxHQhLiJ3vhhMq/qoRjep/BtLh3oHwusGK1X4VW8sDTKn3i19+nZUOnAhIciUVc5423PyihDjtPFXwrNmiKMbrlDpWFSIGKlmxt1GtFy0lHMZ7Zx75+hkDLZTc0S27gvF6XOl5HKWHop5BKSrbPJgwh2xMvfk1fAxxXSK9M18Q+olOS90SsJ9ZqoWVHPRlYWXrU9uRL6BcQ/NIR/SrTroyemQb7Pu2lE/U4njtsX5tzPNtTEpC414w98S/eu0nAcsfM9dN72r6eZP394Jg0v+XHtNQovpAw8u2/U0GF41Aw98RqfzfwxYS27/u1YuLQj8r3Jat1P1YD596UYtNPNq39BlNHXvYGlKNpN8i5QFCvFx2mwtLe1zWZd/BZvZ9qsrxgS5iiTON0EoY45rluT4KaeWBfIUVbDQi18Ze+4b2zYLshxnG/KeuZCCEK8YhzrpbUM8czZ+47em3gBxIpmzV/9242fzM26LlWNs8KcI4ikYsUMlK/uh4zFIg4N7Ldx4uvcxfnsodhQe+1muT0lnGtgmNW6tXn7Zd6wLmJf8d40+P6SOz+tv5br+l1P2j+3m4xo+Qn9Mida/LJEe/VHFJw5VZtadKrhWteGO7t75bPHn1Vzo+P+LRMOf504D4zvhN/ff3lCcMRCMOelMocvxycTbrQz3goJ8l+lDcVuWguyrkoc0pmzkz6GHZ9z/wRHZ9a9D1z4aR87tircmpksKrsSuM/SrzXC4GusZF5SVzmUmY7q2z/aP+4nB0y/0E0xTJxXfeFqovF3khSzvYNSiY7N+vd/+qAHPqrwyrg8um5k6fzTbI7Jbn01Ptg+LA5xuMUhoQQQgghtZhNMhAPuV2ZOyTk8DD9cuHKj2o6z/wG6A84k96GfqqVJEXyEA9y/QlGPOyN3/gmFSOuL+FUYFqMa5N7a62EWAHBsUmli0pCr/SoHwgJTSC22ukAhKC/LGmlDIWAQM81lM/FtLWAPEJp1Go4OeH6GKIErV8g4sEkHuROF00Xnjuo2xpds12XE2gsCUskIYPYH2Y4xKj+NC/Wh7Qom4lypEhSpU+8YmaW0YfaWMf49rv1Qd7YU/+qaZLswMRefjhnXQ8xKwLtcpEo0wTlAgXriWNRCy0T2n1SpUc1XMJQU7YQVkgEmvNQk6q+BKEKi47VKlCBXwK65Wsp0v7z+jBVS2suKZVKhaDD9YPSbTincdxQ4jBrll1JIBTSBF0gNruekK4XIe5r6NmHaxKlh5FeRIoR1waShbi+dLhBRQn6BDqJgKQkrkcIxlqY+UFiOyAe0PcQElDLhNYJEpwQjEgbu2sYMh6iCNLPn4BWkWiOhy1N2q7riD6IkLEdP//nmlSz1+kGva8gZYoyfFjPSmGo81pSurdpOcruE5JC2T4P7Mv08VclnxjTnpjTAYIaqbpKaVcJlptzMjCbkfSZAzLy3b+X0Uf/yVzfDwt6UFaCLyRAGGIfNNz8gBmQF0kh7TemSVk8SXFfjHDgvpA+tUflU/LAU97Q6qiI0+tnSHsZJnfb3p4O/bxim3Ct4B7bYP4OtL7nF80x2GT22SEZe+yzgjK3OC5IAE8LiDtzjFWQmf2S3PuEfkkCQHokX31EErse0vcOpIVHH/2U924ieq7jHK9WuhSfeWk+nGNaohOY4emTr2pPwL6//09aZnjwS39sS0JDHGK6vi7J1ZmEtBJ2TL/40PLmH9fjOf7S163sqwDnBxJcbr10X7j+g+a1v+wyzjX0I8Q2ZitSiUqhoF+kyOAcMeMm9z1lzol9euxi62/Uv8lYJ5QFrpV4RFoU1xRSn6NPf1H6//7XzHF41Pt0mmA9vRS4rlu9IqsOdB+YeeMZ/FQJ0TljjrehyGznixSgOaaKOfey9Qg+naZivHxOrwN8cSN+3evM+WLu9SvW69+ber8gNW2wHki8m991rbcfs99q9ycsmPsT5ms2y/x74GrhmhWGKOk4bv6AolxoJWdHhnAuKEgG4selvHb1mhu39+Gw+SPpjab9CzNe+mZ3T5fO29FrTpjTXsnTmcjDJL5lZn4PtJt/sAfscnuQWCwunVwOes1NtpYwHO8y/8CqkowbOW7Op+d7VYRNhgrBK+jwpsx5jV6dM03R1iJxPiH5zET51iMJGY2b62KKO5iWNjWrNGrWzV23fg50m/8wTpf3Ip0pKJOKssTDh4anPL4LidRQuuq5WsnoGfMfr4krZ7sIIYQQQq5YPIl2uXC9EfEbEiAyS1EIkJ5zCT8/KuvalunvUnnPiE3Hbb9H/GU+J8XsMzHj2vlY8Qa5Er/+dTpfm2ScmBhUGdhk1s0raQogt6LrrlcpA/BwGvPFw2N/AkWn9USiCssKIWmnm5gudITN+HgoDmyZ1LimffCwDHJhJt9UR38lPFhHgjLSuV2HoXdWBP27DCiZizKhDreOeCCKh74QipA32YtntBcW1gH7D30hiyC90X9eJYBDBaHZh+grZt9Pvu0LCaxnZLkVdjjOLm0I6eb6GGLf4OG4w/8eiSD0cNQeeCiFa87dkJmPymqzPyGxIBFtWnCxyj8t0aplbCcKPRUreJiJkqIRb39CNi7bINGNt2hCEe9VpudzKiv94JxE30ztCzijHoYTywqjnHDjne+Wpru/z75XAdhpfjeVpRiR/EI/tGIvw9S4JocgPyVqU1YqD730n8POb2JqD+P6+wVOBfZJfOf9+hoJ5fDKLdpbEAIX4tpJRAickC9JiM9QwhjnOZLJuP803PEu80HI3rvM9FoO1NwDxOt9WAa2L4aSl3YcHEOIdX8/QKS7VBRC6vmGTwt8YTpduxegH9xD0H9w5Dt/rz/jz/5bWeIQoORxct+TZv3DmvDHfVBLiPaeUTGC0sZaQhZp9byv/x8kVXJMxe7o9z45qcR0aPnKriMyvuuh8pSh2SYILz3H3RdKUEI02qQvcT9ufcdP671x/JXvaAlMnBeRzukJQ3sNrROUEsUXJCA7B/75t2XkkX9SgYbyt9gXSJzibwXO5bEXvm7W99veHEqoeIPcw2uzLekaKUOAa1zT7uZaUVl4ep8Mfv7/NffWboluuk1iG27SMp7D//a/7AQ5c02b/Yr9j/sMpO1kqLw14wRCZr3XbJfY5lvNvQnysUrCDok/9BX1+hxaSWjnr/0q9zyurwESsbX6Myo4nheO63RYB+w7FY7mbxmS5tiPuBdCYI489Jcy8On/JuPPfVX3fREzD9wrsn1dJdk3Q5B8K5u3OUdnmlYsozCNFN0cgn06/txXvHdzhNkWfKEAvYlnjDk/kQhFCXX8LasrFWiWi/ufvjTjp46/ou/zqaT+rVLM38OGW96u94Pk/qft54n52+92/nXIPXO/wPqaF/rvnmrSEI+areSEOLSlSa8GrllhiHKPR4d6rQw0R/ejN9wr20+1SGUQKWUuhovjGMe+h/CLjwZwHsiQr5whRIHkUcvX/GPRjHzMXITV5Mn+/u6q4mIytFciFmgYj+W0LOqQubCmORsyx/Sa45IzN49qDO4fMn/7Jn6WHkxL13e6pkwZ9uAfX7gxqSwuHWiUKsX5k64YfrnpN/9IGkwlpn1uV4LrDds1cmJUpRv661XbzGQ6I2PBzJTS/EzfoKSzWRnJmH+4+46VE4jnC+Y/aGRuJFii2/xHY9rcA1JmraqfFguSsdPmXMN+noREd0KSF5NaEjmfvYI27iog2ZOU458+Lkf/8ZhKaUIIIYSQ+UYFWtsyCThxCZkVjnqfzozivCrAQ1TIFUiK6Obb7TDIliWdmixCL8J6gHAINXq9Cj3xiIe+/umt1PO2y99vMIq03QoVLY5qAtBh5V7MG8eTbzOQvP7UIxJKweY2FXdIgGhvH+9b9vXKQzyYRblFlFlE+chqMqoaSGR1/MJfSstbPyJN931QGm57u5agQ/lEW450ncovlKKMbbxZRZlfFgLsQyRQXZJQp1tIvQmnINAAiVeegoQA9PdexHURXr7RppH2PiYjj3xK90UhMSrZvvP6wBPJMzwk95cndSlDHA/IW5wnSAdqarBKyVBIXwgIlZde+VKkl9FzEulCh8o0M70KRnPO+CklDH193KaBFcgoX2l7L+LLAza566UAVXaaeUOq4tw1yymWFU2Nm/1h+yra1116raDXIdCUqycPp8KmAyfuo2qo9NtwU1E86ntzDwnGbUpRJaE5xlreVCViqcwp9rW/5yHGxTQNO+/XLw+4HqAqhSEha+ASfthnqUPPmu2HfLMlSnHeIGGH/eqGWVlWx3/jqWTsU4FU1pcQ+OdhXjupZ5ODeNCN9cpoQhHCEiIqfe6QysKxpz4vI9/7hJ7bmug217CWuBzu1fngywcq51ZvV4Excdl5c+4d1xRjNVSmud6DWSTuujXBnNz9HR3mB4IXAq0S3G9xnuPYobwl0s8QuOiZOx0CgaCepyhJCqmdPnPQ7oPHPi0jD/21pL20If7eqTg110B+uEePFxKJZeh+tjIjr59PlHooP5rr9VKCbtlmnjnIsZ4z+sWEjp/9M2l558/rcdVynMMXVaamJxN1FaAkcn6ox1yPMb0/o3y09qn0hKYfK0t7tPS0vs94CUOkL812Yx3Qpw+CBMctffgFTCRSQ5ipBL5wQueDnoupIy+Y+xvKYd9gryFz7eC8H3v6i5J45Xsy9JX/JUNf+7g3tZne7EckpLOaQhzT6yd1eq/36TTB306zLpD3SLurQBzs9j6cOfo32SXqzPqhzPD533yj9P/jb9lh8wCWiS/sjD/3Zd0vcwWOV3LfY1oKdEb7xuxTHGeki0ONiySOv0fm/Kgp3sxn+HcMJCGSpEXMeehKXgfN314QCAa1lC3uP7gee/6/H5LxZ76on82GynUryl+zLYld3yr+O6sqZhyUXe7/21/RbfGX6S7HbOdVVIrUcc0Kw7PmD8PhoV65YE6eqPkHS9z8NB3NSyBvpaDTEEjzIT2lr81NHCdCdCQgAfNqPJAx7+yY6F8ISTB+NiEp84fwyFBJGEJOdquYNK/NP+ZmU0p0JGtTjWfNfJgwvDycGxuWrLnhdeE/3GocS/SdzJtx/Gj/wlxBf/e82FdXCq0vYQWhw4lCFYd19EK8lFiZOTuZBPGIfevQXoZVxOtwOCMD7eYfW+HJ90GmAAFp1m10VDK50nwGBsy6ZvOSCOfkxJj5x7x3jV9rQASifOroqcmloZWgBUlcNMfDvCaXDpS5Hj4y6h0j7ntCCCHkaqb5DT8sq/7oGWl77y97Qy4PEGp4eAtpiIfm+EEKcD7Aw2j0dXMJOzcs2NRqxV6dEk6nae3Qcq5+8edHZWLbcv3cLwPxINpfgrQWEAEoneZEn65zvQnIKmj5VC/VqIm8xkUqElACb+Tbf2vTSAY85MtnUvoQEQ+Wa4EHgJmzKEe6TKL+RKABpR3LSp76wLIhRFre9tPS8o6fFZQVxUNcJxsAxFXTfT+kn1UDEghCDD+QD5A1YV+ScaHjZGA1kARKHSs9wLfHIaHnAh6C48E0EoauJCl+IEshTQEerKowhGQ256cVkZ167iC553DJw0I6Zct4YnxvHjhnUS7T3/8Qw/Ae46ZP75U8nlN44lAFH9ZjmglDhxN9EAHoKViJyrhNt+h22QFWHGJ8SJ3KB6s4/8K+cqD1oOdQlbRjvWB90MfQ9ii0ctDKw632d2fpmse1GN12j/fOgl6G8R2vM9fNSk0taolSzKu1Il1oUNnlzU9FBXqRmmtZzw2zL1GmzvUuhGDKeYk8yIDsual7GtrehNX7QaI88PC//Ykm/apKPaQkzTXuBwk0JwtDS1ZJ63t/SWJbvYQh5KSZJwQj+rXZL29sLqX/DJBaxfsTlomSo2bYZKDHZnLf03q++lOGkJ1IMgKsp0tG+4Fwjl93nxnZ/PdwICixLbergJsOuJ60BLS5n2L7CmMD+jcDYjWx9/Hi+kB0QboVMct0ErYIhiXtMHxWLG1q7g3F8qT5grlvp80+XarzDJl7Pc6DpFmWe49t0QT4mh12WpT+LORL+9K8nrDsSvJmOt0WsxzzNzSy9jo9XzI1egfqZ11H9DrVhCH+Zpj9ELvxTfrllBFzHqEHYmKPLQ1q05Q1+hBCVno9M3VdCyINO99srgf0Bo1JdO0N9jOfxIPcLKIJw2MqW8qG14OZF8711KHn9a1u1+l9+jeoYedb7Pp4x2iuwDHKmHMdqfLsxXnsZWh2JEQX7iPjz/2bN3AOMPssfWKP7qsESgOb5eDfNehNXA84X5BOxHnW9oFf1/se5pnxyUDsIwhJfW3OnbFnv2xeeP0LAdbB/NsCJUEhCYuJdnMt4D6Df79o+m+2otRsG+4rZdLRrIf726TlZc3fzLGnv6DvK8F2DH7uf8rQ1z+u84IoxT0PZaW9MawkNJ9lUeZUB5lhF2pJxdrUlXS8DFyTwhCpwkQ2K0eH+vQkWdbQpMlA98C8x9zEnQhEku/0qJVzQ/hHug4ViY0EZCxSkgzoX+h6raG/INKL/z97/wEgW3bV98KrclVXdXXum/PcyVka5RwQAokgQIAeBvwwOAE2xvAcH/4+82Gbh4Nw4DMYMJgHj4wQoIzyaEbSaHK4d+bm0DlWp8pv/dY+u/p0dVWHe/vO3Jlbf+lOV506Z5+d9znrv/9rzeqDgD8fQoLPBX34264yzFyfaj7BbLxk15vqMDjWwUsDT5D5tg3jhdK0lPW3MIozJalAcEW0j315Yp17R2IifnX8gpzWB8GrJd5ebExpXSzrorPTfZIx2aoqVlJ6PFq3+4YJxmZM8QCuvy/O64tOiDAsFzSvVZdX3AXjAnanUKFdrzMytx2IX7ideIuLmxCLHWwdKAe3UpfleQxEL6/5oIMOOuiggw46ePkjAumDUu8KlHPbhSmp9t7kjEU9Q2YIbkf6bYR43x6J72uv/sGNYHx4vXtV3FGmbn4g+NYezl3o2l35lubQwTXk35XAypzrNSIKxRgwEi4gUQFGeQiqdsqAGiTF+FkzQDfnpTmtdjAXmpoPCDQAaeNVg/wmybRUUU+d+sYaF3LuvD1GPnKtEYcB2fVygLmv7N+7Jt98RgkIIQLBgmov1uPci5rLyee+IivPflmquG9E4RPUb3zfLZJ70wftM0BhSIxCawPUeKYs1Hvp+dzL+j+EYqA4RLmEm1H3+6oKrhnkI3PX203NtvzVv1jrFs7udWXqwmZA1oSJSkBZnIIxcJnK/bTtjTCcvKj5dwpDAMm2pi9ALmrdroG5f11LapH/Ztel2wEkJQQ3c4l3IUqemWdwkbqGRON7UBYPziW2Vvrudxhpln3HD+pccaSRViswfssXnjIVnH2HKETVp3NHETd+HCvpe+CUUxhCxq5oP9oOMKSj/GvACKAXZOHLf2ikYTPoR7Gm2LG0jycLe779p4wYZYMGZCgEFS4Blx7+iPU/i8MaoX20P+m9wm5WcR2KCtRIw4kW8RE1LQipNajVdMy0UBly//7dOsYGNc+4D13NsxHmt7/Jfdb5Lft65xp3W6DPatoQhOZ6VMdb+s63GBEfBhtBojrOPSA9LLZgCM3HTCGIypDjlyDj3G82TvKUBxISshJCcXL1ewhG1DbFLXT3aUPWKfzvFu9U107+xvWv5WNdnsuNY8wxuFpFXUi7Jw7dKd3v/CHp/f6f07YsGQFaOvl1G88+xmErQJyF3X6yDrCxxH3RPBEjlzVdj+fe9r8Z6QxxZO5WNY/EPDSV4sgLls46QnEDQL5CXk3/zr8wVSTrEUSsJylpk6WvfVQWvvD/2PcNUa+3J6jI37km1aOev85N6UZpbBcQkrh71XG1kypDSDBUpNT90kN/YiR+CcWgHmuAcrQi7HTcQjSXx89IQp+z0ne+2dw46wU6zkOEl9bX0iOfcG2q89zSgxCGAbkWiQSbtbiHph+JmveCBrTPpO94k6437WIKB9dtCXpPFMQP/lFrQq5eM7fEyy1cDlt+dQ1e+sbHggMcqjtXrED76dyf/ScZ+4UPyOWffaNM/drqJr9tu1HVfLB543rEDUkYGlGo//MY0odDlIHpgnM1WsFdZPAzZNCcDtLQ6dI7ErVzURmOa2dYuKgLdhC/sLKsf4Nzuc/YUsG+Eu+Oe0JWmtrQn7QFzBvJ6LDSXZcXLkzIUrksMxdXScoOXnzQN1CjPj41IiX9G8bobVWpJNe2zfLlJXnhNUUpp+uyNLIkixeQ3K+ec2Z+Rh4cPSefufSCEdoAEjHs2na+qC8roe/XC3AlivKyvAF5txWMaBqjSwuyoPVD3eCCsZULzJVkTWoQr5fm9Jm1PemyFNUHDsZdTceofvKYnVuUSkASPj83Kcu6qO0UTLV3HRM8joR1fag0X9qSi9GVQIm4eGGpQxjuEJa0LitLa+eNDjrooIMOOuigg+sFKASSe46ZS0+UOLHeoeCXnQfqhhjuDgOVIYRTO3egGwFiayOloFcYNsPUiRsQlEbm6bUYNjGgOpemjvBwv119rD6vMPQgBlTXa79NLMYh75olfQ8sTMnSVz9q7t3CSkNIipUnPyvzH/sVc/eHMtSTfB5ODelcYvp4hu2wliRMNIgVyIOE5isMI9gov52nnzOo53avSePlAMhaXAR6Eg+EPwOUgfFB7adBXEEAGYSxD/LBxwt0SsFVZR+kASQICjtIPjt3wMU0jIUIQXPPO7DXjLq0rxGIG7jjJN3Ewduk63Xfbkqb5W84AgYFbPLwXVesLiTOJUZcSK52LtgYM4w171LVyD3NK2RTZfK8/l11sxmJu3iLnsDkb6ypXOFj9B2UhZCRuHi9Uhh5otenbn1tcETT1r6aPHyvpY36cFNoGkYk6t/kwdul97v/j4Z70nXg3HhSqtNjDcIQw3K9tGTEYUX7CoQGc0l1cc4Uqri6NAUZRMkGrklN0ar12gqOgLxgxPGizg8rj386+MUh2tUtqaP3Bd8UuKucn7axm9L5HbLQgz4ZH9ovFtvwxMPWh1Kh35kDK3OTrlxF4g46MpJ50asm26JSNreqgL/zn/g1Wfj879l3wFxjBJOuB/pF8+dcFRqiUYn3Dpv75NTNrzUSbruAhEzsu8Xcq9p3ndfSx1+jab5Fv2j6Oi92f/OPGrFoqsCA7HMKw9YkgFMjHjSCrjqu/R6C7dIJR8KE3ZRq+ubC2uc7GnfEHrD5QT/XawKRti1UidvnNiskD9xhaUUD9bsnGmnLmd//eRn7/35rwxUpseN8fEIjDHVuwqW0uTTVcYECc7P4f5DBRU2Pe8V3HbL5ijWLse4BMUqMOuoId8qJ4SM2v6FcpQ+tu0erY60AoTM/JctPfNaIu8LHf1XmPvrLVv7E/pudK1RtC35f/uqfBxe1B+Nr6eHNz2sLzQ+bSCD5dgTaF6weKOdOqQy1bo3EY8MR6S6g+P2CFM8Qc/ZUgyBkjC995U9k4he/17wdNI7X9frRF7QrxyV9q84JkYjE+3ZpVlEthhSGfH/h67ou/oFtPOA7cf8qY6dsHPBsB3m98Nnfdt9DzwmMp55v+4fS/S1/T69DDbg2HiDXFf7qv2yJlDM3qKcfs3YxlaHmA2VzA9QBytbFeXMBvwb6WzhWIWVf4Vptl6KWbe7PP6zPYX9oG43w3LCWkHTpbhl1sQ1YjLnrDTckYYiLUG3/Boa7crJ8aUlS8+67TvXugwIln8UL1M8XC7N6XV0SfSnpKsftd0ijwkkXv3D85qqcKs02XIU+MzMWEBF1I5YsXqJdo4tr6P5bQaLimmpxQNOaKdJj5ezJcV27tplQB1cFpyZcrfPLOrk8Onl5jXvScy9M6rNQTUZPzayJYwjRstRbl+l7IlJL8l17SqgjeNIR1ZxXGKJIDROEBX0Q8d+550bquivBTrgVvRoUZ0tSLOtDKLFAg75tcUFD/XyKl5AgjzM1fTANEYHNWI5WpBbRyb6kaYTrsalep/XhfLO6DBNtrVDWvIdVjNcrwjELzc1lk9K1FRouSceW7XMHVw+nMNy8LhcvLkol2JDSQQcddNBBBx108GIBl4bmKjTu3JNikLxWwE1c8hAxj5yLT1MrXYGq0QhBVJFtACl4JUQkZEaYzAung9EZgxf3vlq4crt6Jk5a/lt/XLpe821G3GDkQxmDAW3lSWIQrapzTF30xT8w91sYvTGoNyPS1a153hqBB2HUIAxTEIJrywYx4Y3REArJo/cZURjVa6iPRCiW4csF1LtTAjUr31bbpBUwxlt8q2hcolpX7cBY8koKu1fOxTL0hCR9KnH4biMU7Xt3vySP3K31ufG4wzifuukBfVfTd9WVghm+dwyEQymuWP9vJvgAZHnzccuHvlt70s+DNLYci1DbIX3LayyNjeIFbgUof1O3vC74pojGJJbvF9zGxgbWq403grmRHNjflsQ0Ql5/M9XOuaeNaMf9qLkm1XqsTI/YvJE8eq+1Uxkl2sXnTLWD6mzl8c8EKa2Hr1f7XFrrdpTfwjEMm4lHU7Sy8SAARndTCUZiItoua6D144k6Nhdk7n+PtTNkkCfagOVh4oL1YcggU8eFlYcBIEO9wtBcK2s5maNzb/sBkVLRFD7VyfNSDmIEWj9pcqfsAWFPnMXM/atxPLcLyuTVicxVyeOvNkIZtV/mrrdJ5s63ufLqbygau9/+N7RsRSmPryVrIaPMPbW2eeLA7UJsQAg0p5p7yog53GEaobjLKQkhzr2q0Fzb+s86x0BQtkRV29O7OA3B7nP+aVn86p87l4rRiG3yAZEYaR+2dmae5lzU6fbdx55FGaj5J06ekZm63gMr9/HX2GdgBDHuS/11CtZpK5P2tcrsuClDk/tvs7bJvul7g7McKH/q5ldr3b7D+pa5Nqc+Ne/EXqzOti4bCsfiia8GR9ajhkLyqx+1/OIC1ZGQKAw1L94NKqhDjM1qmzxp+W2QkU2fuXbxi62ViKRdhuDcACgtnUry6mMmAsiuyoxLC8UnngW2DS2XudA8+4SRftQ3rkMheFO3vt7qeenrH7djzCFlr4DWfoIbUYjKwif+hxQ+9it23JTBM1pnRvLp84/9heAfMvei7hzIw8ctPVzvmttTjp1+XPOw7IjpvWFFIS5J16rXV1FvkJUNaB5Wnn9ky7EN68UFa7+FL/yuTP33n5C5P/rF4JdVQAYuPxIiEg1a/2yW0T6bfeN3cZI9Zxn8Zx23vd/7L6Tnu/+pO67gWRm7M26itw6Ui4/qNdsgGV8k3JiEoT7UJWMxSWkDgx59KSlOl2gnw1Rt1ZWoB9d4027PYkxyVX2Z0c8XR2dk9vl5Ofmmspx4e1km+zWdiLsa9eHY0gJcouEirk1DJMVWQNxECKqu6YhPVlbGcFGq6adWjJz8o1NPyi8+9nl5geDKofSL0xCLwZcOdgRnLk7I6EKhUc8fO39CZvSBzMW9dMemtf/QLvwNk1lLI3peuibnb9dFN6kL10plS+3zxNSIEZUvBixG4jb7zAjEpU6y/u/VYHymIDPLy7LUpQ/EwexEHMOwEnN6vCDVQFU4pWOsHdG3wC63oDDzcbYBrKZRXtByVuuSWtRxpZdD1m6k+kXpOK/jfKP4faW50pp8Xq9Y1vnDuyEtEpNQP6+Ma5/dIhFohOMWSMYONkapydUoBKL1ocBVLt9nn56VcsGN/aWLHUViBx100EEHHXTw4iGx65AkD95hnyNpCLO8fb4WMKKvZ1j/9kriwB2mNrwSOGJvY+Iumh8QYq/hRnQnQL1YvLpN7rsVmAKllxiL3abywBjtCTsztrMBGUP91EVzqQeJaMTDhafNANv16m+VwR//VUnf9dYgxVVgWI3vPmJG/2hu47zGuvuMeARcF8muquyIwcdvYdIwDCOK9t5shsSXG+h/uA4NwxQEgVLPCF2tDw8jYnYdNtLPKSvbE2IxbcPU0fsbMf9IE9drwAiDXK/Vu4fF1DsUMnxvAlQ2Fpds6rLLZzMRdAVAuVR8/quCoqQ5Bh6g3CgZPcIkYbRnSNKBm18jgbbhWtRcmOZ1PujqNeL0amAqxYG1BB/EU+KAjoMmF6Q7CXNxi3vkCvHyRo2gYzxDGtO2jGNrr8mLZlBHBYP7PvveCrWajXX3eZU8xKBu7kkhY1q0kR3P9Zt6rBnED2uuA9oKFR6kNvMkirEwTM0YIisZMygUjUBDYReQghuBfpN9wwckedP9Vj+mWAQQUf17JN7TWj1InULiQU5dKRi/yWP3m0oUtbQpxDN56XrN+yXzqm+28mTu17+ax9zb/4akbnqVDoTK+jJBEEIIQpjqWkLboCiEnMCVIWTeytMuVmEiRBI25lWIxKGNld7AiLDpESEuInPu7J/8XzL96z8t83/xX2TyP/+ozP/5h424RalM7ELAphvUsBBC4diDtFE5pHpsEIgQhp5sRIUZpGOo4QLSuaeknrrf82PS810/q2vN++z66oRzhxrfe4vk3/eTjXQ8SI8NLJkH3qdl1nyh/NP+a7EaK7g7bXL1qajr/Qqf+S2de1xswlaAiF7+2l/YnIMajfibADIMd5lsNICcpV0hfIsnH7YyLOKeVO9vBGGgboXoXfjC71l5jFhsRt0RV8yrzPcekHoNgrCqaZp6LyAhAzAeSmdbpLkZqCNISq1bnsVM8dnGFfkaaL/05zFW5/7038uU9hcj9GoVKZ593Nqk+x0/KFEd4yihbcOL5tNcI1M3bGDQ9oHYhwj3xCW/mUvOSMRUrAYIP10zISNxuUzbmtqQOlsqmJts6oANTj5eYTTV7a5tuCdtgpY5deTe4EsTNF28KOBmtBETsR00757kIy/FUEzmNYCEfPbLa1SCiCUgOSOax+SR++y+prbXv5UgRiG/eZfGSfKr48iv6VsH5OPz/JHSKc2f1t/sH/z/5PI/eYtc/ufvsPajHC8VbjjC8MICKkGRA/rAdrMuRFFt5D1RXJIu6fG6ZKedW1IPiEKIBAibycl5uzZRichAhIU1IqNz8/Ll4QkZuaViBEchH6YlRJ7WweXJJe8KFRJwq5jXSZ3LTdmk/5/fXZOlMuRmXRbqxDNsj3niKgbG5xsJz+kk/eDYOfn6Z1+QcnFnDezPL03Loi68zbWKYm3m6RkjX2amF3S9qMn4XEGqni1WzEZLRiQup6oyflNVChNr3W2u6ATO72FMFRflmakxOaEPUQva7lfTmqZs3SSFJ6dGjfy8UixMa5muQmVXqldl4vKcLCX1r9ZRJaVrV1HzHarHyZXlhsJwTut07YhbRUHrK6yWhEBEncuYIGYh4zKxpItdld84t33doASbe3bexSfcBBbnT/N8vWL+pJZjSRfyOX2AhDjVujW1a6iOm8EmBU8yhhWKHVwZcO2KurMW6ifEKpz86pTb6KHAZenciXlZHtEx1Ylh2EEHHXTQQQcdvMhAYehJQoycnjy81sDgh0HrWsGpA9urEDeDI/VC16OK3Kn8GiGVMsOsVwMSHwzixKkMRx0ZlEibURDlDqSduQ7UNkrf/iYjJVoBdVf+PT8mvR/8Z864tQHMJaUn/LQ9oqE0I3Hy6L7zNzZ4QM/dbaQE8d2MFOnfY4b3lxsg/ZIHbjMDaCuYS9LdRxrEHkq47nf97zL0D35Dcm//Aa2D9mVGYRhWUoTdljLWYlp3KN5w8QlBh+o2ddOr7ffNYKT17mNGCEAqQIJcqTtSQB9EiYXx0tRq2r+jITJzMxjpsPfmhtKVPks/hiShn5hycO9a5aDFFISwHT4kyaP3S+rI3S1VjTsB+mfmVd8afNs5UD5iAIJoJmtKp4j2KSN8ClOOJBrcZwpFI/p1/JaIb8jnyycdgTh6SlA+Ue+2OWD8nPtcRqnoiDrimuEWb/HBP5aangt5CAmZvvdd9nsYzBWMURRkuJYOE4s2VgfXbpywdkijHN2rfftHgqN63FRoep32CZRzGLFxtUpbG2FmMQzPSvncMzLxH39Ipn7tp5w7Qs3bmniLHswrOn7os9Ug9iFzPxsNot0uhmGieVOHEZxXT4TTt3Nv/ZAkdKwDYl123ftOKwfrQ9frv8ORAPzOfKv9EsIuDIgUK7/OCZk73+pIRYjPiosdCKGFSo46RoEIHEl4iEo28nOVpOOc9iQo/Wf6N3/WVKjFp79kxM7ig39iZEvuHT8oAz/6H2Xop39nlYzU+cNcnGLzmiVPjthrQNuY3xuEn65hKBIB9R5e6+tVyuNi1bKRpftdPyyZe95lGwLoA+ZCVa9P6LzYTBYauBebYPQ31g4210jFqQGNXG2x6cTUk6cfFVS6LVF3JCb5J/YiYy5z9zs18xGbW1g7iZU4+Pd/Vbpe+37tYyUpPvdVy29l6pKNM1wBLz32KVtTa4UZKeoaShtWRlfj8jaAGlPzqzew9m5Ax4Ip7oLPlenLen2TElHLsnLioeBLCGGysRUoo47/5H6dR295g5WVmLmbgbpbfrS1GhHijnKyXjAXpG57Q/ALv1UbsQ0XH/pT7QdJI8wpVzmIbwhfwnMHsXxT3i2ztq9tEtG6rRopGZCKYdh1QfxCXd8aMQpRKLYiDD2C+zWg98Alqn6wOMoLn/ktd7wduD4gO914C7VdMzTfyyF3pebNQcuD4r+ZBIR8bLicVjBndr/7b9I9tDw8N0E2tiEnm1EX6+tWppkRmfm/f86pSbUvRvQfrubn/uTfu3NfAtxwhCGqP0iTYV24b+odFF1W5cl/87Qsnl20xooXXWzCZkXXxNKizNccYZPSiW5fSh9ySiKn43MyediRhWBFByHw6kVcmnqShjiGkBReNbgd9IxEGwpD3JLWNZMzMWIb1uXiolMuNue58PyNGeOQmI8PjZ6XT/delE9een7H1HnEEzxXnWuQVWFAGD7zhC4+pYpMoPzUxpqN6AN7qJ3nJ7T9AwJ39BadUJP2sQFckdaa2guSb1IfRE7NTcmoTlq10L0tvuEm/ejE7ISRp3Pa5+h/xM/cyOUoRNpmfXPqtL6sllaJDkfMuWuef/iyFK9CBbWS0Il6akUWu6ty8e6KxXtsJkwWK6vKweWYczkKxucXGnEJQdi1K5iZWZTZFzTvxaoUMnpdtC76ysKyb3W5Yb3MlWT+lNb/dUwEbhVOYagL+Wx5DWG9Ecwda9B3F84vbok47aA9ihMrUg7UhBCF9O+ViaJMfWNa+5pbQ5zCcE6WLum80CEMO+iggw466KCDGwAYkJOH71wTA2mn4VV8VwpHOK5eby4Pj91vRMfVwuVtt0Q1zeb02FWPIc65C91lhIO5pHvoI1J64RFTBaVuWe+K9EpgBE+u1wgcM8CG3Iu6+zsyEbWOxeQKCERgSsZdR9YoMV4uMMKqWWGox8IEorkTDRSXGNepJ/oD6s6NCD4jekP1RBuHXeehIiX2FudE8/2mxNkqHCGXNvIFNQ1kz9UAJRDKPkhqCCxXzs2VfiiR43pvRwiuuiP1QNW1++f+QgZ+7MPBkVWgbOt69Xtl+Gd+T3re/xM2F6RDsQd3FJBi10BdaISotqt9Zhxov4l1D0ptYVqKzz3UIIwSe28xxVL5/FMWlxRjNaQFSh8UMYVP/aZM/ucfkfmPflgm/9vfkZn/9c+lMnHRiB3S59riM18y0ghFohGJEDO5PiMjW8FIIa1TIxCH2rtiNXWazme5N33QSBcP+iXEo4eRmUHMQlMl7jluarWFz/2OGfNRdM3/1X/Vc9a68jRSUOuE+ic+KyQGsRnDpCKqUCPZWhFQOwDaBpeMXfe/x31n/HiXoE2kJL+Zu9CyIwIbCH9nbOs8QTusiVvItTpXenej1v7E+tO/3h3pOtj9dE41grbLiFjU47ivnfqVv6tjctbUsV0PfIsM/Oh/kvx7/46kjjslbwOUB0JQry1deFrMXSrEXgDaMkn9Nh33MNLw2KtcuvWAnCu2j60ImYzL2k1Bmbq6bc6EtKO/o+7z7lCN8POfdUyg1IRULz77oJHoHtZnIPAgq3TuJb+p215vGzDYeGEgLZT6eox+DBmDMp9YcStPf0lwGwvxvfDp/ynLj3/KxhTkaLPCkDpceuzTRjpCTraDc0m6GgfQANlmmwDWuzOl3PN/+StG0q0D1+k1KNgi2X4rG2U2BeAmgIT1adLuVm96rHjqUVP+QSYnUIXr3+SRVXW4EX6oGFHHmtvSuMX2TB6+mx+dynSpYMR5eI2ELOMclIUNheHZJwOCjrbUdvB9g3OP3WfK+aGf+l+y65/8vuS/5e+531pB+x7PPUvf+JgjHOtaNV4FqPdZeuTjVuftAeE4aurboX/0W9L/o/8xOB4CJKb2IcjQ1bRrsvLMF+03H/t1HdmovzU2XnGejhc2D7Va9zaE3pe2ARaH+Im/tnUcYH2t6edlzUsjby8ybjjC0JNH+VRajucHpHsmJqWp4jpXb+MrC3I+UCPad20gXRL0U1329PVI/75u2fd0wtwZglu7nFpxqd+RecM6KBjgYbRTbm2k6BpfWiUc85CGIbtxIVuxe3lAKv37x78gv/7s14z4Wbq8LCuTK66nvUSY0AnTKyy3qni8hDuGDcibzXBpcTWe4HhhYY3K72pwcmxCym3Uc0WdsE4fWJYzI1OmCoXIm4s5RaFHYZcuyHH3fam/JqMFzadORlvBmflpvfdakqY5Dl8rnJidlAdHzxmpjHvc5Uq50afbYbM4hi8sTFp5PcL5mBydk2KhpAvFJjdpg5VMTcbiy1JM1qSoc/LMQV1wKHcoOQhh7ufdiY7owvX5C6flKxfOyFLZkS0AN6Ocl5l1KsKR8TlZnFyWwgu62AXE356ZtCSqUSMTK23IM69MLOo8sfgyJ2+c29SaqdtQGl6JUtCn0cGVIxy/sKDzYrlQlsULi0aOTz82I6XZkixeXDJXuB2ysIMOOuiggw46uJFwtQrAzYAxdrvuSDFgR7NObYlL0+brMcZjtNwpGHHYFAOwtqzP7jOjplCCeEF1hOIAV19m4H/7/2aG4J1CM1Ho4cip1bKacX9ov567SqKi2GkoFF9GaCYHm0HZIRs8jDzcApHWCi6tENEKkaNpmdro4B2SuuPNwS+bwxSKgRpvq+TeRjAFSkgNiaIkXO62iFKmLr1/nyQP3WV9CPWJ9Ye2capaw6WBsfrlCZRIjNOYjg0j1yYv2DGUPbgZRuXoYw2iCl157kGprSwYoUE8P8g3NgPgqpQ4c/N/9ksiEE0QkrVA+alAeVSbn7K+hErMu6KlT3AvjPXJfbe4ayGveodWz9G+ts5VaSwpSQipJlekHhAdpYDco69BxhgJqPMqecW1H22Xue/dUp0ekcKnft3ux4YGA6QnhJiRtlkzjuPKlDSYWwGf27kl3SnYPNYubmAYlE3zQpwzyg5MGTc/YcRfYvigkTCQgsQQXXnqi3YOgMQ3laKH3pPznGvSVcJwnatS/W0dqRiQe2zYwJ1k7/f8s7abVIzwOxC4/pwdd4rQEExFGt6UQ30PB0SbguvTt+BG9FtdWbUdW7mfNkACZnWsbtEDAfND+q53GKk890f/zvpt2J1oLLTRhPpG7Tb3Z//eCD4PUyDqd8rhNxehmu26/5uNjFoD+rPORb4uBNves1+S8ugZIwMXv/pR56ZUYTH+QrEaQb2k5z/+17YZAjVnStNqhXqlEqgiQ/nUuoPQqhfXxuHjePHUI7LyzJdaKhqNvNK5gDFi7lV3H9OpNbWpa1MjC08/tkquQgJ6hR6/cb2pA+/WuobocypBnl8y977byl/UMjh3pLuDZ4BdmgyuPU9qXl+w9l4TCxkSELUh51x63qkLSfum+83jQax/t6nfDXptYndAqEUimvbeNevMGnDuHlydVmTxc78rY7/w3TLxyz8iK6HYzRi2eSZqCf+bphMnXq3OfeYOFeJP8+w3C+gJ+ltQHr3X7B/8gsVVXfj0b2kWY5LWPkVeN12/olHJvvF7dHxq+npvczO6JRC/8DG7Jtx3DJofxC1QPhDGLwVuOMLQk3PELYTP2/sFbf+a9ulMTLL7dBKY1ippwXVAAk1WUQY6dN/ULQ/ceURidIxyXN55VDuhdkaP/bmetpU7U8D9afBFcaop9mAYkB7cNF7UPKZi9GeLf2e9RvHMzFiD3IFIIRVIutJSWZYuLZpq5aVUGT47Pd5Q5BVOF3Qi3TwvKzpR7VSOp2srm6rwtopLhTkj+CZ5WdMyJaMR2acvjnFtd9R7c5mSfHX6osxqY0HkLiUqskxMQL22cHpBllOaEz2+O64P9HrNbKwotaAdN0NJFzjaFfKza1YnjaqmqX3SCMANymex+YKftxKf8PLSvCzpArzReSdlRnAE2grFbF1mT8zp4r59ksPcmVa0jrSPVOIQ73UZu7km87NrSZNCQu+ug3bgrE7+xYh8Y+KSfH36kjxbmpJClby7zF+enzeSlfqKViJSmFwyheHy+LJUoo7Y7x/ISTwelUW9LqzeDONcYbax0WDx7IIpFCFMw2PWiJ3AZSdAvXc9xjN0qkKXr+UxzXPQTpCAG6kNIbM8uVieW02jgyvDss7L3m3t1KPTFkO3OOmOTTw0YWQhpOErhSyEEA2Pjw466KCDDjrooINWsHhSPc4d3bWCGa93H9sWaWgkSNa5m8Rg32yoZYc6apmrBaoujFq4i/MqxkiXM9rZ7v7ZMTF3pX27TbWEMRJyJ33r6xsG550CJA/G7nVl7d8ruW/6URn4O//F/qEQiHYPaR2FiLQmMuzlDJQzuCVzn/XdMfgMHHm6A0o10kHRmeszpWHq8N3bcilqbmy9m9RUVq+9OleejD9zSRoA8gmXtpvBiIgMdbR3TWzDKwFpQUa/nODiJR5wxODemx3po/MFamCUgK5MXa4f7bs5uEoCQvGi+zt22tyXMq67Xv+d0vehf2UkiCcIjWgL+hxxKzEy46rSkVeHjJhj7MWHmuI2Mu9pOsRzbLghJT9NKj6nYmxB1nnirLwixecelLm//C/uep0bmaty3/Qjdm/6b/Z136H/PmAGdxSG9AlU2GF4spH0LCZioIC03zypeB2AMd5QGF58TpYf/4xM/de/bS5XIQlExwb1zVxJ++Hq0l3j1JyJg2tdjXIuGwIaSjoQwUVpQOJq2Y2807QZg2tclUJ+6NqQvvNtwYH2sHR0zKLQCscxBNR9OE6hxbIM9QPmctwwMg+RByOg6He4IeV3TRv30/YZwu+WJoXjBuA+uAklfh7pUkep297oFOlab7g29UDVuPTwR6W6MCvlsHtSbHHkiXwESmzykbn/mxr58kDE44jpFSP+jMS7dNLUvYZ63YiyzH3fZP3RVHYB4WZuQE99w1SauNJMNc9pXKtjELKs5t2L1vUzxwCqQ1NSriUFKdfCJ37NylEmTmEzqmUpQ+7RL1I560+mCtT0WioSw9D7mxqvCeaOVMctpGzq1jdY2szTKOLYWMAzhMUxfPYrVJqLUQip16N/NZ+VSydsUwNqUh+H14M65pmloU7kHJ0L6Ke5N36PI9s4R59bcNW8JUT0/8Q61PKYipC/2m6QvfTFNO5U9RhxI1ujLhUjDCPmMt2g/Tx9+xvto/eS0Phd29LUp099Tmb/8N9YH7AxcBQVIec0bYDiuiY1oSla9xzn1pqvjZSPAfSe9I+wepD4z5TPo655xn036vGXAjccYWguQgNbN0bZ+FhN+u7qlXv++V1y4Dv2m9oIXCw4RZYnY1AY8tlUfnXtHF1xOfLaPXLnwG5567FjktUFOsz9HNAHvmaFocfUDHlYNbhfXJgzNWM70hB0TeuCkXB58ypGwLWtriucQs0XfNkiUKHhvvKJ6RFZNCKqPcLKwY0AkUbcSBR/puzaQnw71HRbVd5thO6xqFR18p/XxWEred0MY9UF0aVJzizMS0XzN7Q0Je87cFwyulDhOrQcr8nl5KJUve9YBTEIPaELmYbr2mODQ5LQgb+Q1dTC55qyb/V7XE8O9yCUgss6iccCt7m4G/3j00/qdcuNftqMSV2MuD/k4gXt0+cLs5b3jeDcc7avr+V4RSa0XJ4IHsFViS4iYKm3LucvTspIQY8Fv28V4zN6jfaPpd6aLAzWpRbXvAzXZLq/JNXYan7KWmfp2YjsfiYu2ZmojC4UpBzc/+TsZGNTQJHddnrZ8MmYJFY0n/llWSwESsFurXtNvy+mD9O6oBUrEIB22Rqc075LfcyfRZXolHkTcwtyen7KSFwPiwEYut7InquI5XitsAJJWKrZ3+JEsUES4gZzM4Izka1I1x59GU3ecMvGtjH79Kyc/B8vyMWP6UPTXCk4ugqnMKzKzNNzRsayoYDYhd5F6cinR2R5dH2sW9asymJFZp+Zsz72cgFlqnYIww466KCDqwZKdDb8dNDBtQZ9rXDmxXeBdCVk3osJCAEzenX1BEccyHfzsSsFBKEZ6wJg4MOo6gGRkNy/SuShJttpshBg/GqnMIQ0gwDwxtl2574SQHkxRnvw2ZNzED+eTLwaoALzBCGE7HbUhQACwKsKjeC8WpekofS2Axu/+29tqDG8i1IjIAP12CsaGHpRI0MY7rvZyBZcX3qYsnBwvynPwso+FFMN16SLc1JfLpjrvt4P/Iy5Bex6jVP7mVrwyD0SP3iHU/UACLepC0biMAatniOOyAOOfOvXv0kbt+F28ATmVmDpQyTWICTGpRS40TNEozon3Sr9P/xvJfuW75fs679TUIknb7rP5sWuB95vhIydqvfjXGCk4cA+U5KFAWGFatqf91LC6k3nWuJMLj/9BZn78182UtD9CKGj9adzBBtdIKNqKA8p4/FXi6AcHFo7Nxuxu/+WdUSiT8vup/NqDPfIfl6HMNpzk3S/84ckdddb3bHNoNdYnMJyUcrnQ25SFawnSU8Y6n19X/EwspF7Uy7vTpX0vCKTvGpfBPztevX77POWoNeiCsw88D4jl3u+86fN9TCbElBaJg8ECkHtmxaHUeEVhQ1A+o2dtbXRYiICPZ8xtc4ttx6P4rFAx1YFhWEAyojyEEI/+7pvl54P/GO3yaFckpXHPyuFT/yazP3hvzH1IYRj7q3fH1y5ClSLZWIx1kNpc5/ABakpFvlcXyUR2Tyw8NnftuP0l1buSjEs1oqLVue4aKcMPBdZesRefOjPghObENzblIJnHpfasicunUKQOrM5wj9fmBLwVZK+7U12nPzgtQDCL963y93/yN2W7soLj+h9P2KbWrre8AF3vQdtqmniAtUIPM0v4zd951uMdDMVYXDO1QG3oVovzDdH7jVOpRU5atDfIO2MzAyeTYzIPBrMmwH4PWGkIHBuSZm/UWDm3/8TdnQ1Df76MuBqtTv4vIpYRuf+PUcd8dxO/Qiw0X/y12X+o/85OADqknvzWlfQ9On8t//D4NuLjxvW8ntAJ+DJhya1nerSczwvqcGU9N/TLz2jEIJiMd8gHlqZ0JP9SfqH4Q27D8pdA3vMHWk8IBsBSpG+aspOyyxvXM3tSD8wDjGnuUh0x6UnnbHOGsbFxfkG0YEKyqdy+uKEkW6lmRL9bkv45IXn5YuXz8pfnTshXxu7YNc/MzPeILzCeGa69fFmWNy8pQUr3/LlJcbFpoC43Iiw2gzepWl22rmsxMXm1RCGHzt/Ql6Yn5Ll+tr+cNPCZUlgtNeDU1rOVnmeXHZxCRdOF2QxR9w8kSP5PknoJDqLy9IQYejab/V796Iu0LWIEZ+41PTwrjgBZfuzM0/JU184JzPPzJqbyVaqpIVSSWYWljYkYiE9ubtzMdr6PO5X0XKempiUUmU9I72iz59fu2lGJnGluwX3s2FUNd826RPbMdTNz+YXpRhz+cH9KORgrBSRlE74Rx6KW33sKmYkoZX79MyYkaooAFGXJmd10p2MGtFfSdTl8sCyzE/qmNJ7ZSMJ6dqtL/eJqMzHnWqxGecLM2tiIc6dmJcnLl2W03PTTv27CSz2Xysm8iVCtah1rPnh79LIstVzJLp2ToHgKi+U1+U7nitLPKt9T8+vrmhfvY7Kdb0Bgowx71yKrq2nxQs6hgIX2Ka8098vf/KyuZBO5PWFTvujEYItiEbA2nLpY5dk7rnWY/16BHEYITo76KCDDjq4OpR0fUHp30EH1xo8C9p7ZAdrgMG8nRu4nQDGdVzJJdoQgEbM9Q6Lc5HqFY8QhjufJ4tDtw9XXpsTgRiAIYpeiYAgZHc/RnZUgEamBTEMrwXC5OFWYQrAQFVo+QupA68UkB4Wj7DJPelmMFeiFveKL85FKSTI1bpJfTnBiMGB/Vr+mBFiqHesDnAnyu/pnCT3rSoM18GTcwr6HyogH5swpn0w+9r3S+bedwkx18zlZL3ufrd7uOsgQnJv+ZBk3/J9ktx/iyOBNC9hopK017kk3QDMM/1/8xel67Xfbt/D5B+AEMBdJupACLTsm79XUsdfJdm3fr/1y7Ah3BBbVRKimmykRV6vF4Whjkdi+WExKZ542NyOZl7lYm12aRtArDFXZu5552pZdAzgnjDW1bd+boYw1PHkyTAP+oe5II1EbZ6JDQWftY5R46Vve710v+tvStervyW4YmN40g9lHbFum2FuVDUPdl6beLPYnj0x2AoQdqifthuvFpUhLrR7PvAzkrn7HVonKRfPVcvLJgP6SvqONzvyjzxo+SvTl13cQoURbeNnjdjZKH8GHYPm4lzHSNg1KPfoetV7ZOBv/7Lkv+0fGDkG+Ygr0LmPflgKn/5NWfrGxy2GIqQa7QuRnX3735D+v/Uf1rrsrQSKQIXlzasGUQpCdHoib2VRZv/g38jC535X84WCdGCd+hA4NeBDVh9GsmnevMKwePKrlrflxz4VnB0Grky1jJQ1iD9rR316es/wZiTm59TR+yVx9L61sXvJG25HA6LMiMRnH7Q+2v2Ov7G+zqMBkabnWZxFHSyoit31ewU3pJB8Kb/JYSvQssf3BuuOtuGqC1GF5jvDdy2nqQhbgDnRlHuah4Y7UU0nfdub9ZCm7Y/pZ6ci1Dqj7vQ7qt5d/+dfujqwc0jjJr0+qvl4b+MYJP466HE2e3B/3Lu2hP6GWrLw6d8IztG0KGtd/6/9b/inf8fmd/I79BO/tq05eqdxwxGGFxZn6Qr2eekirkHr0nePPgBqw4K+HLsrIqZKgzQEubmYkYhg1/PayfpWXaTkdZH15nZPEIKzv/SCyKmiDmqRxKymGLIZl6OrRt7xZZ009D6o8MJkkcfSgotBmB5KS09XppF+PHh/m9dr/XWo/igPwPgMk2iqleDYRnho7LxMF5ckG03YPSDtZkrL8skLJ10MuSY8NqUT9gbkE4AAg3Qlrdnn5/TFs2KDYzNAWG0lzxuhq6KTyELE6n1S6/hKCcPThWk5OTcpHz37rLn/DCN7LirnfvecJC9U1sSWBPue0AVH28gRiTUpRXVS0G6Doq2XHT21qCwM16S2qjZeByObNN9Dp6Oy70ld6II2z4/rollxPaFbF7rp4rI8PHFBnvjvz8pTv/RMW+XRUrTcUKa2wtjknFQqVZkcLehc37ptnVvTupzTceRVfXNLK+YqFRCDsJwWuTyhv7cgFDfC5cK8punui8qwHtTNcp/28OBzkfvr//ITEckOdknPTEze0nNI7n22RwamErJULNmYuojbAk3LuSMV2ftUTBLLERm5Q8t3zsXu606lJLe3S/KzWrdtbG8oMiEMF0Ox5M7Oz8jZwozWxcb9H0AwVpe3Vw/XEigkKbtzmVqTzK5MQzHo3ZIunluS53/9lCycWTBScOH8olS0DPXyvLa9I32Wx4oNd6YdrMcyCsJi1Yy69SZSDzKx1TH618B9/ZI7nDXSEKQHUxJLa98NiEQw/eiMuTCd+MqErIyvVyFuBK9QfLFhRPV1qLjtoIMOOng5YmXSeUvooINrBchCNjh1CMP1gDy5+l3y7WEqjoE9a4zMpjDE5oDRcN+tkrrldfrduUi183uGt0TqbRcYRy3m2VbIMc3HjrjmvA4BUZi+620y8GP/Sbrf/oPBUe0L2Z61RtaXEPQD+gi4EsKxFYx43CbJx/ggHhnKHYBiKBaoMW8EMAYw7kJkeJejuKZM3wMpAgkYEIYQe4zb/JCRq54M9PAKRQ+Xxjv1h5jFqjSXgorawqy5CeS4MCdo26NewziPAR8Xjdk3fFeDRGTOSN/9zvXE3RYBiUxcsuzrv0PLurEykXkLMqLne/6ZU+FpnkzJxt/A1SxjKz50yPpN1+u+Xf99hzseIhKvB6D6Tt3pVL+mmHz1t9gc3fOBn5XMq77ZHde6zb7hA9a2iV2HrR/k3vkD9lsYNmczr3q1XgBin2Vf+22Se/P3SbyPvtEvyaP36H2OWH0lb3rA5tnm69ohEkMZCWFYlPKFZ/SAIx/pK5C5qMs2jeGo7eDJQGv7u9e6Qo1kshbncNvQvNCnjSzkq+bFYt1p38b9LnWIgj117FWSuevtknnN+0QClWFtuSCFT/2G9ZFwvMPN4Ii8EDlHbEOIskChGImnJHPPu8zFNvN99i3fK7m3fL8RmA11YSRihH3qplfZOuyBsm41bqAj7Yyk8zEH9Vh9eUGqhWlZfuIz5t5y8O/+N7d+cN7zX5OFT/+mXP7ZN8n4L36fzH/sv5vi2GKg6vMGSmBTGFbKRshV56cc6dgMUzSeMoLSlI1NIB3czHrQF42YJaah3SNQa1JOSFbaKXjeoU2yb/6gdL2+SV0I7LzVZxBcETfclup4j+/Rcuo5jViGWwJkdc59Iv0+3Fzfwxeb2+w37OxnnjCicvHzvydT//8fl+lf+ykjyMf+P98iC3/9W5YOGzQ82HQFocc8ZrCyat61jcoN96Z6bwjPEOjrcEZe/Y9ZnWProHlNHbnP0iOe5Br4e2i+TVmo51Kn9u9NH+QER4DWtUhzk+6alxg3HGEIhrTxta1l/vmCNUZqIOVaXJET51p0fGnRCENtU0nOODLk3tN52f1cbB051ArphYhkiYeogDgKqwxnEy7GHUBduBE5ZoZ6/Xsw32sqRg9clKbn9XubS8fjy1IYqG1IEIXx2ORlU5/d/1BO+iMZubQ4L584f3KN20UPCEAIOP+3HbzbUtIqL5etnKXp0paUSVt1edoOaa3vril9GKlFzA2t1kTwS3s8Pjmyrrxn5qaNGA2rNz3qpRn9T83Ubp4QjkM86ee+C47Uw7Ut149OzOr87VRterapB3FtOzI+a244m9WFYPB5nbzKTmF4+OGEHLykD6DViCQL7n76GCXf0n9ceqopmTpSlWe+tSJPfHtJzopzmRrGs1NjRvxemJkxog83m831i9qJtplbXG6r8FxZdjECZ2orMltatjQW62WJlOvSv6wvBEFQxpUVXcwCF4tXAlSGcV1oupfiUtbnyZFzmu9iVaaXl6xs8ZpTAoP9i1lJ6VDuH9UHGq0vyneZPqd/u8ejkhvISM9sXHouRy3+56W7K1LSNFHKxdM6noNxNRqoF5+eHpMlXYxxR0rs0mqlKtVlp6ibOlKT5ZSrP+aHdipbiLmVsRW5hEvKqzC2eIJvp1DTOqQcM09qfULgB4D8K2o+C6cWzNXZ0uUleeF/nnakYdCG8eSEpHp10YjfkMvGtlDDRa02W2m+ZMrZMFYmdHwFbWqbAkJEWmooLcOvH5JUv75EpqIy8MCAfk6tJQwfI+Zh0dyYYjTezhgrBq5QX2zg0qyjiOmggw462BmwEYn3gxsBbKhpp7jv4Nqhrs/1bE56Obk/v9aImqKvR6L5AbnW7lIxSIdJSdRi7Dbv/b6fk/4f/ndmROQYBmv/91rB3J1uwSiLwuZakJbXCyADIHZwPwoxhyIh97b/TVI3rY3L9lLCkUW3btMo2x6oFiGnIAr4u1U4N5cBIRRPSWxwvxEBNwS07DHmiZ4hmzMAxLsR/Sh5iE8VgONxU2cdckRaCM3KPyNij71aYoxHXJrS1vtWY6biMhEVITAiReu7EacwDNoGW6jmzd1jLVG5VTDeMbpbepBQ7RANSKoQIKJjwRzKZ9STEDDZt37Ijl2PoLy4hoVgYb4lv+6H1fJ5lSHugJ3qMKfXrHcfSr0nD6zGD/SAAEG5CVEV69cxE3JlCrGaaHHNhoBcDKkYURLGNF9GWOaHdZxqWTZRGHoQN7f7nT9s5F0Dmg6K0NTxJhegVwLGTd8eI9EBdYQ7S9zY5r/zpyV58A5zS1o88ZCRhUtf+wtbI/Pf9CN2/kagfJCQDXAvyk1benemAOIoPyi5t/+A9P/gL0jP+/+B5L/178nQT/1WYwPEOtRrUisuGEFXmQ1iGFaJM/ik/q1KNaSILF06YceNDMVNp479xO6jmoReS5xDztX0iPlpLkchMO99p11P3rx3AQPnTV0096FhYE+uLy+6/ATqwi2DezQUdatKROqJft3/Yx+W/Hv/rh1bB+quL8gb1u4mBaK5AiVWolcMbheaPt4OINDtXuRTxx7PQvSL6d/+pzL3F//ZYhAWTz0iK09/ybkWZZ46el+gIHRgfYIspFzd7/4Ryb3jh4I0g2cu/ZwMnW8g/3tutvRWVYWR9XENAXnVe0IkrSEMazWZ+/P/JNO/9U9dPk8/as8TPd/2D/XfT2q6x+00YhpaS9KvrgPcUJZfTwCmYzEpTrkXoPzxvDVqGLiyhMBxCsO67H0qLm+NH5T959MS3YCB21VFAeh+j2WiRhpCakAcJmf0Ntxbj4V5oVPzU0ZmXWjjlnRBHAPVfaybfroG/ed0IG9AXp54p75kV1D1BQc2AErAfDEp1aeWZLis5dRjnhDEvWM4Ca8AhOzcyHWoEXVcr2lfHte0anUjkTbKDwQN9QFx10ygtUIzsQg5SZ6Il5XHvWwVN5qrcQQ3wpmCIwfDOD0/o8eqjqAKjnkU5/dIZTkiKdo5uGzf43FJ6xxNm2enIrJYLskcatWusrkf3dPfI/FYVPoWHbl2akbvqYvJlMUaXFveJKSzpgExTPoHPl6Xo1+IS7akD2b6+/4LaRn55bMy8JBz0Tk3VJXZvTX5s4vPyMm5CVnUydOT0Ys1vT81Clmr/yf+YbNytCSunVcS7et+dLpgBCc4W5htEKxdM1GJ1aPSG0sLuZtfXpHRL4/JzNOzFjNvK+CasMvUfn2I3lXtkriOuZnasuauJvMrTs2IUrN7j3MnCnD9WJrVfqm/jWgfICZomDDkvMGzMYlrPU0d1gU2VTe3sJCFPVVtC+3x9BlcyEIWUn7ckdJ351eKMn6wIhNviMrEXXptEMLi1IlRWVl2JMjCuYV1RMz043r91Iq5n7R6vwJMfnXS4t21un76Ce2bIdJvK1geW1nTHrmD+iKYiRlJWHi+IOW5VUKfY+f+VB9YLvLQUZd4el4S3fO6uLpyQob5GIgdtIapMKt1i2k4/qCOOa3flYmi9hVXb9RtZWm136SHUtJ/f7+kh9PWNj235CWeXZUhTz86ZepxSEIUjLgghujfKuZPL5g7uxcT5A8lzMvFfWoHHXTQwfUOniuqgWvrVzocYdjZcPJiA6KQUBL0NZ4beca90V2LG2nSPejUfCEy71oAQxYGUw/IAgxcGA/9ccgIiAkUSxZr6hoBA9krmQi8Elj8LyMMf0BSN706OHodQN9tITZxn7oTMGKnu8+IhStVj9KXLc7TFV7/cgTG8mSIzAPUY/qONzZIRADph4oK1UxsaL+Ncx+X0BSI4ZiPRqjsWm/IbgEjhraizovoO+ZGZN8GsE0M973b5qPYFtWKbLQY+oe/KcM/+/sN16Pk1VSIH/zn64jF6wmmGtx9zAgmiMN2QP2X/9Yf31y5twVEkim3SQHF+e7D2l+2Vz/UrbkLbbehhLEJQQc5lGrt1pM5wGLc3fMOyb7pe4KjDhCcmde8f9v5agXmCR8Pl3w5l63kLWLzGYSfxTE887ipBJnner/vX64l/LYIVM+oxBIH7wiObAAjFz0R1gJVfTYaOaN5q0j5/NNWj6gNUQcuPvjHUjz7RHBiXWpLs1I6r9+1fBYrMabtY25Gq1K6dNKRiToG8u/5UbvCxkagJAbUkbl61jqx9ioXZenhjwS/Bqg5paMpHqcuO+IyDNIgJmEraFm9KhCFsifG2NjQ9wP/ekN3oqYA7AmeE1AUNm9aIe29Nzuib6ug7X28QNIf2GvzoyMfNX39Pc6zidbfyjMPWp+A/KtrHRSf/aLdEwXrwI/+R5eGh15PXEV+7/6mH5Hud/0wBzd9zol25Zxb0ohWI/myv62vWRfHsF6Xpa//pSx+6Q+1XS7JzP/651ZP3e/+m8EVuCQ9bu1KDEjIzvJlr3Z8aXFDEIbO3adz38lgTelDj7ny0YZDyaF9rYH88W5H9OlnzscNZO9IVG4q9egxd2J2f5f2s9BFARJ5gq85UvDAN++T9JIuwoGdP663Q2lo6jB3yHBxcbYlUeiBmolfu/ZnZE9fvqEyJL0ezVc7tePI7RVZ6q3LhU1UgGAeAlD/1mccuZh+pmpEm8eEdtiwChKXj5BPkHPtYt0BCCl/1VhkUU6+qWTqNU9InJqfXkfkFYzU3ZyM9OAe5pa16Vxi10X0Pl0zEVkoFmVFJ/Hm1AqnClKruKO4HkVRRn68+o5jS9WS9F7Q9v9GUvJja+u7VknL0qVlSc7pvTQZ1IW7n43J4Km45AYz0juhD+1apajdRmNLUtWT9ubyEtPJ4UhxXtL6Av5keVwurRQaRFk4PiHoHotIplv7aNDfULgeHOiXdC0m/V/R+tU2u6N7WAZ1cblltkf2vqAPiJqPQrlkhG1zHVL3uPWEGKs01f3YtOajWjO3ovUtzAyXlxwxV0FKpbhXhuVbD98qOX24WU5U5cLcnFz89GVza7QVrKT0vqHBEY1HpE/0RUWnqYn5BSNW5839aU2yogtsOmH1Mv2o9qOlqrU1sR6JxUisxfiyG4vdB3M6+UZlz0zalKelrrqVb0AfbuIshrpocNuLk7MyujAvM8VlI7fPFWYtrWVtxOVcTU4dX5bxfRWpxl2dnrs4KVMntc8UVwdL9lBWYqmYEONv4qFJKRf0Wki6KyRLIIRGPz+2jhSCeFo4tZ6k3AimZgvGXiuQ5uKlJVNeezeqi+eXzEUpZKqhRj5qsnRhUca+MN5RjW0CyF76B269zv/pBbn4F/qAANEbGHodeejqGhVhojsh8a649Nyct00iuKLu2qMPjjd1SzwbNwUofWH3W3ZJZnfaxTrcxu5/i614RsdSk9HP8rmNvrQdQFBuddNABx100EEHG4ONPYXThRvGJSnPJYvnFoNv1w94rvPPdqzLr1QlHt4o8EDBxrypb0zbM+2NjBdDXbhVYMSLZHtNBYALwg46sPiXB+8wMmcn0HBJyt8rdCuKAfyGURcGwIjc1eSmkXrM3P/Nawg/IxaP3G3uK3HvaXEND91p7Wfqw6a4VZCAXQ+8T2KBchBCYTUmIopDp17k2o1IPIjK7Os/IHt+/lPS+4GfCY5uD6Z4C8VVvFLQx1C3Xc9koQcK89ybv7fhgrQVTBl3y+s2PGcrgCxEUQhJRD/YtrowABs+fMxDCGnUc8ljr5L0zQ8ISqsYrkkj0bakn5FU+24xErQZjO01isOrAYSQ9vv0za/VPOck+6bvC35wMMJW66C6MGPEHN/XqAY3g5XVkbiQMriWNtLuKlGvo+Q7LfN//mEtgrbV7qNCvEVcp87/5X+1mJeGalXKF05I8dmHLe+pW15v9Z/YdVRwXVo6/bhU5yasrYk5ipqTuKeM1QY4n/T1WO+Hfs7miSLuOMOo16WK0rHW2iXphqANQirBNffeDEberSr0ok2uOlE9t3RlugEQdjQ2Z0Uh1G6W1BGdP7kXxCP3Cf7iYnngxz4s6dvfiMFbyiOn7fpGnMIwLN0NyEF+71+/KYz2yjXIxT2bprEax/AbUiNE2x/+G61T5+YUQpA0ul4Vikeq1+AetrZUkOVH/sqlsYUNItcaNwhh6Nx+ruhABcM6CS3rCyhcirkjDQEyMDezSvTlL2sV6WfiHfpj8UzcfWhCd8S5M82U4qZczM1GjUjCFWJuKirZSfcdkCdi43lCZyP3nijlEum45Hoz1nFAbj4mA+dibQnDSlCs+VxlU7ekxGsMK8qSjxc1geBLgGdmxhsEE4o98rqZS1L3u7vmud45Gbm5IqMrC3YNSsIvXD7dMj4iQNkVylIDzYpCzuM+vh75Tls71Z9zC0sduTyvraxlU+q4Y5cW5huk3Z+eedriN54O3JEOnYrK4KMiN30uLokVV5mQU+XZPXqvVfVPhntpcQ5+PS5d2ZTktb2j1YgRhjNDFYtXuFcX6sjiWYmPflX2P1oxEvlr4xdM4Qn6Lug1+hHSLzsTleHnY9K7v9sUR5BjXbszkr85Lzc/mJLMrJZvV0aOvf+QfP/d98tra7tlcDRurlBRgbZqmwlZljFtA+9OtB3CLkvDnxfrJSOLwbnCjEyvOGUk9bE72y27kcrrYgNBcHrPopxIzsr0mfktEQaOYF7NU78+uOzp65FELCoT0RWp6ODBFSpn9Q/kpPemvD5cRxuEHHVGWz+v44r6zEAgal1m9qRNYTj02kHZd1kfSoM29NiV6pZEJCbLxbL1g5nikpHFlNvnZ7lHF9+AKDw0n5VUNSaFIT2WsEMNpHp0DohHZPKrUw1l4MqY1vVVECYQcxjLRj47aqpFiB1iEM6fKqwhKzdDs7oQpHeljYwiTh47+Jd0XvTnZLTPkf/C2QUjEBO5cYnF8M3u+ursU7PriMwbHe2IN4sduKTz3+fHrB0gsMObTrpYd4xsdkvy0OuHpP/efiMPuw7oi7b+DQMVIq5KaauAr98SIAwrC2VTKHpgeJ57du6aKQdYa7lnBx100EEHV49quW7r9Y3ikvR6BZsO2bTT/PmVgiIKw3H3TMPzARvgJr82aZv0bmQ0uwp9qQERg3GanfUddIBxH+XDTrkkhWBAZdIgDq8QEZRze527tRsBpg4MiLwwmo9bvENtK9xzQvZBNkE4xAf2S3xwPclqv+OGuOHulfiQAWEYXXUNasoy0ty/6v70WsBIUGL5XUexBq8lmP8p76bkZhTF3tURoKZiPuhIQto9eWALargWgEg2N6m44NQ0M8Ri/ZFfsnJ4hSH9BVelLQHRpmveTqgIN4XmA/IYN8aJQ03lTQQEYb1ucfy2pA4MgfER7fGEVlTLNCy5t6wlJbcDCDBzU1qrSWXyvCw//mnLI8q1mI8DCLQvoFCEWERpVi1MNkg/7PrRrM6xOqarc2OOnD18t7Z3Rrrf87ek+5t/LEgkgJYhvvdmcS42ib14VO+P+9OANKzXpDo76j4DIw3XqtQgNU2l2ALYppyrT70PMQe3A0jngEAzBeBu77YzACKNVuTdVqD1tEoc4ob0PolpWsRJTB67V8fGbTL4E79uCr0199B8mCJwK9B7mFqRjxCCvS1cjepxXJBiwdvU84LeuxHH8NSjUjr9qN0DN7tdr3qv/b6GLDQ4wpB2LHz6N4NjLz1uHMJQ/2dKueDYiikMHUForR4Aw20alZf+1h/NyM1f0IVd38kXLy6a2mcjhU53EJ8u0R23dBIl7VShDafmXrKgNwuScPEL3edWMOWc/i+WhJRaS3J4ZeTwdEpymi6Kw1aYzpel7lnKTdAzGpX9794rmVJMekoJOYD/db0JSrXPXz4tC+WSZR3yzSv6NiINjWgKPpcDsmUsumSEz2MTl80N5zIEn/2yFkbwNf1yen5aHhw9tybO4KTmbWxpwZSB/ns4P1l9r8Vtq7kqbWq7yUemG+QIbixJg3ugMCN/z02PS71Ylb7zTinoyUeAC9BaOa1tGZFuc30KOant26MLXCUig68akN5Z13cgHlfimk4hIdHSkiw8/k8klXlQ9pysmYvMkaWCK4MuOChab/tkUu7+SFJyyzEjDSEF971nj9z7r+6We/Rf7khOeiY1T5p2zx3aRimdkGIxSfWlJLXs8ghJ2awg9KBdnPpw7e9lTdATZDPTi/LY+GUj3s7Oz1geTX1pRGTNXH1SJ49MXJJlXbRTi9pDQ8kVhmuyMFiTc68uy7NPXpTi0lrC4OyFSSmVK6bgQ+FKmy311YxU9UAJPKiLaaoalZkEhGFNcKyantX1OK7lJc5bPGK7niEMk4E609zZanqZKZG+m/KSO5wzwrDn1rzcvNAjr/6ztLxudpccSPdIXCfr7v60Pi9FZba6LBMrC1LWPE0WUDSuFojy1BIiHzx2t3zHG++VfaluqerUMVPQ/hxyy9l3T5/FoEMN5oHRpR4oWbcDFH9eAXvyf7wgZ3//nM1B9NnF84uyMr5iCoOtpm3uRptciKKGZMcOIE2ISMhB5rm+u3pN8cZxDEbR+Ir2sTn9W5EFPWY7zkeujgx9pWHpgiMGiS3oydwpnWcWzy3YasuDWO/tPXLkg4eka++qS5re23ttkwnELUBt2H00Z/2I81G+x9JuuQ6TjY6gbE/0QRB6BYQnM8OqRoBqkWPbjTd6/k/Py9P//hmLpbgRqAfvQnW79+iggw46uBERVq+1Auu09wTwSgbPOKwxrGXXGyDQWFfJI14EXqkKQ08Y4oKemIaoDGee1AfxGxQY++PD14fCEMQG9rd3L9bBDYcI3nN2HTH3lzsFc0sK2ZC8cpeikCfbiYF4wwASI+yiVOs4sf+2QGW4BRIuqu+EnjyETPSKxERaYk3qxGsB4tqlUITdIIThSwFTrREz8fiVuz6GNEzf+bbg2yoisZjFMLxeYGpKXIxG1qvb1igK9bxEmJTbDiBAr0GZo7k+Gf7HvyNdr/9OiffuMvK+530/Ll33vUfi5LWGq1BIwcANaQBIXOJWGsLlikBqrt2cRP2kbn6Nxc6lHLgPrVedwhHgitPUhQHqtYqUm12SboQQmRhJOSXcdtBQBPK3oVS8Clg/6HbpeTUfhOHRex25F41I8sCdMvgT/2NV0QiJ6F2n6nWr8QY3huW9rxVJGIKdo/cl3b3HNyEM9ZwgjmHx1GNSHnnBjiVvul/y7/9JIxybXfzyO4QhKkQUiHrA3DW/1LgxCMPF2TXE3FBX1lxJQiokByDeVsk4VBupgiP63rC8R1JF99tWdvIeOj4sd30sJd938G6Lj5bsT0p2Ombqwp5LUcnMO8LQ83fjixCYdUnp4Adf/vwJmX5W8xoQW+OX5+xzJObykNTzfE7N/anmO/t8VeLL+lfv4Qmb9Ip+Du4xn4EwdJ9bAUWR5UPPx1jdfVO33e/4uS45lO41whASjXh4jjQsGonkq9O5Dm1t1IDw7NbJfSiTk2RZM6EXjUeXZLlWlmdnx40gu7Q4J8tTToll15iqK1CbhRtN8cWRM/Lc7MS6OIOQY82kJQTWrjcOSW4xofXiSM9wPivLFS37ohmwIdBQ3aGUc4RjTb42cVEWcEd6XttvKNNog42AO9Hsbj03ThuPaR+qysFLaTP6kLuhakaWHv9nUl08L5n+07oOlCU/GZNyyaskXf7y4xHpntA+c7jbiK70ni4ZfM2gZEhbJ0Yji4P89N7WExDK2j96kw0isaQLRHP9eSyUSo78g9ANnTMbLZrbVHB6dloembxkis2zhRl5fnZS5i7hAlPLoqcceUgXlKWIpYGicfB0XPr250zxly/HLdZnVbsoStfHb5qX0SktX8j49dzEmKyUKzJdXDK148KI1rv+Hq+u9t0kJKiOx27KVBF5ampMlqtlI2szuzKSGkyvaRfqPxzTE9Vj301aP9qvqRvUxKnBlI2P25KDckt+yMbeUE+3EZBL9bJMaH4uLs3LvOVndcyjJGQc5RJJycQTMljWh/J6VOaWltf1x73v2WOx59iMQPtdqUtSyDtP8GGwYYysjDqVIIYpjDcLZx2ZtxWgSICATAYqSJDsTeizweoyADlIPEbuYe5VAwKra49+33VBM3JO81EyspJzbPf5NlSO1xphguylAHVBu6G89OSYVxcO3D8gd/7s7XLr379Fcjq2JdR3IQj77+2zftoM3JImaLOAJOQ77ZLW/u/bpx2mHp1uuK2rFlEjah9qUkFijJ19dk7KKAi0/sa+NG5KyNJMe+Mn5Vw4tyhzJ+Y3VSZCRrJ++r8ddNBBBx1sjOJkUYrE/N4AK5OOrHolg+ccYjVejxuTWOfxPgNZyOYp2sK7GweQa6f/7zPy9f/jGzL6uVUDzssFPAPwrOf/EjObZ0/KbK7Vr5FXgusdMXNJ2iYe1EsAXLhdy/iFHby8gPE53r/nqtSA6xBPmdvJq3Eram5JWyjmOnDAQGwkYc+QjWmLO7cFwi+SyJiL5LBrUhA18vBF2NgQvXolXQebIBa3uIhXAyMn3vBd60nHKApDTTuW0HXkCgm4nURE+1MTUegRJgzt88FtuCNVQNSl9Hpi81ncxp2Epgl5FOvZJajrGHvZB94n2bd+SHo/+M+k+50/JAmfd2yJ97zLPgPKgntS+4yyb/fGyj6vQjRy0eIfVtbESayvoOKI6LjUeqzXpcZ3Ixe1ff3fjUD+B/ZuGK+wLTzJSTtu5K5zq9B0UAw2YhZyKFAVOgJRy9nk+tRcl6Iy1DqgTXBvu23otakNXYFyXxSGGxOMq3EML8vK01/UIxCNN5tyf+Dv/OfWedOyrsY1vD5wQxCGYHxlQcYsFp9IWgcYbtJgcbL7tZOt2m0NB3K9ctdfpiT2iJ4TvKMWni+YwR5CrV2tke7eaFbS/SlL08jHxYjEg3APXZB6ARlycWFWZpZxi1qX2/uGzY3jo91T8r+mnpAXJieNyIGcIY+9ZZSLIsM6gXpys7ectLT6zsWke2KVhAS9XRlJSEwyxGvL1mUF8ij4rRkYcIsW368uqURc0gMpu8fA5YQcwO2K5su7y3x2Zly+Pn5RKrWqKb8gE10cw/Wpezeh3frAciTZI3d9Qh82SxFZyFbMvelioFYcnZmT5UmtoKCe54uOxPKuRyEQ//j0U/Kpi89bXDrqC3eRXj3HebTrUrVs6RVRl+lfYkWme1PSM6F1Xg0Ui6F84o70ubeUrW6M9AxInzOFGSmHCKD+CxEZvnfAKbEUkFBhJR3omtFJUY91TUckfygnuQNd0jV8Ucd7WY6fycpNS3kjl4ZKVYkUTmtZ3U7p7AE9f1wnHK1eFHwV+teYplVxbdxze48RY/nDek7IIyGkgjaL/UXJ6smfeEbzqB8TlahMad9qR+Q+MT1iyj7IvrnSSqNe6iX9G1TRieqUTJWWrB2JU3hyZkKe/rWTMlkoSE07G/16b1Ef/rVcB74elfSc3ji4lr7ncuRQ1D5I/fs6BiOJJalopZEHYmJeKMwZ8dZddGQjIMZgV19KcgsQhhE5PT0lJe2ree3vybjeQ+sgq/UNSekRr2l7+8+aj55bHWG4+627jJSBdOX87sOr7h85li5FpZioWdnAbKQojIrexaTEq+HSOPTmsxKPRWU6qedph4A8qRVd+bjfwe88IAc/cECSPQlZCbkC5bytEnweEHwD9/VLPBc3ZZ+RUnOQiXVzVbqV9FAr4i4LY1ZC8+RJwjB5GEb2YNbqljqDqBq6/6Ik84xTlNk1uyfzod1/CyTQ+JfG5cJHL5oBbacRJglRYL5YRqxWijnapajzWZi0xFUZSoT8sZx07XUkcjPoJxDarX5rBv2WGPXRNH8jDSKwFeaenW8Qf2wOof3Ji++PEIUodK0NNQ3iDY59cdyMmyhI26FZpbgR7H4vIYnbQQcddPByA2vJZqq6ylLV/m0E5t6X8/xbnq9YXVyPgMxkQxhuvSHS2sUxZK0ME4kvB1A2328s//pcxQY2nh1ss5o++23mXaCDDjp48XG1rkNbAVeEV6sOvBb5eqXBKwT5mzhwq7ko3TLiTS5QozFTmfpYhx3c4IhA5Ay1VhlG4/rbsI3z6x2Qa7giNSXilSoMrwEcGelUg+Qxfe87Jf/t/9C+MxbNdah91nbo3yu4JG0gEjF1YuqW1xkJ2M5daDMs/mFDYXjGHay5uIWWn9scCQlMmXjrG+1eEsTQawdHqF4h2afJe1erjXiGOwKto1S3+6j5sziGbRDR/znlX0iVuEVEt5pnyrfnpvVkZTP0PDZ/QEChMIRkNMUjx9spH/W37Ju/T/p/8Be0LnN6/RZdql5DbG6dfIUAQmKlwgtbXUb/w1l7Ec/uW+uO1KNrX0Zy01FZuuBUiNsBcdK86gnyrRd3lZoE7ixRGnryECzUyxZrLx2wQeW4vnxma/LHl542Jd3cFK4/NZ1Ucl02d981YAQC7lNRF3qyBmUksRQf2L1f+lZSdh2kWrtyXPr4ZXvhhbDLL+pk0odyMYjvF6j+wmTbw+MXjFA7lu+XmHZo4h8+PTMmXx4913BZCnBdCQm5P5uXeypD0jMVt1iOlWhdHp4gDWfkuDi/gUKxXJRHJy6bwg3Xl/6aM3PTDfLJ3E/qX68MDOe1985eM8Dn5mOyUCzKF3Qyxf0lvz4+NSLj+0pyfnRGnp+eXBefEcTLIvvKORm4o9/SgQiKlx05a65m3WmNz/mxqOx+/bBk9nRJeeLTOoEvy8KZBbl9vFd6p2Kyt/KcxOolXUiYXCKS21/RetEJsBpxsRd9ggGSvSnZ++49Upn5K31RXwyOrqL7iHO16ZHZkzEiKFvQPleLyDNjY1IKyN4wfKxASMUX5qYa7kZXUrUGYebxuUunTV06XV6WQrQkxeiq68/9i1nZnczJrjMJc+vpSah8Ji0xncxBphozApC+7lpKZGplSdOpysWL0zK9uKTjsiwl4qppf+uVVBPdKLK3mziGMRnXOihrPnNaz7kBLauWPdWLW9LVOsguorB01+/tzksm65RZOSMIY5LZlZb0oI6LkLoLpANVpMd0omiEZlf3avq7mbR1cQZ90ZToFVIorhgx3gyI3r47+yR/a4/1DYxFTiHo3KduBT72Yd89vXLkQ4el+2i3lBfLUta6ol9hxPEE4mZ4/tdPubgzWkSUbAmdO3BtyS4c6iRMuoaRO5iV4TcPSffhuta3tn3mUX3umQ9+dcTRVnb+j315wgjD0szOqyEw0GG4YvPD/AsFcwfq565rCdxyzZ2cX1P/rCsrU6V1bUxdp7VPtFME4vq1FVlYnnxIasWJ4JuDVxh6tIubCMjbsvYjfuefVxhWgvMdmal5Do4V9W+Nv7hUDc7ZDKag3ICkJf2t9JEOOuiggw4cilOoB1tv2kBxxzMFf6vLGxNRWyEewfVKLHriamW6aGv79QJzCbuoa6Xmi+cP2yw07ZR4zeDca7mRifWbDUE7iUqh0thsxLPAoqZv74oddNDBDQfib6WOPxB86+BaAbeexJqDcEC5gpp5MzRIRmK/NbsFjcb0/fPK3ch28MoCLoVTN68fx5D5yW3GA3zJoP0c5ZtT821TJch46NVrdHwlQy5Brwa4dE3sOmxEX4PA1M9rCEGFEXjEJtR7p259XXB0FYzf9B1v3Fz9F0Yk4uIf7jpksRFNSVhHUbhgZcy86ptdjMUQIANRvG0IrafUsfvWuE3dMvRaiDQUgdsl6zYE+T66Rdfrem/LA8TihirBJmh9Wp75uwXiEJXgpvERtT663/eTRvyRLq5UtwQ9N33XW02F2CEMX0TglhSlFGbk6lhJsnu75ND3HNIBvL4KvOrQ3AHpBd3Hu7Xd1hIM7bD77bsbZATuTgfOxSS7J+PiGWpyntwbnS8YiYcSLjfjSEWQXtBr9fPpsUmZqC7px7rEMQ433T6qx/a8bbeRGf3ndbJadse7pqPSLUm5b3CfDM0ljTg6dd65//TAqA7pwH14ERypFgSnmbi2hJVHGcnxZFjWphhIZLTDuIzsz/VIry48hVJJ5oor8tDYefntk4/IqbkpI9yMmNP0zQitL9EY8IknCNEEOXbECMeoTNdWvLjQEI6xhvrs1PyUkXm4Yz0aXBNWGHqizWIUhogbYv+le5IS74pJ7zlIOZHHJ0fky6NnjRR8KjUtZc3MWHVB+8aqwtDjeKVPhs4npOdQt6SHUqb+Qc0XzyVsEKMqpG49IAtRMlZmn5Tdb83o53OS7NFj0YhULq3InR9JSGLulJ5ZlsTg67SPpCUzeEl6J2uWNzB4OiZ9F6ON77geJY6clM5pXa41+ND+vXf2NJSPYcRn6po3bQNtl9oGxAlkK/V2vjBrJPByqrrOfW3Ybenk0aq5GfWEYe7Zmryhtle6InGJpbWvBGOkm12EweeectL6zMzMolSDmIAjY3q/SlVWimW5vOAUjCNz8xYzsKsrKfu0b0HMDeC+RCf7e99zTLpwwatA2dg3q/cL6j6zG6JSxxBKw0AxCDgvfyC7xl0r49K7Jo2ESEaQqTli06McdW5kh6NZSfhpUtvSY7jPuTFdDqkSgeUnRPxAaKLgw9ACuTZjKr+tETHm/lWrjDZm/skFLkLnTxTMpS5AOYgbrI3iGOI6CtVb9005ufNn7pDeO3qt/JCasaQjwpsJVBRv1Cv9b/9790mim/lC+0cFZfZq/iGjSvNufL9UqJaqZtiqY1TUOsZdFqq7q0VYudgMjIKjnx2TMVx3NqkfytRH6Dr65ZHvO2zt55E9oH27a+382oza0kX9d14LuNZIavO09sVm4rAdqA+MlRZXMSABIQbpO/PP61oQGJNrxaqRrrXq5vEG6U9bUZbiMm8zg3YHHXTQwdVi/vl5U7y/UsB83c7dqJGFOv9yjsVj3wCksRW3paxj16OSj/WJtep6A2slbrx59sCzAaSdKQxf5DqEUJ1+bEYmvzoVHNkZ1PR5PPz8Y25JtYxsNuM5mo1arcjRDl568PyG+9gOOtgpmDvRTvzBaw7iF/q4gxALaxSD7RDVd8IUoXP0/C0QjB100AwIQ1R7LwcwLix+HXEOtwsdKygpdxTYO9M5HX/EJdyc0KKuw+5IPUyVeNubtVzO7eZW4VyYHpM6ysJLJ6R0+tFGzMJIskt6vvMf2Wc9UVxMQZR6m7jo5Nz+K3TlSfqZbkfM7hSiUYtJaLEMtwKIQtypGnG4vfp0gDjcPJYhCkHKuhli2R4Z+LEP6yeuOe4ObglOnbhpXMUXAWut5q9gEMMOYmmoqItqXWTodYPSc2vecxxr0Hd3r8WH0nYy9BzPW03FMjEZuKfPjLVbAcQbirT+u/v14uBggMsr80bS5aY1rQl9sA9sswef1AVf39FQ3hX1JRmupiereQ4yk0861SAYes2AGfohIlFEet7ijsHdkiXOWrTLyjdVW/bJG3DHSsyN8RMzFrNMArtvf1/WykbsRcqbvlgzYsjjHbHDco922rgOwHwyLT36j/QfmxoxN6WQhN+YXFUCgvIX5mXmGzNGaPSMOteduUhC3r3/uBGAtVhdFuolqwswPa/tFJAPD4+dl6mVRTnS3Sc/cuur5U0zu2XvSpeRTbQnRJZXBBILEdKPuIlGsgaqv8zeLjnwZFy+b9dd0qWTOfEYP3H+pBT0ntzl5MqUKej2ZvNGRnrsP5OQQ1+PS9+BII7gUEnSA0nJL0EsBScFwGifH49KQsuCEjCZu6h1OifJHq0/TXJpROtfy59IPCKx3F6J992vF6Uku29R4rmIdOu1t2YG5daHdMFe8a3ryKZ4Nq71wY6RUEMouo/mpP+e/nXKsNyRnGRKjswcry1JRWsW8ox2zMw64tSD2I8XFhyR7uPwkRdcpIYRK+tQ0DKP3awvoanVwmMwyK84B6Sm9AtIp2w+rXO1y9eRpbykamvzeHF2VsrVqszWirJcrRjpu7jkiMl8lz4sB9e6mJ0uzV3JnCS0Mvc8HZOenlW3jqgqI/o5ltEya2fsOl+XqLZ9QsvcfXAtiQhwP5o9kNXrV+sZdOu4QjHbjF2DeSMGAUSo7yPZvoy2qfa3XFlOLkzaMWDkW2h+cDECI6YWXLqgffUKlFYo02hnlIAxLes0sWNCxoDpx2dk/pTOJ23SRgUHSdl/d5+pKyGiydNGwFUpmxHyN2v76TxWW7ko9Wpr49DymLbdFgk6c8m6BaJpO1gZL+p85pSWEGILZxdMebEdYPhqVgpOPzYt5ZDxb+qRKZk7ofOMnkeMP65h80WlsHoOajsIWtxw4s61a29GbvobR2XwVQNbIvfCqBROSnn6EamV5y0eJnMBSA07otCIZO1rtVK1JWHrSb/5UwtWHiNAgz4CoTp/cpUsBBZjsDAjepL7DtkXEIzNIJ2NNiN4hO/pVItXbsRCQVHuGME6uI4AEd9ujHTw4mLp8rKMfG7MVNM3ClhLN1tP2cCyFRJr6eKi/bveYGXU5xeet8IbcSBBWbOuBqR9pa5CLT+hDY7Ak2oeeFTw33HxHf5tpzDzxKw9j7DBtZU71CuFVxiy4Y3nbVyXo6Qkdjgbnjq4fsG4YANFBx108DJDdPuKQAgDCF2vNOygg20jFpcYcQxfBjCF3rH7G7EMrwS4YE1cCeHYBtgqUZttmGZc73nkbiN/mtWHhkhEYvlByb3tQ8GBLSIStbiJAmF49gmZ+vV/HLgkjZm6jvim2Td8QIj/Z+fpfIEb042AbSnWh9vU7ZNtqPrie2/aWXUh0HJaXMKtgnpBhWquSbcIvSZ9y2tl7y9+SQZ+7D8FBzeAtllbt6JhcN7+W6Tn237SYi++HLHWmv4KRS6StFhtYWRMRdjaaI7yY/+37DMyDmN5/nheDnzrfrn/5++Vve/Za8e3Aq4FkBn2WS/bE81qpUekGKh0YiW9xwV96azXTV141+Au6VqMyWy8KERRAwM9q7ELX7/roLxp92E5nOuT9EBa+u/ptZe3sAJycKjbBvveVLfda6y22CDkAIZXyIuJ5YLM7K7KYgnyrC7ZatyIoXRfytKb/Nrkmh2mEH3fdOC4PDB8QPr1gWYokzMlmVP5OeDuEnjlX2W0KLNPzNgu2IGE5lP/947kYcnHUjJkcRCjMlZYjYOIK1OfV68ahFgc/+PLcv43z0ruC0WJluvy9fMXGvcCxDeEfIK0TE+LdB/Wssd10srog5TmsWsyIkPJrJGDxOXrGtXOr5fPxUumENuLrDhE9Cx9ZU6S03VNR8uo6XTtmpZU34qkU47EiiUXNF1XN5m9Gem/HJNMflHqyy9IvYSSFReOjmkz9VNNv8dXJNF7py4qB/RaRx703t4j+04n5NZnuyRRjkiye1TbrurIhSA7qBYhDurEjwvQ7I7Uo15Zlu5RXbhCNpDeCzpp6vd+/evjI4Kp4qIsVcpypjAt08WlRhvgihVXuRCmieWI9F2MSXIpIrWEpq+XE8cxfyBnhpZTv3NaSrNlSfY5BR8YzKAMjMierm7J79W+q/U3lSxKNaivmcqKVPReC7PLMr7kYotOx1akqnU2MJST3kzG4oGu5lRkX75HuisJGToVk67M6r0sJqHWgxGB+yES3fE8LoAHW8eL8+5JwxjQ/oyaMQyLP6p59wRgLpFskIofOfuMFMdLVs9funBGLjw3YW0eJgtB1kjLmBRnS+bSCYNRPVBaboaFcwtrSCxHHMaM5MdInRl2rkSJOXf6d86a2qAZ7Myfe2bO6qHn9l6b21zcQq2fQLG4XaQHtH+xpyDl6oa5ZCOjOb9dawWikXfPO+WlI/+2VsceI58dlcILhcZ8N/7gxJr6pB3Gvzwh5/74vFz62GWZeXzG+j+E2NJlFI2r5cdYw3cIw6MfOiIDm5CFkLitfkdhWC2c1P6y1oib1HTDGwW4H4bCZkWg5UPrnvnejIk6D/nycQwDYHh+Rx1RLVJml05Rr5/4yoQRfRuBDSjtdrOHXZtWSzqzt+8mG4L6hBSuoIzvoIOXEGGSkDF0PaqyXslopySs6XMhmzXGvzJpXi3CYK6mrZjjXg7w6sKNVIaAcm1GeLFZyMoe2hzSCpy3MlnaNL0wWD8Ia/Do//m4PPPh55zb8x0Ga7pfa8NKQ9bruefmgm9XBlMEXiHJ1u5ac0vahhgsnFqwWNI7BZ4FJx/SZxV95qEtrmRDWjvwzsaazeZZnq2Z85j7eNbHuwFlX9b7dnD9gXYyD0kddNDBKx4NotCIw4770Q62j5eVS1IFBHnXa94ffNs6cPtpRGMkIpGdjNfo090Ezh3palzBdYhGJda7zbh/XNM3LPVqWVae/YrNA8lDd0jPdzhlYSSRltw7fmg1Xcq+ady92PbIuTWAPO0xgnLHEIlKfDvEH9Byos7bEqH3YkDLkH3TByV19L7gwMsLNwRhmJ3QwRHYUomjtxWgQMwdyEpqMCX5m7tl//twy5cIft0aUgMuHmDXPpcOxBVqw4ELuqgH73V54vqd05cu/d5/LirDDwxK77j+rvk9t19fAqN1Mzx79uT2vl3yxj2HG+TGrrfs1t+TkjBCkniGq2UFpAmxBknmCaHFy8tmHBibKcjzbyrJTNap7TxJhStVesbk16YkOauH9EcIpAV9Qcco/da9R8xlZDqm+bQURQaN/IvYfSD5iJvo7+fR35eTmx9MSu48LjNF0st6Ez0Fss+fW8O1YuiyvC5iB6a7ZOar00YSHYj1SKoUlReK03JuYabhhhSC8pnpMXNVmipoHQT127W3y65D2XJrz1AjBt3+x2KmpvPn4QbzYK7PFGQQYrgzPfjt+819JYXM7pnV/rAgx6J5ueuTKbll6mmJB25CM8N1yc1Bxml7rYxKdeF5LCmS6hnX+cEZFtP9K5oPLXcip83k2q5aOCO9t2VlYCwhCw/N6rU1iRHkUjNlyrn4al+tr4zpf1at7biVbFYX1lbGJZUf0XuuNfhAAML0dY+tVQ8Wg1iG4MTshPUTlGeZ2aj1m4EzjmjsuxiRI6Ndkqi6+6E4PPyBg5IeTpshPz2ckuE3D0usay3pgSJvIJppxCQ8OTdpcSnnM2Xr16e7ClIK6mepu2Zq05xeg3J1OJNbQ+DtyeblNhmwCIdhcpI+i/K3S+srruOke0K/a/6y3emG4rEZPbf2rCFoKnPPSDpVM1Vk9xRldtclVyJ6v1WVo8ezM+P2j3plbGQno1JHcXU4aXkJw5SPUeeSFEJrRf9u5D60FXyMQQi+tH5mxzfY9ZZhOfD+/ZLV4ytT2vdK69kY7ofRhzksHmqfWHqVCE3q/AEpnj24SiCGPzcjkqhoH67L7jcNW1sYUbfY3siIUWmrCsR22Ih0xGhGLEczBus57n7r62IjQI7NPjVrxBd9GhdjGGr9PXE/avc5uygjnxk1N3AD9/db+WefnjPSwNR0IQKOemXN8H01jPLkV6QexCbEvXD4nJUzvy3l8c+bwrBWnJJ6uaDjd7V+WQ8ggHGVTBuhghz59KgZhdsBl2VhA1JY+dd7W4+5GOPY8khZ69odv/zpETn9e2dl+kmdZwOCxMPiFm5B7Re+z1aAAbjZ2A+IqWvtsYGb1FciKPN2DPgdXHugcrV+XanZvIeCi89XClPrXsX1rzTQ3zdSzbERotgiFm55tmRrAJscmje7TT8+K9NPzJoKsdX88nIGmzI2IhVZH/g9XB+tYPO/riFbdZkOiKU8+/SsXcffGV1Dd9J9KHkqz/IAuxaUZUnvuTyy9ZjQzaCvsAllpwh/nv3YkIXHgVZEIsd5rthqrMHNyEzmjBmt8yld268FmOe4P88ZhGMIg/j5PDN0cH2C56SdcMvfQQcdvHwQTWclse+W4FsHHXTQDqhyt03MtYOmFR/cv2lMRFyWpo8/YDFKdxSRqERNYViT6ty4u88db5PMve8Ofke5OCD59/5diWRyVnZcmG4IvYb55IoQdUrATd2ebgPkOX3/NwXftgZUpF1v+K7gWwdXi7WMwysUqXP6AhzYGROQAfo5uz/DeNgQh777kGSGcLu5yYltgKqQayGd0gHxBAbOO0IQQDpgfM1OR2Tvk3HJ7slKf2zVBSlwrhlbI3+829ykenIkXtK/Pm19ge0htp6+N1wsrBKGvLDOnZiX5XJZVnJ1pxrT+3ehBotqfgOFIUgu6H/0MghDny4gDVR5KARBTpKyP9tjpKF3Cwq4ru8OPR6PSPdN3TJ8Ji7zT8zJ+FcmJHWx2iDs2uFdB47L1F+PmxH/4LcfkOFb+2T4bFxi2qS4QsW1pcfXJi5KqVqx+IUZXmY1az7+I4aiI7k+I6GGqhnpG4tJbiJEGGbzUsMArnWE6hMXgnveuaehREuknpFo/YzkEzEjdLvLcxKLL2radUkkn9T6KultJqW6MiL1Eq5gcJ8UVJ4iltKyaj5iPbqgIM9SoBzquS0vCZ1TeTGHnIh3zUgssaxtp3lzTWCADERu7uFj8oVRmXtKeo89JbffPyjJ1Nr4aJqsxVhsh7OFGYtp2LeYlNRKRHY/F9M+GZX8qNbXSFJeP3xQBhaSpsrE3SsqtX3v2mPxPm/+0ePmetETUHuQ5evkPpDukowuXPSlxXpZvjx6Tj75/AlTtIJKECcQFLPaY7S9IBkzcb0mOO6BWvG+Ywckk0yuKzvqwnh3Qgbu65fsPojWiAz35CQRa014hVErTkht+bIcPdIn6XRchuqZRsxCYsUNmFrSfd+teSDN0aWCKQ1T89pPTsVkl9YVboFn91W13dbWO3ECIXcwekF6bMe4hSELoxCkkK9bCEKUxYBy79U+avEb41EjJZvJGX/MxSR05QDpYVyzdplKMKG/UWecw1wVPs+jOv+c4G7XUNf2q9ek965eyR/LmfEWw9t2iKHtAjIP42E7QGjNPzffMOYTo3WrqkauLS9VZOJrU+Y2jHtBOuJKGDIU0uzyJ0ekonMQ7cBc1K9zLvMDc7x3S2rtFWpfq9cWCldQvPxXEk98Vcf6WuMhZOHK2d+V4qWPSmX6Uavz6tIlKU08JPvePi63/+SBRixElKuMA5Srk1+fcm3Qpn/hSox68eRgST+bMlLLbgRkUvso9TavfbSJvICMZI1qB+qjnXtS7gNhvVUsXVpuqSKkjIWzixY36kYCRuNrOa462D7on8wNEObMr4UzKF83J3U51xMAYZUibo6XLrYn+280UEe2+aMN3O/t65s5EAUiqiuA2mv2qRkpnNT1QdPl+3ZJw7EvjMsj/+RROfW/Tr8oyh1HApaE+K/Nc14zocrvkHytiNatxDj0oN4g/koblA/C6+wfnJMX/ucpU+E7d+gF25CEm3xbQ0IEHDGOIfWuFOTJr2lWxkVXPtqAOmJ9wcMF2O69SJc0r3R+dUrC1brKHcza+xh90+cpDDY1TX1jOiBlN58vSBsX7u3yhyt21strBeYn5inUhP339jVIQ54fuvbps6M+MzAWmdc2A88U9I3mjWVbvb6DrYM6xi3/RhvIXkzQ13nW5Jm8gw46uDZwKsP9wbcOOuigHSKxuMW1i/XsTIw9RCDx/n1bil8IudjSHelVwFyA9u0yu1x1dkzvETXF4RpoHmP9uBjl3ldBBm4REHy4X90xaHqpI9t05an1gEvWDnYGra2ZrzCguvPIjNSNrGMn6Gbg5W/oDUNXVUtd+zIubhhu51AfaVbyl1cVcPlF5wY0fykiew73af+OyP4krkRXMawDeyPSctfbdsnNl3Ly5l9Ly92TfRKDAVRk9KWu/0Lc4gaemp8ywhDjtu0+xMBeLFqMRADR6ElMH8MwDAjN8qQjtcClT1yWRCXaIHYqDxUkerZk5SqUiw0jcX++S45+/xHZ9aZdpkjD4E4ezv/JBfeyq+lNpFbMLSiYS+g99DNE6tHufhmcT8rC8wum1Bl8zYDkb83LwGWts0pEzsxPm6Kw73zUiCzvGhWXnKmelN0Ld6EY1TGqdMedG9RbxvMSr0a1TFpMzeYRvU9ttiI52kXTMZJ1rd1F6pUFfVGe0pdmLYOml+oekXTPRW2XqqQyX5Q9b0/IwK0PSX3xa1IpPKf1VJFk92X93b0gp/vPan7cC1O8F9LQuasFXXsXJRp39RXPzGreL0p2P24jNd+zT2kdlaS6cEbbqvULV2nsM5q/JV0ontT+87zkjqbXuOJEWZhY1vLOuHoCPdWkRLWfxKqu3adW9PogTuLg6Zh06bm9t/TITd9ISf/unBFyB7+RMBelmSAdxsZtP3GLU3EGhFYYEIbEu4RgLCarslKvmDK01MYvYbzm+hPXDXfpPQMy2iPXl5H8sW7Xj2Krv3XtSbux+tpBedXfvEO6+tNy6I5hSWY2VwTXVhxhSN1y/+N7d0kq4eaG/Jw+VGj9NIP4nRD6OZ1Xjj4Ylz3Pxqzfp27OrlMYAuIYlhdXSSyL4xcYizdCmRimTWpEyKL8LXkjERPmWlTzEbgW5fxmsof7cE8fB9EDhWEso+Mo1G6QwBCGRh5qniNNcR49orFl/V3vn9Mx+dohuw41sjeGbwSMRs153AowDHrDYTMwrKFgXMA1amAwxZi21R3W7vqq5Q1ibexLE+a+E7CxYfLhSamWq3LgW/bJrjcPWR0Nv3HIDKR85p64wyONrZKU9eIkTFvwzaF4/g9l5dzvG4ldGvus9s1RO45r0rKO8UTqG5I/qnNjEMvQw+pU6wZjZDulCUZy+oKpErWPOjel2r90LfBKxVZ1TJ/BOHvmd8+Y+s8r/DBi+rJilA4bqiEQ/Xnkx/d1y2cLFWwY7doZsn0rpMwrDSh2lkc7BlXg1b8vNTDIojZmgwDzRHlmrfIV4r55HHLN5Fcnbe4HjCVT6epxXBRCdlxPoFyM+yuZq68WxFaFXGkFjM/Urc0roTnHSMCQ6tDIs2Demfr6tI0jygKhtKT1DhG3HZAerjFfbFg5mu7ryMHVsrPuo3KlbBc/dslIPA+OmwJW51Q/r7o0144j7/rUxTtsvY7zOyQhynP+8o9xQEzo/nv77R3H2kbT8mDuuhrCkDXD54c8k3dgZF2w7vhjeFNgY+BWUdI0CqcLNo6vBrybsNkq2Z8ycs27UAVhUtHn1Y5twZUn7W4EbpvnKvo863giUPtxHsd2CpbfgODzbkk97J59W1cYMncXziysIwctz+Pb6x+Ma+ZMSPwO2bge9n6vz768O1Q3ed56MUB+Fs8vycyTs8GRDjroYKcRzeQl+TJ1dddBBy8qIlGJpHaQMNP0otlN4hdeS0AGhtWSzd/DMMLyRcinEXz3BF86eCWgiRZ6ZQKXgZ4Mq02WzQXcVgER0YoM2SqIf0gto3RDjWVqw0XIqoikCxEZuKvPCKjDz6TkwDftM2P9nqFeOfRYokHubAXxLr1Ji2wSFzG/lJDJ5UV5cOycfGXyvJy5pySn8wVZSJSNnGtGOlBGgpzmk1MgFFf0RRdGjhfiwgsLMphcjZ2YH9H7n9bf9eVgXO91sejiEvbe2SfJ7qQc+dBh6T6Wk1v//i1G+mD4Kz+1uI4QKUec6qxb03urTr5Lzy5IvVyX3bi8DNR+qN4g+jwgwnoWE402NmIs+B3jOHk0dZfm7c17jkjfOe0Pel+ItEg1YurCpTOLztARXNd9VNtd28KjunhGKjMofog/ghJw1tRBmYHTEos/K4N3PibZPSe0r1T0HIxdmpnSCf2z9mU/0XuXnuNetE01WK9KqmdKj61t7GqTC9Ja0Z3bDO619Nx/cqTC7JNSLZyQzK6Y9EzHGu5HicXXMxKR5JJ2kaCOIiMVVwd6nJiZjeOyILv1hXzXPX0y/IYh6arGJH8wZ3HT8jqO9jyt3/szDRVaK6Uj6E91yYFcr/Qdy0t2Kb6OgMVtaHPX64+nRXNtn1NRvaYFSY6KEIISxapH7nCu0TdSukhBO2a6Uka+b4bq4lmpzp/UDyU53jsouxOrRCVGEcqW1DTJS3+6SxL6272DeySXTEmxPyK1gLuZPlKXO/ftcV+aALEXDRGc20Er16B7373bdnzHUkE+A4UgxpPm3ej+WFilCFA+GvEaqkfuBfkISQQJ2Kw0jKYG9T8JSeYmtQ10jOl5zI9sMIBo80YygMpg6tFpOfmrz8vlT1xuKEacCq+p4beAjdyeelLUE2cAo301lJ+NgMHKk4uXPn7JVBRmYA2RYjf94DHZ8649cuD9B+TI9x622JT0De8eFEMru6hrgZF6O8AQh7vYysILOp4Lmm5GB8dqm1cLz0t54ks6layND+WIvtU2mnt23tq7QdYFJGEYqSFn+Av3qZzOdYxv5j/vjtTj0HcdlMEHBsw4i7LEEx5GQDYZncHK5Iqc/5PzjhTXOZ4+4fOzmVqO3zEuN6fLcerWDP1XUL8A13k76SrvxQJG7fC48sAw3+r4tQYGyO26VN4pLJzXNpx66dsQFTP9tDTj2mB5omjHPJgLZ5+dW0NwE/PUjx3AOEXJjBtH+rURYFfYt68FmLsnvzplaqmtgrG9UwQjRIJfM8JgDWDzF4RLK7ekEDcQOJA0EDMQC9NPzKyZU5gHWqW9EWhnR/hUW857Ow3Lo64pG4F1h/XbiGtd+1j/6FNG5F1winBPLvKbXx85v3nuqGu78Vt12anuIKqaFUpGBuo/Dz6zLuDpABf5vNugZgwrGlmDy1dRX4QoaPW8wDxg65W+i/h1Hq8Am5GTkOCewKMfWRpNdbFVWH/Q/sjzD5u42EDE8/BmMKJvC8Qm+WNuaEUCMs4gC9lowMZQFH/XAp6MJEQC77IQohY7W/teTJ//8KyAK2DAmN2IwDNysGljBC7eZ57YnEiivPRf6pt7jPz1qMWd5jmvg9ZgjKNSvh7AXDGna+JmG35YQ7Y7N3fw8gbvB8zLbD65HjaEvVxBbLZofiD41kEHHbQDcQTTt74u+Hb1QLG4JXXhtYSRhE5VuJHLUdSQ0Z1yxdrBDYUrs2K/zJCtrioycpNRye3PMmqCI9cWnnDs4p5a27iwg9gbOBuTzGJUBl8zaIbnY+8/JN2H8S0cMYPuwcfi0reUaMUBtgRxEpuJTdSNcB+3PdolmVpcHho7L4+mJuTs/WUZvVVfdms1fVpz5/aMRqXnmOYVgkRfgLkxRuV4WRPQcyDw6ktVqdfrpgxEMbV4cVG6Yyk9NSJpfW/LTeonTRK3oB4p0gp6Ge4aqY+++/pMvRSfrDWUlmEQQ/DAo3GJnSrLkj5EYrTPBCo2IzP1b3eI5MqPRmTg8bog4Ouq6MRd1N+PQPhFnfpNy2TGOM075ODyGRR9Udnd1yMxTYv4hYVn56XrtOZHs45CsZmsxb1obXlUkrlL2nWqkuxLSKpv1D6D4qWPCCo/UF04rW8+ZUlk9EU4YC5T2Yf13LUv0zUjBSuSGTijZVqts2R+VPsoeVw1lPg0m1GeekgfuLU99G9t8ZzUS7hK1ZfyEBuHW1jUcHFUh0EXweUorlfzYxE59GBUjhTz0jcel71TT0uyPiq9t+eMlILsymm/IE4eJN2+p+KSm12t+3bAXW04BqFHZtbVbXM8RZBOJ43kw/1oNpFs2fd7bs1LZrdTeXo0xyQ83jMoaV3At4L6yoT2jRFTGB7u7ZfBmzStgIhLWYzOiLz30C3yoeP3yi58f+u8QZzLH7z5fjmQ1XP1cy0Xlfvfd1yGh/J2XTO6D0P6rdYFhhNPorQDhqB2rhwh+3CH6Y1TntzjGl64+Tvz1IwZDLzqzcdBDMO7KfXxDFEVohoM1y2oBO5IIymdq6JJqVXmJD2UMJKWeid+JPfgfvxdHl+WuRfmZeHcgsw/Py9zJ+ev2sjqVBJr64wXTIyarYzUGJS3rDBEjRgY68OkI2nwnbbyxCB/GRfUHYBoi+pcthUitE48wtp6I3et5I7XFi/oSTWJ99+vbdUX/Kr1P/u4njMtlcLzUpr4otSWLtm8Qf2Hlba8bE89MmUv3/Zd+wLtgRvSW//ezfLaX35A9r1nr3OVrW3sCEJXbtQhDLhSIaZJ61yRKkjfHV3Sczwvx//3myxeI4Y6XFl74hYjJWpHI1a1jiALz/zuWRn9wrjgttErQDDgN/e9VjCjdsEZs8PjA8MohAzlu1Kyyufl5QYrc9NcgfGNMXa1cUGvBIvnlmRJ55cXmzSkjzFOy0Hf20lyaruACIQUWRrR+SFECnqgdJrG9WBgHGe8QCAuXViyerOyTOhYem7OYouSFmOLdeF6AMQL45yNE9vJ0/Sj06YO3AlQZxuNVwi1sS+O24aUE79yUi7+xSV7LmVOYiOMv5569sQi/YdymXvmbRChYTA3QeRca9iGFV1PWFeYF1sBgoqNbTZv6j9zz6n/aIexL4w1joevJz02T4SJP2DXQzxqvfIb/RJVZhjud32u1TXPNpjoefxj/WPDC2EXYrpGkgb55zfW/qKuCx60CXXowTnMze3gfnfXszaQT9JgbHni15GrZbeeldu3DedYDMGR4Dl92Y3jcH62g8qKrlP6TsH7Gu5Ivdca1LmtSD4PNoFs9LtHQ5Wn/bYZzu1pyUJm9N3Ra31+K7D6CrwnbASeC6gX3qG8txKeu3E9G01qewdEIoSuf06lv4x+dtTmt2aQV+qeucXD7qHjlHm81TVhUBe4gQ7PtxzbSlmuBlvJ2/WGWpU8V+35lzp6qUGfw1bAGoer6I3A83zzvNPBKxvMM+NfnpCn/8OzcuHPLwZHO9guork+Sd/6huBbBx100BaxhMR3HQ6+7AAgDF8qdaEHhCFxDCO4G821dzkaT0jXvduLBdhBB2BzK94rAMRe6BmNSa62uYvCnUbf3X1mjCeeIGSXZ0H6z0XlwK5+yR3IyvDrhkzN5Q31GD1i+vL5noO3mLtM4gJuFdzH3wOCDreDsRNFuW9uQAYnE3LTmazEahFZ6qvJ3N6axY078Fh8HXlDTDrUJWFDL4ZbvFbaS1pdTGXYHUsyPxkplSroBz1+aXHe3FuiBPSuQcPgBTesXppMrrokBfGiI7ggE9mJi8E0f5NT/OEGBxI0OxeTqJbDY+iUlrOi1y1E15FZECIYCUincKog7KZG7Uh6uDPtHo/IopaFl1+AC00MMT6Pjtir2t9YqubUhZkhfZEuSSI7reXXF7QmRSCIZ2bsNxBNrEisWxeUqOuDsezq53T+aS2Te/GFZIwnNK8rl7WuK1KZe8LIBOBJw/C9yqOf4YlbVs79P/oTsRP16+IZ6R6pSDRwp5k9EJH+sZgM31mRbn1fT89HJD+g/SAWlV3xnAxejMvrxobk/k+kZXB8WTL5aem9s9sICYiC7iMuRh6IaTYzKxCGa9s0DMilPdmsxTEEea1f2gbc/qWUPFDdLQPzyUb+PAa7NE8ByWjuTFsQjs1KuVbYk+1u3HszVJfOSXX+hH4oGlHJdblxXXjLIr3RtOjIkAHUktkeUxp6dOmie++tBySbScrx7zwse4/0t82XqR9DYxijm+9r7YBCD+NyqhcycH263g1p+HN5rmJj9IXfPCVjnx/XsmFY0wbn8qY5pO/uXiMHgcVZ1HEO8Zg7mtOxltH01t8zGtN5qecOLWdKMsMFvWbtpLE85lyDFk4WTNGLARdjEmVpNu4/8+Hn5IlfeMpUayhBNgLEoFNJOEOkx9Qj06baCR9jBzyEL4YpyNKtoES6mj/WifzNebnlbx83VR3t5ojH9un4OIUYI6n78LkZFIAB+VwpnNRxedb6GcRfrVzQ+p/UKUDrTL9Xph/R9tY67dov8b57Nc0eu26d2nD+eVl4+l9LWc/XC4Kjup7c22cqAFRBzHFr6yRlbuN8f/HkJ3llzeGfIx8jmse41oX2/1RBBu9fktSAS2fwtYOS3pWWqa9NmutTTxoCjJ8Ybc/90XkjRphnF7XtF88umFGw57YeSW3ivgyjkjc8YkAOG+XpRz6uoSncmgi0zUA5USJcKUnwUoG1j3rxfz1QZbD2XqmheyNgoN8o3cXzC3rvwjW590aABGcu8+MLwyJj7qUApCVKpiXtU5XFsiMvAmKNPDL3YOhnbsJVM2oY8gtxhVtq4qRiyOVcCBXi26K8aRX37KUAhFPh+YLLZ6jfbYZlnQeYGzDsXy2oi3CfbwYqMchJCEDUkLiORoUMaeM3FEHotALr0UZpN8OrFV9M0LfJoycO2wFVH/M559Mn/ZiAFOUfJBpjOgzGLutpGBzzSjtUivRbW7dD64jlSf9BkOGNwCOZT9qzQ0L/ssEMQoz7MoeH72NEH+NW0wWMGxS2nMvnjdSB3hMC5I2RiAHhRt3wjzFHv0NR5RWEzWAOmX16zp5NAOsBeWkmMbcCaxfNC2sqz0+sr7bhqjve2EzUDjxrMPYpO+RIO/ek3IO6xOVsMxwpWTQPKpB3gPPbbTLzgCye0ftuBquTJrKJMg6+ekDL6eJc8wzBulyaLdr8x/MPfY4x2Qo8C9j6Ejw78B0CkPsw12wERw62J5avFegffuPHywG8M9A3mK94/m0VD/rFgn928WB+5pl9I9A/dmrTSQfXFsw3fr25GjAPbGUDRQcddNDBTsBiGO7a2TiCLzWIYxgjjqGpCzcqW0QimR10x9rBDYP1FvlXICDqIKC6SnGznaN62wYHtyPAGJ0aWiUMb3/rITl4QF++sgk5+F0H1hBoYM/bdsv+ff3ytv3H1sVy2wiQjRAXxL/ChWbXHufaMfXni3L7H8Vk78erkhvTh7TAfts1HZG9T+lLLptuQ3aJfe/day/Cedx26jtoz6gj8AAv3ihXMEwPJLqkdyxmrj1R7EV10porLiPmawtTprAbV+sCotETfBMri+IckjpUV/QlUV98UEc1kzHxiao+sbpzSSOuz5t7J9OSn0lYPmOZqJQnHzSyzdSJGJD0JZiXWlyTojzMDKblgJZ96bkFe/BFqYggsGtaX4ZD7924Dq0HBF21cEqSufMS7z4k6Z5JSXRNaf2GTg4QiTMhr+aZmIfRJLuA3bFIYvV30s/0vaBlLEs8PaPnLZir0yisVQi1yqLe/wWZf+iHZeXs/21uUsszj1sZvVrRztPPiZ4QsRbkvbZ0QWL6cE593fyafZLLpaSvlhI90wz9XpE1cMczEk+5l/M9b9/dMEi0cz/aDNx8HurKriHYAOrCnr6svOH4Ednd0y0x7ZccS5ZxIroWuUTS1HtXAlyHbnXMVFFlUn/FCa0gV9/Ed+wZj0m+u0tiTeMyjFgqbrF7eu9Albi2rGE0xw8Mg5elM79/bp2RizhEGKNRdm6UtgdGqpWpFTn3JxcsNhZGGz9OGceeuPLAwNfsjhTjl8UujOq4G/+i1EqrsZBANHtQEn33at+c0r5P/3R5tmszMTNQcD/ch1p/0vHWChB/GDIWzi5YPCT+ekKR+uB7KxVHM9E6/4KWEWNoMA8AypA9lLOXWYxXzYbRVsB9GyTU0Q8dkTv/8e0y8KoBM376vm6uP5vqz4PjqGLNmLqAMi74QRENSDiPauGk1MurxpBoXPMegQAbkdLFP5Lq0kWdV26WRP+rdH7Q8dF9XGI9twdziRYTleHiKSO4F5/+BSlNfElSfa7Mvbf32ljFgHz5kyM2z3nghtSThcAIw6A/GsGqv3kSEaAu7D38ZckMXdA8ugKhUkRFgWHWuyal7MzNXI+7KYzBnszDWIR6AwOmj5vYDpBAGKkLJ1GiVpyhPGT4xNDklQXeEM01WyUOuQYCYrtE4/UCxkpYLcvml50w1HhAYnm14vk/uyBf/Ydfl8d+7nEZ+9L4OkP68siK1ScqhhcbGG4pN30DA1OYtH4xYe2h85SpBi+tNSb7+IXk7fInRuT0752RCx+9uMYdqZGDczoH6jlWHp37jJx7icoTxryuGzNPzFifsI0AARFK3oyQ2oBo4xwUzgs6714NuO/CmULLe7FOYhAnX+Z2WtshvI6x0c7HC0dRaCrJgOwzokbLYASv1n+79SkM5p5wjLWqlnEr110piPM1+8ysrV/8wx0/f8OA2GOeBCj72CTIphrWfdyDQpgyF0MO+biLXh3IddY/m8Y166Rfc4301utNsajXAPLAxhrqGuKI9QLw139m7aHumfdN0U0+La+OkOPfEukGaa6MrsjMU3OmIOSZgbI3l5VnGNraiNGAiOMYc5D/zPWUaTOjMwQh7c+5Nv40P9zPyr64eZtC7NEfgFP4uXLQ13CLb+9eEGnJWKPMjthbzZcjFJOWFqTsuT86Z5unRj8/tmbNo+9TbpsbyG8wDj04joqMZ3LWcMAa2XxeGFxD/qnnsNLPg7HUPAdZfoPNPqzzXsHLOwHvs7Qlm1eY33Cfyj+IUF8Wl8+ay1swbulfgM/mDr7FfZvBOxv9s7aBgvRaAMILt8YvF9DnvBtS6pTx8VKBPhzeBMAzBs8uYRKxGbQzxDB9/noFfTn8fH2jgvG7E2ODDR87+TzbQQcddLAhIqjwXmGkGQrD3l1atIA4bION3JV20MFGaG0FfYWBl01i+WUu6UtM3X1/qcDu3OHXDplLwTuHdpt6ECVgM2MCYYcBd1gntVax3MozjzWIINB9rFv2f8s+Qc0BUVS6/HEpfO3vSyLznKatL8UYDgJ7aayo6QWfiU2I3frmlT4jjjz67uxrGGLioWe5pUuLZqhxhOGCJLULEecwfzQn6UHiM0ZkoVzS5N0NTBnYgmTqviknUT2e1Hbh1GK1qv+cix+PsS9MmKLEXsRDaRBzq2eCuHju2MH7dlk8jT0jSRkYc8pDCMH6Coo8vX5vxu518r8/bwqcerlmaaSGU5Kdjcn4F8YbBlnItOzujNSWuda9xDoyzv1ery5IbtfTEk1pyZMY/FfzG0Ysd1RHV0K6dk1JvKvK+qQL1LBN1mGUJnEpuiLp/rNaxopEUn2SyqMOe0Hrosmoo+cuPvvv9AV8RpZOfFgWn/xXUm8idUB9ZVy6F/R+QdYG770oD/zSHbL3LU9JontFemtJ6T3SLffs3it9+53rVl7maVNUkbLydb23e6nDGOL7nycMcYVFfa+c+32ty/W7lSuzT2F9CL5pW6fT1s8hn3v2a7snY5Iuarr1iNV3byUpMf2815SBbkrqTqS2pawNA0VgK3ViM1BCGoGjbVtbmWjU97HzWbnnE2nZU0gbqdkOKFf3ffNeq5eNgPvasEoQV50YSTBcPvffTsjo50dl4WyhYWTBmMWLWDThFJ6esN0IFidR29F2Q+utSAu3YuzM9i5HN0IqIBAxZsUzdSle+lMjskFt8bz2Udcfol0HtbwFiVR0/qmtNQxjBMPIiFGwMl8xg2Cz20QMm7jyCxN/vHhiGAWkAYEXVgfyHQMcJNH8iTkzhHjVIa5swsaF7IEuUwfiMg0SarM4UNyPezllYmtSq5n4CyM9pHNLOmZ5wxjLGGqJyrJW11mtx1VDQ8/Bh+Xm7/4d2fPAX+lc9rDWwbwpDKnjaGavziHHjECMxFx8Ilya1pZHYNiEmKUL3/hpqc7+teavYkbi3W/bZRtTMMhQR/SxViQZY7e5PGESEXUh81EsSRzISzZOwJHvPyy736oPpNpPbB44njcyks/mWnGyaC62IRGJn+jbzbkkjZmRpZVh0OILar+BXGRJM8IwMAzymfYNG1MBKhGMUc3HW4FzzDAZGM93ApbHLdz7aoBBGMWAEXr62YNyY5TfCQKU9bU0AyEZqD+WXB2h1jn126dl9HNjjWO4E2N+wdi8FQP7TmJZ5xLUHhhA2aiEgq9ZAbMdcC1l3gr8WGp8DuY0f5y10/dr3JEyfwMUhc155Nx5fW5qVhNynLJhYN8I4bzsNBiflz512cgbnj2Zy8gn9/NEwEaEBCB/RqRuYBTeCpzCcPP25dkuM5wJvjG3RfQ5NG1zDsosDJGUhTmLvDNuAf0XAoK+vREByDxDX/NzR1nP9yTctQB9h80+EHb+e7Mx1fId5Nkp+xK2OYZ5lI1DqORTA0lNZ86OA4gxT44xLzcTCdzD38efy3zg11b7rPM76yprrCfvjLDUf8Ce//Wfv867SDVCTv9xT8hkykT61Ov0Y9NWVs7nvcKTicCTbl7BCFY0DeqHtYY2przk29ysBiSihy+HB/fnOgir+efmG+OUjYl+jmsGSi1P+M0+NyeTX59ekybuve3ZQZ+T2QSJe1b+WRsFcwLwv+dv6TFvAKTJmsk44fPEVyZ03DllHnMA9eXvQ59tHncof/0cwrMl99wMrBsLZ/S5SdeTss43zaC+IZ2Z3xnz5N8RoKvP0jzrmnt7Pd6j/azvrl4b75c+ftmuI+88mxVOu41RzBu0F+sY6zt59nEMiZfs52E2xzWDPNAvyAfl530T8t/yptfRfp58vBbgvhBc4Xa8nsFYC88dkG/hjUZXC8YOGzC2A55b6ON+PWCM+jR4fvLzcRjM+56Yvx7hNjvisWJ93m8kMA4326SxFTDP0Xc76KCDDjq4QqAwJIYhhCGuSdsh8gokSzt4UXBDEIbmQmdKizrd2jAAabD41M/L8gv/Xf/9KkxC8MvOAoMubgAPfvd6ReHVgtiA+791nylBMOCiREMVlxla0fnDGRZNZaLvlXuiOW1494KZ2iDWm5F90Yh0ad1FAvef1WX3MgvJh+Gk64WqpOdQCUaMiM3OcK6dKtnpVVViM/IWL3G1Dk7PT0mVmIoKu07T46WTF02MQs0G7uyMTnpB2vYyrv8SjxYl9nRJUt2opFBZjmnbzsnB9++XXW/aZTuRcQEGWZE/lpMkLhk1WU+WgcFTUUkk4lKZe1Iq88/y9h4Qhq7vlEY/LbHEiKZf0/uMSqrnoiSHHtD8pSUx8Hr7C2LZo3qOpl+vSXpQX7xjdZ2k8S/t6jsaIx5eVGqLzs1opt8pCuPZI5Iejkp9+ZQsn/xvUp74sla6e7kvjX1G8/W0lne/JpAwYg51XHLXOzRZRyqA8txTkhS9p/4PkWK9OG35hwDK6Yt2//68Xh6Tw939kh1wdWukjb5gZvrP6ffNH97Lem/cItara400oDT+Wa22VTIpU4waeYnr12QcAlLbTxLWB7tmI9IbT5sy9cWGVxeCyvwzWhb3kmouzRIR++tVV63Abn6MdZuRcabm074++JoBM3IBYgw9/UvPyNxzzpiCQdwTELgTpT12vWW4YSjbDAfev09u/we3yh0/fbsc/LYDli92sKMK8C5HN0KiF1LTndN9ZEzb45KUx/5a8zTj6iXo//H8rRJPx3V+eVbb2BFJKAzNFbICoxcGFmKsce9WBFpRf9vIXagpRwKDaBieTMSNFwYIXAvzwopRxLsihTgduK/fiCwMWRjAwgY+D152zSCuecTIlRl213ukh1MSDb4zb7ZrY67hN4xlRpBpuq1QXbqgZbpo/c1iFYaIwzBiXfttLCd675Z4710Sy9+i37MSSeHyNmWkoX6Q1L73G7kIkZs/oucH/cobL1HitMtPWHGIAZi4U0YYNvX1emlayuOfd/OfAkL18Pcckrv/2Z3ywC+9Sg5/10Hp1ranb2E84d7msqwvZcYlYrZxf4zI/n6tgEoLQ1dDRah59+2PMThs9OI742Tx0pIsXtb0t0DakRfWLPK4EyQfecVgtFXC6UqBUoB809fL865u7LOWwwypbYzc2wH3YJ0lTeqStREXx3veudvIZ8azNwqhInmxXTM2A0MxGy7o3xhErxTzpwpG7oVB32hF2NEvKbsRTvq5eUxxHXMRf62uNFu+v+OS/tAHDtq48PE+iekWJhJR8CT0N0ht3JNuBJ5VIJCvBSYenpS5Z+Zl6LWDtvmM2LTMa6gfcTfKs5MnR9vNcwBi0RMGVwoj8ja4hwebyVD4exVUojfpCK1urWud9+nPrKGmigvmSEAb4HoVF5XtDL/kwVzLMtZbrEfXAsxvU1+b1nG3tfpj3mbNs7LqP57Be+/otTXfk4itgLvy8PzBtWzy47nHg802fsONJwFREOL62pFjrBvODSlg3eH+PM/wrG1zt96HscEmPXORPqp9fA43j07FCMy17HNzRuiF4x2SP+a/RD4uXTxr6T1pB/LBMyvtTNtCdIcVvIDzuIcn1Sgf9yVNyAjmcL/pwRPHzSBd+ojNNVyv5cH7AXOwqaA0r81knZGYwQYynle4F8doD3s/0jnVbbiL2T3t3UXHvgd9nv7GGPJeJxhzpBUG/Zo80e/ZLJrSNXczQBjSnyFkik0EJGB+m3l8xkhd8rEZUcaY6runz/LBJg7qnLJ4DxeANNlk4tOz70FZOIZ7Z+bUVusKvxuZrHVNn+I+/jgx9K81yBcbBvxcjTLz0X/5uMVNDc/f1wt4pmZtoJ4ZS/RXP8a2A0furp3v6IOzT86sUQxuBp5ZCmfWEms8y/n1i/yF3VczHhjbnL8Tbq2vFqzV9Nfm5zzmJPMkoM+Vr1T4+W4j8LvfkHI1YDzbM7/Ws5/zOuiggw462AYChaFEY5LY0CVpBx1cGTa2Ir9CENWXsp7RqHRP6osdxMXxvB5cfcmrLLwgxct/YWQhpCGx464FvJKwlaJwuyiPfEzz2f6BrlblQa4uyby+iAX32v/Ne4OX11UXnwOxTIM8bAXqLaHvd/4MduMSw8irGzD2Zib05X1PRvJar7l5lGP2kyRj+tl9XAdectkJnZtzBOPp+Wn5+sQlKddqEivrVSFboLkUDbUX5ERcz0lUohYnMX+oW7IHc2ZEIP5g/oiLd1hdHpeKEacVOfy9h2T3m3eZcZv4hOyczQTKQ2Av3jd1S3chJll9ua+Xx42sW3X36V4aIN2S+YsSiVTMoB/PJCR95ENm1CdGoYs9pvkYcuRhsvuynj+nh+r6fdUNaTR3RD8m9D4YOvTFPz+qZaxYWXtf/TMSy+63PkncQq98Q+kTiaYld++/kZ7X/4503fKT+u+nJHP87+j986vEYWVJhvP6Mj8Zk+GTMckkz+l1ZVMedmXm5diBfiPuBtNdkulb7QuJXFkSXcRdbG0cw1DkSSUjkxbPaNbXjxXuo5kNvq2ie1zrdlDTSESlvz8rcU0rtRiRnlTalHzmSvRFJA7DbkiFdghUpJ4giqXjjbrZKipzzzqCrQm4Fu25Ja9pRk2pc/lTI1LRFyV2m5uRRY/xwsTL0/Tj02a47rk1r/1VX6CCvrcRMJwxpriHEZO5uO3A5uXfk1obYdebhhtG12S2rOOiLsWLf2b93SOWv9VUstHsEU13QZae+tdSmfqq1qEz9iycXzR3dpsZmjAaQNbh2gq1G8SWV0zwGeNfmCRa0JdzNid4AxIkBkaocGyn7MEuIV4rBBgxBfvu7DVjKoqF8HkexNpyhjh9UV2pWV5QCnpYHwjmhoyRka0JLyuDtqmRBjonQrKYu+UWgDSs69is1/RfMD6qhed1DnDGNeIVRkyFnNK5BNekr7ZYp4mB10g8d1wz5YyCEIWpgx80cjGeviC5Q7WG0RGDJPcvF5yKwwNFImsbG0msPwRli+cYr3oscl7bfK3RjryVRj+l42S1DwAjJYO62vPuPUYcEt8QdTv9HEWsGfqmixa7EKPoRqShKQ8XnJsnDIEYNKlPvkNS0J+Yt8kzxiR2rWOsQXHAbu/N4OMeljTdrRCMmwHDocWJ3IG0tgLftwBkGf32SmBKxdC4AqZWnFyr+EU1039Pn7WzKfsCspI2NSOkXtPKmEQbbkSitvt9Xp8nmg3izaAvoULhr80Xm8wxm6Gk6ZghO5QfXPkSY6kVaQhBwD29O9JmYPi2ckwVjRzIHc7afAqZteddu2XodYM2BjCWU9Zkf9LcGLpzem3eoFyQ2xsB8o7zrgVpaP1Zp4Xu4922LpE3DKaomZgnUScxNiGhmKN9PUFuTDw02eiX1BMqo83ikrUCefDpUk/NRAJph8k73B3njuRsrvfg+YJ/qPQZp/5YmAwjHcaxuV9tYxiFUGL9MGVt0D+NdArGw7UAc7Yn2zy8ypC+gUHdA/KO9X5A24p5H6D8g5Bq9qLCcwD/PAnoyTjg0zUln/7zoOxe8cc8wD/S5Z8RlfrPnsUDhSHwv6MEgzQm7w2lobYb44NNOvQh+ghgnl8879wshxWGtD3zPO9L5mZW1zXUaZAJKCjNFbque7yD+LQY10bI6/OCM+q7diM/1CvgPk7N6PoW38vaz8OgHegfo58bs00A9G1U8/RJ8uuUh0Wrg1YeJuh3Fz56yfog7yKsX4TCYE7FZXr+5m47j+9siPQEIHVE3XAPD4grT3x6sA4yB9CvPRgX7eZF9+zkXAwzD/O3GaTJJiuer/w6yXMkcbTbgQ2qbDAA1h/1mZV1nnHCWLbNFjpvMF/Y2NV80Nf4zFxKPjwZyLgPr6mWZ0hfrWvKStu+mCCPzGHM7W794TvPi46Yu95A/ujX9FG/zvN3O+QmY4HNNN6tqQf1wHjYLpFHnwqTjMw73kU0cwFu6D14xjFCkWsuv3SEIYT3s//lOXnox7+qf09Y/w3DniW13262Vr+cYQSxzgXtYH1N62krYP7k+cCDsTSt718ert3dM/pGz4+tQH/ieaiDDjro4EaGxTCEMIxEOjEKO7gmuCEIQ1yn4FYRpVxcX2bSg8k1RJa5eXuZobqM6mP15QoQt3Dm02+R+Yd/xAzTIJV9UMvuXm7Y7X7gW/fJ0b1DFncL8BJLZXTty7QkFTD25mZiDaUgRjFvvATJx0qSG49IPKUvlvoSn5tZVRVCuKyp6BDYGd5/T68k61EjGCEMn5+blGpA2njw8mlKR33p9vAuSjP6DOrvhWHa5z93LGfEVj1E9AFPGvbclredwRhG975nrxx4/377h6Gl/1Jcksm4xQcsTXyxQRj6GIYgFl+ReN/dOnqS+oK8VxL9N0sk0Sux3E2mCNK3eIkG5GAkMi3JroLmrSbRwE1pGKgGaSvSTHaPav8sSaz7qCSG36zXpB1hE7p35qYflWhmn55zk6SP/JD++wFzXRjN7NE83SuRZL/FEExUq3Lbp5Ny/AsJic8/r338opEUmcF5rbvVOkZF4N1ldu1d0uytrf8wIAwxJnYfrkpl+q/XkJkeKCBxser/gt557Rc69hL6DojxwZMVxC9MzUdkVz4v8VhMUlFijLbpMFeI0vjnZOHRnzbiw7vV9DBiMyAMK0vn9Hf3AoiyEEMJSsjtojL9NamX1++6jKejWtddEu9eVSTu+6a92icPW9/FMIKxxAg3fcHHYJ8aTEtl9hHtH9vbxQl5iEteryrcKIZiKyTzM9onIBcmjRguT35F87CofbpLu3RUUvu/Q2I9d2g+T0tx5OPStVv7bEAGYfgLG3RbAWIRw5gn+ZqBsckMRBhrMMwE8w1Ga2+4NoVAyDVc/ibtQ9pmKAMhxMgP/WwJw+Csi+UYBoaVia9NmdtS0jHiL1AUXgkw0viXXYyIGPJc7ENXLxB22sksjih/m4GCMNp9TPPsDL8QhrHcYYn33imJoTcZaRhJ5O23KGrDWErH/H5NP671mG4QhnZvbWuMmZ7YgKioLX5dipc+KkvP/QdJpC/YOgjqlXlZfO6XZOXMh7W9L9mxeHpe27psmy1ss0Rt4/bEDektf/tmOfAt+6wvh8lBnx/v1tUUoaH+gXEIAyJGJX8cwy4G+smvT9nOY+AJLA+UG8v6L2xgbAeMzrRxSdMlphaozD5l/XsroK9h5ACoS1CZkL+dIB83giM6nWtADCPAyLrC1g2AYaBcblZ+QQaZikLTN0JQvwM8IWD4N+PyDONO26SJYAuD+rn48UsWz6odcFWMMRxjkwf3nPjK5IaGSM4xlU/FKbEhkXFrxjyxFXhjbxjlxar2M9zbuTakH6GiG39wokE+eEBSOFd+FUunlTqa3+iT/EX5NKRjYs/bdtnmJL/JBkAkMNdDKuJueujVA47wOZS1vkX7+HHbDuQVI/u1ACQhbQ8Jwl/aHVUSdQjBQl/EkAgR4vshZW7Osycaw+AY6bQiZD2MHPPpap9sTpdjft7HHSXPcBAuNu/o/IDSyvIeUhNGk+tdNlLXECMYyDeDJ+yAJzauBZoJQSM59dmMDS+Mj5FPj1hs42b039dvz6+9t/dIWscs6//wGwl74GLaAkfcsYkEcqZu9/EEjKljtVyc230k5zyy6D+U54wxm591DJIX+i0bUiDx+AuJF17DjTDU+Z/1tdmQSzrMxYxhU9AFBnerU/3nCUIPiE3yHdc1xLtANWWi1oXlVZ/X6QP++jBIy7s/BSXti5CRpujTPNP+EMGAsVRt2lTEHIDqkf7G7/TbZZ2DGA9GhjMetD/T38Lrkk+fZxcjTPUcgOLVFJG9CXtG4fmM+uRdhn/Mu5CCZqjXsYV3CNYZwG8jnxmR53/jBYsRSj0yD5maUfu9B2MlPM/RT8kv8xIkEPMm8M9WzTAXoVpe2sXc5us8w8bKyAbPjow1v+EBV8A9t/bYWDRCRe9N3bHmh+OA8hseArgXc5mdq+2KC/vw+gR5BHHqyUYj7pryDekIiXctwD0ht2pBvXoV+fUKNjjYBrhQHlmv6ftbBfU9/uVxKYXmIUB/QQnMeGpWH7YDdgLaB0KfMYvHDuYN/wxBv17QOaL5mcITcuG58MWEW8tdf6W9/TORB2ViLDGurhVa3ffFBOvdRupB2oiNe4yLzYhD5uLJr+q7ZLCGMs95MnIr128EIxn1eaDdc2kHHXTQwQ0BUxjulkgsJsnDdwcHO+hg53DlFtKXGUzlUIjITT941L3gRfQF/dzv88QhRhiGYufVViAQQ9+NUFxvoCle/ispT39df3pxXyIgJCyPoTyD6vKoHavMPCa1JYy/7ndcxGX1pZQX+d1v3y3dw/qyGrAhx4/ullhMH+T1JbcVV8PLLO4/zfCtv/Pwj/EdBQ8G+spKRWL6XM9LohkLlrRLBdnKrEAGukQhM5vraeCBATOKNMMTSoD7tDoH5McikpmPSM/RbjP4eyLGuzDF2F1bvqz3XX2YhDTc+017rDy8bO95a0wOvG+PKazMnWsiYsdry2ekWjgh9dKspRNOA5WVkXPRhE7QjjiM40Iwf6v2s71atzEj/eL99+t9qvrzBS2U/sW1YFDJPsahiw/mKiwzcFriA7fqj0m7h4TiHcZ679T0XiXJvd+iL/Gr7kc9EgOv1fvfJvHuW/T+CS0/D+FBfVeIwUP9V2Wo+IIc6Eo1lHyMC6+2ze5e0jy6ayqzEH5rX9hw9Xjb379Fcnu+pvdo/ZBfXUB1uPZFp/tIVnpn4xKrOAMDbcPfeDUqg8W0ZDW/g+msxK6BurA09jkpTz5s47SZMCzP4YbUHauvTOh/nLEFEgal53ZINkBbQqJ5N6dhELsGwpVx6Ptz/pa8jRtz4Ti1Ipc/MyJn//C8GUUwOCe7E1Ke+KJUl9b24a3g0PcclDt+6jZzUQrZsp2yVJeIWejI3uLoJ6U886h9j2YPattlJKH9uuvWf2QKN9xr+nMxpPGizxhqp2jEaMlLIl3Tk3zEmvKxUTEyYfzjL65H59jxri/nkEm8FGK45Dxi44TVUpCPGCOMKNR7m8FT+zbXnP7dszL62VEzBHAtaWCMGPv8mBlgcZXmCMPV8Zbdj5vVgITrcarFdujiXOZPBWvL4Q8ektu17lFQ+7kM1SmbDqpLF/UfLknX9pH0ge+R1O53a99wpGAknuE/9jkx+DqJpIfsM4gmB7SMKTsnmZuRRPqcjkfXjz1ZacRcYGynTiqFJ52L0amHZeX8H2h9ap9SpPqY2/WcyKM6M03ZMWIY4paY8438NxVk+93GwJSN2pb+M4Q7Bk02qYTdpV38q8tGBHpykHY0N4/aTuGNKCOfHjUVKBtUwrv5w+5LIRa2Q9pxrieOq3MQhjrmNwFGm8ufuCzP/vJzpjYZf3Dc+mZlfr1ab6dhhuFABTT+lQmbH4woX6qYAQ7DLv15K6QHgHSYfMS52PPAmIMBJ1z3bPyBgDY3gNqGjJfJR6Ya1/G9+Z5jX5xwY2kDww3lgTALX0scr5knpt2cEABjmSdl+J04pYvn9ZlH69vuvUWiEDDmR/56TJpdPEKWsJnADM76mXrkXOYbdsM3Gyu90oQ+BHHpyRz/l2tpE/4yDthYM/zGYX1+cvH12LSBu0zKybhM9SeEjUs9d/Ta3DNw/4C5gp3SsUGfbwfIW5fv1fraCfh8edD+PM9xzIiXwCjPnMwmixVtB08IFnDTqGUHjmjU50JNz9y+6jwEGDPn/uSCnPm9s9qWWzMQspa0M5pCFEHGotS0e+q850GbhElafsd9IuuphyeZIIlp/1bwMRA9jCDjeekaAbedYeKLdccr/lhbWQchVBYglXUOCAPS8Mj3HbY1B1DeI997WO75l3cZmdicb3N1rG3GegxJh9oHUpV3hP57+y09XI2iDKTNGR8QXqyzwMcuhKBkg4iH/+6JPcBYIv+e6IWoxRW7EZOaTw/KTn0zvwE2FbE24zUAIjN8H4hiXML7ZykjzwJSEVA/4fmTNqYv5lD33ZRrtD+gj9HWHqxN00/MBKQ4RJ4jsb27YPo1rjsZ56mh1TwBNkn6zTthkE/mAJ4P6JvMCwNaz4RmCJ+P8duPRf5yPucy/zAvnfmDczKqzy38xqYf3LQC1vhwOpD8z/23k/KNf/GYPPPh5+ScPldCQPrzSM+rZj08kYgrcZTWlHsrIBwGz6sQoShe8TaAy1NTqum8wZwdJh9YbxZOLehvq2MLgnJEn9HC5AF1QBtaO+p8R5zrZsLOlJml1bVrJwE5xiYZpzBcrQtcYYfH6UsJ+rRf2yDYmR/YZOXriX6yVWUm6zvPBxafL/TMZc8bxIA2gog22Vq/4DqIN9KCLGQ9ieMqWtdxa1MdW26cliy/4Y1Q9D1PmIdBmlzLb6OfZdP0zsM2l+k44J2JvIeJQU/kMUeQj2sFnjO2+ly30zDCVvs+iup2YGyGnyPbgXFCXbIeMJ/ac4E+3zAn7ATJx6YCNqZAlHfQQQcd3NCIRjvuSDu4Zti6FfllDnZAHv6eg/Yi7I3ZKHdK41+Q6vwJ/bb6AuCJNw+IQX2KCr45YERfeurnpTL5sP527V8eIAm9erA896TUIBGaFIZhhAk6Xq67b3bxCMFQGuJqFV4N0g7952OS2+3cgqJGwOgKkYibLW+YSeo9+H13X74Rj64v54hJ3OAtPPEvrb7DwCAPGeldmHr0RzMSDQjNXW8eXkd2GCGo9yLWYXpez9Prc0edS1LK0rUvq/XllHmO7FtbT0YEBBVQmX1Cf3YP5qbKgszKa1vj0lX7AOqq6uJ5feEZkFj3cTPip/Z9h94rcAHVe7fmBcLwLnMVGIUwNKO/uwFxDhOJE/qt3CAJQSx3RK9bfcHn+szAZa0799IU7yFdZ4wwN5DxHsne+lNaF312rBnJ3e+0NGJd+/SCmKT7FzWPqxVbuvRRrZOCJJbPSaSJ0MM1GgaNVO5Rvef6l4RFbbulp39B6iW3u710+S+1Ld1LalhJCFDtoTp0xOHqi+WuE3HpymgfCQgUjKf9I1HJdCVlb3desonkiz4Z1YsTltdoakhfbLRsQb1sFLtwjRvTJtBPqoWTvMUER1aBi7owIYVbYAyY9GMMxfw29oVxI+B3v3WXKU4wRBNnsTz55XVjZzOEXZQaSRuM/e0gmhoUNksQN4++j9tdD8jxSDynL/yQi8tm9PbjtOd4vqXRDGDsZxezxUsK+gI7/51RWl9S9R9kAQZKdtkTY8q7K8Xo7F8yeWH15A/GCMqHqoK5DlBm2hBjCqqmM79/Tp74t0/JU7/4jBFRpMULPy+05kY0IAdbwZFwW6u/SGRGMkNRU0V7EjEM6rJKnYbGBoCITe37NptDWiGWOaDnuPqP6FwEyxdN9us4n9ThPqUJu3ox4k7rHjeSVr5SzdSNjth1/ZI5j9i2nBeNl7Tu3PwYdlV6Ncjo2nD8R26S+3/+XouFFjbmY2yhXb17OAhASBv7HCi0/GcjYPR8DBjESvIGY4xQnOfObz0WL3zkQoN4aZyv98IoRX+tMo5D81Y7GClZrFkap3/3jLmtxJhV0vuyw3onQDsZMaplbQdImrPah+nLHlyHW9ZW11maTeQcwBVU2N1dgyxbrGhdE6+3pv3KqUHZ4EDbQSxgRMRYxxhv7iPE+Zp5XMfUGK7Q2tcJRlfyCwkBMBpBgDL++czf2Wdm5fKnR6ztOTb6BUfqY3C6EgMTaVBnqCYgLQBlxgjM2MfgConJX9ScYPRzY3Lyf7xgRAlzkcWyGnFuUFGc0JdYI5hj/V/Ssw0Tc6iO9DgEIfNGiLgKg00i5rpU53nmKtRSkCeoMMMqq2ZUS3WbDz2hulMg/36e9TC1YXdcprR9vVEaQy39wchTjIY6jzJvUzd8N/JO1zVIgZHPjMoL//OUXPzLSzZ2Jh6aMGUBLu23kn/SaO7btBmqJZ4/e+9EzZSyeZZ7QnSTX0BMXo55sBagltoO3L1W8xmDJNN1gr7SjmT0aFYLNoNx8Nx/PSFf/5lvyNP//hnzLED/9+5/w6BfTXxlwsgU1smZ0JoYBgQa/8KgbsxQH6xF9C3yxbzA88b5P7lgqlrUXWwQoB/yD68sEHU2j5x0LgrD6ZNml/bXZiKS7+H7eZBfHzMQYztzibmxvqXb7uPJdwhMvyGAPOKimjS5LxsMeabhO2OLY8f+xlF5w6++Tu7+53fa5hT6Fe3G/RhLnvRi3FJ2nsMGXjNoxCj3xMMKxCfXeLCuePUhoA8aETMLqRq1dyBUbzxrhNWF7UA/tLrjmU/HB+BdA9fx3Tfl1tSVq6fVPoBL47v/6V3y2l9+wGLUM0ej0IQIpR78Jh0jAoN0qAPmNAhmv5mBMrFZbe+79xj5yrpZ1nHrwRhmLANIElt7NR+buSQF3Jt3wV1v3mXlY17jnqYK1+cP5gXS4j2D92/6FHNKWHXI+oLSnHx42Pyi57JehclN2rQ5/uxOw831bvyawlDL48FvYQIR2DoarC87BVO+bvCMwT2nH5vW+y7Y2sg6ZWrYGR3jQd55dvLk4Wagnnk+cKScPuNoW1z+FHP4aT3u3v0YC0sXFx15qOf59aAdOJ++RMxOFOuAa5kfcRHP8xW/43Xk8icv2zoLOO5VfmHQ/+nLPJMZcf/kesX1lYL+z+YknhPp96wxzUQmRB75pl453urZayPQb3i+4Hlko2sJ/eK9a1xr0M5h96M27vTehMxgrWsF5kvmacYCm/7agd8Xtb8wZnm286DvcJ37uzpuqNftPOfZ+ZrPnQD39XNgBx100MHLDZG4vgfd8obgWwcd7CxebBv9S4a9b98te965Z43h3GI0XfoLffhxDzKpve/FcmufPThHH4/clwAcW3zsn5jR12JQbUDc7RSIswjxVQ3+gpoRm+6z5bOJGAOoDfPHMkYchA19iaDp80kXiB/3h9LCB6Mn53ixhvyzXcJ1sZ3dxK7wxEo8o3/1ciMpJpwLU4sJVlmQxef+L83H40bONCNW0osCFeKBWF70SomX9GWsXjeDFcb8ZgOlpauHkgsRyR3I2u/pgLD0pJ9zI7p5uxRHP6WV5x4SuR8uliJ1rVdxD6HEcTN3jOldjgiMRCVh8QlTpio0A7/2mdT+b9fJOmvuQRtuSVPD9lssOaK/pexaD9KDXOR3kNz3bZLbd0Hi2V6tZ82DqQhduYlr1nXbT0usW9Nt6p8enozkXL1YTEEUIrZwbUr99xTPSpT+Hqobrw5N5pc1i2vrrDL3lJSnH5GVC3+syRWMIKwVISha123F4hpq+6GcDN9Dv6byq+5IQWYmKplud2wg1XVNFIY1XI0Gir9KSFEIIP+iiV5z54oq0/9upLP2e9+3w2hOIwxivdVLc0bMNtcPRmWMNxjJMLr33923qsiCMNR7EpPnzn98uxz5/sN2vqGyJOWxz2mVrr5s7RQc+bnW8BFGvO9+rQOnWHAE4Vq/6JDotfK8qXBRqTH+UEXsfvsumy+aEY1rOwQ+hDPDGSPVKDeYecq5uTMDn56CkXLhTMGMmd7o1wx2tlOHpIXLS+Yxxi/wxnqMjt4YyMsgL4WQL560ADmt93Acps0A6RdWkfbd0WPuBVEuD949qmmtNxzZOqF1VSmctL/bRpx52OUx4hWGWv9RreZ6eWJNfpzB3hkA7cWeTRGlaUkOv836ehj0AU/4pwYT2h7r+zxrTm0ThWEYGCYxDoaNyZDjxKsEEDgYJHjZX7xM3ML164IHBkMMzBicGD8YWbje74DHaOMNYpCQnMvvGECcEX6173CeGdB0boTY3woJj3GKexHv1hu8QGVe1/4rILCagfH07B+cM9IAwxyumzBsk0+MYxsZDDEQYhSmrckL13iQbjUw0AMjeTDAa1kgbjAOcsyPAzPwck3ofmZMz8bMeOjIwJoZySGafXpcN/HwZEMZ4tWirYAqDRLOGzPHvjRu5BHgOvI8+fCUkbIQVJc+dlnmn3PuYFEaNcOTjBsBohH1EKQjxlUzBM84got0+R1Dr1NVOBIDMgHFCy4AIb3MFeuKUzdiQKtVa/acAwGACz4Mi5wDwcX1KLOagQHSuwFmXWGeNCO/1qWfA3mmoo+h5vP9uxnEcbS617xeC2SGcevp8k/sVk9wkGfGnwd9jrFHPWKwY8yRLyuPjnvqifmHdjz/kQs2t5MWcwBj06sMSYd28AQi85Un6Ri7jIEw3H21njVvqOl4ZgN8h5Txa3Y4v6wD3u06IFY1RC3A6Bk2CAN/j2ag5vJzGoQNc007QDihjqVPN8Pi2/35BeuTlBHSnPGD8RSFGcQP90F9ljuSNULfjy8M7d7Qul1QVgg5wH39phzyYc8mWn+oC3vv7LUxQB9FtcR5zAthIpC/qAnDZJcHJDr/PJgn6B/FqbXGWNLLHe228YKiH/Ui55I3/9fiKgbjCQ8g+9+715R5uL9sBQhX5gRPEGKgp18y9xvBp9fx3IH7VtLmvQfvAXY/bfcwWEdRLTJHQGrYxsujEHyOYIScxsVoGMyZzSQifZH1kH8ebLCirnlfAUbY6ZhhPqXcgL6d2eM8XTBHmDtYnUcYL8wRNn801T/Xzzwxa+ON9jn8gYP2XEJZ8jpXDbyq38YhfR4VoIcn9egH5Nd/53Pzhs1WcEShi23MsxfXMq/yNww2/fCcxlyK6pB50Y9h5gBbU4JrIL/qJdxTlm1+Zd71z3IezIc7GduQe1v9at1AzNoxXc+oq428Gbjr1vafqwX52EiNTR+feXLOEchBvpvB+k7/3wz0PdZm1h3mFrxAsGnm7B+etXWT9RDQPihdWZtnn5w1RXw4Hp0HaTTPffRB3quAPYfpnGLPc5COOsewBntwvFW+aQf6NmsLcyzPCzyjjX1x3J73rhTMD7ggvvhXlzQfBXuPoJ/y3EpIA/9MgyIS1/b2WefqVpt7KFu7ZyDaaPRzY/rsM2F16cH96XNcx7rC89ZGz347BfLKfBMmBhn7qAtdOVr3ectvKP/tQL9Escy4pc3oRxCEzNM8+7HpM3wPyr8dtSDns3kDUjKMjdqgFcgfc3C78nbQQQcdXO+IxBKSuu31wbcOOthZbP4m8AoBCoUwWQhqlYKUJr4glelH9AmjFhhT9RwM/rBids6ClKcfXUM+rZz6DX1g4uEUH/2rBN6LAZSGpmLCvR0qwiCf5YkvWfw0fcuy72Gg/uu/m7hXq+UfjOqLqJY1n9SXe16k9eWyBV/oXkj1+OADg+Zq0IOd3faSD6EXEHX8NUPasqas2cI4tHTi/5LqzBOW31rhlP0NA6MBPFoyFpd3Jg9LflHvVyEmWlT67lrrjrR44U8sDldmcFnu+Rd3yrt+4fVy31uPSSLp3IuSTvexnL30mrJQtI4WTq+rk6rlwx2r6e/lmW9oE7qXPcqRyp/RunC/++tRUyV675Hk8Fv0ZeIgM7Mkd79L/6zd0e3UgHmtMn3x1s+ZgfOSzE5IPH9Yr1n7ck98MtSJINF7l302V6SQjE3xDo2sCRGO7WDEpt7Hx01Mdms9RLUejMhzD/iVhTNa3tWHfeoOI8pWDAOV2Se1CUMvF9RPiHSqLZ61uiSOYrOKKrPHuWMCxE7snYlJulvbX48dzvdJMuSCdadQLzviEpej1ZnHNO/uJbS2cJa3DXP1GO+7x9rR4n4G/bNZEehB+SwOXQuVIYpFvaG+VEJSrjWOAYjniBA3rSzZUPoY1/a+c7fc9hO3mMus5nmqMv+s3vdcy3teDZZf+DVZfFbHZ9O4rM49Z3nFpW4k0WPHYoGiMAzGQSSW1vJe0HGs31NRU5ThatSrOTBA+36VzI5r+7uXQQxxfmxjkORFkhdKiAx7adQX1s1e3jC6YVT1RlwI13iIpPLxDMHwG4Zsdz2GLXarh91JhmMNeuB+zZOIGADDvy8+9x8CVboDMXyO/eBROfzdh6RrCEXmKkndjBpuPlv8xsaDVq6GPWLJfj3JKexQEXMuKmfGOgSmLgb2GzCyNKhzppfy5OcEVWNi19sbhCEGYYx7qV6da5NB26NArFUl0YORcm19XC0S+XgjT7QvbukwgmNUwviwEVibaGOuxxCFgcnv+Mfo4g15Fz5yUU786vOmZjI1DsQhbpAC478jFCtSHDsn86d6pLTQbcc3gnc9OvjqAbnpbx6V/nt1nsrr/LZCvlcJOg/KhrFiq7jwF5fM/R3XsFseIx2qLIytGO/C/RTl8dHvP2wx7+ibkIUWX3GmZK40Ka8/3xk9HfHYjNmnnJGROEXetSEGOm9g8cpCTxBgmMQlGes/xGnYSE18pPAOb0/8NRtrMLg3lIX6mXybe/O6Uxpj9MVtsHe5euEvLpoS2BRD2r6eUGqHdueEScURDHVfHjcCgDzTfhDXqL2YbyCqcN+MK+ej33vYCCJIH/IJMCgxV1HHRlDtyjTmBQx8GN4g2zCCN2MdMZhdSzQAp0ByBIV3f+jBMQyKGODo82Hl206AdMPtCBKUpdvlk7nWNmQEZTBSLTAuh69L9iXM24MnATyIc3rzjx03ksTGvvZv2owNIRDmtAFwqsLg2Ux/J/3mdmXdoI9S/34NYV6H0PHPF/TRhktp/Q1iym9i4VzcQ0IwUh5PQlhZlrVflDGilp1CLZg7WK84n/UF4/QpHaOUA2CwJCZf2ABMv5t+fHqNMsqD+1EmNtwdeN8+a3fnXhgisGrPvRBarKHh5182/UGS+nxCpDFOtwqnYFzbrywv+o/1js13Hox91gjmCcpi9Rka98zHPLdAKjbDkX8uLZu3tQxFnXvD5D75Zl6nTiEK8zd32zWOnNN/wV/OC7sa7bmtR/a9d69tsgqDtvb5M5We1hGgvBbHWMcm8xfxLOknrNmQf6YQ1v7gYzsC6oM1xc5PxIzgZR1hLOzRZwjWep6XjYBsIgc9jPANEdMbATKbOuK+1t/13q1AmmzgYOxAxBuh2TTOSIP+yFrAOBx6/ZCNvSPfe0iGXjNgecaNKvVBuRj3gLHMOoL6kDAQVwMjUjVfnhT04J2O90PGInMG94awpb94GFGnbQ9cnnQdg9DQY0amah7DgFSkzFcDxiLrJf9YvxobSoJ7sfEGkt5/Z+5t9i5A3+YZ1j+XXC24/9yJOWvndiA/KI5Zu3l2DhOWjBvGFmvVVvIE8VXQ+Yy1mPcPiyOt6zTtSB9mbDF/smF4/kRBJh+elKlHZ2T6ScjpWSt7GKaODD278Bzu1d9GFmnf4zmBvE89Nq3PPrOOEA5d0wyeZbiGedL1k2XbfHJSn/mI8RkeN9sljCgXc7ARp0/M2hqe07FA/FQ2K3likHv4NYF1iliczWDsXfq4c/nfDK6nzP4v9zv7h+fksX/1hLkQ5v0Hl7cQo+RnO2BMhYm/rYBrqM+wmtGXkd/auSVlzJF/5iu/maUVWM98HdE/vVLVX8dGrO3mOQzceLOpxYN0IbSpy/P6PuCxWX+g3zFfVYs7M3476KCDDl50RGMdl6QdXDOsvo3eiDAVlHtJjPfdp/8NDJoLqArd8cr0N/S/oQfR8oKRjBjKcdNnSrYQwXi1aKcUDB93yoi65YW/uB8xanB4AACXa0lEQVRtdx3gRTG8Oxz0ZDPi4xhCKEIKbgaMK8TT6Lu7117yebEYfGDA4hJoYnYOL8npgDA82L0iVdwpBsRRLVTfHoPLaYnWI3Ksu9/i6h39UkLS0RG9T3qNghEURz8ti0/9vBS+8l6JVB7ULFdkXzYvsYBI40XU4obF9eXbXLJWg7paWy/lqa/ov68b8YPaB5epmjn7re/2Hq1siJ+qpsOLrCsXccSI4Zbc8828udsxyDntCPbZA6Ivlr9Zf1xrSMGdYKSJ8MPtqL5JmSvRSLJfopndeuKqUaZBHupf4iJuBV7VGI2clD3vHJDB278mscTanZoo4bRigm+OvMNgFHbZBZGqbw5aj6vn1os+JmRFkrverufntK7Y2acvpSgPl87ri8Sc/o5BzB2HeNr9tmG5/xfuk4PffsAMp8AMjxDNu9Naw0uSi8cb7bhTMFIw6Hu4IIQYq0D+By4JUVzGe26XaHLQ6qy6BMnpXpy8IrAZuAitLF2ya5tRW0HppS9aet/m+I/AXNvGi/YSjirFEygYPve8a4/dMwwITOLeAVSeKDzDCBOcVwL6f/HiR2T+4R82t6e+rgDuSE1Bq3+tDwbkYBg+piFkZixRkuzhnBk1MWzhXo+/GBTDY9gD4yC/G3EY9DuMLpsRAyCaqOncU7d7EAeSe4aJQg8z5gfkK6oJDI0YQjEi8sLrXZmmTaHYvu/RV/1mC3NRTGzTFu0LiFVo46u6WpemSAzON5eks0/ZvBOGkYVNGwrCQE2Iqtk+4w5Zz3UkY3ZNPwEY9r3xNJG+pKvapCSH3qR9/Q4tb9rmu2gUl8W4g9a5TtwL+8B9URm+7+uSP/ic1t1q+UwdWdq6wnAj0Oe578zjs6amQ/3lj4V/X3NM23Hl9K9ItPw57Wdr653d5bhXwxiAsQDDPQZTjB6mGgsZqQExQp/65byc+/T7pHCmX6orq+0EiHXqYhY7rEyXzDhPv+m9vddcrQ7cR591aj3uEwZqPAyezcdbwUgzzT9z7+3/4FY5/rdusg0rpiALjFIozuib1AfGcotBzOYOrROMZ5QZwx7kGqoADKxgRfPhCAg3T0GaeiMnO9dNtaT39kY90mInuD/fAwMz8yAGQPLCjnsM3BB8GDXtb+gaSMjxL01YWmFgjPXGaUiIaWIpjq8YMYLqoPDCgsXNIm+MW4ycGOzzx1eJHgygYYKE8ng3oiN/PSrPfvg5U096w5AZvrR/Qa6i6IYAvPDnF+Xyp0bsOAbHeW0D4tjRFuxsp54ZO7139docTRujZOB8DF6UAcIPJSGkFRuUIBw8zEVmSInaCpCKXl0eBvMQawAG62YFIXHrvOLFkXVrf/fwxOJWQFmMfDg5b0bOZve+bPbwhASfu3V+x+jLfI4ygHZfvLRshmuMfuQbggUVF2QGa/2Bb9tvG2HcRpJuc2PJcc6HFEbBSd9F3REmHrkH/Y7NAct6D+7lFX3UtycyPdj0YQbe4LhXOjbDiD9tO5RWjCfuQ9sy3nA1iVIBt3io2xkTxE3jGhsHoQ1zGHPpD8w19KlLnxxpkIOMR5eO1omOwzC4FyQK8wTKttSA1pX2aYvji/JC80E/Z4Me8zigP+5+2y459IGDjWOAvLdaW5th5J/+s/h4TUpd3KzyD3ek6ZAqEDDWcRcKfBphsP4ydzWD8nCurf/6mb9sFmAuNsJqEG8WCVMW+viExKOk3MwzuP90rhYX3W/abzwoL+eF4xkC7uHXPDZB+DmJMqOcptxWnuAZq/fWHnOjyfeYpsm86d1kQwRA2DOW2XTkQb/BG0HfXX06Vx/X5+vdLeufvDj3m302h2wG+ix9mvsydnneoP+aa+PQ/Y0g7A2eAXRsMA/5uceTdIBxhIGcNiAdnu8hDckLaVN2Nlrh7h3XoMDfGwK051bnxt7Uf6G5bavgGuqKfPg5H7j3xy69d87qh7kft8LMpZSHunSEnVMcb2UN3QnQL+lr5JU1yROpzGesRdG0vk+GyAY8IjSrCY1c0X7GerETYH7E60Y7l+usp4wT1kvySsxK5p0wGA/OQ4D2/9B6wRiDmPJkJOsl31c0TZ4/6C8QKMzxwzpGeOZhY8PAqwasf3BPCCXWDe7p3ImOGOlHrGWON4MNaPQJP4fQPz05CBlHXnhGCbshZS5s/s7cTL/wz0f+HMY349yDvhxWLG6GMCkILL+65jHPsAGBOgT2edK1PSRjs8KQNYqYvm5D1Hoizefd/s67zT+MQ+8dw9JDdaefeTZjPec5eTNQn5R5uyQj+aDPh69zrkjdZrN2qlojDJs2nzSDc6g37kE9Um6Lh3vRKQ75jTFGP6BfMR9vF6Rj+dd/jD02neEZgs13rKf8zma6k7/2woYxLxkDPC93YiF20EEHHXTQwXps/rb5CoYp9QKiL5bZHbh8XF8lkAyQIACyEOMsSrM4riehrSAYm4iwK0Xp8sdakhF6E/2PuwduRslDdeEF/VvTh8tRfTDiIb11Hsozj+tPaw0FvV0Z2QOJpZ8hATG4NCubADtCMdxyzqv/7f1y78/dI7f9+K324s/FA68ZsJe/8LW7o1lTLzol2mqeXH5bG7r25fIWt7BnNCr9yzOSzhbsnt5oDGqm5nTXO5eja8uU1hdmCEMMmq1iF3pAtJoiEyVVraL5WlUcDr95WCv4nOUztf87jCjMP/DfJX3w+yQx8Bprd2+4bwfckuobsBEu/txY91rFILA4hpHVY8QwC7t99GrBaApisj2ZEIaRjNGY1KqLMvyaBek99g2tD2cI8SDOYLg/YHzOaTtjLPWo6/W4MjRSNSBTqysT2g1P6feyxAdeq2XLaF0uWh9cPv0b+u+39bt7CUVtB7lYGv2UVu2CGQvM6BZqT4B72eryOclBErSSuF4FatW1RAp1UplDIblsSkF9S9D8dEkUNae2k9VLUNZE5oyOsy9Z3sOozD0r1flnqYzgyCpqRX2x0+vbxTmEPE2mz0j+SNyRWZsApaImZp9LI58wt5KQQ8vP/4rMfOadMvPpN8vKxY/YsSsB+aEfcH158ms2j7iYlIsSSQ3qmE6YyhCiKZrq1z64Ns9OdZjVfJ7XF8K67HnHbjOyAU8EouRAaRxPs3vZ1S0ECEQfxiyMht4Qi5HEGxGakchOaHruRb3n8CnB7Sf3wE1ZK+M7MMVhl94jMGBCeIT7356AfOG3Voa/wx88LHf89O1rjKIonF382NaoFaedCrcy79pF67daWuvCFJgyeYubADy4Jpo9pHW+1ghZXb7k2jIA5Q2P5WjuuKSP/e8239COzEl2jpa5qvn1ZGaq55L0HfucdA1BbFdtvmM+sXm8aa7dKuqVZf4TfNP15Gi3uSzFNR4xtDCIDL1m0IxJACM+htLwMQzMUjmj/UzLGYwryAHa38jfUs0MLRhzPFCv8HTDbmOUQh4YZsyttqI4NaZ1t9aoZGMsNLZRxrDznX5E32HcxtPTOjacS87mXcuQWJBx3qC1EXCNi3Ki984+66uUmXFhBrwRR5KwGQd3rKxr3kgOyUB+KDdGHa80xLWgN2xhyAvnAUMsBihPQLKbGoOaN6xjWKFemKe961hgpLqup4AYcYwFxi2GJHbCWx4qdcs/xB5Gm5mnZ015EHZZxf38TnA+YzjCWITRGLWQqQtQXWkd7H3XblO07XrjsBm644EaL6H3JX+eTIao8gZp0kKl9vxvnDLVJpsPzE2o/mVDFG75WNsx5mPI80QyMdKI20g5uL8Rfnof1irmFQgj8gYw0NJfUQfGtR/QVzGA+3wBpx5sPR9RJggK4he2UiF6IhHiKUz6kbfFy0G8x1nX36nzVpg/OWeGr62AsfHsfzkhT/3SM3LhoxfNSIixPzyfYsjjGOU0VVawKQR3peRlRevYE3ke1B/uVx0p0GsEi3dFl9VnOq4d/fyYjHx61Azt9C8Xr3bV7Tb9AlIDQo6xQF+d/PqkGQZbwQiOgCwExJwNuyFlrnP/cDfeJQP39UvPcecSm77PP1MKPjOv4wbyBDWe61u0c4/mh/FHDDbIZ/ofRsnzf3Le/kI2MpYBBnQUSZ6U9vUDKQpBakpg7Wukh8qNuZhxSF8ljxB4jCfUzMNvGJZb//7NcvRDR2zO41w/HrcLX07uQRr/b3tvAmfpVdb5n7pb7dW1dfW+Jp09IWkSIDEEiCjrOBBwQ8dR4e8o4PwZEJlBHFxQx1FwZgRGHcBx/buBjmPEGRUFMShLEhKyL5299/TetVf/n+9z3lP3rdv31tZVvdT9ffPp1L3vfdfznnPe8z6/8zwP3nUbXr0+rL1ljYcjTYJbgmdzCq9LX8u/PJxL7SSnBKLeqktjmdFe3QBufSPHZBltkr/sg3rF9fbs6HGxCo9rcolxbzrob2rOazbowzBIJwM49xLhlvLlWMkjkn6A+4qoR77LevCcSp6M1C3E2iSg1Qs9muC8GZcMWf+V+sXa0KX1GH7upNdz2gqhjilb7lUCQZD3NKCfQtBIJG9UFw2sjXAOjcqNMiXfI2WS8o/lt2NMhFBb6+E6X/zY1gfUCobsj2fLwPUD4Zr3XxWueNflYfO3bfLnPGXLNbO+9+suHM4U5aB2n3xvNHmiHjwfeT7nYdmRBwh9PRbb7J6RTBQcdbGQ/p5nGSG160Fb5lm7kPOYC84FD2buC+2mFrz+U55NysOf9zXiInWdSS2cewrviXjy9Z+9J9z90/eEZ//q2WnRhr6POrXqip5pUY+JNjwHactMaORZ7O/9BuP0dDw+038/8KsPhkd/8zGfkMPxhvfMfA61FGP/yxiJMk4CnwtTNuZB9PMytzpSOyEE/Dx3xbEV/W2euI/quwN9wJ6/3ztjDDQb3LskTtK383z28ORWFjxvk1ch5572SR3Fw5H+nP6NMc3uv9sThm18wRiDPixPFOBm3st43JnlxDiWfoB9MCEqCoH1n3sJjh89BWdfrxaeB+yfviCNZcnZ6eNpq1f1vAdpc8krkM+MkfPwG9dOW+Iz/ZC/Z1n/xXHSOx7lyDM/7WuhcO6MwTHzcO95/u7+u73eZ9HX8wx4/Hd3hft+5YE5j8O1NxpbCCGEEM3Owt8GViiex6zc7QKaexHu/QIjvDBx6C5bUh2Ijj71x768dfN3hGLP5Ta6tJdhFxRPH9TXMn7o7jD82CfD+MEv110fz4aJWTwFEwiGvr3nSrNB6LFH3ROSXGLzlS0JRVpuL9v1ttjLczSQ+cU3gHXq/U4ooH5Ch+aMGOuH7HuhYC+ChDexbV1AK4bkGVmPjZNdVo42+LPrKQ4fDIPXnbSBX3Vd96bMibL5/I0JvALSeUwOk7PP7h/5u2rEm4kThCG9y8r6AduHDZRP7LJ1qy97bGNvBqFt6/eG7us/GkoD11sFKbmAx3XMBSJjrTcWHoa1BYg3IiEfo7BY8e920dmvVra9V9lKC5vhG70SSy5+uYhcpy6N4+GUM4pjtGLmdAylWC0r8nsmATAxdXyXvdCt8vPm5k54iM5n3Atp9Jk/tfXj7FI8ExGqEddqQ5MmOjJDQbDjUt5LTa0nJULeBOFxEQzdw3A8FDu3hiKeWlZmk6MHZlz/8KO/FsYP/LOVVXyxdZFxitB1USStBcGQfcaQpHGbPJ5PcfxI6Lm0y42CC4HzRcA9fs9PhJEnftf2E42rk0fJqTjTADIfophVvQZEv7E9fxOGH/9Nv3eJkvVx5f7rrUrNDEcK0euQ2cgHQ8eGyrR3IUTBsMU9CPCkKLUeseoS78WqHT0xBHLNBAVePpnV7F6JpULoWP10KLbGl/i23qetaQyHcsdI6Nr4nO1v1F4KoyHbw5LWMY5hnOIYhFpLHogd66y/y5om2xPmEUEqiXt5EEfcezHb99ievw2T5LC0e+s58GraBpwaO2i/PWZleNDq2p1WrevnVUnegTBf8ZBtosdnPJ9S9w4r2x477eEw8vj/9AkZ4CFWc7kIPYQpXokGnszWSYRy52To2truhr0E/R4hU6HYfXEor36p50ukfecFyUbwXIuhoKuMPM7z7mveFwN9DWHd8KrlJZ2ybRs4YX1KbHeErsLIOvRNq11cdHGo5bD9Gwurr/zf4dK3joWL//X2sOUNm9yQhUEY8cpnmR+fcI/3S//NJWHzmza7QTd6IE5YvRy3OhXPoa3vyVBqOxKG905Z/xWigGTrwNTJ3Xat8b4mEbJ1wOpj8YiXM5MgCoXd9h2vpNPDx2GAw0NhLkNVMlxiXMXjIhnImN3PZzyrxg7FfWD0I6QuZVYPjH0Y09I++YeXDd8x0OQh9B8eYNPnmYl6lB+fo6BYrYspPCkw655xAAa15DGYhEMMa9xLQvdhvIwCYbUMonee3e+ukp8rBjDCm7q30FCsh/yGaECu6Q2vWhf6d/Z7+0tGfoz3GN+jV2JVNOf+Ut4YboHcOAhZfg5HxlykICwlHm61Zci2yVCWhJQ8fp1Z3UgQXYE+A0M3AsLmN24K1/70NWH7W7Z6OL+84FaPRh6G1HXqLPNmEFfT9bgHH8KT9Y8JPKLyBuIkeFLG3Nv8uo3A4JaER7+Xtg3nkDy+AZGC8uP+Uv7ck55MaMPARtvJHwuhDiEIrynCeiehMOGiqd3DdL4IuevtflNXqCMYZDkvypXJJtwb7iOeJQicKXRpLdw7jpW8UV1AzOot/aELc3ZOiEMpNB7PDJ7DlBnHoN2MPm/XZMdCnEWI5/5T1/qu7HVhi7DWQ7cMWXlU3KMGgzHHRnhOdR5vJYRloP/x/Gt2TUcePBoOfvV59wbCwEs5U7fJpUeuMsqS82FMTRlS5ghotIkEy30yxCLAoMw1Ui6IUbS9viv7XDSk36yFZ3fyMHSxLfs8H6gzqy7tdi/EtA/Om/vAsfnsE0EMrpPrYizIhAnPlW79FvnLGZcuBMrV67/VZ+D+cR8xFkcBrNq3cd/os/z+2X2j32Lb1G/mvRaZvEi4+PlA+G2un20R9bo2d/kx5gLPHtoh9ZR+mrJIAiUwhknPa+o0Y59a6Md5dkTvxPqCptc7uyfsiz6E6+a43uZsG/ogRMXFkgTDWtxj0c6rFiZYEKq4f2efnweGf/ol2kwttLF8mFNCGrLNfEEc8XCYVi8SCPVHbRnCTxIL8Zynba66pMfvJWFIG3lb0X8g4DEJJXmBnwlcD/0dzx1EtLGD5Fab9H6Ff8AzIeU3dHHR6nj+OUWb84kd1sbZX7revHiY6jz/mORDGxx4Qf90H0od4Rmd4J4yaYHIP8kbjGcgYW+Z0EQoZfoqJkzs/9JMsYyJR4jmjO8Qd2rFzTzUf8ZBCGw8DxIurtm5MrZBbKQ94CmO9zXlg4ci4wD6ONov7YAci/PBQ9Vn+6Qfom9KwmXekzA9twjTynOBOkP4ywd+9aHwyCce9VCtCFX0Q0eYyPVgNTJH9E48/b0wMTESw6ImuH4mrkQhsPF2wDOY685vPx8o0xgatOpVSNlRnl7+ORE24cJntjz/GfhOH/TM7c+GXX/wZHj+rue9P+A5QL8SjxPbCONn2h39JH09uFg5TwGR/sGj0tjfE3avyaVNv8Fzmuc140yiF0AaR/C3HvQjTCxs9LsQQgjRzDStYDh5lDyAVQGq2HWJCyCAaDf23F94GLbkYYTAhIEdYQQDb7H7klDuf2FosSLkt3oCQi0YkIcf+x9hwgXD09dHUIz5FE8ftPBbrUcd3l52JZyw/T3lAo2dsP82Fz2V1jDUTpjMGEYUI2AKcZqnrT8aLmZz/lpzyxofXCf6t60Kq/bbi/lJhM2Y/48duFiTeXDl2fple7l8Oho8kzZb6bRyzgQGQORr5J2YYKCYXsxPzeJhSLhNwgq6N+fkiBv403klz0TChNrOfNliSSFF/XONGJgoIxZmeQw9NGn2GVqKGCgKcT8LyO/H+og4tfWouOoq22drOOVCWp2BcZbvzz8evs/q01fDxNEHrVCimDfy5B+44NXSOhTKnvcvGiTwSrORtn/OM/bc7bafe6e3r6XQXrLLet7K/Dk7bOMXyMVC3sJ0X/nsgvzhr1uVxPgafyu0rQ5F8rrZvYl5AuN1uDA0eiCcfOTjIeaxtJfcIw/4tuQUTLkQ87jQZtdxagRPw9OvB9Gl2PpA6L2s7EbB2cgLei4S2fmNPPobHhKT8u+85mdCsXNL9JJl3QWCQMg1FFIeQrvPCL7j+//Rz5NjUhdLfTtDaeBF0+JWnhhGs+jbFkrDtn61k2B2LoIbL4nJAI3oVyyNuDEsGZS6Nnf4S3oeDF0YGDqH7gpd63aFYmXMtn3Gj1FssxfM4pdC31Wnpg2YCEy1+wCMXxgoYi7DrB0WT1pXFOs+hn8MpRhXTj70ERdMG5Wlh2996o/CJCF5G8C29FGIbhMnHgsjT/2x1blnrV49Y43kpIewRuADRGqeIe7hiniYCXpzgUhYyPaRQNAb2/u5MPrsX7iwTJkX26r1y/ddmFnfCuUDdr9G3KPOKm62tArPuHL/daE8+GKfHECoVbtA/63WCy/hoUsJSZxj4tij4cT9Pxcqbd+we15wgzGeM+RR4plDnqXurcOh1FbtIwjHh1iA0Yb72tqHZ1/8DSMpnht4h+D9gjGesF0YvzDmYMTB0IrxivvPMaCt94CVyXBgEkvfRfeGStd+e97EcKOE8iTvIcLbxJFvWBnGEFAYtQhFVm59Jpw6/iUrpv1+3cXKIav7UbCpZ0RkdjiGntlwQfDwmBvVEfASCBEYUFzAOzbuIsjgC6MXP20CXAjPrquWIw8fc7HDjT52bkkQwtBGGWFApN3gdcP+MQ5yvCR21IKAiIcjsC2Gc9oShiSMQ25cPzExvd8ERsjkxYch041xncXQs717ej0PX273iLDUTDDAaOwejF2lsOala9zLxY+f2q492zFYxntftrqFyBXzT2HkpT1j3HUjqF3PyWeihyHnxv4xWiVjaD1qvQOpg7UeVH4Odi8YE+XBO2Pty9d6RIZGJE9EjOZcVz3oF/G6Hz00Pm0ARpijPsWwpPG5Q11P95bPGOG8nA/hITNTXEwgVD3+e7vCfR++Pzz5madc7JrNcAv0xRjNOWcEBbwFyQfOd+ow9TQP5UAZYEDG8Mr15mEfiLYs79nR7V5FlCXiDO0B42gS2/kdwYjj0DYxhvIbYsls93E2aDtpjEgoSia1YIBGzPOJA5lnIXWXY9E2ODcXtzOx2cW8zNOGPor+jGtFBMfLBLEwbcc5U/cRKfAYYh3aGfWXdsB6pZ6SPTeiQEI9RXBqBGVVW/fmAk8h/rF/6gznTzuh7/X2xjnYv1r8HO0f5HMEzgfKivaWyhohnnpD30175Brq7W/oJavdq59/W9602ScszJck8NGnj9s9xdhPeXIfuZ/UmeShl0jXRblw39yLePdJ6zsn7bnXMr0PnivknZ4PeFbSlwH9W7v1mbNBXWI9n0iRCZvUe+p//r3K+47M69C3sed8IoYkLXu7pz/2ssj1ZbX4+tYWydtI/8mx0zKOQ7unbtQT+OaC/jttx31PfUcjCBfPxC08+ViXPsnFezunRnBtiKIY+MmRlgT6ueB5cPzJk15GQHnRPvmHUIlQyOfkpZ28LOnn8M4DFwZzx5s4wWSHhQk1s0F/n8KFsl9CN9/9wXvCN37pfhdFWEY9LXVFT2Se9YiGHv0gNxGFek07o/778zgTCBk7UK8o37137PeJGIzd6bc9R7HV+ents34OCOm79pahsPU7tvgzEJhEsuMHLgpX/dgV4fIfvcwngOCVz2SK/LMhjsNju4d0TvXw67BjpUlPwDUy+YLtXHiz5dQVckszgQjwzKefZdISwhzPk6OPHZ9TBOL5ybq094EXDYYNr97g48w0cYPfEbdom+Q3pPx4vl1s173xdRv8GXL00Tjm4hwY/0FaP4G3YAptywSTFLY0CZNJfHMvRrtX1E3qIc++lEe5EZQJYeBnEyTrwQRNro/2kCb/IBxC/Hx6u/J1c56Hkwid2XqU42G79/4svOeQtxPGZTwjp58lVq8QCP2e2n4oT+oHxDJofL/YJrVNPz8rb55rHJ9wojyPCRXN/tO+mKiAhyPie22ofKAM6HPiPubXjwghhBDNRPVtpMkgPOEp+691/WvciIt3IWFJ7RXBfx/b/w82SHwoTB59iBGFL/MQpvYZQy8CGAZgG2mHmPNwpuEw5kGaKb6dcq84G6CN7LZfTjc0Tuz/4mmiYD0RrxaEQrab9JCddfZ7GEEzviAlVrd1hvZS9DBMjD7zJ+HIP32/XfsXbT9xfYxoDPJrvYFmA6Ni775iaJmK27Ruus22b7MBHAPp06+le29LeOyTj3uYKgZ/eBJNIYZOxbIgH+GpsRhyFW88W8GW4cnSeGAZhb+0ffUzuLeM34eqcBY9EWPOPsoSkbM25+BCyXskFkqEfz29DIu9V4VSPx6MpxuB3APRrrVlnp6NCfIY4jE3ceCf7PKqLxqlrq2h0L7BXlqet/oZcxE2YvLIN8IpW49wrUnMI8wo4UnLds5JLJw8cl8Y3/cF2xUDfwSkQiiSKw0R6vgubz+NPAy7McCcej5MUG9r1uE+TFCvXfg8vU7PBzwM8fiLn6thQieO3m9tmXC0o1ZWq70+Ib65uFhzLLwKR5/4Pdv+oH9mm7yYl4jeh/FFK3+sPOQ/DOO2XmhsCEmQSw2hkrIvD90Sim3rrIisLOx752X/LrSu/VYPT0mbd2E0V78XQrl/p9czck96ncjuQxIpEQXLAzd4H1mPYs+ltk7Mo5c/B14OixjFa4SNUsdwWHVpzGOVx0MfZn1MxxqMH1Ohtffp0D5wn7Wdk/6ZXJyt3Y/Z9xNuZMLgWnvcPBipMPaQNyt5dJbbdlndRBCtHo99UFdP3PehMLb3b+M+c0xYv3/83p+2fvYu26bSsC1ODuOJd9LFxUlbl32O7f28fX/K+5Ty4I1h1c1/HPpf/bXQdd0vh1LPZXbh8zfC5gXHBO05ibmjz/2lHxswdGD4K3cdsDKovgRPhyTtJmeQXbvV6+RBi6c6gl+h0h/veWXArpdct6Xg4UAzL8PxQ9ZXZp6Ieegrouf3zH5lyrYdtjbUvnqv3zMMQoM7+/0cCft2avgfbf/P+LosQ0jykFCDbfZMLtn61nPWKXKeM6yHMcVnno9ZGbP/ivVBdgzCDiajamvvvlBqPRm6NuwPHWufsWsfDuPHT4XJ8VMe3oqZ6IiGRx4Zs3Zqz5vxY+H444h646Hl1KP2fPiit2uusdDylHsYEooJo1YtHnILIbPOb4npvFoDdo1Z3YQYbrToHgtp+x4XFXOGuzrG9hRq9MQTJ9zDrtGxMUwxO55QaxjJ8QjIG9FdsOysng8GyCRUAschTCrGlbzAiDEeAx7GH0C0wmjEMTDyYQhDKFjz8jXhsndeEl70K9eHbd+11Q2Sbvxeg7dTFHnzcHwM2eyXvwM7B9x4D8yOxyDk3ov2GZGi76o+rxMYLPGa4JHL+IX6gGGO+uCinPULtd6ELk7WCFy1+Ez5zOi5ULgWDKyzGc8pR84DoxwGMSCnFwYtDLwppxUG/rygiIcJgiC/Y7SjzGuhPhO2FkMlwhYz+Snv/PlQNogNCX7DkJwEAMoQ0YJ18udYS9+VqzyndD1ot/xDQCIHJHWZEKaM/aYyEdTvldV5DMd48OBZwzXPF+4z4mUePApd2LZ9QvQ2jGHS8FzE2Dtp54BglLwCaZtJiErl4vvODOm0JcQhvmMgJ/ce3qBMWCB0Ke0EDw4EyWRIBuof3phAeeJlyDIP2byxsTDlYUJtXSa5pOuYC+9D7V+C9sA5d81yHGA9DLDp70LBqI5nNNsiOtMfs6+ubfbu0UAIpIyTZz9eRpTJfGFb7pcLYNYGPKSg3SsXSm28X29f6d7iRYTxmrYxvJ/oBdELkwkrTFKg3S7kXBK0L+9vF7AtfQBtzr0za/oK+kDKjnLMj6Fon3kBkX6sdoyVh0lcPCfpLzDAU14+Xsi24Rg8G2iHC4V9I7ZwzfRlXAeTP2r79kQ6Vx8P2L3HSw/vLJ6j3APuYy2sy31BFNh/x/7w1J8+Zf3j7GIJnmGs42KkPTMAAZFnlYsg1u7duzALS0pZuGiaE83qQT/M85pnUW3Owbis+izmOHOJi5wbXnrAfpnYwTb+rLNxA/0MYhuhreln6NOAiVLrX7nOPwMiDPWEZyDPiBQOk3qC5zJ9N/0VOfSob2teNuRtgb6M5y11yrfPYBxAfaTf4V7Sd9d63fr47ZJuf/40EgTTb4xzmGiRoiokWN5m45A8TA6qDUOaoG/jPMetDvPcpy+nnKgbJ+1eI2A1gnUYp5CLlzrLOylhWQm9DWk8g1i86w+fCHv/cZ/XaQRT2vWm128M2757q39mXML+6Gs4H9qBT96x+wZMZJjhQTgVxUEPBXt5j31GmIwT33zMZH0SzxIP7ZkJp42gjxu16+dZlo43H/yc7Bnlx8xEyryHH/tlOfU2hSdFYOMYtFvuN69f7qX7yNGw94v7wkGrUwnq2uqXrPZ61ZE9byhTxP7kVch+KDueawnKidC2CMC1pHPiFTxN2GPi2Mj+Ye9zmOyQ+hrGgjzreKegbI5bfUhCYiIKj43Ll+sVQgghmpmFvw2sEFI4OUKRVoZe5t6CGF8RAj0MqY1Gxp+73Q29MHX0ERtcRRGw3HedjcGj8YDQbRiJ4/6qA4vJkT0zxEZgGeuQK8x2HBfmQKTE2IqnRtoOMYXwqNFzY+Y2KTTpqcn6omLrulfZBc40Kow+9Se267HQWrRBtv3LM/L0Z8Lk4fvC8a/9v/b5074euPfOTNvarDDw3rCuN7SMRW+95GHoBukaYzKGo67DiIvRCMbgrLXnObumak7G43f9eBjf/wVGiv4dkidgPWpDn7Ju8gBNwmAtLozhUcp9tHU9PGgW+m8pqA03mmi0HPB+s9F19m3+IE4GDxe6y8ssCXnch8raV9rfjjD67J/btUbv2dmIomq8Z+lzoXObn3Ohc6v9rcS8d1Mjoeuanw2lVVe596G9Bfg2QBhTeyPJvlXptJeuU8P30zCyJSEMP/zRcPjzr/N/R//5B8MoXl91vPmi6Fv//ieSF2G6/oSf78iBUOjYZOcfX4hddKHM8Cy047H/1PY9b+nE0ZByCqbQpHmmJmyb3PlEL8SZwhNE0fV0Y24teBq7Z2NWbpX1r7aiHggVa9PFnku8/BGcuDY/Vo3INRvkQ/QQxlm5k4vQ68wiKHjZFq1snp7eH7QPxVxVPdu7wlXvbg0X/cs/tna9O3SseSYUW6vr8ZLILO7B6wenjWPl7oNh3S2ToWNoLLStejRUuveGUuWk3Z5JDyXZUhwP7QMHA56HY3v/xvvN03JNWt9b6hh1Iz0GFQSDqRNPh2Lx3lAonPDz82WjB2Lbpw+3fycf+M/T/SogqA0/9F+832jd9KbQtv37fSKAhyS1OjED7kGqM3v/zqrInjD63F+4l52tbFUNAW6mIWShuFdiTjSkLbdu+BehvOYVVlfGg4cbHj/qBk+MfQhbxc51sX4b1KEW6rzV1+5t0SuMMKUp1yq02HmW+2+w8+0PHs4UT1LaROatiyeq180amIjA8aesH4W89yKidseag6HUOWFFEUVj8mYx85c60NofQ8US9jKJzDwbMCRWeobtXmUv+LatC/tG53q80crh2K5jbtDB6EHYq2Tk7Lum140SbqDousuO8Xzo3vBoaO3eY81nOIwfK4bRA9VQY4SXOvr4+jB+vNX6jmioGztyLHSueSAUpr5i13PYz71YPmxlQm6h6GWXB2Oe582yvxi5GsHvGIXwIMwby9J3DBrsGy+oZLSqB8YrDHl4vxCaFyPU4W8ccYMLRjmOAYTrwmBIe+AYGHAwCK99xVo3qFAPAG/CQrHaV0YBMT4H3bBn62FQZBlGTJ/hPWrPSwSeoSjGJTCWkavSDfYTU35vMQB3rLP7lluP/fW/oK+hQTkdj3uNYQ4xAa+fBEZgDFqsN3DDgHtJIIwhMkWvwmrd9pxiA60zwpoiNHJeGJcwXiU8dGgmnsbPJZ8tvxjxJMF+OE4jyNdIOGG8VpIYF4XCiSgEZsZnyjSFLEXcQuig/lL3MHrXCnm0DTw02I5rRByhjtBWEFmSeMo15ssgXrOVmZ13wpchZuSW1cK9zG+Tx42ILx4MPReTb7pg+4uinAuQw/H6eBYgWjD2bCSAzsWWN28ON/3GS8KGV6337xiivb+zYwLGRUQ7PDgwdmI8xViaxIRGsJ0LaQg727vdS51+BsPr83cf8u0pMwQzhEAM2OwfUjl7fcsMpNGrsBwGdvaHNbcMTbfFemCgpU0S5jsJjouB0LlMupkLvIow6s92TnPBtniYIEpA97ZuFxuWE8qdfg1hhPvFd8q8HngWMbHhxDMnYsjYR6tGas6d+5j6isVAf14r/DWCviHft9WCgO7iW42nJO2IMU0SDV1AbNCfAs8BzgmBnv6TPob+tZy1WfbDfV8sCJucA95XaTLJXNCm6Ffw9MMzi3OiL0K4S8KhhyDNRDly6l3xrss8HyNhSrl3s4FnIPvOewhGb8IoziEaIFCQ0xYPMPoJnyhQmb2dxRCbUahJ/TO4CMlzPici8n3fF/dNhxatJXpAHrcx3Cm/R+yTvp+xKt/Z57FHra+37akntCnKl3u15ptWTz/rCCvO/WRiQYeNsyhLxDTGBPRBjIl5llLvW4daPcQoYwngmhFK88/NWujbPTet9dF5qOv5yQDcd0JTuxDp0RNiXkQgpyF1EKETkTHBeIexAhOqPKzo1w56jt0UXjIR17N+0K4HcZQJHwe+fDAKwpkwxzKuG7Go1vuOfv/JP3ky9tkH8Qq3cxu0MQwCZPaMR4xk4hqiHfkTKTeeJ/QrwDlQ/6589xVh6GZ7Xzd8koFdM30Gz+JGQmetgJhEuwR1IYWvzguPwLo8F9My2kSth+Bc+LoHYjtIIpzv1561LvZb3eE7Zcjz68j9cVwfRUYbO7CO1UHO49m/fDY88N8e8lCk1Cly/RIqFqGOsRb3KYWmpk0juKb+hVdz+j2Oh/2HMKWPfPLRsOfv9vj4Mo/XCSsTyoZ7mtou5RDPKfNotvOij6S/5P7Qr0ziYWjjHq6T/OEJxq+j++z9xtpcvvzJw/jV990ZvvTD/xzu/qmvz9hGCCGEaCaqlqEmI4py0djXtvk7eePyz3migBeNMqcmj0UjcZhykREBDPD8sS+ZUbhqPJw8+kgYffZ2NsyWVInecTMNjWP78OqL6065J0f8nfMktOPEEfLt1RdIJo/W9yxsaV9rZ1aIwlB2bqN7/q+HW+RYV/QNhWIhVoHR3X8V8CiLYTQLLu6l8xl80YC/kC6EDev6bKf77SriPkq9L4hlXOMxWaxMpqL0gWSlZ9S+nwoeOtIN4Pe4GOGhEhE6N95mg/TZQ/xEz6z6xtpTHnYzd/xMGCQ/2ZE7viuMP//P9jthVDGwL94gk4ihTRu/LPO7Cz91xMnkoVi0e1Lv90YUuqKgRx5DRK8Y6rTVQ5K6R61dG/nG6glxUaSc/VglPAgLbb4fvDAR18jnWVx1eei86j/ay6rVoRzkOawn0mL4CGNPT/+GIElYSLyUEFc4jykXPU/flvCQR7/8ttNE+QTn5Nta+RW68dSsvvwimhM2MomEUOq5wutV8g50cXDS6mKRWaP20n/gn61O3mef48sY4QlZLzGZ8zCE4V2/Ew5/7pXh+b96odVda9u2bhL2CH1aL6RjgnOYOHKPrRNFwGLHllBZ+y3e77RterOVTXwxLXLOdg0Th75m+60Rr2Zh9Jk/i+dLX2b7KnZdbDub2aaiyDq3WF3ozPIY+jXNrE8YTTEEex7LTNDrXvP5UGqt5hXhhRMDPqEqWRemTjwVerY9H0qdkx6KtNK1227TeCi2HgvljoOhUJiIx7K6Pb7/jjD27P+2MqvuExFw9Gm7x8O7w8ALB6YN11O2TaFgZdoy6QaGUxMHrW/9Sxdn07lzf/BAnRo/5p9dHLO+kEklbVvfEut+TlzLg5cc24D/tfNDcBzb/dmsz6+P59D0/mZ2iu2bbL2ZRry2TW8K7TventWLoTBx8J/s+veF1n5EnNjPcS9r+w+8Icsd1s4q47ZdzGs4g5LVB7ahXli/zfOB59/483f5NTXKaziFx2sWlnTSniepvUDXpkIoFp/1/RQ7xjwPYQpt1b56NHRfhBG+NRQygaww+cXQcupZ2xGer9GIO0mI16wuEVIPwwCGHAw6ySMxkbwMu7aUrM6NhNU78cyxPnHiWKhQj0oxHxJ57jDuYJA7+uzOMLxvKjx/19NuKOle943Q1nfQyrDFhWXqRqG4O1Q6j4bRfTH8Zz0x49gTx33Gdz0wUmJkwaCbFwsTGKjTzH48EDG2NSLlJFxlfzHQIH4hDGK0yYMhM+WjwaCHQWvdrWs89B2CI9eHMWz1jYPTHguAgIgBjLbJOoCREOMPxkeMVMyox7jq4R5LLW4g4hguWB6N4dow7jSCcuc+ta9rJBhGg3M6fiIJhe6NaX85b54pGFFT+KsU7jThhlAr2xhuNC5HvMAYjRCWz9+IkSuJS3gpI9awXtr3QuGYiODUy0YkwQ6DNt6tbsA7UhUPE/H3WL8wdOO9xjLWY+JV3nANhO3DOEmotRkepb0VN6YlY3E9akVEQLQlNyxgOPTQg7Yv7uVceFjhm4ZcfAW2Z3yJMZC2ka7VjfV2XNo2QmjCl2fPioXCtj4BzuB8a4Uwyjrfnsu+/unXRF1AsMDLCRDrk1cKzz0EROoX4UUxyhL+mOXJexDjdLoGxBDG2IiFKezpbGDUTv3DfOBYnMu0KMw12b/5gEcj7Yp9LAaOM3TjajcgJ7ju+R5/sdBndFlbx8uz9/KYW7nRNSCK0qYxhKd+qtRWcqGK/pn+DHFluaCOp3PDm21Woc/W9TZcZx36SJZzn2lTs0F7o3/LexgyTkp5DzknJvP4GH0R0MdRfj7Jw/vkroYTCBIck3ImXK6HB7T+rGNju4ctRtRl8gyTI1IOQ541THqh7SB4PH/PoboeSQmuMXkTJm9lnv1JPGQCBv1tEulc7LRzrudhiDcb+/LPvg8mGZ7y80i4WPV1JhBk7wy2f7Y58NXnw9GcKJ08H30Cjl03gjU5JAeurbaZ9J3JCEcftm3tMLRLJv/wvEMUoY1Rj6j7jG/pi4kQhHcsz2HEEo/CYHWaMQbPaMYO616+1p+/CeoPfUxe+KuFutZ/Xd9pYXr9vufGNC6+WV/Fszv9lvIiUv+oG4TyZpwOfv5Z3+ZC1P/ZHR769UfC/i8fsOUV91hO+4+ehXHMx9/kOcYzBA9V9k8/E4Wlkx4iM5HEwn13HHCRkTEkdZXyzMOYBvGbesFzgTIhv3b+GoH+xb3kbDn7waOaZ723L3v2As/kFFqUcyWMKGIz9yk/KYHnH+Jm+ptfluB+4ll7wMolnZsvd4EyHm8uOIc0JnRx284z/h32Zz7RPzgu+QGZkJfaHaIex+TZyYQZ7hMRC6g31EXGBhu+dV3YctvmsP5V0eM1CZDAKzftKnkc0u7xBAfq994v7PN2nDwZa/GyyHlBJuIxYh9DXWtb3e5CJN6b1CnGuQiQ1AfqB3UCOAZe5bRdnv+AyPzobz023U8g9N//qw+eJmAKIYQQzcDCVKAVSKnvhR5Wz4Yx/t294TLy4UAR5cafv5PRkgtxaf1Cz8X2sSVM5bwCAa8/QnsmL6U8Hq40J1rBBF5MmchFyNJ0XMKY4uFkbyP+vZYoNNb/zXPg4dl3/DFbx16G3Ovx4UCIPb7jYZhMcCOP/7YtGnUvGsSVtA2QD2v88NfdSJyWzcXai/r9hQtKfdfYYK7XxUsEwNFn/9JzOWKknzj2gO0ynj8vwhe94U9D14YH7Bwm/XzHnvoTRoj+mWO3lLk/Vt45r8Fa4n2r/kaOQrxDCN3K8fLlRZhABIDoYWjr7L/Dzms0FLsuspu7NEaNuUTDvHBVC9u6J9wCPA1bigzEC1ZG0SOwmAmI/lvrmlAZ/CYro2MuHiej/+TxXVa8Y/57S02+xGLmSZg+Fyp9fr4ImXbyvrxMnrtiux+r1L/Tfq4aNPAwrBUM3cvP7uskYf7wPLXfEcrwQK2seXlo3/GjNsCPL5G14AWINywhS4/d837bfmbbg/Hnv+LX757DDcSY0ioEt/iC2IJQamWEmO75/TIxsHXzm+16B8LIrt/280sgSqVwpw7hdq2tl/uv9z7Ew5dmYsnYvs/by0gUUWDKxaTG7cj3nfN2tbfeUGhbG7qu/qlQtHNOdcGvrW2N9Q//6GVoB/HlszH+/Nes/9ljf79q+z9q93swlBGUrc6UV99s1xq9Dgh3OpcwDykHYsxxN7OvwwiXn2jQPvhoqPQ8Z3VjZn/VQ66qbV1u5IBy21dDyynyncaX664191tdO+rehe39T9htGrYyOuhefIhPY3v/3v/aW6yvP/L4b7pIS/+CQJBEJMLQVroe8NCmGNZOnbw3jO7+rIcatZvufQF1DhEaL0xE6XHETtsvnrlMpsD7zlaydnPSlp/et+fx8su120J7fWEwCnrzaN9WV0s9l8/wMPT8h7ZPchuyHC8/6l2p8rjt93TjGecQsnMoFEftuNanznJ82mLrxjd42Q4/+hsusFKXJ8cO2XGqL89MmEEoxCO+No8htK56znqku619ZZ6zti39PS/0p2xffTvuC5e+tcdnumN8wTuxpXAy9Fxs9bLGqJ/AOIMhgBd+DBitg5VpMSCBl2HPxRirJkPX1pNWh6xPNFpX7bdlx+Os+30jLqAN7mwNxY6ecOSR9nDwrpjPrGP1w6Fj03Y7p3XeZ8UcqMdCz9aHQ2vvQZ/9jjBWC8tSWKxaEG4QRwhtWXu+gGg3cG3ftBG5FvdCzPKcYcDC2ITwSm4/DHl5MEgl8ZB1KUv+bnz9Bl/fjYP9re7hd/G/3u5eOUlYSFDGiEoYkQDPUPbD9XEdbI9hjr8IIggpiIrkEsL4k8I91YY7zYNxr9GkJAxq7C8dH1jfjW4no+cdZZX2zbUkMYvzTgZI4Bzb18QwgQg1GJkwcLGM4+Ddl6BuYswCfscji/NodJ7zgTBys4lqHMc9f8ajV2Y+DGk93MC3+6Qbmw/fd9iNwpRHPgwesBwjG7P6V13R68cArh/xC6Mon2vvfSNouxiLKR+vfwjPtv18yyZ/v11ozAyw1CeEm4SLlTVtJAqYjcuwEQgY1IX8/jCM+/nb86fWCAzFOscHPLAwsmNUBdoSIVZZl7JguV+jlQmGXu4PdYf7C4RHTW2f9kgON8SP+RC9DBciGJY8vzfGXUhhVucDEwN4hubDxS0EjoOw0ci7bymhT0rH8c9Wr+gXyUuW779qwVsTYSAP5809YpxwJt6F84FjTfetVq9mOx7thEki9dZhIgAiBfU4te9GEFY69jPRq4a+tLZ8aNuNymwu/Jqsn0uiG9fl0QPmgH6l57KYkw6YyMAzjXaTPFRrQZxBSDr60NHw5J89Hb0EM/EvD2LAyN5R/w3DPyIUXmu16yW49trnKcIX7RrPL7yp8GSnjwb64iQOAs9H1psai89fJrbwHdGQHIWpjyaf8J6/3+seTISNZh3KYeCF/d52qMu0XZ6fCIqIjYyt6Tc4x9VWv5lsAExwyZcz4S4JG4ogeeSBo3ZOY35P8DpEpNvw6vXT2yZo8/5MtP03gj6FSAG1E01S2FLKCBintK+t1tUUnhgQdajHeZEOr0P6tvwy9ofwdMkPXWJjo9WzPj/z+JjEygxhjpDdB7lX1hdz7/FeY7KXhyJ+jugiU94/1z4DuB7KH3wcUiMo5mG8wO/Uffod7qHnFsSr9I794cGPPuR1AnjGuSdkjTcgdQgxkzEtbTIJZsmDMIHwSz0h/yT7SZ6KLh5motdcJJEwMWb9wOH7D/v4gQkviPyIdtRvzslDo1r9Q7DjL8+2VDbcs81v2BSuft+V4dIfucTbKv1H8ngGrzO2X5b7BKxs4lIUk08fN8QwozPLZ8qOjThPuZAOgHFNIn8+9N2EluXZTj1j//TljC+IHEIY3pF9cdzOGJnryUOu0GnjWAbjFfKdCyGEEM3G/N7uVyAuMtTJI5jyEtYyNWEvIZnQR0jStE6x6xIXwvIiH5yydckJlveAivmdss816yNm2QjRP7NtWs/zu80iLkz67zkDS9+1dg2XMgoLretfbS/DvS6s2IjYPavC1KiLC7VCJudT7NwW2rbgbVnJBMO4DmElpo593b07bE1fNhfMLIwhFeM+SoSpbCmFE/d+0P79xzDyxO+6V9LE84T/qw5wp06QuzC+SBEGELElLzaRw5C8fjEk6cxrSEyyD7ve6C1ZtI82ALfrIdzgJGVh+3ehsNBq+3uBl1fMS5mds227VLi33XzEgAYUEP8aiImNKHmOwapBqdCJh11lenll47+wetEdxvd8zssGYn7JBve2FD0J/eOqav7C8ppbQ9fOj4TeW/40dOz44RlCBiShEQ9De5PJlkaGH/+f4dQYeQF3uWBAHZ8gbyJeYK2rQ0tllV8351crDI/ssm1H8frpcG80BLNab6fxvX/vghuhGltK1fOKnnN41NiLi5dLLKeUy5D6dvzOH5vuH/Asi0LM6R6Fee+pyeN42I1mQpuV8bpXh54bf9v6h+0uPuE5mULAUu/HEGvrCCsweQSPPHtBs+3whEzEfVdfwDwc5frXWhEPuDf01PjcIVPc28/udd7Lkf0WWvtC+8U/HAWlBeAeb1a/CQFaew8wnPLynKh07bP6PBZGn/1f4cR9Px+O/ON3h/FHvy20tf5OKLfttRdJbk2L3dsD1t885nUBOtfeF8odE6Gtb7fdomyGrq0zTtjPzLNw9Mk/DEe//EPhxDd+Oozt/Zz1D1Esd0NhJrxQZ6iHhMVs7S9ZP/uI9cn7XFxkPy4Ktq7xyRHDj/1GvCb2M4mQnoXyzMCbkHyBTLJIuAd6ztOTPqZ1je0Tgd1IZZUo9iDy1TeC1aNY6bf/1TcU+/kx8cHqLaJ38dSXQqHleXvJHbV6vjYeG0oxJyGhPVv78LS0+9+xwc7FnmMNhPW2rd/r/S6C2dg+a1dWJxt6GJ581sre2gp9KPfP/hK2u6Vs7dm+8zycpM3nxEZyc9Jn58PKTo0esuMcDh1rZw/hiKEfI7HPVL9lzQwDBWAs6Nn8UKh0P2/PE/Ky7rc6viGUV1m5eFjS6MWFcNC9FQ9W8tkUwvFd9pwcG3aRunXdi33SBs8GHwPY86N91ZdD++B+N9QQNit5pngIMtsnkAst762UcKFteMKNS8nAkYdz3vSGTTH/V1/Z7mtjEQdDzbpvXhO9eW07DDV5IycGTAxK+VyLeA0Svg4DDiCeYexpZJBNIlsy6sTQYiU3XOYNLcys771qlXulrPvmdb6/vV/c53mSMP5g0EkeewvBBcnOmeWEIRQDHkZYZtXn18HISpgzBL56wgqCIuXF9ng7cN54/2HkyxvIPTyolSlQB9fcPDQtuiyGQqXFhaS5jPmUE/UGjwSMm3ga1pKWJ09EoB4nQzkG0ASGQbxWMJhT5ziHJIRGY3y7f+fzbJ6GtZBzkhxalZ7Sou5rLVwT9ZW6lc4v/5mJJdy3xYIXA943edbeMhSu+rErwjX/4aqw6V9u8no0HzCm+ySX3PMNTyg82viNdk2fkvdOal3d6vXS6yoCd9b+uN/8my8Y9FN4t/mCAEBY0Pz5zgeECXJRIlKe73g5ZkIFZZzCCvZf3RfWvWKNX0s98DA8G4LmfKB+1vMeTLhnzvooRteC2MHzz73ics+AemD8Zh+IA7S7FEJ0qaCP4zroW5kk4eFGsxCEs8F2tEmEIe4J+6Du0Tfn20jB+oTUV7ug9C3r/N+JJ0+EA185GJ6/85CLNIgbTFx54o+f9JxoCGeAx9Rjv/24C35+nEzIr4dPNMjKhmcGzx76VESFR//nYx66sBb6sWOPHHUvySQikmc5hXWkzBEs8doiBOnez++L4TSfOu59NDlgefbw3KEu4yWb70sQt+h/WYdzT/0W3rDX/cwLwhXvutzXAe4r4hWezoiV9DuUa+/lq04TCwHBkXNI2y+U5CVIfUSsZOyQzo9j88zlOcO4hmciRE+++u2T6xu6ccjPCbEzjUPSZ+ouv+Vh/4w/6IMp60P3HgqEZUccJEQsfzkn+kXgfFOY0Ty0kXRejJsanSPQvxAphXvm41KrlzyL9/3jvvDMXzzrY0SErrRP9/Cz31kfD3WeD6cmTxe6AeGRnMx7Pr/X76OLaTb2pE5Rr5OwxraEFJ0PrMtkAdoVzysmue35wj6vG4x1OEfqOcIqXof0FbQlcNHPypyx3tbv2OLPTya9zIaHC7V9ct+pI97urG2zL8Zs6b5SRxAWo4fhzLKYsmWMY05aPaZt5/H9Z89FJn4xrmWyi3+3dkKKDMbe9AvuTWjXDtwT6ghMZZ8RJnPmuWnq3RshhBBipXP6W0eTgAAIBbwFU0zMWZg8jnH5OVufQVF1/WLmbegeFjlhI+YrtEHJ7s/a8misy4uE5DGMguLD9vdZ/1xvhDKZEwyLhA6sEY/G9+HFOFPg6nnxJ0L/q75s57rejdJsg0g4tu8Lvm7cZ3Ww5d5JdozkvYd3Hbma8uczduCOQFjUubxq8mAAdq8cxMtNt4X2i/8fGyy2u2Ga0KDH7nyPizqJrq32UjaFEToed/jRX7N9nMgM2dUyL2RhRPMeoHmimDgVKmu/1Y3ogGCIkdu9PvGk3PhGG5m2Bzz4el78P0LHpf82O04kCpNn/gLN9Zf7rp0+j4VSGnyJbdv4ZbYeiFRuoM/qSmXwxVFQyJo7oh+eSRNHH3SPs7zwFb3x4nqEMOW8CyV7We8k12LFzufFVHr/nfCM7uXWsdnvRyKGbbSXxM3faZv02i2dGZIU4QHhCu/YFMLRyTzv4nHjMSZOkDewui3hFhFFWgjPufV7bf9908uSeMN3xGY8/biPhHwNmdhTHrjBQziu+qY/CG2bv93XgWLnltB5xft9/anxQ3F/Vi4uym14XWjJPO9a173GP7tYkrVLiB52U/5713UfCZ1X/YSXQ2XtN3vZECoyCSKIj+RqHD9gy3LCScI9LefhLQgIky2t/VFczMSz2UKeElJyarwqahU9pGhbaL/0Xf65uOoyO91Ou+dW/jV9TT08nK6VIQJe/h6nkJz1GH3mf4XRpz9tZfywi0LFyT8JE/v/xF6wEbHIuWkvsofuckE1eekR+rSt/4CLPDBx7CGvu96urF6y/sThe23ffx7FQsPLI3dOk/b91ORYKLcfD5U+PK/vsWNEkZXjIHB7fkjr+zgvRGHCIdsb/XRfUPQcgPHzift+Low993/8Wv1fTT/MJIT2S95p+6x6hdaD+2dvtNm3xtSKlrUw2QVxe2zf34VTJz5v5X8kVDr3+8szdTAPIUnxNE+iH/W+gCBptBQyUTGHezrb8RELqVs8s/C2i5Ng7LozcRB4FpLHkHXyIuCkPePGD99t5R49DPNMnXyuZt14ft0XYzQ70bA+Y+S5+AcuCpf/aMxlNHHwr8Pxu388HPvyD4URwtLafWztszrWxjk/Z899eyZZ39E5dND2u9+uNdbRtsFK6EEw7MTA1xMmRlqt7A5Y373O+z628Wuf8bzqdKPQyIExO9/T63pePMQosftvd4cnP/2UezWSTwVjVhINasHAgeg2cP1Aw3WgnviHcRPDc1pGrkVyVWFESwJYHoxlsx1j2msg25ZjujE428aP1RmNm8zoJgxazw7CpPW6IapWWFwoGPaY7Z4PLZo4/MBhzxHEMfPei+SVG7pxsK5IgCERIyYGZ4yi/OU74fgaechh+Kackni1GJLIORdJuMNY56JzzsPQzxWvk2w/GLcw5NWSD1mKURoDG8ZRn0Bh2ybhCOOl5/qx4y0UjKJ41iEocd8RwxYjOlC3MPomuMZ0fuQkTUZahJJVVq9mM9rOBkbKfMji+UCdw8g5H2h7m75tk4uo4KJgdh20FSbRRe/A2DYXKt4lEF8Ix9xIAGsE3sNMqpjv9QB1/kIQC/NQPyijJDBRztTV2Tz3aqHfou6dDRA+OFfaTu2El4XC9kzwJJTuXNCH0PaAvxjUlwo8lelbXNRBILH+Zb59A/3b1m/fHDb9y42+D+og/VYenmP5PovzR6yhvSHE8ZzFG+iJP3kqPPjxh1xUwfOQ/pv+j4kVCBJ48V35nivChm+NeU7z0A/x7Ml77UWhtcXFkl5r5wgPea9C+my+48l34qmTYSoTgFyU2BvDoXJ8JvHs+oMnwv2/8kB48jNPuZhEmMT9Xz7oz1byu8bjx7DJTEJADKFsEEHIATufZwmwDybvgZfbHO2f8QNhTBcLfRv3DKpjh+pz1cNg29gpCouxzsWci9XraXExMW5De06CYAo/Wv1cv2/ieERwoN4xBsOLk4k1x5444X8JR8n4jfEVEHqZPqIW7nsqryT0NSKJlBwXeHaQr5Wx4dT4pHtzMjllw6s3+H5YjoDNfmkvCGZ4B6bQn3k8BOmXDoS9n9/rXonJ4xAvVURvQt8C9SvvNTgbjAsRzahftB3qMtvT3/deuSq0b4j5v8m3Sf3lHDwEv/1lOe2P5/76V67zfcyFl5+VCW2QforxGvWM5WkZMBbAC5VQ97XjRoS8kT0xD2mt9yGe4umZSD1nchftyL9bXSOsL+0Mr0RCsRL5Ii8WQhIpvS7UmAUpHwR5IYQQotmobx1ZYSDK2VAgfskg1KeNSEIhy0FYS7ELoS0uR1T03He2j5IvrxZb8khEULQhRVyYA4GqnuEc8XByeLf9/oUweTJ67rl4aecyfuhuOzV7oRkn+TkGynju5aGbpw25reteZSdmg845PBDLvdf6NiO7fitMIr7YunnvQUg5E4ttUTx1EdSuKXo9Tvh5kJMxekSdLtDVw8U8L1+uKZZX27bvCz0v+Z+h85oP2QC508oAUbV6HqfGGfSSD4mXlZa4D/veuumN0aCPENZStN8ZzLWEY199exh58o9OMyZPeghMQnFeZOuVXDzCGyh/zRjAK6tfZvuNg/u4z/OvOZQRDGvzi82DSo3Q2LohehUm2rZ8t1WfnjC+92+tWKJoAMWurS6IUdaV1Tcz0vZleKDhZZj3MJwNhDbOvdR/g5f7tLBgJE/C0eduz+oUP52wlx88UsdCwY5Z4l7XEUemRhCmyDHZEQrdhI21ddj28DeiZ97UqF3T522/eBfiHdht61Y9JNu2/evQbv/wqsrfb9YpD77YrnWbrZu9IHZu8f2zTd+tfxv6X/210Lr1LV5XPB9hlmMQCJPKd/YTPTmjcapMHXMR5x+mr3Vs91/ZZR6yNvk70+JWHkKi2htN9s3q6qrL/XrrwXKESfsUQ7+OPh9OPPiRMPzQf3XhMQ/ffWJCToz0/VqbisKfnXv2d74hSQEhCRESkY17jccenn4xT2IVQj9TduXVN4Wua/9T6H35Z0PPjb/j7ZRrrnROhErPsB23KryV+q+zeroqVNa8MnSstbqRCYZ4qiEwsbxt47/0fphwyt5HeFsuumCY9wB0j0C7R6WOPaG1+zFbJe4LPOwvdb37kul2MjUccxLiwen1zKh68j1s925vOPngL4XjX39/OPIPb/Rcir4+YULdg9X+tg2E9oveGoXdGm/C1vWvD723/HnouPRdtvuYl/JMQPCjzZBvk3vd2vOslddM40ExFxbVRXGrk152G6wMrewoN9pGWicRxcjqyzL1F5F65Mnft3v3XFZW0dCRz2MIhCvm2ebeh3iPuiAe74tPTJki/NKwt4XpvhwBkj68ldCTh6vr54RJIAePG0gzYxOhdsl3i5h88r5fCCOP/Y8sx+dxr/v8pV4zyaFj9QH3IHSDRQdeUhhteG5hTCT/zcFQ7um1Muyy+/etsXxytPbZOu0tYfRgzIuScANQscVngBMCCSML4agwXpJnKXkkcs6s2wiMYY2EPMJ8YaxJoUkTGGAwzGJUwyBH7jdm1jNzHUNMmsW9EDBSYlzLC3KEOEwhyzD2YVStDJADi5nicT3CnuVFvmT0XCiUEddSKFbP3Q2pnaUwjPHo6LgbdvNeiHwfvGFwVpEAAx9h1TDM4m2RcislyKV1tkSDPFwXBrRnPvtseOrPnvEwaszk5z64EXkwCpcnnjnhYUjrCYbuzZDNwD9OGLzdwy4ycQ8wSM8QCthvu5VvORr4FwLh8MjptPnbNoaLv2+7Gx4XCveXYxPybCKXqxAw2Cbhh3vRd3Wfe4hy/xcK15oXJmtBOEV4BgzUeLZwbPKnzRf2kYzYSSQEDJkcm0kCGCMXK3oC50TbamQsbwSGYM87ViO+rDQQZBcicnLP8e6hz4gRCWIozVTvlhvqAnUToSaF6Vss9P0I+PMR56IQFo31eMci+C8V9K1pgsR8hcI8bI+XE15L9E8Y6ucSyFgPkQARBSGGMJR7v7DXy5XwwbRnnkcpTygTRAZ22vjM+nnKgP1HITIeJ3lh8sxMy6gjG1+7MVz6w5eEy37kknDRv9ru+0/bMTEHgRDR8PjTJ2xMM+We4oiHz991yJ8xQy9Z7efKGAFRJIUmBfbjz33Ohb7enqf+PPfnW8nrB17Wq66cv3CBEIO3PftESEtjpUb4OCgTSBcDYymuIe7HjmdjFJ6zCZ5fKSxpLVEctLFztg//no0zGpEXKHm2MWGD48btSzb2iaE9mXhz+N5DPh5jv3itIr6613d2rFrYTyV7ZlButZ6MebifeMb1vSBOvOM+Xf6jl4Yr33152Pj6jWHj6zb4mC3vychkBp4JRFahzBHx8lEpqH88s/EQhQl7pruXpK3Db5xzuj7qB+shbOX3UQ8X/+4/7GML6tfg9QN+buTBJLIF9ZBJBynkNrBfxhEnnrH3XLvWhY4luU+UCecNHIP+NgmFCe49+VNZfoprsXNNxBCp1raesrZl10x77r0iS6Nh/XV+fMn3JGRyrPxxonCIEBrDE+dhHEJ51k4e2/KmzV5GQgghRLNxdt6IzjExB+BMUa02JGiiRLhRK5a2Ld/ByNmXuaiYiYfloVvs48zBNCHXMBQf/acfcC8XjhVDbU4FQpi5YFlzfARLz5W17wv290H/vTJ4sx2sOphP4Uij8Xam0QIPq5bcsrROsW3N9LlCwc4NYSQKl/HFBCHOrz87p5h/cTK0ZOKeh5DD4G7rIFwSoo9tCRPIevNhokaUTLDvipUhRnXOq9Jt59ESz6PccdQ/EyaUsKOAJyDGbIz0taKeG+wf+M/h5IO/bKcXRS8XN489ai9G/R6eNXkDIUYlD6DkPdi66Q2MTrNlV08f0w3DS5S/EDGk1LfT9rfwl2bw+5q75vlS9OuxFxGuz7Yn1519yX61sh6InoJ4+xHWEyN79CrlnLf5ORcRqrIyIced73MenlCQvAtLWVjSKBLE8p84fF/Aw2gyy2MIiEsICqxTcNEy5kkkhGCt5xYkL0Yg5Kl7nJGLbmIkjO4mz9phq2cvt9s4c4A/V3kWO7bY/+I1xnVntnXPe2hlSntP7SfhAmNN+SQPvnogOiIeJnHFvT3Hj4UpD2868yVmNjyvnZ0T+zv58H9xz6+Rp/4oTBz86oz9TDx/p+2/6l0YBcGZ11ew65+PIJyHuuLis/UxE4fuDsOP/+aMSQmxrCatbDe7UNh17X8OlbXf4t63ePVxHoT4LHXZOpVj1ovlDCi2DSJeERHO6hFiY/KEA0RI+oie6z8WOq94X+i+4b+7QOfecBw384jms0++4DzKe0MY/pJVukN2vZv8+CXbD8IQf4tWnh6imMeDrc++Wor12y/7HSccLB6W9plQusX29S66E44YAY9wzF4Xs9CkywViZr7+ldqOWfn2zrifnrOzgJh6yNs+XqGIxAh6rVu+8zRRLFFahQdinI3N/jwP5oEvhdFnPuP3OrVtqM1j2GL3ixy27jVr68U8i1m7z3khIkKemorLJ+xZM3H0fvutOpkBkuhXDw+Var9zvLaL3ub3cfzgV3wCCcd1sZH+pX2D1b3VoW3gWRcMER2nDn/OwwYXS/bsyETpUuuxUOpebWXW7f1NzCVbfS6Uu47YuiNhJMvlR7ijyeEJNz5hHCFc5vN3H3JvB4xUGHZYhsDjHnp1DFQLAYMNhps8GEYQVBBREfJ8JvruYT8/ZoTn8xvNFzySyt2VGYJdz45uF7E4XgKDF0bC5QCjUF7Qw+CKVwDGWbxFaj0M5wMGVO4VxmKMWI28CzE0L9Sb60zgPnFOXBvnSIg+Dydpy4DQfhgZ8UQ49thxX+4hYzF6Z2Ij9Q2B+vHf2+UhYd0rbYs9w+23YplrjYIIf9M2GL7rGU1nY7ZyWwi0F4ym3Ms8LuLZeXGueJR0W72rFXbni1+v/ZsPCO95Y+liiUJhORB+jTyAGDipc/M9j0aw38oi8goiqCAcr0QQkREK6avoGxYKfYh7Mp+DSQJA6M5a4/lCoQ3TzmnTc4GYglCJgI2gtNRwDpzPUpD6NuAZw35r90276tgc2yzr0Mb4S07EHW+9OOz4/ovC+let9+cjIK4wUQR4lpY7CU3d5uEh2a4lCRt27CSy8XvKLUi/x+fNt212EYhnLs94BJUjDx71/hvhAQGCUKAIiDz3N7xmvYtI137wGhdFqbcp1DJ1MH1GsOne2hk61sY6QR/JfeL8Fyro8cwY2Nnv2yHGLidM7mnDizrzBvQ6ZteR4Drow9vXV/MXUhfriXF4hnFfE77vwZgjkW2AMZDfP7su7qeHFrc+t/viLn/u5cGrjPCk9MPUe/plnq3d26rnlyeJcv7ZxjpzedIh7OYFQbZHjEf4zo+VEiWrWzzj3FvSztXFvpxARh3mOcQYYN03r3WvRCJXjB2d8IlF3FNyRnMc6hb9H+vgTXvs8Wo0jDxMJDrwtYPhqT9/xuvehm9Z5/vA+/HSH9rhoiHQ3hBApz/beSBEJk/dhfZVnCMifdqOfVIv2FeCMYCL+ta+uKeTVh6EIIV82RBi//jTJ+N5DMV7TFk1yrVLHaHe5T1daZuECCZEqXsg2rUiHu76/3aFZ//qOT8ecJ6bXrcxbLC+QwghhGhGzvxN/wLAhYSccT/lIkQcTJ5HeTCeVghD2GIvKbZOsYOBgr1AlDpDZf1rGX3EFTMq617rRkiEqvF9hIKbKZSduP8XwtjBf555DohxE8fcy2Py2EMuzJUyMXIyCxnKb2zTuvnbQ6Fzk72g9IRC5tGIuFgk1GJ2/q3rXs2IyYXEtAxKLhjG80W8al3/Gl8Pg2w6n1OT0ZPPPRxt2+QVmHIuTh662w2tU9l6C6HUd43t6vSXVzwkMfyXe/qn70Gx8LCLBYgC9qOXN16JCFhcd8nzDDKTE0/D6j5Hn/7TME75To2HiROP2ylPuCgYDfQtLizGssQzrdP+ddtiG0C6cFh9AUiimgtFtt1S4PvK3Y+zRRQE26zcED/LobLm1uy6InxGHMBIf/LBX3EPVOpjAi85wo266Ng65EIvuTvnKyZV1pA7sMtOJF4/RvuUqzAvFOYhlCiejPn64h54+dyBbvyP3kZ50XDy5JMueuK1SL2trH6p1/f8vmKewtPrYh6vH3N0i4W2QTvGs+7Nx/W4J5/XrSjO5mF/nkszV8/yjDzxO1Z3v+zlgfjiuT1zeQvngwu7dpzRZ/7Urh8BMt7Hk4/9Dz/PBBMT8LAjVC8iWG1ORHAPQ/d2m79BAk9UBN6xPX8djt394z5pwu93EoXcs28klPp3RmHehcqIe4q2D/k961jfEtoG9tvv8f4iBpasDuJhyWcE7kJl0P5WXwqL1i+65yJimbXdQuugi3V8njr5lB03ij8Ikulzz4a7wtSRT3vdat/+/baPbXF7F/euDZ2Xvcvq/vW2i3gcFwwzD0Mgz2PyIGXiA7kKkxjI+VHvPLRprr1V1t6a9avLB16AeGMmyp0H7KXb+viaOune81ZfaY/0AWkb+gwE03ptHKGRcLX0kQVE3uzamGSA0DZx8Cv2OYp7CP+TJ56yPpe8hHFZ3msRYa82JCnw/Dw1lnkcIx7yr85kAUCk5Z7m4ZlGCNISz7m1r7Tqstbq1ekCYxRNS6G9/4lQ6TkSKt0H7Jy/Yu34QKh0HrTyiPWk3HHQbqGVhZUHdZY+jfpGqG/6NrqqYnuLh8REmGO2Mh4GgCGGYj/w5QM+I3zty9d4XiaMJhgVEeGYvX4muNdBx+n9mRsVr+ubNnQhGGJowcC20FnhgGiFYafWWIZhCSOLi3d1DGlJOF0OMKomLzPOj2tdqHDF9o1CnSZcROtcnmtoRKUvhghjRvs1778qbP/e7R7+DqM1wiChRRE1CK1FPiMMlHjeuQeE3Q+MhmOHxsKhew55ziPCk66+YSD07IiGTAQ4F7HsbxKt816H5wKMcilEJ3UGQypgBETUjN6Bdo/5bv+WAyYO4BXF/tsG2mIZIfRlZbQYuC6M3NQxPG3YN4JEMsQuFsposSFNVzruYbgAT710n7n3eJB4PbC+9UzFu4VCf0Q7PBMwoHu/O48+i/4SAz4CFJM/lhruQcfG6hhoqUBAwYuMZ2kerh3vNO7hkD1rCUvNuv3ZuoSLRKCjjN27bEuXPzuA/gVPM0QR2ijllwTJlmI1PGYtSTREiAS8BY8+eNRFlbQd4wMXqewYvXYMr2/2mecmIYK3fcfWsPHV6/2Zxv1AeARES/qJ1G8zSWD1DYMeWnihUJfJeYgoVcqEtuWCvqm1v1qP/XtO9APGP3nPQYRMvBA9VCnjFCs31omiY3XbWKZFF9/y/TKCG2MUno3uocj2VsZsn7935I7Gq45tEShZZ/CFA7ZdY49N+lnqTBpnnCl48+PRDJw3z+tCJnoiMue9B1mXsN9rX7HWozogYuE5S9hRzovQoWtfNuRlybVQLnghHn/iRMNQ8NRRxg5c04bXbpgWCGthTJciBlB/Vr9k0MeR9UKmzgd/rtoxU7/Kd+4V7TJBu0PcjkJgu73LVkVCrj2Jh4SVPXz/YXs3i/kPEQLZ32xjOVIz5Pt0xGNCFXto4p39oc/Gze5xWBPq1PvUBTxPhBBCiJXG8rx5n2dM4lmTE7pGnvzDcOrUpHu61RpTwYURPO26MMD2hEJbFAzbNn/nDKEqgTdi93W/ZIPZVvfkIzecDW9s+4vdUwUPjONffacbzVPYUXIYjtt52UI38mPAJX+c50oaP+FhSd3jyvezI7Suf60LA11Xvj903/DrLsR12udk3EVQqyt+tq31UHgct/uF/y0U8d5rKUbjrB17+JGP2fk94YKlr2v7cE/DlpYwtvv/htFn/3cY2/f39vu4XwfnOx8IS8c1NYIQb+0XvS0Q4hKPF5g89kVGkS6G4s3RuunNdk6D9kuLLbspeK4vOy/PtZh5USL6sQ3ninfKpHtDjlmZRbHIRTFCE44fdWGAnGIuYta5j0kwZJuWOYSl+YKRvJx5NJ5NOG4URBsPdAnBiSE8hgidOUj20KO2bbH3Siu3zV4e5BZEVJkPLg5YXXIxhmufOBGO3/OTYfixT/i9qMXDV5IzEK+sLCRo0b35agwohE+lrvp68R5NHrnfw5FOHLorkBuRaykNvCieg1EkZKddZ0vbajuX2V/4OKa94frn6Ll3+qzXUg/nhVfck17nYphUe8krEvr0dCOee9Fl5YbXEyIZf1s33ubLTz7w4TC+/w73OCbEI8JFAmHKXiWzb/XhPBHK6F/YX9cLfj6Uh14RTo3stT7kaWsOWajQ57/GW1do3fDa0JJ5i9XCuVWGXmYvrPOfcU5+QTwA82FJIXkWzgVenZTnqeF77fxm1g33MHQRizBFm1zQIycg6/tyxP8ait0x9GmeU2NWprl8hkAfQ/+MmFemX8zutS9H8MtEwRYrWysQ/wwuDGd9VueVHwjd13801jcmOdg+ENQIBV2oCUG63BTxvMy1T3LwtfXvt/OoCu7ApBfKEtyb3J5xCX5zT7o6lFZdHSprXh5DjFaqBpbx/Z8P496HjNhvN3g/Su7eiWMPWruIzwDKJd+n5j0LE/k8hlNj5JscwcITc3Lm1kVwHHnyDzwk9dge6/cz8XESz0arf3jVI2Aj7NmBbWczn0N4gHK/EXm7N58Mbd13hFMnvxYFw66nQ4mwpEZrz+5QGVjj6wEiMvt0b0PrSzhu+9qyz2yP4UfjcTCCMHud0EoYfzD8YOTDmMVMZkCowdixWNwovqat7j44n7Qcr8eRvfZcHJt0o9JcM+QXQs+0l2EDY2oZD4/4G0adxYQjnY0oGhJKcHGiHqHp5vIcbKkg9lSsTiz+Xi2Uzo2dYdt3bfUZ7RgBAe+XQiaiYVTze9kVBSiM34TsY92UpxAwzrEM4zoiMoavBMsxiKcQpBgoFxJ6cznp2BDDpgLn6YZTRMSzJJBRJwhTSFuhvVLGiyUKhen8Yx0lxBzCr1h6PMTfAicqcH/5R59K+zkXxmGM5mc7PxZta/DFg8viXQjsP7XjpQIRjWcrXlv14Dmz8bUbwpbbNntOY0SW2nXpN3sJwXpRdYwY+9Q2b5cVe6bkweO7dlkeREOECJ4n40fHPBchwhRe8V3WF5OvkEgD9Nmrau4xnnb9O/vd67fvylX+TOeZluBz8jhEDEoC52JAfBy6ebU/L5cbJkkQ7pM2VQ+uafWNvNtHEDI3fdtG9wIlXCnjF8ZI0aOwWh60ayZeXfojl3jozARCIu0er0Um0yD+xueG9Qe2Pb/RtlmPcQsCL7/z3Z+FuWPU0lKM4mP+PM4EjpnGTN5f2X5dlLT6k8RNns0IhXxPOWd5/lHPGGuSszAKWW2ha0tX2P7d21wYJ+8g4EV49OFj4cgD1UgfidHDVkcfPOrjsdlCiKeyQcDjXuavn/5yMWNJypxwo4kkEALXw3iy+yK7/zYWYV0XUK1NQd7DEJGPPIRs4+dm5eDbzHJOPH9pj1w3/QLjddomIj05TPPeiewHgR0od44hhBBCNCuLfxO+wCAcH0ID4J3AZ8KLhhqRDS+NUv/1vrzYc7Ebjgt4GLbY4Mm98+obLdy7o32dC3GT5AnDg9G277nxt2zgVX1pKvddy0jMvd6iR1dVyIz74FiFcPxr/9a9jzDwF9vXuGDoApitU+7f6fvgc9vm7wgljLSE+GxwOzFed73gF9zI6aH2bNuJw3eHsX2ft2P8gf39Ozeqchz2Ue57ga1TsnPcE07e/5/CJLnlrLxSXsKE5yDMlruHWma4hdE9f20/jYXK4DfZ5Zz+0oA4iedkEQ+4TGRp7XkutG15Q2hpG7SXhYvt2r7dfopG/PLgTXaNm+3TzPLvuPiH7eViyL1cpkYOet5FxJvkPZj3IsSQjWej5/Or40WTwpJGsWFpmoaH+JtDpFou8Bgq4pHV4Fqit1csB+oG9xzK/S+2MrXtMsGP8y/Y33L//D0ME1G0I5n7fS7mDT/66/YS8PyM40H0sjsZyjmvwcTU8Sfsf/GlAY+lKG5Hb0HEwFRHYPS5v7T6eGRa1ANyIiKEI+hxLmeKe1gVWmPewolhPyc7eVsecx7WUsx58hURwFusXq66PLTv+DfWp7zO283w45/K+oSZIlu9MKf1iEJkZ2i/+Ie8rZRc8GoLEyeeCicf/lVrH3/r50m5EHaUvqrUdXHd+8n5su1C8BC21r44vocQLvcE8hImrz6Innp1+oKOLCxoy1dDpfOR+DJtfYJ7u5E/zsOXrvY6idjjYhW/1xEG80y5V6GVJ58JGTo16v15EhnpO/EYq6x9pff5LgRmIKhNexFWZnoYJuhz0zaVNd9s57jW9rfRy96912vC4S43Kb8iZYn3eaV3LLT2k4NvpuhN31pefbNdV3/sH3PiMX1G2epmvXpc7rvGnjUvyfq0NtuuP1SGXurlGUW9Ey6CU5bkjUXA9zpnx/NQvrl7RZ1nwop76iaRcDyGKmWiDBMMAGHRBfSc6Jc8CVnvxL0/E8ae+V++DyIH8BcPQ0Kgek7HevWYZZl42drxV6G18+vWN4z5/kqtT9i2w1YHbT+9VgdsPwlESHJmJrEV78XWVWMuKrgwt8/OfSyOMTB2JKOQiztZyC2W55ctFoyHGHMaeSkmb0Jy4hACtVjG+3bpBRdmp2PYqicaktMQg91y0bGm3QUZ97RchCEVY9xcXokIkRj0klh3rnCvQLtGDGwYyfDcISwp3oUY/TAcYmDlfBG7tr55c7j6318Zrvi3l4Ut9rk2bx37wVidwtNRlwhXyd9zAd5IGEkx5mIQzgsNbpy0+4xRdTnB0IwXIG2qxY4Zw4ie2dgt7aPs+87GoZlAJZYW95izPgEPwYWCZ1nX5k7vnxF0mexxNqF9571fzgYcExEFg/lyQF+ylMI4+0OE697a5X13PTie5zu0/q3vml4XD2vXJVwtOQDzfSJ9qtcd64eKlZbY79cIaz6RYI7rwQOK8KNMGhrY2Wd9crUecU55MTAPyweuH5z2LlwOqF94k+I9vdzQfujDG4VAj6LZ3P15ymWYYDuEK8opv5zxB+Mr/tF+yckHHL9izzjGQ3ieEhp0xw9c7PV+viTBaDZRcTFwLYxfUn/F8z2JZ5y3j+Ha7fqzCQwI1/RTKWehi4yMTax+E0I7idF4EOIFiBfisV3HXTzE0xDPymc/+2x47v/ung6LP1efQ3+I8I7ASxtJLFYwZB957+/8frw8rM1R1ixH2KM9ETr1kU8+au8Hp8JYJhgmPPej1aO4n9nHLgU8DIdinmI8CoE+kEkT+WuhLhHWuSMTCf1crM8QQgghmpWmeWudPPaw/d8GWkcfdkMfnhUuzoWZs6rxxkMYcbGkC+MyHobrQmX1yzJRrvEsbDwTbdQTxp/7bCCUGtuRZ9DzImaiGMsw1hOCL5/bsNgVcw0W3Jg98xhRSNxgA0bEvpm3rG3bD9iLyObpY7OfWo+kzhd8yA3D/I4Y2FJeFSYO3ROGH/qvdviRKARa2cRcjXH/fd/8OfdUSkbzBIKojVj987E73xNGnv50OPnQr4ThR34tnPjGzwQED4RErs0N/AgX2bXXo2jXlUJAIui1bXqzrd4WOi77Mbvm6I0Jxe6LomBVKIdi50W22AbTXdtt/5e6pyjhAwmJiLcZxn3uL+v4dWeCnRu6bVnyJKwlLW/0+4UGYUUJI9jIq869CCt9oTxwY+i6+mesXDeHopUXQi7tIK1DaNJYxjPrwnyI3nWV08KQxhyH0XMH6oUpdYHP7sPU5EkXCWHixJMhiYeNIPQoueRSXSYn4qpb/ix0v+jXvO3NRsxROFNgqQVBhbCGnmPNzm3qJILmTA/NPHjEWUV38c9FJrsfHvKy1BXKq1/q5+qekYiFGS7YNrhv9UCA7Lj0XVEMt3vnImWhLUzs+2IY2/u5cOK+n/XQoF4f8D4lb52LtqfXc8QmvJ0XAh7DXdf9socQxoOXMoziZ7xvEEPCnv7ixfE4J86v0v6U9bVX2qXPnIkNPnnD6pPnCLT9uIdhHS++JExSb1JfNXXiGTuf4VDutT7EypswooQ+RuxywTInFkI+byGfQz4MKvfQ2kL6C0wE8VCo9t1zM+KlXLPPswHPifLgS+w6r7aX85KVj513zrMv0bYZYe+Ftr6VZY0gjRBYT2hjebn/Bn8esQ2eqKV+PHmrQiDtokKeSetDPSdq8jKnTVnf6/u1v4i5gecOgnK2DoLd+MF/ChPHHjmtL5jG9umhdfEk9Mk1xSiIWx13D3hrM57/1K7Zry07t3TcuMzah4eNvSJUekZD+8DjAYEQEA7Ja0g40vKqjTP6KGjd+G2hvOblvg/AuwtD5sGvPe9hx5KXIUYrDDyQ1nHPl0z0wEAxH4PZbPj+OusbtpOX4TDhSI+Nu+HyTEOg1gOBpzaXYYIwY0mQw6iVvA2XCvcwtDJwT8FF5HObDwiReUPZucQNzna9nA+GRTecXtrjniMYsvHMKFs9W/fN68LaW9d6HYghSk9vyxjKCMGIxw546NUz8F5ZCmgjq1886GFi87AcI2IS25cLDIPJOIhXB0L4mRrwER4RA5KXiFg+6FOpJ7OFpWsEXq2EqASMxauWUbipB+1vqb3xViLcm74sB+Fc8OypJyx6X2n9Zv43+taOTZ0uIuJNyLMqiV3UJ0I6b/oXG6fzH9ZC/lyECKC9kxcPT0j6E6Bu4v04G9TdxYQbXQg8p8/ES3G+ILqcSX/NRCNCjDKxaj7wXOzJwormQ6ASqrJkZc+zkLDweO4vVPjjGcm1LHUfHr0Lq23e6+D6+M7APSKcLnU0iVnRwzC7Llte6bWxQDbuiuIjkw7i73jjMYmN8d/ef9gXnvjDJ108fO5v93hOY/Y5m3dhgvUQ3hlvUK4IlmcC59lo3EtbabP7xjH5jEA/fR37RlyIR/xMcD7pvLiWVE6N4LhMisK7kL4WsRGBmfDF8bkft2fcjNdm8uzlGT7XvoUQQoiVzNJacM5jJp4nj+Gp6IF0atI99uqGD2xbGw2RyG49O9woTVhSQrXVWz9PsW+nezKNuQfjZGZUPF1gdNGiRvjzMJtIZy502SC371o7x9fZ8at5CtM6eVjWcUUMTYrR3Q3oWbjORrRf8g5fP3kIAtvWUln3qtC25bvs8DYwJcSnizd4fpxyTz6Mvnggjj7zZ7absTC2+/+Ew59/TTj6z28LeE+2bnoTo6+4swa0uPcmA+GJ0PtNvzstyta7Vs8BRllkvyUxsHXjGxl9h+FHf829tKJXYXx5c1EgO4fanHa1xP0nwfDCbxqIFl6es9TbysCLQ8el7wzkl0PsqRVqyB9Zzytsvni9ypUlIhXeZ+RUZN94w83w7MrChwJCn70Z+edaUpjPEt5wNevMR/SbDReBaIN4L9YRfdzDsNwXCCGKgJGIXlSnH9dDunr7REwiRPCqWK62rDxwvVXJ6otbOjbez/VEs0YgPLpYmIUSTfkJxw99zUPAJs9Fz1Fo98TzHiLg1akbUaxc2D33yQHWd1Hu8Rpm5hCcjejN1+6eZMXK/lDqXuf1trjK2nGubJh4gXehhwgtVqIHYu73RDz/1nCKUMSTUVyeIE+s9Ul4E1J36DMQHhsRvR7jvXfPvXw/ll1fXmhkHReh8HokNC3LZ2l3ywXiJp7D7jE5S/3Bq7CD8Mw8XxYA9dvrkO0bYdjF4ezZgVjJtReYtJLzzAP/zdYrD73Mim+D14t6+QlHHvtUOHHPB/x+ASKg5z7NwOMQ78VT44dDx4632zX8qJf92HO327pPWP2oip0uDmaCsh/fnhteP/FMtnvVdc3PhN5b/jR0Xv1Bb4+JUuux0N73pIcjTe0pz9juvw7kxB0/cEcoTv2Nh3zEEHL4G0fcuNE2GD0rMJph2EliB//wAmNdDydZx5g5Xwj11dpLCNzZn/UJ92g8B0YPjKhuwOtfWJjA+YBRzQVDxNnO5WlriKwY8RYjQiw1GBS5hxgwEfzwxPPwbZkQi4Ga+0y9mstzkrrj9TITtTGKLbWguxDwdCBMHB6rtefOdVd6yGm9/OfnHh+03XY8eGObPRMQdd07I5soIJYX+pnFhBRlu2RsL3dX3CNUnF+49+CVvd4fLAe0fUQ9hAU+5yfY0IbJN9hI9KPPIuQh3o073nZxWPeKtXae0fsdEHPmEgxXEvSbePQhyCwGF8DsGZWEv7ngePWOhciGBy0Tphbbl9N386yc77nMhXsK2piCMOOIggnqSBLxXDyz846RKOJ5U+85D/5t/55tYdt32btvjiTGTZyYcO9COP7kifD0nz8TDj9wJOz6wyds/DzpYwjGn/PJo8vkJMQz1nWRMhtD+rnMY/uFgEiccp5y/Uy0W/fNa31MMH5kLBz82sEZORl5vcJrEFzwm2N8yzqErGUSEGPz3st7PKcp18hvKTw935lA4mNLa7OUtxBCCNHMnDsLwVlmKgv/GcW8+uFIIXogRSMcXnsYlfFsqax5WRyhzEJl9UtnrENeQY6B+Jc/FqEA0/dobG2JHiq5dTCEdl79U6Hj8vfaqvMbqOL5Mdc5Quu6V7uxm3NIQmD0yDt9W8RFRBzCoJIzznMfTk2G8T1/ZYVa9fTiPAkdSP44QsNRxniazCU2Mcjf8Jr19u+SsNCQaaXeFzAKtHO/yO7TBr8ewHvIRrf+GfCaYz08f2YTfashSTvtjpxeNy5ECDE4m3jWdtHbrPzwAi254BTF1urAmzLjtzMBgS3dj3ar1z3Xf9zu1zoX5EqrLptxr+oxeXyX1bXowXdqdH8gn6a3G7vffq+y+x492EpeX89EMCx2VXMONsLFxGKH9SefD2MH/im4N1UDOEfKkXaPEIYHWPJQghgOE8/mF4bWzW92YczvSbFtWmyci1qBKgqDM190KJNCJlTyO16J89n3QoliZRQA6SM8j+IswiHnSe67JHARejiGG515D5OQyb6LHVanZrnHfnyEJjs+wg6TG/C6w7uwbfsPeFnPVe8QongeNOrDSnaP8veRfsfP8Rzi9WvgxtiOrVyL7YRNjS/htbBuo9/monX9q+0Y11odumr6vvn9svZHCNLpe5lEROpe2+rp9WO+whPebshz2Lblu0PHFe/z55HXlSwEKc+bqfFqHhbCGRMhwL0gCVNLXSt1WV07ZPsZ8WfBtGhe6bN7VxUPEebzXofAfrwtZwInv7cOHAuVnt2h3DVo21TvL5x88COeZ9QFTzt/wob3rPlzNyoQJopwUR4Gq7fif3m+5Q1VzKAmXxXC4ZmAEQfRaDYIu5RmhGOkWo6QpHNBGSQvtuWAckcwnEsgWyyVvsWFO10O8KTEmzOJfAjVGNUSGPDm6z0xLT5meQsxqrLvfAi9swnGUb+2Ou3CjZOb7doyD57lpKWMWFCxfjMaEfl3plA/uXdi+aFOc//OBOrZ2Q4PKuYG4/18vKLOFAQD8snN9Xythf74ou/bPu2VTH7YNCmICS1no/86X6DPbpS/cL40EgEXAiIawk/y3FsM5DAkjO1ShyR1D8PV1TKirnCu6RnIMfP1nWvpf0F/uOrHr3SvuHqeei585Z6hKXxpyv/HZJiL/tX2cPmPXubedvMhCZG+7zlEuTOB8+6+uHq9TBAgFynj2PFjE+HoI8dsnF+NWMM5tVs/jWiIwJcEv9lgIgCTDhhDDbxoMAy88PRc/oiJbUPtLjYzJmGykhBCCNHMrAxVZB5MHn/UDY2zhSOtR15AnAs8GCqrESJnDuQwKhOa1D+342FUHaiRA4r1WzKvw2LXjtB+0Q8GvJX4nnIezgdyEOa9lWaj44p/H9ov/uHQtvV73CBeKHJO9a+ze+evhNLgzbwBhZhvCuH1jkCuwPYdb/e8Tq0bXh+6rv1Poe8VfxN6X/YXof9VXwnkVeMaZoNZmRtetd5nes3XOFPq3G67jeFGk7iFsT6JPO71khO9yn1RCIzi6OwGMbwLXXi1/a8EkrDWiNrf51p/MbDPJOphnMe7zd6OQmngRVZHrrTDVV/EUghTcE8ttps8EU6NHwsn7//FMHH43mkxAVoQNO3eIhZ6HbBtztTDMApTs798kM+U0Iejz/2Vh0eEYkcMA1oPv65Kv/3dZvVzp5VJ9QWW0JD0HbSXtk1v8jZfaO13cftM7ge5ChEEy30v9LL2MKhWPv6blVcUw5b+BXA6JKjnDRxzYcXeXLNf6+Oeebm+C89uzruuByGCImU0S19X6Ixei4SMnTj4tUDOu9LgTVbtBrx863mO1cJ1+HOiRjz2UKR2/2pDmVL/fJJEnTCpZ4vK0CusLLe7QE0eP86FiR5LDRMRfDKBkbwHWwrW5rJjFTqyZZmIyHfuWfTC7QrkKxzb83/D6B7az8HQYvWdsLYplHQiiYf03dwzvA0JVzqdp5B2YnU8eiLGdpjwc3BvdGtjvVfZMVbH86kpjygixntG/9TaRxjBKbvPtm3uORAFwt+rqcunwvjeT4WOtW1uYMiDsavv6r4ZhkeW8W85woPWgqFl6KbVfnzPh3MWjlkLRlKMh+SFwoC61BDCbblngDMbHyPyuaZQpgwb38P5eBYmqBOE30viIyxk+7MJnl8It2eD6GVEW166PhMvEQy1QojzHw+nuYhJIi6SZR6FkP+O+NNMHoZJZFosiEe1eQoXQxShun2i1mJxL0W8zpd4wpWHGK0JF87kpJ6L7HwHY05fwmLnmatceYbXinougNv+2JbrIKzuYoQ/6jOehuyHUK9LTb1rwybEZCa8/ckRjoch6zAmSKFCCS2KN+9cHoZ5EH8RXfMwPma/5I1kTElEjC5Cnc5DiBRCCCFWMuefdWAZwDBOnr6xfZ8P7vk29NJpAWOpKSMkZAbJcn/0LIyef/F45Al0gSATAUuDL/UQbUnALHVfFNovehsjP/99IRDuEEO7jbyyJY0hl2Hb5u/0nEwIH4We+h6G4KHc3AjeEiYPfz2cuOf9Hvqzsu5b3DOk67pfdCNwWtdF1mUqX/BjYDB2o380QlbWfitvesHDcLq3YfVa8EQsduPJNvdLYNHFSA0Ql5JS5mEYc+ZV70HyMMx7cOUFMjz92A5DPXnKRp+73T8XXRDMPIdaowckghxCHB55UeRZvMGPfdKGowde/Zd8hA+81E6N7PP8qHg3zSbukVPQwxu3DoTywMy8b/E4Hb4/BOu2bd9vfdTLfdmZQFngpVga2Bm6rvxAqGx6g72AVZP9N8opeKYkwdVDgua8kGej1B/DjfpnxMJMRG2E5z2chzA3cfSh6FU+NRr3OQ+hMIGXJ3U35TKcBs+9HquDNcd38XAefe9ykhfEOP/k6bfU5PMc8vyi7ieR0Je5CDfz/pVWXe0iK22TfIUju34nTBz8qguAyRvQvXBz94gJPkxS8Uk+uWshdDf3Mop91eMUa8Khpt/T+RTa7G/tfbM27nUtK7dK9/HQc5G1x56ZRib3WK3HqcnQtmZq2msQIxVGDYxdeBPmZ3y3r+vw2e5ny9tvzcuGwuD1A/E8lnF2eCM8LCshNPvt2dy5+D65EcstciEe4aV5PgiGeAS02fk0G3h7nS3vHOpT8jBcKjB6zncynBDi3EJfj7CSF/8WCyIIz3/6FPoWMX9c/MqNnRYLk0AI171Y6glZZwLCFBN2EAdrr8/DlW6xsbQdbzHXH8811jMEPkLprrqsJ2x/yzb3lpuvV2E9/NloY0gXIM+iBzaCXe8VcUzveQtT+bhgaO3K/iKInmkea/cktX20D8V2zxiAXKcKSSqEEKLZaYoRbPTea/H8hRj3Sn0vtKXLc+kuRrpRvjqbvkhOvNz3QmZUBYyX5dW32MAQoa8Qxbbcuguh0LVjQUJoNMi3hMrqb7JBlw3IZsl9iEeHjag8d+HY3s/b4LE/tG36dlt05i9ViwFPHjuJ7JuVcRaWtLz6ZivGmefknogYpOdxz1s3xXyIYgkpRyEN77pacdDzRmbinguKOaEv5sIreLsd2/M30VOthoKtQ50vdG0J5f7roih0hvePUIfWILJvjWnd9GYPW8l50R7y514LAlMMV0kY1ZnCUvKOROzmuNO/u/iz+H4KkdJFmL6d1q+sjSLkAgSzM4FrnRo/Gux//h2xNIlJ9WB97/uy+lHwUKwNxNokKNYIUnk8v6H1rROH7vJ8d+n7QojntN7K8PQ+zr0Mz1DQXW4Q8mLY1OU9z+hhOPNeFLJQqC4EZsIiIZ8RzKN4N7Mu4PnJekX3BIyenfl9evvK1Ye0Xxf7cpMQfFmuHbId7cq9C215PQ9D8OPZ8xAhtDK4xtrjFf7MyMM9j214Jlx/75Ub3GgBePNhXCFcJMaGvKGQMF3dFxF6sXFfsZQUK8Ww7ta1ZyWUWz0wui517sJmhXp0PnoAriTkDShEc4MYEUOKn3lfiyjEGKCZwpGeb3gO5TP0VFxKqFd4zbXWeBdCGZFvw+LfX0vuTRj3y3h0/SvXethNBNPNt20O/dfOHNMuhCjQnf1JZ4whiZSRcswmwdLFQ8bXdl7cX4ThMyXuO5Z/db9qu0IIIZqbprA+pNB1k8cesf+fCuQIOxND/FwgGrqnX1a80eMuJyDmPA4Jj9e64XWZcXJxQmEiCYALpbzuNdFra5YyiR4Ycd9t274v9Nz42+4VFM6RR03rhjdG428ODwnonlmnD/A6Lv43WfnMzlx5DsXCSUJhPtxoPVoyz75EsWtb6Lj03fYCv9ruaRQPfTmecdl6hcwL0XOjtQ6E1vX/wtrSmXlV+fHwZpqjHuAZ2HHZv3PRcy6REW8/F28aCOztVj/jZIEq0WvyOtumsdA2G+R3KzMZAFH2LNfpltZBv9fH7/1g1u/ODdda633ZiLm8+TxcaLE9jB/4UpgaPZh9X5hwloQr6lce8gKWepZfiDtTyKGLUJzaynKRciHmhcOUx7ClMmArzKzzlXWvDp1X/4x76dbCdh5KtUbY4z7kJ9rkj1XI5y2sES99O2ubiIV8pg3WC2WLiEm+QoTIQrkvlBCsa/IXQseV/8HrHXU7/eu88t+7YYGwY8zwTtTmLwRmqmOMXMoZ63PBuZ0r0Q6jS0spzpRPM9+FOF+hbS6FV4sQ4sKEcKQLzV/YiIKNBxBu8FQXIuFCcpZfOg9iYueWrtB7WTUSzGJB3Bu8YdBFQrwNCfF6pp6BjCOJVpEmx50tyANM6ppSRzF0ben0v/mwqEshZrJPL6PMwxDOlUgqhBBCnE80hQXHBbpMSIsG1DMT5uaidfN32MAPA2b1OIRKCy2FUPTjF0JLsWvasJkXEM+EheQ7zEN4UrxR5qoOreu+NfS85DdDxyXvtMEanhbLW46zUU8cbd10m+eqsoLNllTBA7He8loICbmYMhSNid5EVve5N5m3UT2KNR6GUFnz8tC188Oh48r3e34/vMRS3sIEQlAUJVtdQKznEbYQYvjQS+wYc++nMvQyz99ZbFs3q9BMGbiHW4N16glgxY7Ndi2Lf8Er9VwWykMvtaI685fPhdJxyY+GyrpXhVOjzwfPQzcPPLfjEoXQLGaCYcI9HOcxYSCPi0t16hP3qlQnJOn5RsmeK9HbfXmZFgdL7VZWsf3G8KT1yxtPQ3Ig5kOHJjzPZ9d2W+dae1bTF5++P/IZ5sOWFjIvw1rvQkAk9HZEv8N63LOadcAFymx5qfdKe14g7p/e9piQ0vvy20PHFT9u/94XVtnn8uBN/lv31q7QNoTX4+zPRQSJpfBeuBBIQiEGsrMpkgohhBALpTYX4ZnAc69jU+eS7U+sDEptVsdW1xelCftJ7rzFQH1r32DvJ1aHCaW+1OFUGbeSW/Fsh2jneKuu6A2rb1wdRcuLe0L7MoRFxbu4bWjmRHQhhBCi2WkOq1UOcgi2LLPQhQAY8xRWizcal1v8+Pwt9uyIXojniTgVvZBmrw4dl78vEN7zfDnnWiT2nZ8kz8JGHobFVVfabWuzwToehqfP5iPXYev614TKhm8L9bx+yoMvsntPLsOl6c5c3FtAPWrf8SOh45J3RG+qJcSF1jOsz5XVL532vjqbIKp1Xvn+UHaP3/m9gM0nd+F8YUKDC1JZ+UUBceEegUXuaR2PZbwPz1SYXkng2eeTSHL11fMONvD2dXERAbCl5JM58l7BCIJ4F/OXuuACYXmVH4NtCq3V/ImAKOjLa7wLwT0G8dy19csD12fP39OJx+r1c4m5LhuHbsIDuXXjG+3fG2z//dnSELq2dfoM5WL76YJksyKhUAghRLNCSMP2tRIhRBUXktfXfx9ZCpEvn8twKTmXHncIlWtuGQo9l3S7F/BynAdehspZKIQQQsykKQRDxLskJuB1EZbZwxDat/8go6vsmx3Xvf+qxV1sWxuKNaFKhViJxHCFa0IM8zlLl+MCWePfCWGI11yx+1JbrSriFDrO3KuwllL/9SEfAnEuCoihS5zPs7jqcnvpQ4S5cLvpjkt/NBR7LrdrmN8LcJkQrEvkZeh5CwkzibiXEw8XgoTB+eH5Er28q4IdYT7dU7CBYB29Bk9vY0xKyXv4kZvW95t5AeKFiACYSN8LrdV8iQmO4fkwC+1R3Kv5PZHPtcj+avczHwibVOo6N8aU85m2te0+a14IIYRoFjo3dZ5R3jixMllqz79EzMHXamPmmOdvqfHQppf0uPfi2YYyQ3ynTXH8pchZmIcwxAM7qxMAhRBCCBG5cC3RiyTmCTv3Il1L+9roGXEenIsQy01l/evnDI2JB2Ko44GYp7LhdS5E5EW0mAN0aUSmhJ/LIkSDpaRQ7AiFrm2LEi/OF/A6wwPThcA57i24uDNPj8S5KHRuCniyuXchYpNYNty7rybXJrkNfRJAA6aFwBrw8vPJAYiGTDbI5SiE5A2YSB6HtUJigvym1EP3VGwgXrpIiFfhGXj0YgDq2tyhHGg1dKxrC+Weudu+EEIIIYRYOEmILLUVQ+sy5BkkJOn5MPkLsbD3yvpj+cXSUrCyO8uhVoUQQogLgaYQDEtdF08Lc3gu2NDAP59NyM9V6iYEaSzyYtcO95TKCx9CrFQIMdhIDGzf9v2h6/qPhvLgjXOKSuX+G0Khbfm97hAslkq4WiyFzi0uhFzolPt3hrZt3xdDBp9F3BMVD8NFhiMV86fcd417Y+Yht2GjkKTgHoblLlun35rzzHpO2/N8pYQszeUvhIWEJAVvx3XyFtZSGXqp5zs8EwZeOBA61kuczoPX5XKExxJCCCGEEBHChlZ6KzauXnrxi30jRJ5r0fBchkYVQgghmo2msOLE/IER8gueC5GO8Ib583BjaJbXUIiVDnkIG4lfiIl4oBE6cq62iceRexgpTOQFhee3m4eH4VIS8xa2e67YpciLKBpTL4wny4qd1lYbeBn6NtaOG3kGBkRDDym7enrfCIv57+DiYkvJ/9oG2dKFU+8axJnTsbY9lJc4fJQQQgghhKiCFyDh8Ts3Ls8kSYl1QgghRHPRNNO+CUWK90FetDub1AqV5b5rQ9lzKyoEghBCLDUtpQ7r94eiwCwPw3OCh4JtIOLhgZgPNVpLsX1jFHszr0FCEee/5yFsKV7BhTq/zRcmNSBGiqWl1FValnw9QgghhBAi4mFDFRZfCCGEEEtE0wiGLe3rorHxHHr0FdvW2onIo1AIIc4G5cGb3NNQEzPOTwqVvlm9+shnmERF9xYlx2U9wTDzRpxP6NFGzDd0qRBCCCGEEOcTrX2V0HP50ub0F0IIIUTz0jwehqWuUGxfd04Fu9Lql3roNCGEEMtPufe60DJLHj1xbim2bwil3mvr3qNCa18W0rQqEHq+wzoCY3nollDo2Jh9E0IIIYQQonkothVD22ql7BBCCCHE0tA0giEhQQvt6+3TuRMMydM2V442IYQQS0OhkzyGCkd6vlLo2BBayo1zHJa6t88UDNs3EOMy+1aFZ/uZhCMVQgghhBDiQqWl2KIQ8EIIIYRYMppKvSr17bT/nzvBsKWMQVMhSYUQQggEwJZiY6EP0TDvUUiI0kKdvIcKJyqEEEIIIYQQQgghxJnTNIJhqf+FodixPiiHoBBCCHHuIcRosWt7KMwiGiZKq64KhdbB7JsQQgghhBBCCCGEEGKpaTllZJ9XNOOH7grl3hfYFSskqBBCCCGEEEIIIYQQQgghhBCJphEMhRBCCCGEEEIIIYQQQgghhBCnI3c7IYQQQgghhBBCCCGEEEIIIZoYCYZCCCGEEEIIIYQQQgghhBBCNDESDIUQQgghhBBCCCGEEEIIIYRoYiQYCiGEEEIIIYQQQgghhBBCCNHESDAUQgghhBBCCCGEEEIIIYQQoomRYCiEEEIIIYQQQgghhBBCCCFEEyPBUAghhBBCCCGEEEIIIYQQQogmRoKhEEIIIYQQQgghhBBCCCGEEE2MBEMhhBBCCCGEEEIIIYQQQgghmhgJhkIIIYQQQgghhBBCCCGEEEI0MRIMhRBCCCGEEEIIIYQQQgghhGhiJBgKIYQQQgghhBBCCCGEEEII0cRIMBRCCCGEEEIIIYQQQgghhBCiiZFgKIQQQgghhBBCCCGEEEIIIUQTI8FQCCGEEEIIIYQQQgghhBBCiCZGgqEQQgghhBBCCCGEEEIIIYQQTYwEQyGEEEIIIYQQQgghhBBCCCGaGAmGQgghhBBCCCGEEEIIIYQQQjQxEgyFEEIIIYQQQgghhBBCCCGEaGIkGAohhBBCCCGEEEIIIYQQQgjRxEgwFEIIIYQQQgghhBBCCCGEEKKJkWAohBBCCCGEEEIIIYQQQgghRBMjwVAIIYQQQgghhBBCCCGEEEKIJkaCoRBCCCGEEEIIIYQQQgghhBBNjARDIYQQQgghhBBCCCGEEEIIIZoYCYZCCCGEEEIIIYQQQgghhBBCNDESDIUQQgghhBBCCCGEEEIIIYRoYiQYCiGEEEIIIYQQQgghhBBCCNHESDAUQgghhBBCCCGEEEIIIYQQoomRYCiEEEIIIYQQQgghhBBCCCFEEyPBUAghhBBCCCGEEEIIIYQQQogmRoKhEEIIIYQQQgghhBBCCCGEEE2MBEMhhBBCCCGEEEIIIYQQQgghmhgJhkIIIYQQQgghhBBCCCGEEEI0MRIMhRBCCCGEEEIIIYQQQgghhGhiJBgKIYQQQgghhBBCCCGEEEII0cS0nDKyz0IIIYQQQgghhBBCCCGEEEKsOA4fPhI+/OGPh0OHDmdLQnjd674lvOY1r/TP/P7xj38qvOUtbwpbt272Zc2EPAyFEEIIIYQQQgghhBBCCCHEiuWJJ54KP/dzHwk33XRD+OhHf9H/fehD7w933PGV8NnP/o2vg2A4PDzin5sRCYZCCCGEEEIIIYQQQgghhBBixfK5z30xrFu3NrziFTdnS0Lo7V0VfvZn/8O0h2Gzo5CkQgghhBBCCCGEEEIIIYQQYsXyqU/9fti168nwnve83YXCWvAyvP32v86+RfLhSvFQ/NjHPjntgZj/Ddg/7Nx5dfjEJ37XP8Pb3va94dprr86+nd8Uf8rIPgshhBBCCCGEEEIIIYQQQgixomhpCeGOO74c7rrr3rBz5zWhra0t+yWyY8f2sH792vDAAw+Hd73r34S3vOXNvgzuvvve8MlP/l54xzve6stvuulF4Y/+6H+F0dHR6XXY7513ft0+tYSf+Il3h9e+9lvsmC3hD//wz3y/a9eu8fXOZxSSVAghhBBCCCGEEEIIIYQQQqxY8PLD2+/QocPhAx/4+fDe937QvQbngryGn/70X4Rbb31p2Lp1sy/DQ/FNb3p9eOCBR8LISDXn4fbtW8Nb3nJb9i14+FOW3XnnvdmS8xsJhkIIIYQQQgghhBBCCCGEEGJFg2j40Y/+YvixH3uHf//lX/5Y+Mmf/AUXBRuBqIgoePnll2RLIoiGLB8ZGc2WnA5ejKzH/vPC4vmKBEMhhBBCCCGEEEIIIYQQQgjRFOAp+Eu/9NPTHoef+czt2S/1IW8h4uI73/m+6X98Z9vZxEZYt27I15tNWDxfkGAohBBCCCGEEEIIIYQQQgghmgo8DnfufMGcHoDt7W3ulYh3Yv4fomMKU9qI3bv3hb6+3tDW1potOX+RYCiEEEIIIYQQQgghhBBCCCGaGsKHEkY0D4Igyx544OFsyfxBiNy168m6+z0fkWAohBBCCCGEEEIIIYQQQgghViTkIXzvez94Wr7Cu+++N9x559fDrbfePJ1vEPLiIMve9KbXh9tv/2tfP8E+H3zwkexb5PHHn5ixLIU6ve221/nf852WU0b2WQghhBBCCCGEEEIIIYQQQogVQxIJP/Wp33dRL0Go0Xe8460zwooiCn7iE7/rn7dv3xre/vYfcDERgfBjH/uk5zMEtr3ppheFN74xioHsm+MQevT++x/yZYQifc973j4tRJ7vSDAUQlxQEPN5YKA3VCqVbIkQollgyLJnz37rA/qsDyhnS4UQzULqAwYH+0O5XMqWCiGahampqbB374GwenV/KJXUBwjRbExOToV9++gDBqwPKGZLhRDNwuTkpPUBB8PQ0EAoFtUHiPOTJBgmgfFCRCFJhRBCCCGEEEIIIYQQQgghhGhizgvBENWV2LHvfOf7/B9KrBBCCCGEEEIIIYQQQgghhBBi+TnngiFi4Yc//PGwbduW8NGP/mL40IfeH3btelKioRBCCCGEEEIIIYQQQgghhBBngXMuGH7pS1/xv7fdFhNDkvzxTW96vYuGKRGlEEIIIYQQQgghhBBCCCGEEOcjP/iDbwnvfvePXLD5C+GcC4a7d+9z70KEwgSfR0ZGwhNPPJUtEUIIIYQQQgghhBBCCCGEEEIsBy2njOzzWQdR8OMf/00XCFFfEylM6U033RBe85pXZksXz/HjJ8Lo6Fj2TQhxITM2Nh5KpVIoFFqyJUKIZoI+oFwuhZYW9QFCNCPqA4RobtQHCNG8YL4cH59QHyBEk6I+QDQDAwN92adzx3khGF5++Y4ZwuBSC4aHDx8Nw8Mj2TchhBBCCCGEEEIIIYQQQgghzg/WrRvKPp075GEohLigkIehEM2NPAuEaG7UBwjR3KgPEKJ5kXeREM2N+gDRDDS9hyF86lO/73/zgiG5Cz/2sU+G7/meN4drr706WyqEEDHv6cBAb6hUKtkSIUSzwJBlz579PoCqVMrZUiFEs5D6gMHBfjcUCCGai6mpqbB374GwenW/TyAUQjQXk5NTYd8++oAB6wOK2VIhRLMwOTlpfcDBMDQ0EIpF9QFCLBeF7O85AzfLXbuedK/CBJ/b2trC1q2bsyVCCCGEEEIIIYQQQgghhBBCiOXgnAuGN954g//9zGdu97+IhZ/+9F94OFJClQohhBBCCCGEEEIIIYQQQgghlo9zLhgiCr7nPW93L8N3vvN94QMf+PmwbduWJcldKIQQQgghhBBCCCGEEEIIIYSYnXOew1AIIRaCchgK0bwoh6EQzY1yGArR3CiHoRDNjXIYCtHcKIehEGeHc+5hKIQQQgghhBBCCCGEEEIIIYQ4d8jDUAghhBBCCCGEEEIIIYQQQogmRh6GQgghhBBCCCGEEEIIIYQQQjQxEgyFEEIIIYQQQgghhBBCCCGEaGIkGAohhBBCCCGEEEIIIYQQQgjRxEgwFEIIIYQQQgghhBBCCCGEEKKJkWAohBBCCCGEEEIIIYQQQgghRBMjwVAIIYQQQgghhBBCCCGEEEKIJkaCoRBCCCGEEEIIIYQQQgghhBBNjARDIYQQQgghhBBCCCGEEEIIIZoYCYZCCCGEEEIIIYQQQgghhBBCNDESDIUQFySf+tTvh4985L+HkZGRbIkQolk4fPhI+Mmf/IXw2c/+TbZECNFMqA8QorlRHyBEc6M+QIjmRn2AEMuLBEMhhBBCCCGEEEIIIYQQQgghmhgJhkKI8xa8CN/5zveFu+++N1sihGgGnnjiqfDe937Q2z//mD3ILEIhRHNQ2wfwmWVCiOaD9wD6Ad4LhBDNAV5DaQyQ/ye7gBDNQ/IiTO1f7wNCnD0kGAohzjuSofDOO7+eLRFCNAsYCH75lz8Wvud73hw++tFf9H/btm0JH/7wxyUaCtEEYAys7QNuvfWl4WMf+6SMBEI0GTz3P/3pv8i+CSGaie3bt9p44KenxwL8u/baq7NfhRArGcb8P/dzHwk33XTDdPvn3eAzn7ldaYmEOAtIMBRCnHds3bo5/NIv/XT4sR97R2hvb8uWzg6DBnIaataREBc2r3nNK08zCNx6683exmdr22migXKbCnFhQ9uv7QNuvPGG0NbWFh544OFsyemoDxBi5YFhsK+vN1xxxaXZksaoDxCiuVEfIMTK4XOf+2K4/PJL3TaQ4N3g3e/+EX8nqIf6ACGWDgmGQogVwe///mfCoUOHw0/8xLtdcBRCrBx6e1c1fDEAPBA++cnf85eK2V4ihBAXJrRxXvzXrVuTLZmJ+gAhVh54Gz/wwEPhttteN2ebVh8gxMpi9+59c47/86gPEGLlQHvetevJsHPn/D2K1QcIsbRIMBRCXPAkg8Jb3/o9/mIhhFhZfOlLX3GxoFH7Th4Ib3nLbdkSIcRKIRkA1q1bGy67bEe2dCbqA4RYWeAl8Hu/9ycejng+EwHVBwix8iA9ST5/IWkLGqE+QIiVA2N/QPTDWzD1AbPlMlYfIMTSIsFQCHFB88QTT7tBgXjm8iwUYuXBC8Mdd3zFZwvWa+MYD5iB+IM/+BbNJBRiBcFkIIwDH/jAz3v+kkazhdUHCLGyYIIQhj+e+/lQZI1QHyDEyoI+YPv2zeFtb/ve6dxlfL799r+uKxqqDxBiZcH7P9HDPvnJ3/UoA/QBH/rQ+72d1xMN1QcIsfRIMBRCXLCkQcTw8IjHOFecciFWFrTp9FLAy0Itd955jxsP6AvwQhRCrBxSLkP+AeIhImIe9QFCrDz+7u++6G263nO/FvUBQqw8MPi//OU3z8hlzOedO18QHnjgkRnv/OoDhFiZtLe3hXe8463TE4aJNMQEQoTB5IEI6gOEWB4kGAohLlgYFBCi7J3vfFvYvXuPGxiEECsDjAEf//hvettuFG549+694XWv+xb/97nP/YOHMBNCrDzwMsJQWDs5SH2AECsL2jeCAGN8vItTGDJCE6bwhPmJA+oDhGge1q0byj5VUR8gxMojvffnhUGol8tcfYAQy4MEQyHEBcv27VvD29/+A57TiBwnhC2sHVQIIS48klj4+ONPzBpumBcDhIRXvOJmnzyAmCCEaB7UBwixssCziPDDybs4/WPCAP/4nPc6Uh8gRHOQJhMgJORDDqoPEGLlsXbtkLdnxMA8fCdPYVtba7ZEfYAQy4UEQyHEiuDGG2/wv+Q8EUJcuCD6/9zP/YqLheQryRsGG4Hh4NZbb3bvg9qQhUKICwvCEL/3vR+cMUOYdk37vvzyHTMMhQn1AUI0N+oDhFg5MA74yZ/8hRkTgYkkRNQR2nk91AcIsXJI7ZlQo6k9816AB6HeBYQ4OxR/ysg+CyHEeQEvCeQmxGNwYmLCHvr3hL/8y78Je/bsD9ddF8WDu+66N4yMjIYbbrgulEolHyD09/f6oCK/nhDiwgKDwD333O+fU9tP/770pa+GnTuv8d/IUbBp04awY8d2/7527Rpv+/QB69ev9e9CiAsPnt+Tk5Pht37rD6bbPn0BEwhe+tIbfR2e/+oDhGgeGPdDGt+rDxBi5UI7Hx0dDb/+6781PQ44cOD58L73/dvpdq0+QIiVDe2XdvyJT/yu9wHYBl/1qle4NyGoDxBieWk5ZWSfhRBCCCGEEEIIIYQQQgghhBBNhkKSCiGEEEIIIYQQQgghhBBCCNHESDAUQgghhBBCCCGEEEIIIYQQoomRYCiEEEIIIYQQQgghhBBCCCFEEyPBUAghhBBCCCGEEEIIIYQQQogmRoKhEEIIIYQQQgghhBBCCCGEEE2MBEMhhBBCCCGEEEIIIYQQQgghmhgJhkIIIYQQQgghhBBCCCGEEEI0MRIMhRBCCCGEEEIIIYQQQgghhGhiJBgKIYQQQgghhBBCCCGEEEII0cRIMBRCCCGEEEIIIYQQQgghhBCiiZFgKIQQQgghhBBCCCGEEEIIIUQTI8FQCCGEEEIIIYQQQgghhBBCiCZGgqEQQgghhBBCCCGEEEIIIYQQTYwEQyGEEEIIIYQQQgghhBBCCCGaGAmGQgghhBBCCCGEEEIIIYQQQjQxEgyFEEIIIYQQQgghhBBCCCGEaGIkGAohhBBCCCGEEEIIIYQQQgjRxEgwFEIIIYQQQgghhBBCCCGEEKKJkWAohBBCCCGEEEIIIYQQQgghRBMjwVAIIYQQQgghhBBCCCGEEEKIJkaCoRBCCCGEEEIIIYQQQgghhBBNTMtDDz96KvsshBBCCCGEEEIIIYQQQgghhGgyWkbHxiUYCiGEEEIIIYQQQgghhBBCCNGkKCSpEEIIIYQQQgghhBBCCCGEEE2MBEMhhBBCCCGEEEIIIYQQQgghmhgJhkIIIYQQQgghhBBCCCGEEEI0LSH8/9pX3h/kh9ndAAAAAElFTkSuQmCC)"
      ],
      "metadata": {
        "id": "E-kV0y3U3-Vh"
      }
    },
    {
      "cell_type": "markdown",
      "source": [
        "![image.png](data:image/png;base64,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)"
      ],
      "metadata": {
        "id": "f-wRHy3q4Mg8"
      }
    },
    {
      "cell_type": "code",
      "source": [
        "test(model, device, test_loader, criterion, epoch)"
      ],
      "metadata": {
        "id": "Dao_2Mj7i-lA",
        "execution": {
          "iopub.status.busy": "2023-04-25T23:05:54.739732Z",
          "iopub.execute_input": "2023-04-25T23:05:54.740807Z",
          "iopub.status.idle": "2023-04-25T23:05:55.075712Z",
          "shell.execute_reply.started": "2023-04-25T23:05:54.740765Z",
          "shell.execute_reply": "2023-04-25T23:05:55.072008Z"
        },
        "trusted": true
      },
      "execution_count": null,
      "outputs": []
    },
    {
      "cell_type": "code",
      "source": [],
      "metadata": {
        "id": "cbQYVsLnBiRW"
      },
      "execution_count": null,
      "outputs": []
    }
  ]
}